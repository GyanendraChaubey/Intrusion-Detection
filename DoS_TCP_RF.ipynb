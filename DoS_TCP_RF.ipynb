{
 "cells": [
  {
   "cell_type": "code",
   "execution_count": 1,
   "metadata": {},
   "outputs": [
    {
     "name": "stderr",
     "output_type": "stream",
     "text": [
      "C:\\Users\\Dell\\Anaconda3\\lib\\site-packages\\statsmodels\\tools\\_testing.py:19: FutureWarning: pandas.util.testing is deprecated. Use the functions in the public API at pandas.testing instead.\n",
      "  import pandas.util.testing as tm\n"
     ]
    }
   ],
   "source": [
    "#Importing the necessary libraries\n",
    "import numpy as np\n",
    "import pandas as pd\n",
    "import lux\n",
    "import matplotlib.pyplot as plt\n",
    "import seaborn as sns\n",
    "sns.set()\n",
    "import warnings\n",
    "warnings.filterwarnings('ignore')\n",
    "import pandas.util.testing as tm"
   ]
  },
  {
   "cell_type": "code",
   "execution_count": 2,
   "metadata": {},
   "outputs": [],
   "source": [
    "#Read the data\n",
    "data=pd.read_csv(\"D:\\\\Machine Learning\\\\Research Work\\\\IoT intrusion detection\\\\BOT IOT Dataset\\\\Training and Test Dataset\\\\DOS_TCP_sample.csv\")"
   ]
  },
  {
   "cell_type": "code",
   "execution_count": 3,
   "metadata": {},
   "outputs": [],
   "source": [
    "#Making a copy of data\n",
    "data=data.copy()"
   ]
  },
  {
   "cell_type": "markdown",
   "metadata": {},
   "source": [
    "#Feature Engineering"
   ]
  },
  {
   "cell_type": "markdown",
   "metadata": {},
   "source": [
    "1. Understanding Data"
   ]
  },
  {
   "cell_type": "code",
   "execution_count": 4,
   "metadata": {},
   "outputs": [
    {
     "name": "stdout",
     "output_type": "stream",
     "text": [
      "pkSeqID              0\n",
      "proto                0\n",
      "saddr                0\n",
      "sport                0\n",
      "daddr                0\n",
      "dport                0\n",
      "seq                  0\n",
      "stddev               0\n",
      "N_IN_Conn_P_SrcIP    0\n",
      "min                  0\n",
      "state_number         0\n",
      "mean                 0\n",
      "N_IN_Conn_P_DstIP    0\n",
      "drate                0\n",
      "srate                0\n",
      "max                  0\n",
      "attack               0\n",
      "category             0\n",
      "subcategory          0\n",
      "dtype: int64\n"
     ]
    },
    {
     "data": {
      "text/plain": []
     },
     "execution_count": 4,
     "metadata": {},
     "output_type": "execute_result"
    }
   ],
   "source": [
    "#checking the missing values\n",
    "data.isnull().sum()"
   ]
  },
  {
   "cell_type": "code",
   "execution_count": 5,
   "metadata": {},
   "outputs": [
    {
     "name": "stdout",
     "output_type": "stream",
     "text": [
      "<class 'lux.core.frame.LuxDataFrame'>\n",
      "RangeIndex: 1115 entries, 0 to 1114\n",
      "Data columns (total 19 columns):\n",
      " #   Column             Non-Null Count  Dtype  \n",
      "---  ------             --------------  -----  \n",
      " 0   pkSeqID            1115 non-null   int64  \n",
      " 1   proto              1115 non-null   object \n",
      " 2   saddr              1115 non-null   object \n",
      " 3   sport              1115 non-null   int64  \n",
      " 4   daddr              1115 non-null   object \n",
      " 5   dport              1115 non-null   int64  \n",
      " 6   seq                1115 non-null   int64  \n",
      " 7   stddev             1115 non-null   float64\n",
      " 8   N_IN_Conn_P_SrcIP  1115 non-null   int64  \n",
      " 9   min                1115 non-null   float64\n",
      " 10  state_number       1115 non-null   int64  \n",
      " 11  mean               1115 non-null   float64\n",
      " 12  N_IN_Conn_P_DstIP  1115 non-null   int64  \n",
      " 13  drate              1115 non-null   float64\n",
      " 14  srate              1115 non-null   float64\n",
      " 15  max                1115 non-null   float64\n",
      " 16  attack             1115 non-null   int64  \n",
      " 17  category           1115 non-null   object \n",
      " 18  subcategory        1115 non-null   object \n",
      "dtypes: float64(6), int64(8), object(5)\n",
      "memory usage: 165.6+ KB\n"
     ]
    }
   ],
   "source": [
    "data.info()"
   ]
  },
  {
   "cell_type": "code",
   "execution_count": 6,
   "metadata": {},
   "outputs": [
    {
     "data": {
      "text/html": [
       "<div>\n",
       "<style scoped>\n",
       "    .dataframe tbody tr th:only-of-type {\n",
       "        vertical-align: middle;\n",
       "    }\n",
       "\n",
       "    .dataframe tbody tr th {\n",
       "        vertical-align: top;\n",
       "    }\n",
       "\n",
       "    .dataframe thead th {\n",
       "        text-align: right;\n",
       "    }\n",
       "</style>\n",
       "<table border=\"1\" class=\"dataframe\">\n",
       "  <thead>\n",
       "    <tr style=\"text-align: right;\">\n",
       "      <th></th>\n",
       "      <th>pkSeqID</th>\n",
       "      <th>proto</th>\n",
       "      <th>saddr</th>\n",
       "      <th>sport</th>\n",
       "      <th>daddr</th>\n",
       "      <th>dport</th>\n",
       "      <th>seq</th>\n",
       "      <th>stddev</th>\n",
       "      <th>N_IN_Conn_P_SrcIP</th>\n",
       "      <th>min</th>\n",
       "      <th>state_number</th>\n",
       "      <th>mean</th>\n",
       "      <th>N_IN_Conn_P_DstIP</th>\n",
       "      <th>drate</th>\n",
       "      <th>srate</th>\n",
       "      <th>max</th>\n",
       "      <th>attack</th>\n",
       "      <th>category</th>\n",
       "      <th>subcategory</th>\n",
       "    </tr>\n",
       "  </thead>\n",
       "  <tbody>\n",
       "    <tr>\n",
       "      <th>0</th>\n",
       "      <td>528262</td>\n",
       "      <td>arp</td>\n",
       "      <td>192.168.100.7</td>\n",
       "      <td>-1</td>\n",
       "      <td>192.168.100.147</td>\n",
       "      <td>-1</td>\n",
       "      <td>2480</td>\n",
       "      <td>1.297815</td>\n",
       "      <td>1</td>\n",
       "      <td>1.161589</td>\n",
       "      <td>2</td>\n",
       "      <td>2.869300</td>\n",
       "      <td>1</td>\n",
       "      <td>0.224253</td>\n",
       "      <td>0.224253</td>\n",
       "      <td>4.156196</td>\n",
       "      <td>1</td>\n",
       "      <td>DoS</td>\n",
       "      <td>TCP</td>\n",
       "    </tr>\n",
       "    <tr>\n",
       "      <th>1</th>\n",
       "      <td>449131</td>\n",
       "      <td>arp</td>\n",
       "      <td>192.168.100.149</td>\n",
       "      <td>-1</td>\n",
       "      <td>192.168.100.5</td>\n",
       "      <td>-1</td>\n",
       "      <td>185502</td>\n",
       "      <td>0.504402</td>\n",
       "      <td>100</td>\n",
       "      <td>3.058867</td>\n",
       "      <td>2</td>\n",
       "      <td>3.563269</td>\n",
       "      <td>100</td>\n",
       "      <td>0.000000</td>\n",
       "      <td>0.613701</td>\n",
       "      <td>4.067671</td>\n",
       "      <td>1</td>\n",
       "      <td>DoS</td>\n",
       "      <td>TCP</td>\n",
       "    </tr>\n",
       "    <tr>\n",
       "      <th>2</th>\n",
       "      <td>493229</td>\n",
       "      <td>arp</td>\n",
       "      <td>192.168.100.3</td>\n",
       "      <td>-1</td>\n",
       "      <td>192.168.100.150</td>\n",
       "      <td>-1</td>\n",
       "      <td>229602</td>\n",
       "      <td>0.000000</td>\n",
       "      <td>1</td>\n",
       "      <td>0.108703</td>\n",
       "      <td>2</td>\n",
       "      <td>0.108703</td>\n",
       "      <td>1</td>\n",
       "      <td>0.000000</td>\n",
       "      <td>0.000000</td>\n",
       "      <td>0.108703</td>\n",
       "      <td>1</td>\n",
       "      <td>DoS</td>\n",
       "      <td>TCP</td>\n",
       "    </tr>\n",
       "    <tr>\n",
       "      <th>3</th>\n",
       "      <td>278899</td>\n",
       "      <td>arp</td>\n",
       "      <td>192.168.100.5</td>\n",
       "      <td>-1</td>\n",
       "      <td>192.168.100.149</td>\n",
       "      <td>-1</td>\n",
       "      <td>15269</td>\n",
       "      <td>0.532615</td>\n",
       "      <td>1</td>\n",
       "      <td>3.011917</td>\n",
       "      <td>2</td>\n",
       "      <td>3.544532</td>\n",
       "      <td>1</td>\n",
       "      <td>0.996992</td>\n",
       "      <td>0.996992</td>\n",
       "      <td>4.077147</td>\n",
       "      <td>1</td>\n",
       "      <td>DoS</td>\n",
       "      <td>TCP</td>\n",
       "    </tr>\n",
       "    <tr>\n",
       "      <th>4</th>\n",
       "      <td>409928</td>\n",
       "      <td>tcp</td>\n",
       "      <td>192.168.100.147</td>\n",
       "      <td>25305</td>\n",
       "      <td>192.168.100.7</td>\n",
       "      <td>80</td>\n",
       "      <td>146299</td>\n",
       "      <td>1.755521</td>\n",
       "      <td>100</td>\n",
       "      <td>0.000000</td>\n",
       "      <td>3</td>\n",
       "      <td>1.013550</td>\n",
       "      <td>100</td>\n",
       "      <td>0.000000</td>\n",
       "      <td>0.178650</td>\n",
       "      <td>4.054201</td>\n",
       "      <td>1</td>\n",
       "      <td>DoS</td>\n",
       "      <td>TCP</td>\n",
       "    </tr>\n",
       "  </tbody>\n",
       "</table>\n",
       "</div>"
      ],
      "text/plain": [
       "   pkSeqID proto            saddr  sport            daddr  dport     seq  \\\n",
       "0   528262   arp    192.168.100.7     -1  192.168.100.147     -1    2480   \n",
       "1   449131   arp  192.168.100.149     -1    192.168.100.5     -1  185502   \n",
       "2   493229   arp    192.168.100.3     -1  192.168.100.150     -1  229602   \n",
       "3   278899   arp    192.168.100.5     -1  192.168.100.149     -1   15269   \n",
       "4   409928   tcp  192.168.100.147  25305    192.168.100.7     80  146299   \n",
       "\n",
       "     stddev  N_IN_Conn_P_SrcIP       min  state_number      mean  \\\n",
       "0  1.297815                  1  1.161589             2  2.869300   \n",
       "1  0.504402                100  3.058867             2  3.563269   \n",
       "2  0.000000                  1  0.108703             2  0.108703   \n",
       "3  0.532615                  1  3.011917             2  3.544532   \n",
       "4  1.755521                100  0.000000             3  1.013550   \n",
       "\n",
       "   N_IN_Conn_P_DstIP     drate     srate       max  attack category  \\\n",
       "0                  1  0.224253  0.224253  4.156196       1      DoS   \n",
       "1                100  0.000000  0.613701  4.067671       1      DoS   \n",
       "2                  1  0.000000  0.000000  0.108703       1      DoS   \n",
       "3                  1  0.996992  0.996992  4.077147       1      DoS   \n",
       "4                100  0.000000  0.178650  4.054201       1      DoS   \n",
       "\n",
       "  subcategory  \n",
       "0         TCP  \n",
       "1         TCP  \n",
       "2         TCP  \n",
       "3         TCP  \n",
       "4         TCP  "
      ]
     },
     "metadata": {},
     "output_type": "display_data"
    },
    {
     "data": {
      "text/plain": []
     },
     "execution_count": 6,
     "metadata": {},
     "output_type": "execute_result"
    }
   ],
   "source": [
    "data.head()"
   ]
  },
  {
   "cell_type": "code",
   "execution_count": 7,
   "metadata": {},
   "outputs": [
    {
     "data": {
      "text/plain": [
       "array(['arp', 'tcp', 'udp', 'ipv6-icmp'], dtype=object)"
      ]
     },
     "execution_count": 7,
     "metadata": {},
     "output_type": "execute_result"
    }
   ],
   "source": [
    "data['proto'].unique()"
   ]
  },
  {
   "cell_type": "code",
   "execution_count": 8,
   "metadata": {},
   "outputs": [
    {
     "data": {
      "text/plain": [
       "array(['192.168.100.7', '192.168.100.149', '192.168.100.3',\n",
       "       '192.168.100.5', '192.168.100.147', '192.168.100.148',\n",
       "       '192.168.100.150', '192.168.100.46', '192.168.100.6',\n",
       "       '192.168.100.27', 'fe80::250:56ff:febe:254',\n",
       "       'fe80::250:56ff:febe:e9d9', 'fe80::250:56ff:febe:26db',\n",
       "       '192.168.100.1', 'fe80::250:56ff:febe:89ee', '192.168.100.4'],\n",
       "      dtype=object)"
      ]
     },
     "execution_count": 8,
     "metadata": {},
     "output_type": "execute_result"
    }
   ],
   "source": [
    "data['saddr'].unique()"
   ]
  },
  {
   "cell_type": "code",
   "execution_count": 9,
   "metadata": {},
   "outputs": [
    {
     "data": {
      "text/plain": [
       "array(['192.168.100.147', '192.168.100.5', '192.168.100.150',\n",
       "       '192.168.100.149', '192.168.100.7', '192.168.100.6',\n",
       "       '192.168.100.3', '192.168.100.55', '52.201.147.106',\n",
       "       '13.55.154.73', '52.11.124.117', '172.217.25.170', '52.35.35.13',\n",
       "       '192.168.217.2', '255.255.255.255', '96.7.49.66',\n",
       "       '205.251.197.206', '192.168.100.1', '205.251.194.201',\n",
       "       '224.0.0.251', '205.251.196.32', '192.5.5.241', '192.55.83.30',\n",
       "       '192.31.80.30', '8.8.8.8', 'ff02::2', '192.41.162.30',\n",
       "       '129.250.35.250', 'ff02::fb', '27.124.125.250', '199.19.56.1',\n",
       "       '192.33.14.30', '205.251.199.148', '192.58.128.30', '192.12.94.30',\n",
       "       '205.251.196.160', '205.251.199.194', '192.36.148.17',\n",
       "       '184.85.248.65', '192.33.4.12', '192.168.100.255', '192.54.112.30',\n",
       "       'ff02::1', '205.251.194.102', '192.112.36.4', '205.251.194.86',\n",
       "       '192.168.100.27', '192.52.178.30', '205.251.195.59'], dtype=object)"
      ]
     },
     "execution_count": 9,
     "metadata": {},
     "output_type": "execute_result"
    }
   ],
   "source": [
    "data['daddr'].unique()"
   ]
  },
  {
   "cell_type": "code",
   "execution_count": 10,
   "metadata": {},
   "outputs": [
    {
     "data": {
      "application/vnd.jupyter.widget-view+json": {
       "model_id": "22d1ae9d1c714b0f99f1236d975e0fcc",
       "version_major": 2,
       "version_minor": 0
      },
      "text/plain": [
       "Button(description='Toggle Pandas/Lux', layout=Layout(top='5px', width='140px'), style=ButtonStyle())"
      ]
     },
     "metadata": {},
     "output_type": "display_data"
    },
    {
     "data": {
      "application/vnd.jupyter.widget-view+json": {
       "model_id": "928b8830e2d147968a1541a29d6d440d",
       "version_major": 2,
       "version_minor": 0
      },
      "text/plain": [
       "Output()"
      ]
     },
     "metadata": {},
     "output_type": "display_data"
    },
    {
     "data": {
      "text/plain": []
     },
     "execution_count": 10,
     "metadata": {},
     "output_type": "execute_result"
    }
   ],
   "source": [
    "data.describe()"
   ]
  },
  {
   "cell_type": "code",
   "execution_count": 11,
   "metadata": {},
   "outputs": [],
   "source": [
    "#Removing the unwanted coloumns\n",
    "col=['saddr','daddr','category','subcategory']\n",
    "data=data.drop(columns=col,axis=1)"
   ]
  },
  {
   "cell_type": "code",
   "execution_count": 12,
   "metadata": {},
   "outputs": [],
   "source": [
    "#Removing the dublicate values\n",
    "data.drop_duplicates(keep='first',inplace=True)"
   ]
  },
  {
   "cell_type": "markdown",
   "metadata": {},
   "source": [
    "2. Exploratory Data Analysis"
   ]
  },
  {
   "cell_type": "code",
   "execution_count": 13,
   "metadata": {},
   "outputs": [
    {
     "data": {
      "text/html": [
       "<div>\n",
       "<style scoped>\n",
       "    .dataframe tbody tr th:only-of-type {\n",
       "        vertical-align: middle;\n",
       "    }\n",
       "\n",
       "    .dataframe tbody tr th {\n",
       "        vertical-align: top;\n",
       "    }\n",
       "\n",
       "    .dataframe thead th {\n",
       "        text-align: right;\n",
       "    }\n",
       "</style>\n",
       "<table border=\"1\" class=\"dataframe\">\n",
       "  <thead>\n",
       "    <tr style=\"text-align: right;\">\n",
       "      <th></th>\n",
       "      <th>pkSeqID</th>\n",
       "      <th>proto</th>\n",
       "      <th>sport</th>\n",
       "      <th>dport</th>\n",
       "      <th>seq</th>\n",
       "      <th>stddev</th>\n",
       "      <th>N_IN_Conn_P_SrcIP</th>\n",
       "      <th>min</th>\n",
       "      <th>state_number</th>\n",
       "      <th>mean</th>\n",
       "      <th>N_IN_Conn_P_DstIP</th>\n",
       "      <th>drate</th>\n",
       "      <th>srate</th>\n",
       "      <th>max</th>\n",
       "      <th>attack</th>\n",
       "    </tr>\n",
       "  </thead>\n",
       "  <tbody>\n",
       "    <tr>\n",
       "      <th>0</th>\n",
       "      <td>528262</td>\n",
       "      <td>arp</td>\n",
       "      <td>-1</td>\n",
       "      <td>-1</td>\n",
       "      <td>2480</td>\n",
       "      <td>1.297815</td>\n",
       "      <td>1</td>\n",
       "      <td>1.161589</td>\n",
       "      <td>2</td>\n",
       "      <td>2.869300</td>\n",
       "      <td>1</td>\n",
       "      <td>0.224253</td>\n",
       "      <td>0.224253</td>\n",
       "      <td>4.156196</td>\n",
       "      <td>1</td>\n",
       "    </tr>\n",
       "    <tr>\n",
       "      <th>1</th>\n",
       "      <td>449131</td>\n",
       "      <td>arp</td>\n",
       "      <td>-1</td>\n",
       "      <td>-1</td>\n",
       "      <td>185502</td>\n",
       "      <td>0.504402</td>\n",
       "      <td>100</td>\n",
       "      <td>3.058867</td>\n",
       "      <td>2</td>\n",
       "      <td>3.563269</td>\n",
       "      <td>100</td>\n",
       "      <td>0.000000</td>\n",
       "      <td>0.613701</td>\n",
       "      <td>4.067671</td>\n",
       "      <td>1</td>\n",
       "    </tr>\n",
       "    <tr>\n",
       "      <th>2</th>\n",
       "      <td>493229</td>\n",
       "      <td>arp</td>\n",
       "      <td>-1</td>\n",
       "      <td>-1</td>\n",
       "      <td>229602</td>\n",
       "      <td>0.000000</td>\n",
       "      <td>1</td>\n",
       "      <td>0.108703</td>\n",
       "      <td>2</td>\n",
       "      <td>0.108703</td>\n",
       "      <td>1</td>\n",
       "      <td>0.000000</td>\n",
       "      <td>0.000000</td>\n",
       "      <td>0.108703</td>\n",
       "      <td>1</td>\n",
       "    </tr>\n",
       "    <tr>\n",
       "      <th>3</th>\n",
       "      <td>278899</td>\n",
       "      <td>arp</td>\n",
       "      <td>-1</td>\n",
       "      <td>-1</td>\n",
       "      <td>15269</td>\n",
       "      <td>0.532615</td>\n",
       "      <td>1</td>\n",
       "      <td>3.011917</td>\n",
       "      <td>2</td>\n",
       "      <td>3.544532</td>\n",
       "      <td>1</td>\n",
       "      <td>0.996992</td>\n",
       "      <td>0.996992</td>\n",
       "      <td>4.077147</td>\n",
       "      <td>1</td>\n",
       "    </tr>\n",
       "    <tr>\n",
       "      <th>4</th>\n",
       "      <td>409928</td>\n",
       "      <td>tcp</td>\n",
       "      <td>25305</td>\n",
       "      <td>80</td>\n",
       "      <td>146299</td>\n",
       "      <td>1.755521</td>\n",
       "      <td>100</td>\n",
       "      <td>0.000000</td>\n",
       "      <td>3</td>\n",
       "      <td>1.013550</td>\n",
       "      <td>100</td>\n",
       "      <td>0.000000</td>\n",
       "      <td>0.178650</td>\n",
       "      <td>4.054201</td>\n",
       "      <td>1</td>\n",
       "    </tr>\n",
       "  </tbody>\n",
       "</table>\n",
       "</div>"
      ],
      "text/plain": [
       "   pkSeqID proto  sport  dport     seq    stddev  N_IN_Conn_P_SrcIP       min  \\\n",
       "0   528262   arp     -1     -1    2480  1.297815                  1  1.161589   \n",
       "1   449131   arp     -1     -1  185502  0.504402                100  3.058867   \n",
       "2   493229   arp     -1     -1  229602  0.000000                  1  0.108703   \n",
       "3   278899   arp     -1     -1   15269  0.532615                  1  3.011917   \n",
       "4   409928   tcp  25305     80  146299  1.755521                100  0.000000   \n",
       "\n",
       "   state_number      mean  N_IN_Conn_P_DstIP     drate     srate       max  \\\n",
       "0             2  2.869300                  1  0.224253  0.224253  4.156196   \n",
       "1             2  3.563269                100  0.000000  0.613701  4.067671   \n",
       "2             2  0.108703                  1  0.000000  0.000000  0.108703   \n",
       "3             2  3.544532                  1  0.996992  0.996992  4.077147   \n",
       "4             3  1.013550                100  0.000000  0.178650  4.054201   \n",
       "\n",
       "   attack  \n",
       "0       1  \n",
       "1       1  \n",
       "2       1  \n",
       "3       1  \n",
       "4       1  "
      ]
     },
     "metadata": {},
     "output_type": "display_data"
    },
    {
     "data": {
      "text/plain": []
     },
     "execution_count": 13,
     "metadata": {},
     "output_type": "execute_result"
    }
   ],
   "source": [
    "data.head()"
   ]
  },
  {
   "cell_type": "code",
   "execution_count": 14,
   "metadata": {},
   "outputs": [
    {
     "name": "stdout",
     "output_type": "stream",
     "text": [
      "tcp          1006\n",
      "udp            92\n",
      "arp            14\n",
      "ipv6-icmp       3\n",
      "dtype: int64\n"
     ]
    },
    {
     "data": {
      "text/plain": []
     },
     "execution_count": 14,
     "metadata": {},
     "output_type": "execute_result"
    }
   ],
   "source": [
    "#Frequency of each category\n",
    "data['proto'].value_counts()"
   ]
  },
  {
   "cell_type": "code",
   "execution_count": 15,
   "metadata": {},
   "outputs": [
    {
     "data": {
      "application/vnd.jupyter.widget-view+json": {
       "model_id": "4f4bd09488f24d02bed8420bb0962d1b",
       "version_major": 2,
       "version_minor": 0
      },
      "text/plain": [
       "Button(description='Toggle Pandas/Lux', layout=Layout(top='5px', width='140px'), style=ButtonStyle())"
      ]
     },
     "metadata": {},
     "output_type": "display_data"
    },
    {
     "data": {
      "application/vnd.jupyter.widget-view+json": {
       "model_id": "5f05014d96af40f8b78cbee0fdc8c950",
       "version_major": 2,
       "version_minor": 0
      },
      "text/plain": [
       "Output()"
      ]
     },
     "metadata": {},
     "output_type": "display_data"
    },
    {
     "data": {
      "text/plain": []
     },
     "execution_count": 15,
     "metadata": {},
     "output_type": "execute_result"
    }
   ],
   "source": [
    "#relationship between the independent variables\n",
    "data.corr()"
   ]
  },
  {
   "cell_type": "code",
   "execution_count": 16,
   "metadata": {},
   "outputs": [
    {
     "data": {
      "text/plain": [
       "Index(['pkSeqID', 'proto', 'sport', 'dport', 'seq', 'stddev',\n",
       "       'N_IN_Conn_P_SrcIP', 'min', 'state_number', 'mean', 'N_IN_Conn_P_DstIP',\n",
       "       'drate', 'srate', 'max', 'attack'],\n",
       "      dtype='object')"
      ]
     },
     "execution_count": 16,
     "metadata": {},
     "output_type": "execute_result"
    }
   ],
   "source": [
    "#Cross tables and data visualization\n",
    "#Extracting the coloumn names\n",
    "data.columns"
   ]
  },
  {
   "cell_type": "code",
   "execution_count": 17,
   "metadata": {},
   "outputs": [
    {
     "data": {
      "text/html": [
       "<div>\n",
       "<style scoped>\n",
       "    .dataframe tbody tr th:only-of-type {\n",
       "        vertical-align: middle;\n",
       "    }\n",
       "\n",
       "    .dataframe tbody tr th {\n",
       "        vertical-align: top;\n",
       "    }\n",
       "\n",
       "    .dataframe thead th {\n",
       "        text-align: right;\n",
       "    }\n",
       "</style>\n",
       "<table border=\"1\" class=\"dataframe\">\n",
       "  <thead>\n",
       "    <tr style=\"text-align: right;\">\n",
       "      <th>col_0</th>\n",
       "      <th>count</th>\n",
       "    </tr>\n",
       "    <tr>\n",
       "      <th>proto</th>\n",
       "      <th></th>\n",
       "    </tr>\n",
       "  </thead>\n",
       "  <tbody>\n",
       "    <tr>\n",
       "      <th>arp</th>\n",
       "      <td>0.012556</td>\n",
       "    </tr>\n",
       "    <tr>\n",
       "      <th>ipv6-icmp</th>\n",
       "      <td>0.002691</td>\n",
       "    </tr>\n",
       "    <tr>\n",
       "      <th>tcp</th>\n",
       "      <td>0.902242</td>\n",
       "    </tr>\n",
       "    <tr>\n",
       "      <th>udp</th>\n",
       "      <td>0.082511</td>\n",
       "    </tr>\n",
       "  </tbody>\n",
       "</table>\n",
       "</div>"
      ],
      "text/plain": [
       "col_0         count\n",
       "proto              \n",
       "arp        0.012556\n",
       "ipv6-icmp  0.002691\n",
       "tcp        0.902242\n",
       "udp        0.082511"
      ]
     },
     "metadata": {},
     "output_type": "display_data"
    },
    {
     "data": {
      "text/plain": []
     },
     "execution_count": 17,
     "metadata": {},
     "output_type": "execute_result"
    }
   ],
   "source": [
    "#proto proportion table\n",
    "pd.crosstab(index=data['proto'],columns='count',normalize=True)"
   ]
  },
  {
   "cell_type": "code",
   "execution_count": 18,
   "metadata": {},
   "outputs": [
    {
     "data": {
      "text/html": [
       "<div>\n",
       "<style scoped>\n",
       "    .dataframe tbody tr th:only-of-type {\n",
       "        vertical-align: middle;\n",
       "    }\n",
       "\n",
       "    .dataframe tbody tr th {\n",
       "        vertical-align: top;\n",
       "    }\n",
       "\n",
       "    .dataframe thead th {\n",
       "        text-align: right;\n",
       "    }\n",
       "</style>\n",
       "<table border=\"1\" class=\"dataframe\">\n",
       "  <thead>\n",
       "    <tr style=\"text-align: right;\">\n",
       "      <th>attack</th>\n",
       "      <th>0</th>\n",
       "      <th>1</th>\n",
       "    </tr>\n",
       "    <tr>\n",
       "      <th>proto</th>\n",
       "      <th></th>\n",
       "      <th></th>\n",
       "    </tr>\n",
       "  </thead>\n",
       "  <tbody>\n",
       "    <tr>\n",
       "      <th>arp</th>\n",
       "      <td>0.008969</td>\n",
       "      <td>0.003587</td>\n",
       "    </tr>\n",
       "    <tr>\n",
       "      <th>ipv6-icmp</th>\n",
       "      <td>0.002691</td>\n",
       "      <td>0.000000</td>\n",
       "    </tr>\n",
       "    <tr>\n",
       "      <th>tcp</th>\n",
       "      <td>0.011659</td>\n",
       "      <td>0.890583</td>\n",
       "    </tr>\n",
       "    <tr>\n",
       "      <th>udp</th>\n",
       "      <td>0.082511</td>\n",
       "      <td>0.000000</td>\n",
       "    </tr>\n",
       "  </tbody>\n",
       "</table>\n",
       "</div>"
      ],
      "text/plain": [
       "attack            0         1\n",
       "proto                        \n",
       "arp        0.008969  0.003587\n",
       "ipv6-icmp  0.002691  0.000000\n",
       "tcp        0.011659  0.890583\n",
       "udp        0.082511  0.000000"
      ]
     },
     "metadata": {},
     "output_type": "display_data"
    },
    {
     "data": {
      "text/plain": []
     },
     "execution_count": 18,
     "metadata": {},
     "output_type": "execute_result"
    }
   ],
   "source": [
    "#proto vs attack\n",
    "pd.crosstab(index=data['proto'],columns=data['attack'],normalize=True)"
   ]
  },
  {
   "cell_type": "code",
   "execution_count": 19,
   "metadata": {},
   "outputs": [
    {
     "data": {
      "application/vnd.jupyter.widget-view+json": {
       "model_id": "4cba8820d1514bd8961221b0610b2f6c",
       "version_major": 2,
       "version_minor": 0
      },
      "text/plain": [
       "Button(description='Toggle Pandas/Lux', layout=Layout(top='5px', width='140px'), style=ButtonStyle())"
      ]
     },
     "metadata": {},
     "output_type": "display_data"
    },
    {
     "data": {
      "application/vnd.jupyter.widget-view+json": {
       "model_id": "ed00321226ec466f8c282609130e5fba",
       "version_major": 2,
       "version_minor": 0
      },
      "text/plain": [
       "Output()"
      ]
     },
     "metadata": {},
     "output_type": "display_data"
    },
    {
     "data": {
      "text/plain": [
       "<matplotlib.axes._subplots.AxesSubplot at 0x12a82ee2080>"
      ]
     },
     "execution_count": 19,
     "metadata": {},
     "output_type": "execute_result"
    },
    {
     "data": {
      "image/png": "[encoded data removed]",
      "text/plain": [
       "<Figure size 432x288 with 1 Axes>"
      ]
     },
     "metadata": {
      "needs_background": "light"
     },
     "output_type": "display_data"
    }
   ],
   "source": [
    "#frequency distribution of attack\n",
    "sns.countplot(data['attack'])"
   ]
  },
  {
   "cell_type": "code",
   "execution_count": 20,
   "metadata": {},
   "outputs": [],
   "source": [
    "\n",
    "data=data.drop(columns='pkSeqID')"
   ]
  },
  {
   "cell_type": "code",
   "execution_count": 21,
   "metadata": {},
   "outputs": [],
   "source": [
    "#Categorical Encoding\n",
    "data=pd.get_dummies(data)"
   ]
  },
  {
   "cell_type": "code",
   "execution_count": 22,
   "metadata": {},
   "outputs": [
    {
     "data": {
      "text/html": [
       "<div>\n",
       "<style scoped>\n",
       "    .dataframe tbody tr th:only-of-type {\n",
       "        vertical-align: middle;\n",
       "    }\n",
       "\n",
       "    .dataframe tbody tr th {\n",
       "        vertical-align: top;\n",
       "    }\n",
       "\n",
       "    .dataframe thead th {\n",
       "        text-align: right;\n",
       "    }\n",
       "</style>\n",
       "<table border=\"1\" class=\"dataframe\">\n",
       "  <thead>\n",
       "    <tr style=\"text-align: right;\">\n",
       "      <th></th>\n",
       "      <th>sport</th>\n",
       "      <th>dport</th>\n",
       "      <th>seq</th>\n",
       "      <th>stddev</th>\n",
       "      <th>N_IN_Conn_P_SrcIP</th>\n",
       "      <th>min</th>\n",
       "      <th>state_number</th>\n",
       "      <th>mean</th>\n",
       "      <th>N_IN_Conn_P_DstIP</th>\n",
       "      <th>drate</th>\n",
       "      <th>srate</th>\n",
       "      <th>max</th>\n",
       "      <th>attack</th>\n",
       "      <th>proto_arp</th>\n",
       "      <th>proto_ipv6-icmp</th>\n",
       "      <th>proto_tcp</th>\n",
       "      <th>proto_udp</th>\n",
       "    </tr>\n",
       "  </thead>\n",
       "  <tbody>\n",
       "    <tr>\n",
       "      <th>0</th>\n",
       "      <td>-1</td>\n",
       "      <td>-1</td>\n",
       "      <td>2480</td>\n",
       "      <td>1.297815</td>\n",
       "      <td>1</td>\n",
       "      <td>1.161589</td>\n",
       "      <td>2</td>\n",
       "      <td>2.869300</td>\n",
       "      <td>1</td>\n",
       "      <td>0.224253</td>\n",
       "      <td>0.224253</td>\n",
       "      <td>4.156196</td>\n",
       "      <td>1</td>\n",
       "      <td>1</td>\n",
       "      <td>0</td>\n",
       "      <td>0</td>\n",
       "      <td>0</td>\n",
       "    </tr>\n",
       "    <tr>\n",
       "      <th>1</th>\n",
       "      <td>-1</td>\n",
       "      <td>-1</td>\n",
       "      <td>185502</td>\n",
       "      <td>0.504402</td>\n",
       "      <td>100</td>\n",
       "      <td>3.058867</td>\n",
       "      <td>2</td>\n",
       "      <td>3.563269</td>\n",
       "      <td>100</td>\n",
       "      <td>0.000000</td>\n",
       "      <td>0.613701</td>\n",
       "      <td>4.067671</td>\n",
       "      <td>1</td>\n",
       "      <td>1</td>\n",
       "      <td>0</td>\n",
       "      <td>0</td>\n",
       "      <td>0</td>\n",
       "    </tr>\n",
       "    <tr>\n",
       "      <th>2</th>\n",
       "      <td>-1</td>\n",
       "      <td>-1</td>\n",
       "      <td>229602</td>\n",
       "      <td>0.000000</td>\n",
       "      <td>1</td>\n",
       "      <td>0.108703</td>\n",
       "      <td>2</td>\n",
       "      <td>0.108703</td>\n",
       "      <td>1</td>\n",
       "      <td>0.000000</td>\n",
       "      <td>0.000000</td>\n",
       "      <td>0.108703</td>\n",
       "      <td>1</td>\n",
       "      <td>1</td>\n",
       "      <td>0</td>\n",
       "      <td>0</td>\n",
       "      <td>0</td>\n",
       "    </tr>\n",
       "    <tr>\n",
       "      <th>3</th>\n",
       "      <td>-1</td>\n",
       "      <td>-1</td>\n",
       "      <td>15269</td>\n",
       "      <td>0.532615</td>\n",
       "      <td>1</td>\n",
       "      <td>3.011917</td>\n",
       "      <td>2</td>\n",
       "      <td>3.544532</td>\n",
       "      <td>1</td>\n",
       "      <td>0.996992</td>\n",
       "      <td>0.996992</td>\n",
       "      <td>4.077147</td>\n",
       "      <td>1</td>\n",
       "      <td>1</td>\n",
       "      <td>0</td>\n",
       "      <td>0</td>\n",
       "      <td>0</td>\n",
       "    </tr>\n",
       "    <tr>\n",
       "      <th>4</th>\n",
       "      <td>25305</td>\n",
       "      <td>80</td>\n",
       "      <td>146299</td>\n",
       "      <td>1.755521</td>\n",
       "      <td>100</td>\n",
       "      <td>0.000000</td>\n",
       "      <td>3</td>\n",
       "      <td>1.013550</td>\n",
       "      <td>100</td>\n",
       "      <td>0.000000</td>\n",
       "      <td>0.178650</td>\n",
       "      <td>4.054201</td>\n",
       "      <td>1</td>\n",
       "      <td>0</td>\n",
       "      <td>0</td>\n",
       "      <td>1</td>\n",
       "      <td>0</td>\n",
       "    </tr>\n",
       "  </tbody>\n",
       "</table>\n",
       "</div>"
      ],
      "text/plain": [
       "   sport  dport     seq    stddev  N_IN_Conn_P_SrcIP       min  state_number  \\\n",
       "0     -1     -1    2480  1.297815                  1  1.161589             2   \n",
       "1     -1     -1  185502  0.504402                100  3.058867             2   \n",
       "2     -1     -1  229602  0.000000                  1  0.108703             2   \n",
       "3     -1     -1   15269  0.532615                  1  3.011917             2   \n",
       "4  25305     80  146299  1.755521                100  0.000000             3   \n",
       "\n",
       "       mean  N_IN_Conn_P_DstIP     drate     srate       max  attack  \\\n",
       "0  2.869300                  1  0.224253  0.224253  4.156196       1   \n",
       "1  3.563269                100  0.000000  0.613701  4.067671       1   \n",
       "2  0.108703                  1  0.000000  0.000000  0.108703       1   \n",
       "3  3.544532                  1  0.996992  0.996992  4.077147       1   \n",
       "4  1.013550                100  0.000000  0.178650  4.054201       1   \n",
       "\n",
       "   proto_arp  proto_ipv6-icmp  proto_tcp  proto_udp  \n",
       "0          1                0          0          0  \n",
       "1          1                0          0          0  \n",
       "2          1                0          0          0  \n",
       "3          1                0          0          0  \n",
       "4          0                0          1          0  "
      ]
     },
     "metadata": {},
     "output_type": "display_data"
    },
    {
     "data": {
      "text/plain": []
     },
     "execution_count": 22,
     "metadata": {},
     "output_type": "execute_result"
    }
   ],
   "source": [
    "data.head()"
   ]
  },
  {
   "cell_type": "code",
   "execution_count": 23,
   "metadata": {},
   "outputs": [],
   "source": [
    "#Seperating the features and target variable\n",
    "y=data['attack']\n",
    "x=data.drop(columns='attack')"
   ]
  },
  {
   "cell_type": "code",
   "execution_count": 24,
   "metadata": {},
   "outputs": [
    {
     "data": {
      "text/plain": [
       "(1115, 17)"
      ]
     },
     "execution_count": 24,
     "metadata": {},
     "output_type": "execute_result"
    }
   ],
   "source": [
    "data.shape"
   ]
  },
  {
   "cell_type": "code",
   "execution_count": 25,
   "metadata": {},
   "outputs": [
    {
     "data": {
      "text/plain": [
       "(1115, 16)"
      ]
     },
     "execution_count": 25,
     "metadata": {},
     "output_type": "execute_result"
    }
   ],
   "source": [
    "x.shape"
   ]
  },
  {
   "cell_type": "markdown",
   "metadata": {},
   "source": [
    "#"
   ]
  },
  {
   "cell_type": "code",
   "execution_count": 26,
   "metadata": {},
   "outputs": [],
   "source": [
    "#Balancing the target variable\n",
    "from imblearn.combine import SMOTETomek\n",
    "smk = SMOTETomek(random_state = 0)\n",
    "x, y = smk.fit_sample(x,y)"
   ]
  },
  {
   "cell_type": "code",
   "execution_count": 27,
   "metadata": {},
   "outputs": [
    {
     "data": {
      "text/plain": [
       "(1978, 16)"
      ]
     },
     "execution_count": 27,
     "metadata": {},
     "output_type": "execute_result"
    }
   ],
   "source": [
    "x.shape"
   ]
  },
  {
   "cell_type": "code",
   "execution_count": 28,
   "metadata": {},
   "outputs": [
    {
     "data": {
      "text/plain": [
       "<matplotlib.axes._subplots.AxesSubplot at 0x12a852790b8>"
      ]
     },
     "execution_count": 28,
     "metadata": {},
     "output_type": "execute_result"
    },
    {
     "data": {
      "image/png": "[encoded data removed]",
      "text/plain": [
       "<Figure size 432x288 with 1 Axes>"
      ]
     },
     "metadata": {
      "needs_background": "light"
     },
     "output_type": "display_data"
    }
   ],
   "source": [
    "sns.countplot(y)"
   ]
  },
  {
   "cell_type": "code",
   "execution_count": 29,
   "metadata": {},
   "outputs": [],
   "source": [
    "#Spliting dataset into Train and Test set \n",
    "from sklearn.model_selection import train_test_split\n",
    "x_train,x_test,y_train,y_test = train_test_split(x,y,test_size = 0.3, random_state = 0)"
   ]
  },
  {
   "cell_type": "code",
   "execution_count": 30,
   "metadata": {},
   "outputs": [],
   "source": [
    "#Feature Scaling\n",
    "from sklearn.preprocessing import StandardScaler\n",
    "sc = StandardScaler()\n",
    "x_train = sc.fit_transform(x_train)\n",
    "x_test = sc.transform(x_test)"
   ]
  },
  {
   "cell_type": "code",
   "execution_count": 31,
   "metadata": {},
   "outputs": [
    {
     "data": {
      "text/plain": [
       "RandomForestClassifier()"
      ]
     },
     "execution_count": 31,
     "metadata": {},
     "output_type": "execute_result"
    }
   ],
   "source": [
    "from sklearn.ensemble import RandomForestClassifier\n",
    "from sklearn.model_selection import cross_val_score\n",
    "clf=RandomForestClassifier()\n",
    "clf.fit(x_train,y_train)"
   ]
  },
  {
   "cell_type": "code",
   "execution_count": 32,
   "metadata": {},
   "outputs": [
    {
     "name": "stdout",
     "output_type": "stream",
     "text": [
      " Testing Accuracy: 99.66%\n",
      "Cross Validation Accuracy: 99.93% \n"
     ]
    }
   ],
   "source": [
    "#Checking the accuracy of model\n",
    "from sklearn.metrics import accuracy_score\n",
    "y_pred=clf.predict(x_test)\n",
    "accuracy = accuracy_score(y_test, y_pred)\n",
    "print(\" Testing Accuracy: %.2f%%\" % (accuracy * 100.0))\n",
    "scores = cross_val_score(clf, x_train, y_train, cv=10)\n",
    "print(\"Cross Validation Accuracy: %.2f%% \" % (scores.mean()*100))"
   ]
  },
  {
   "cell_type": "code",
   "execution_count": 33,
   "metadata": {},
   "outputs": [
    {
     "data": {
      "text/plain": [
       "Text(0.5, 1.0, 'Random Forest Classifier')"
      ]
     },
     "execution_count": 33,
     "metadata": {},
     "output_type": "execute_result"
    },
    {
     "data": {
      "image/png": "[encoded data removed]",
      "text/plain": [
       "<Figure size 432x288 with 2 Axes>"
      ]
     },
     "metadata": {
      "needs_background": "light"
     },
     "output_type": "display_data"
    }
   ],
   "source": [
    "#confusion matrix\n",
    "from sklearn.metrics import confusion_matrix\n",
    "con = confusion_matrix(y_test,y_pred)\n",
    "import seaborn as sns\n",
    "import matplotlib.pyplot as plt\n",
    "axes = sns.heatmap(con, square=True,annot=True,fmt='d',cbar = True, cmap = plt.cm.GnBu)\n",
    "ax = plt.axes()\n",
    "plt.xlabel('Predicted Values')\n",
    "plt.ylabel('Actual values')\n",
    "ax.set_title('Random Forest Classifier')"
   ]
  },
  {
   "cell_type": "code",
   "execution_count": 34,
   "metadata": {},
   "outputs": [
    {
     "name": "stdout",
     "output_type": "stream",
     "text": [
      "Random Forest Classifier\n",
      "              precision    recall  f1-score   support\n",
      "\n",
      "           0       0.99      1.00      1.00       299\n",
      "           1       1.00      0.99      1.00       295\n",
      "\n",
      "    accuracy                           1.00       594\n",
      "   macro avg       1.00      1.00      1.00       594\n",
      "weighted avg       1.00      1.00      1.00       594\n",
      "\n"
     ]
    }
   ],
   "source": [
    "from sklearn.metrics import classification_report\n",
    "print('Random Forest Classifier')\n",
    "print(classification_report(y_test, y_pred))"
   ]
  },
  {
   "cell_type": "code",
   "execution_count": 35,
   "metadata": {},
   "outputs": [
    {
     "data": {
      "text/plain": [
       "0.9966101694915255"
      ]
     },
     "execution_count": 35,
     "metadata": {},
     "output_type": "execute_result"
    }
   ],
   "source": [
    "from sklearn.metrics import roc_auc_score\n",
    "roc_auc_score(y_test,y_pred)"
   ]
  },
  {
   "cell_type": "code",
   "execution_count": 37,
   "metadata": {},
   "outputs": [
    {
     "data": {
      "image/png": "[encoded data removed]",
      "text/plain": [
       "<Figure size 720x1080 with 3 Axes>"
      ]
     },
     "metadata": {
      "needs_background": "light"
     },
     "output_type": "display_data"
    }
   ],
   "source": [
    "#from sklearn.model_selection import learning_curve\n",
    "from sklearn.model_selection import learning_curve\n",
    "from sklearn.model_selection import ShuffleSplit\n",
    "\n",
    "def plot_learning_curve(estimator, title, x, y, axes=None, ylim=None, cv=None,\n",
    "                        n_jobs=None, train_sizes=np.linspace(.1, 1.0, 5)):\n",
    "   \n",
    "    if axes is None:\n",
    "        _, axes = plt.subplots(1, 1, figsize=(20, 5))\n",
    "\n",
    "    axes[0].set_title(title)\n",
    "    if ylim is not None:\n",
    "        axes[0].set_ylim(*ylim)\n",
    "    axes[0].set_xlabel(\"Training examples\")\n",
    "    axes[0].set_ylabel(\"Score\")\n",
    "\n",
    "    train_sizes, train_scores, test_scores, fit_times, _ = \\\n",
    "        learning_curve(estimator, x, y, cv=cv, n_jobs=n_jobs,\n",
    "                       train_sizes=train_sizes,\n",
    "                       return_times=True)\n",
    "    train_scores_mean = np.mean(train_scores, axis=1)\n",
    "    train_scores_std = np.std(train_scores, axis=1)\n",
    "    test_scores_mean = np.mean(test_scores, axis=1)\n",
    "    test_scores_std = np.std(test_scores, axis=1)\n",
    "    fit_times_mean = np.mean(fit_times, axis=1)\n",
    "    fit_times_std = np.std(fit_times, axis=1)\n",
    "\n",
    "    # Plot learning curve\n",
    "    axes[0].grid()\n",
    "    axes[0].fill_between(train_sizes, train_scores_mean - train_scores_std,\n",
    "                         train_scores_mean + train_scores_std, alpha=0.1,\n",
    "                         color=\"r\")\n",
    "    axes[0].fill_between(train_sizes, test_scores_mean - test_scores_std,\n",
    "                         test_scores_mean + test_scores_std, alpha=0.1,\n",
    "                         color=\"g\")\n",
    "    axes[0].plot(train_sizes, train_scores_mean, 'o-', color=\"r\",\n",
    "                 label=\"Training score\")\n",
    "    axes[0].plot(train_sizes, test_scores_mean, 'o-', color=\"g\",\n",
    "                 label=\"Cross-validation score\")\n",
    "    axes[0].legend(loc=\"best\")\n",
    "\n",
    "    # Plot n_samples vs fit_times\n",
    "    axes[1].grid()\n",
    "    axes[1].plot(train_sizes, fit_times_mean, 'o-')\n",
    "    axes[1].fill_between(train_sizes, fit_times_mean - fit_times_std,\n",
    "                         fit_times_mean + fit_times_std, alpha=0.1)\n",
    "    axes[1].set_xlabel(\"Training examples\")\n",
    "    axes[1].set_ylabel(\"fit_times\")\n",
    "    axes[1].set_title(\"Scalability of the model\")\n",
    "\n",
    "    # Plot fit_time vs score\n",
    "    axes[2].grid()\n",
    "    axes[2].plot(fit_times_mean, test_scores_mean, 'o-')\n",
    "    axes[2].fill_between(fit_times_mean, test_scores_mean - test_scores_std,\n",
    "                         test_scores_mean + test_scores_std, alpha=0.1)\n",
    "    axes[2].set_xlabel(\"fit_times\")\n",
    "    axes[2].set_ylabel(\"Score\")\n",
    "    axes[2].set_title(\"Performance of the model\")\n",
    "\n",
    "\n",
    "fig, axes = plt.subplots(3, 1, figsize=(10, 15))\n",
    "\n",
    "title = \"Learning Curves (Random Forest Classifier)\"\n",
    "# Cross validation with 10 iterations to get smoother mean test and train\n",
    "# score curves, each time with 20% data randomly selected as a validation set.\n",
    "cv = ShuffleSplit(n_splits=10, test_size=0.2, random_state=0)\n",
    "\n",
    "estimator = RandomForestClassifier()\n",
    "plot_learning_curve(estimator, title, x, y,axes=axes[:,], cv=cv, ylim=(0.7, 1.01), n_jobs=4)\n",
    "\n",
    "plt.show()"
   ]
  },
  {
   "cell_type": "code",
   "execution_count": null,
   "metadata": {},
   "outputs": [],
   "source": []
  }
 ],
 "metadata": {
  "kernelspec": {
   "display_name": "Python 3",
   "language": "python",
   "name": "python3"
  },
  "language_info": {
   "codemirror_mode": {
    "name": "ipython",
    "version": 3
   },
   "file_extension": ".py",
   "mimetype": "text/x-python",
   "name": "python",
   "nbconvert_exporter": "python",
   "pygments_lexer": "ipython3",
   "version": "3.7.3"
  }
 },
 "nbformat": 4,
 "nbformat_minor": 2
}
