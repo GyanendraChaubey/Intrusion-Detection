{
  "nbformat": 4,
  "nbformat_minor": 0,
  "metadata": {
    "kernelspec": {
      "display_name": "Python 3",
      "language": "python",
      "name": "python3"
    },
    "language_info": {
      "codemirror_mode": {
        "name": "ipython",
        "version": 3
      },
      "file_extension": ".py",
      "mimetype": "text/x-python",
      "name": "python",
      "nbconvert_exporter": "python",
      "pygments_lexer": "ipython3",
      "version": "3.7.3"
    },
    "colab": {
      "name": "DDoS_HTTP_AB.ipynb",
      "provenance": [],
      "toc_visible": true,
      "include_colab_link": true
    }
  },
  "cells": [
    {
      "cell_type": "markdown",
      "metadata": {
        "id": "view-in-github",
        "colab_type": "text"
      },
      "source": [
        "<a href=\"https://colab.research.google.com/github/GyanendraChaubey/Intrusion-Detection/blob/main/Rec_RF.ipynb\" target=\"_parent\"><img src=\"https://colab.research.google.com/assets/colab-badge.svg\" alt=\"Open In Colab\"/></a>"
      ]
    },
    {
      "cell_type": "code",
      "metadata": {
        "id": "hITRe9E9lpO8"
      },
      "source": [
        "#Importing the necessary libraries\n",
        "import numpy as np\n",
        "import pandas as pd\n",
        "import matplotlib.pyplot as plt\n",
        "import seaborn as sns\n",
        "sns.set()\n",
        "import warnings\n",
        "warnings.filterwarnings('ignore')\n",
        "import pandas.util.testing as tm"
      ],
      "execution_count": 1,
      "outputs": []
    },
    {
      "cell_type": "code",
      "metadata": {
        "id": "CsI6mXnTl3W1",
        "colab": {
          "base_uri": "https://localhost:8080/"
        },
        "outputId": "671e8968-e588-440c-b44c-59c69b4919c5"
      },
      "source": [
        "from google.colab import drive\n",
        "drive.mount('/content/drive')"
      ],
      "execution_count": 2,
      "outputs": [
        {
          "output_type": "stream",
          "text": [
            "Mounted at /content/drive\n"
          ],
          "name": "stdout"
        }
      ]
    },
    {
      "cell_type": "code",
      "metadata": {
        "id": "trMVYZENlpPK"
      },
      "source": [
        "#Read the data\n",
        "data=pd.read_csv(\"/content/drive/MyDrive/Rec.csv\")"
      ],
      "execution_count": 3,
      "outputs": []
    },
    {
      "cell_type": "code",
      "metadata": {
        "id": "dK3PQCMhlpPM"
      },
      "source": [
        "#Making a copy of data\n",
        "data=data.copy()"
      ],
      "execution_count": 4,
      "outputs": []
    },
    {
      "cell_type": "markdown",
      "metadata": {
        "id": "MEkHHlELlpPN"
      },
      "source": [
        "#Feature Engineering"
      ]
    },
    {
      "cell_type": "markdown",
      "metadata": {
        "id": "-U31-FoClpPP"
      },
      "source": [
        "1. Understanding Data"
      ]
    },
    {
      "cell_type": "code",
      "metadata": {
        "id": "0olwCpIClpPQ",
        "colab": {
          "base_uri": "https://localhost:8080/"
        },
        "outputId": "34219314-5fba-4b4a-eab0-d301187bc253"
      },
      "source": [
        "#checking the missing values\n",
        "data.isnull().sum()"
      ],
      "execution_count": 5,
      "outputs": [
        {
          "output_type": "execute_result",
          "data": {
            "text/plain": [
              "pkSeqID              0\n",
              "proto                0\n",
              "saddr                0\n",
              "sport                0\n",
              "daddr                0\n",
              "dport                0\n",
              "seq                  0\n",
              "stddev               0\n",
              "N_IN_Conn_P_SrcIP    0\n",
              "min                  0\n",
              "state_number         0\n",
              "mean                 0\n",
              "N_IN_Conn_P_DstIP    0\n",
              "drate                0\n",
              "srate                0\n",
              "max                  0\n",
              "attack               0\n",
              "category             0\n",
              "subcategory          0\n",
              "dtype: int64"
            ]
          },
          "metadata": {
            "tags": []
          },
          "execution_count": 5
        }
      ]
    },
    {
      "cell_type": "code",
      "metadata": {
        "id": "VgqnUMNUlpPS",
        "colab": {
          "base_uri": "https://localhost:8080/"
        },
        "outputId": "1a0841bc-7749-4976-f0a4-03178c83b3cc"
      },
      "source": [
        "data.info()"
      ],
      "execution_count": 6,
      "outputs": [
        {
          "output_type": "stream",
          "text": [
            "<class 'pandas.core.frame.DataFrame'>\n",
            "RangeIndex: 23419 entries, 0 to 23418\n",
            "Data columns (total 19 columns):\n",
            " #   Column             Non-Null Count  Dtype  \n",
            "---  ------             --------------  -----  \n",
            " 0   pkSeqID            23419 non-null  int64  \n",
            " 1   proto              23419 non-null  object \n",
            " 2   saddr              23419 non-null  object \n",
            " 3   sport              23419 non-null  int64  \n",
            " 4   daddr              23419 non-null  object \n",
            " 5   dport              23419 non-null  int64  \n",
            " 6   seq                23419 non-null  int64  \n",
            " 7   stddev             23419 non-null  float64\n",
            " 8   N_IN_Conn_P_SrcIP  23419 non-null  int64  \n",
            " 9   min                23419 non-null  float64\n",
            " 10  state_number       23419 non-null  int64  \n",
            " 11  mean               23419 non-null  float64\n",
            " 12  N_IN_Conn_P_DstIP  23419 non-null  int64  \n",
            " 13  drate              23419 non-null  float64\n",
            " 14  srate              23419 non-null  float64\n",
            " 15  max                23419 non-null  float64\n",
            " 16  attack             23419 non-null  int64  \n",
            " 17  category           23419 non-null  object \n",
            " 18  subcategory        23419 non-null  object \n",
            "dtypes: float64(6), int64(8), object(5)\n",
            "memory usage: 3.4+ MB\n"
          ],
          "name": "stdout"
        }
      ]
    },
    {
      "cell_type": "code",
      "metadata": {
        "id": "slK2bI-1lpPU",
        "colab": {
          "base_uri": "https://localhost:8080/",
          "height": 224
        },
        "outputId": "804c7a28-0187-486d-e9df-dda954f0083f"
      },
      "source": [
        "data.head()"
      ],
      "execution_count": 7,
      "outputs": [
        {
          "output_type": "execute_result",
          "data": {
            "text/html": [
              "<div>\n",
              "<style scoped>\n",
              "    .dataframe tbody tr th:only-of-type {\n",
              "        vertical-align: middle;\n",
              "    }\n",
              "\n",
              "    .dataframe tbody tr th {\n",
              "        vertical-align: top;\n",
              "    }\n",
              "\n",
              "    .dataframe thead th {\n",
              "        text-align: right;\n",
              "    }\n",
              "</style>\n",
              "<table border=\"1\" class=\"dataframe\">\n",
              "  <thead>\n",
              "    <tr style=\"text-align: right;\">\n",
              "      <th></th>\n",
              "      <th>pkSeqID</th>\n",
              "      <th>proto</th>\n",
              "      <th>saddr</th>\n",
              "      <th>sport</th>\n",
              "      <th>daddr</th>\n",
              "      <th>dport</th>\n",
              "      <th>seq</th>\n",
              "      <th>stddev</th>\n",
              "      <th>N_IN_Conn_P_SrcIP</th>\n",
              "      <th>min</th>\n",
              "      <th>state_number</th>\n",
              "      <th>mean</th>\n",
              "      <th>N_IN_Conn_P_DstIP</th>\n",
              "      <th>drate</th>\n",
              "      <th>srate</th>\n",
              "      <th>max</th>\n",
              "      <th>attack</th>\n",
              "      <th>category</th>\n",
              "      <th>subcategory</th>\n",
              "    </tr>\n",
              "  </thead>\n",
              "  <tbody>\n",
              "    <tr>\n",
              "      <th>0</th>\n",
              "      <td>3591126</td>\n",
              "      <td>tcp</td>\n",
              "      <td>192.168.100.150</td>\n",
              "      <td>45115</td>\n",
              "      <td>192.168.100.7</td>\n",
              "      <td>3031</td>\n",
              "      <td>13913</td>\n",
              "      <td>0.0</td>\n",
              "      <td>100</td>\n",
              "      <td>0.000423</td>\n",
              "      <td>1</td>\n",
              "      <td>0.000423</td>\n",
              "      <td>100</td>\n",
              "      <td>0.000000</td>\n",
              "      <td>0.000000</td>\n",
              "      <td>0.000423</td>\n",
              "      <td>1</td>\n",
              "      <td>Reconnaissance</td>\n",
              "      <td>OS_Fingerprint</td>\n",
              "    </tr>\n",
              "    <tr>\n",
              "      <th>1</th>\n",
              "      <td>3664695</td>\n",
              "      <td>tcp</td>\n",
              "      <td>192.168.100.150</td>\n",
              "      <td>61890</td>\n",
              "      <td>192.168.100.5</td>\n",
              "      <td>9502</td>\n",
              "      <td>5431</td>\n",
              "      <td>0.0</td>\n",
              "      <td>98</td>\n",
              "      <td>0.000781</td>\n",
              "      <td>1</td>\n",
              "      <td>0.000781</td>\n",
              "      <td>100</td>\n",
              "      <td>0.000000</td>\n",
              "      <td>0.000000</td>\n",
              "      <td>0.000781</td>\n",
              "      <td>1</td>\n",
              "      <td>Reconnaissance</td>\n",
              "      <td>Service_Scan</td>\n",
              "    </tr>\n",
              "    <tr>\n",
              "      <th>2</th>\n",
              "      <td>3626816</td>\n",
              "      <td>tcp</td>\n",
              "      <td>192.168.100.147</td>\n",
              "      <td>1822</td>\n",
              "      <td>192.168.100.3</td>\n",
              "      <td>916</td>\n",
              "      <td>3030</td>\n",
              "      <td>0.0</td>\n",
              "      <td>100</td>\n",
              "      <td>0.004917</td>\n",
              "      <td>1</td>\n",
              "      <td>0.004917</td>\n",
              "      <td>100</td>\n",
              "      <td>406.752075</td>\n",
              "      <td>203.376038</td>\n",
              "      <td>0.004917</td>\n",
              "      <td>1</td>\n",
              "      <td>Reconnaissance</td>\n",
              "      <td>Service_Scan</td>\n",
              "    </tr>\n",
              "    <tr>\n",
              "      <th>3</th>\n",
              "      <td>3664169</td>\n",
              "      <td>tcp</td>\n",
              "      <td>192.168.100.149</td>\n",
              "      <td>33626</td>\n",
              "      <td>192.168.100.5</td>\n",
              "      <td>9000</td>\n",
              "      <td>4900</td>\n",
              "      <td>0.0</td>\n",
              "      <td>100</td>\n",
              "      <td>0.002834</td>\n",
              "      <td>1</td>\n",
              "      <td>0.002834</td>\n",
              "      <td>100</td>\n",
              "      <td>0.000000</td>\n",
              "      <td>0.000000</td>\n",
              "      <td>0.002834</td>\n",
              "      <td>1</td>\n",
              "      <td>Reconnaissance</td>\n",
              "      <td>Service_Scan</td>\n",
              "    </tr>\n",
              "    <tr>\n",
              "      <th>4</th>\n",
              "      <td>3630606</td>\n",
              "      <td>tcp</td>\n",
              "      <td>192.168.100.149</td>\n",
              "      <td>1216</td>\n",
              "      <td>192.168.100.3</td>\n",
              "      <td>400</td>\n",
              "      <td>6924</td>\n",
              "      <td>0.0</td>\n",
              "      <td>100</td>\n",
              "      <td>0.005377</td>\n",
              "      <td>1</td>\n",
              "      <td>0.005377</td>\n",
              "      <td>100</td>\n",
              "      <td>185.977310</td>\n",
              "      <td>185.977310</td>\n",
              "      <td>0.005377</td>\n",
              "      <td>1</td>\n",
              "      <td>Reconnaissance</td>\n",
              "      <td>Service_Scan</td>\n",
              "    </tr>\n",
              "  </tbody>\n",
              "</table>\n",
              "</div>"
            ],
            "text/plain": [
              "   pkSeqID proto            saddr  ...  attack        category     subcategory\n",
              "0  3591126   tcp  192.168.100.150  ...       1  Reconnaissance  OS_Fingerprint\n",
              "1  3664695   tcp  192.168.100.150  ...       1  Reconnaissance    Service_Scan\n",
              "2  3626816   tcp  192.168.100.147  ...       1  Reconnaissance    Service_Scan\n",
              "3  3664169   tcp  192.168.100.149  ...       1  Reconnaissance    Service_Scan\n",
              "4  3630606   tcp  192.168.100.149  ...       1  Reconnaissance    Service_Scan\n",
              "\n",
              "[5 rows x 19 columns]"
            ]
          },
          "metadata": {
            "tags": []
          },
          "execution_count": 7
        }
      ]
    },
    {
      "cell_type": "code",
      "metadata": {
        "id": "qwo00qvplpPW",
        "colab": {
          "base_uri": "https://localhost:8080/"
        },
        "outputId": "26b38c68-fcd9-4673-e3b5-0cb0fbf797af"
      },
      "source": [
        "data['proto'].unique()"
      ],
      "execution_count": 8,
      "outputs": [
        {
          "output_type": "execute_result",
          "data": {
            "text/plain": [
              "array(['tcp', 'udp', 'arp', 'ipv6-icmp'], dtype=object)"
            ]
          },
          "metadata": {
            "tags": []
          },
          "execution_count": 8
        }
      ]
    },
    {
      "cell_type": "code",
      "metadata": {
        "id": "d_Rg4dIylpPY",
        "colab": {
          "base_uri": "https://localhost:8080/"
        },
        "outputId": "6ee60940-afa5-4628-a874-7d056ae0a614"
      },
      "source": [
        "data['saddr'].unique()"
      ],
      "execution_count": 9,
      "outputs": [
        {
          "output_type": "execute_result",
          "data": {
            "text/plain": [
              "array(['192.168.100.150', '192.168.100.147', '192.168.100.149',\n",
              "       '192.168.100.148', '192.168.100.5', '192.168.100.3',\n",
              "       '192.168.100.27', '192.168.100.6', 'fe80::250:56ff:febe:254',\n",
              "       'fe80::250:56ff:febe:e9d9', '192.168.100.46', '192.168.100.7',\n",
              "       'fe80::250:56ff:febe:26db', '192.168.100.1',\n",
              "       'fe80::250:56ff:febe:89ee', '192.168.100.4'], dtype=object)"
            ]
          },
          "metadata": {
            "tags": []
          },
          "execution_count": 9
        }
      ]
    },
    {
      "cell_type": "code",
      "metadata": {
        "id": "PUk2WfxjlpPZ",
        "colab": {
          "base_uri": "https://localhost:8080/"
        },
        "outputId": "8f41be4a-86ed-4c77-ee24-0654a536bd04"
      },
      "source": [
        "data['daddr'].unique()"
      ],
      "execution_count": 10,
      "outputs": [
        {
          "output_type": "execute_result",
          "data": {
            "text/plain": [
              "array(['192.168.100.7', '192.168.100.5', '192.168.100.3', '192.168.100.6',\n",
              "       '192.168.217.2', '192.168.100.147', '192.168.100.55',\n",
              "       '192.168.100.150', '192.168.100.148', '255.255.255.255',\n",
              "       '192.168.100.149', '96.7.49.66', '205.251.197.206',\n",
              "       '192.168.100.1', '205.251.194.201', '224.0.0.251',\n",
              "       '205.251.196.32', '52.201.147.106', '192.5.5.241', '192.55.83.30',\n",
              "       '192.31.80.30', '8.8.8.8', '13.55.154.73', 'ff02::2',\n",
              "       '192.41.162.30', '129.250.35.250', 'ff02::fb', '27.124.125.250',\n",
              "       '199.19.56.1', '192.33.14.30', '205.251.199.148', '192.58.128.30',\n",
              "       '192.12.94.30', '205.251.196.160', '205.251.199.194',\n",
              "       '192.36.148.17', '184.85.248.65', '192.33.4.12', '52.11.124.117',\n",
              "       '192.168.100.255', '192.54.112.30', 'ff02::1', '172.217.25.170',\n",
              "       '205.251.194.102', '192.112.36.4', '205.251.194.86',\n",
              "       '192.168.100.27', '192.52.178.30', '205.251.195.59', '52.35.35.13'],\n",
              "      dtype=object)"
            ]
          },
          "metadata": {
            "tags": []
          },
          "execution_count": 10
        }
      ]
    },
    {
      "cell_type": "code",
      "metadata": {
        "id": "9lL1S_aKlpPb",
        "colab": {
          "base_uri": "https://localhost:8080/",
          "height": 317
        },
        "outputId": "ee2b21ab-a79a-40e2-be7f-f40aa8f65a50"
      },
      "source": [
        "data.describe()"
      ],
      "execution_count": 11,
      "outputs": [
        {
          "output_type": "execute_result",
          "data": {
            "text/html": [
              "<div>\n",
              "<style scoped>\n",
              "    .dataframe tbody tr th:only-of-type {\n",
              "        vertical-align: middle;\n",
              "    }\n",
              "\n",
              "    .dataframe tbody tr th {\n",
              "        vertical-align: top;\n",
              "    }\n",
              "\n",
              "    .dataframe thead th {\n",
              "        text-align: right;\n",
              "    }\n",
              "</style>\n",
              "<table border=\"1\" class=\"dataframe\">\n",
              "  <thead>\n",
              "    <tr style=\"text-align: right;\">\n",
              "      <th></th>\n",
              "      <th>pkSeqID</th>\n",
              "      <th>sport</th>\n",
              "      <th>dport</th>\n",
              "      <th>seq</th>\n",
              "      <th>stddev</th>\n",
              "      <th>N_IN_Conn_P_SrcIP</th>\n",
              "      <th>min</th>\n",
              "      <th>state_number</th>\n",
              "      <th>mean</th>\n",
              "      <th>N_IN_Conn_P_DstIP</th>\n",
              "      <th>drate</th>\n",
              "      <th>srate</th>\n",
              "      <th>max</th>\n",
              "      <th>attack</th>\n",
              "    </tr>\n",
              "  </thead>\n",
              "  <tbody>\n",
              "    <tr>\n",
              "      <th>count</th>\n",
              "      <td>2.341900e+04</td>\n",
              "      <td>23419.000000</td>\n",
              "      <td>23419.000000</td>\n",
              "      <td>23419.000000</td>\n",
              "      <td>23419.000000</td>\n",
              "      <td>23419.000000</td>\n",
              "      <td>23419.000000</td>\n",
              "      <td>23419.000000</td>\n",
              "      <td>23419.000000</td>\n",
              "      <td>23419.000000</td>\n",
              "      <td>23419.000000</td>\n",
              "      <td>23419.000000</td>\n",
              "      <td>23419.000000</td>\n",
              "      <td>23419.000000</td>\n",
              "    </tr>\n",
              "    <tr>\n",
              "      <th>mean</th>\n",
              "      <td>3.621989e+06</td>\n",
              "      <td>38620.172552</td>\n",
              "      <td>9849.895683</td>\n",
              "      <td>12768.842265</td>\n",
              "      <td>0.002839</td>\n",
              "      <td>67.148042</td>\n",
              "      <td>0.027755</td>\n",
              "      <td>1.962509</td>\n",
              "      <td>0.031258</td>\n",
              "      <td>91.631282</td>\n",
              "      <td>20.018188</td>\n",
              "      <td>134.211233</td>\n",
              "      <td>0.034275</td>\n",
              "      <td>0.994961</td>\n",
              "    </tr>\n",
              "    <tr>\n",
              "      <th>std</th>\n",
              "      <td>2.649237e+04</td>\n",
              "      <td>18775.078213</td>\n",
              "      <td>15236.069796</td>\n",
              "      <td>9492.651341</td>\n",
              "      <td>0.064179</td>\n",
              "      <td>37.128852</td>\n",
              "      <td>0.141771</td>\n",
              "      <td>1.648674</td>\n",
              "      <td>0.170074</td>\n",
              "      <td>17.557197</td>\n",
              "      <td>448.595018</td>\n",
              "      <td>7079.100313</td>\n",
              "      <td>0.206750</td>\n",
              "      <td>0.070806</td>\n",
              "    </tr>\n",
              "    <tr>\n",
              "      <th>min</th>\n",
              "      <td>3.576885e+06</td>\n",
              "      <td>-1.000000</td>\n",
              "      <td>-1.000000</td>\n",
              "      <td>1.000000</td>\n",
              "      <td>0.000000</td>\n",
              "      <td>1.000000</td>\n",
              "      <td>0.000000</td>\n",
              "      <td>1.000000</td>\n",
              "      <td>0.000000</td>\n",
              "      <td>1.000000</td>\n",
              "      <td>0.000000</td>\n",
              "      <td>0.000000</td>\n",
              "      <td>0.000000</td>\n",
              "      <td>0.000000</td>\n",
              "    </tr>\n",
              "    <tr>\n",
              "      <th>25%</th>\n",
              "      <td>3.597843e+06</td>\n",
              "      <td>34141.000000</td>\n",
              "      <td>749.000000</td>\n",
              "      <td>4615.000000</td>\n",
              "      <td>0.000000</td>\n",
              "      <td>25.000000</td>\n",
              "      <td>0.000063</td>\n",
              "      <td>1.000000</td>\n",
              "      <td>0.000064</td>\n",
              "      <td>99.000000</td>\n",
              "      <td>0.000000</td>\n",
              "      <td>0.000000</td>\n",
              "      <td>0.000064</td>\n",
              "      <td>1.000000</td>\n",
              "    </tr>\n",
              "    <tr>\n",
              "      <th>50%</th>\n",
              "      <td>3.622267e+06</td>\n",
              "      <td>41840.000000</td>\n",
              "      <td>3300.000000</td>\n",
              "      <td>10802.000000</td>\n",
              "      <td>0.000000</td>\n",
              "      <td>99.000000</td>\n",
              "      <td>0.000205</td>\n",
              "      <td>1.000000</td>\n",
              "      <td>0.000209</td>\n",
              "      <td>100.000000</td>\n",
              "      <td>0.000000</td>\n",
              "      <td>0.000000</td>\n",
              "      <td>0.000210</td>\n",
              "      <td>1.000000</td>\n",
              "    </tr>\n",
              "    <tr>\n",
              "      <th>75%</th>\n",
              "      <td>3.645264e+06</td>\n",
              "      <td>51581.000000</td>\n",
              "      <td>9618.000000</td>\n",
              "      <td>19590.500000</td>\n",
              "      <td>0.000000</td>\n",
              "      <td>100.000000</td>\n",
              "      <td>0.001779</td>\n",
              "      <td>4.000000</td>\n",
              "      <td>0.002374</td>\n",
              "      <td>100.000000</td>\n",
              "      <td>0.000000</td>\n",
              "      <td>0.000000</td>\n",
              "      <td>0.002541</td>\n",
              "      <td>1.000000</td>\n",
              "    </tr>\n",
              "    <tr>\n",
              "      <th>max</th>\n",
              "      <td>3.668438e+06</td>\n",
              "      <td>64680.000000</td>\n",
              "      <td>65535.000000</td>\n",
              "      <td>37889.000000</td>\n",
              "      <td>2.056279</td>\n",
              "      <td>100.000000</td>\n",
              "      <td>4.950444</td>\n",
              "      <td>8.000000</td>\n",
              "      <td>4.966808</td>\n",
              "      <td>100.000000</td>\n",
              "      <td>58823.527340</td>\n",
              "      <td>1000000.000000</td>\n",
              "      <td>4.999998</td>\n",
              "      <td>1.000000</td>\n",
              "    </tr>\n",
              "  </tbody>\n",
              "</table>\n",
              "</div>"
            ],
            "text/plain": [
              "            pkSeqID         sport  ...           max        attack\n",
              "count  2.341900e+04  23419.000000  ...  23419.000000  23419.000000\n",
              "mean   3.621989e+06  38620.172552  ...      0.034275      0.994961\n",
              "std    2.649237e+04  18775.078213  ...      0.206750      0.070806\n",
              "min    3.576885e+06     -1.000000  ...      0.000000      0.000000\n",
              "25%    3.597843e+06  34141.000000  ...      0.000064      1.000000\n",
              "50%    3.622267e+06  41840.000000  ...      0.000210      1.000000\n",
              "75%    3.645264e+06  51581.000000  ...      0.002541      1.000000\n",
              "max    3.668438e+06  64680.000000  ...      4.999998      1.000000\n",
              "\n",
              "[8 rows x 14 columns]"
            ]
          },
          "metadata": {
            "tags": []
          },
          "execution_count": 11
        }
      ]
    },
    {
      "cell_type": "code",
      "metadata": {
        "id": "xmKHiTfdlpPd"
      },
      "source": [
        "#Removing the unwanted coloumns\n",
        "col=['saddr','daddr','category','attack']\n",
        "data=data.drop(columns=col,axis=1)"
      ],
      "execution_count": 12,
      "outputs": []
    },
    {
      "cell_type": "code",
      "metadata": {
        "id": "7XAq9HlIlpPf"
      },
      "source": [
        "#Removing the dublicate values\n",
        "data.drop_duplicates(keep='first',inplace=True)"
      ],
      "execution_count": 13,
      "outputs": []
    },
    {
      "cell_type": "markdown",
      "metadata": {
        "id": "43DKLBzxlpPg"
      },
      "source": [
        "2. Exploratory Data Analysis"
      ]
    },
    {
      "cell_type": "code",
      "metadata": {
        "id": "L5HtqC0nlpPh",
        "colab": {
          "base_uri": "https://localhost:8080/",
          "height": 224
        },
        "outputId": "b071467e-ebef-41a1-e89d-67123e5f096f"
      },
      "source": [
        "data.head()"
      ],
      "execution_count": 14,
      "outputs": [
        {
          "output_type": "execute_result",
          "data": {
            "text/html": [
              "<div>\n",
              "<style scoped>\n",
              "    .dataframe tbody tr th:only-of-type {\n",
              "        vertical-align: middle;\n",
              "    }\n",
              "\n",
              "    .dataframe tbody tr th {\n",
              "        vertical-align: top;\n",
              "    }\n",
              "\n",
              "    .dataframe thead th {\n",
              "        text-align: right;\n",
              "    }\n",
              "</style>\n",
              "<table border=\"1\" class=\"dataframe\">\n",
              "  <thead>\n",
              "    <tr style=\"text-align: right;\">\n",
              "      <th></th>\n",
              "      <th>pkSeqID</th>\n",
              "      <th>proto</th>\n",
              "      <th>sport</th>\n",
              "      <th>dport</th>\n",
              "      <th>seq</th>\n",
              "      <th>stddev</th>\n",
              "      <th>N_IN_Conn_P_SrcIP</th>\n",
              "      <th>min</th>\n",
              "      <th>state_number</th>\n",
              "      <th>mean</th>\n",
              "      <th>N_IN_Conn_P_DstIP</th>\n",
              "      <th>drate</th>\n",
              "      <th>srate</th>\n",
              "      <th>max</th>\n",
              "      <th>subcategory</th>\n",
              "    </tr>\n",
              "  </thead>\n",
              "  <tbody>\n",
              "    <tr>\n",
              "      <th>0</th>\n",
              "      <td>3591126</td>\n",
              "      <td>tcp</td>\n",
              "      <td>45115</td>\n",
              "      <td>3031</td>\n",
              "      <td>13913</td>\n",
              "      <td>0.0</td>\n",
              "      <td>100</td>\n",
              "      <td>0.000423</td>\n",
              "      <td>1</td>\n",
              "      <td>0.000423</td>\n",
              "      <td>100</td>\n",
              "      <td>0.000000</td>\n",
              "      <td>0.000000</td>\n",
              "      <td>0.000423</td>\n",
              "      <td>OS_Fingerprint</td>\n",
              "    </tr>\n",
              "    <tr>\n",
              "      <th>1</th>\n",
              "      <td>3664695</td>\n",
              "      <td>tcp</td>\n",
              "      <td>61890</td>\n",
              "      <td>9502</td>\n",
              "      <td>5431</td>\n",
              "      <td>0.0</td>\n",
              "      <td>98</td>\n",
              "      <td>0.000781</td>\n",
              "      <td>1</td>\n",
              "      <td>0.000781</td>\n",
              "      <td>100</td>\n",
              "      <td>0.000000</td>\n",
              "      <td>0.000000</td>\n",
              "      <td>0.000781</td>\n",
              "      <td>Service_Scan</td>\n",
              "    </tr>\n",
              "    <tr>\n",
              "      <th>2</th>\n",
              "      <td>3626816</td>\n",
              "      <td>tcp</td>\n",
              "      <td>1822</td>\n",
              "      <td>916</td>\n",
              "      <td>3030</td>\n",
              "      <td>0.0</td>\n",
              "      <td>100</td>\n",
              "      <td>0.004917</td>\n",
              "      <td>1</td>\n",
              "      <td>0.004917</td>\n",
              "      <td>100</td>\n",
              "      <td>406.752075</td>\n",
              "      <td>203.376038</td>\n",
              "      <td>0.004917</td>\n",
              "      <td>Service_Scan</td>\n",
              "    </tr>\n",
              "    <tr>\n",
              "      <th>3</th>\n",
              "      <td>3664169</td>\n",
              "      <td>tcp</td>\n",
              "      <td>33626</td>\n",
              "      <td>9000</td>\n",
              "      <td>4900</td>\n",
              "      <td>0.0</td>\n",
              "      <td>100</td>\n",
              "      <td>0.002834</td>\n",
              "      <td>1</td>\n",
              "      <td>0.002834</td>\n",
              "      <td>100</td>\n",
              "      <td>0.000000</td>\n",
              "      <td>0.000000</td>\n",
              "      <td>0.002834</td>\n",
              "      <td>Service_Scan</td>\n",
              "    </tr>\n",
              "    <tr>\n",
              "      <th>4</th>\n",
              "      <td>3630606</td>\n",
              "      <td>tcp</td>\n",
              "      <td>1216</td>\n",
              "      <td>400</td>\n",
              "      <td>6924</td>\n",
              "      <td>0.0</td>\n",
              "      <td>100</td>\n",
              "      <td>0.005377</td>\n",
              "      <td>1</td>\n",
              "      <td>0.005377</td>\n",
              "      <td>100</td>\n",
              "      <td>185.977310</td>\n",
              "      <td>185.977310</td>\n",
              "      <td>0.005377</td>\n",
              "      <td>Service_Scan</td>\n",
              "    </tr>\n",
              "  </tbody>\n",
              "</table>\n",
              "</div>"
            ],
            "text/plain": [
              "   pkSeqID proto  sport  ...       srate       max     subcategory\n",
              "0  3591126   tcp  45115  ...    0.000000  0.000423  OS_Fingerprint\n",
              "1  3664695   tcp  61890  ...    0.000000  0.000781    Service_Scan\n",
              "2  3626816   tcp   1822  ...  203.376038  0.004917    Service_Scan\n",
              "3  3664169   tcp  33626  ...    0.000000  0.002834    Service_Scan\n",
              "4  3630606   tcp   1216  ...  185.977310  0.005377    Service_Scan\n",
              "\n",
              "[5 rows x 15 columns]"
            ]
          },
          "metadata": {
            "tags": []
          },
          "execution_count": 14
        }
      ]
    },
    {
      "cell_type": "code",
      "metadata": {
        "id": "nDTnzk5mE7Pk"
      },
      "source": [
        "data['subcategory']=data['subcategory'].map({'Normal':0,'OS_Fingerprint':1,'Service_Scan':2})"
      ],
      "execution_count": 15,
      "outputs": []
    },
    {
      "cell_type": "code",
      "metadata": {
        "id": "WErffEdUlpPj",
        "colab": {
          "base_uri": "https://localhost:8080/"
        },
        "outputId": "f29ec957-f346-4fcf-a725-1320fc52554e"
      },
      "source": [
        "#Frequency of each category\n",
        "data['proto'].value_counts()"
      ],
      "execution_count": 16,
      "outputs": [
        {
          "output_type": "execute_result",
          "data": {
            "text/plain": [
              "tcp          19046\n",
              "udp           4337\n",
              "arp             33\n",
              "ipv6-icmp        3\n",
              "Name: proto, dtype: int64"
            ]
          },
          "metadata": {
            "tags": []
          },
          "execution_count": 16
        }
      ]
    },
    {
      "cell_type": "code",
      "metadata": {
        "id": "dIFu9BQLlpPk",
        "colab": {
          "base_uri": "https://localhost:8080/",
          "height": 503
        },
        "outputId": "d839b525-50ae-40c3-ffe8-4cd92ec67990"
      },
      "source": [
        "#relationship between the independent variables\n",
        "data.corr()"
      ],
      "execution_count": 17,
      "outputs": [
        {
          "output_type": "execute_result",
          "data": {
            "text/html": [
              "<div>\n",
              "<style scoped>\n",
              "    .dataframe tbody tr th:only-of-type {\n",
              "        vertical-align: middle;\n",
              "    }\n",
              "\n",
              "    .dataframe tbody tr th {\n",
              "        vertical-align: top;\n",
              "    }\n",
              "\n",
              "    .dataframe thead th {\n",
              "        text-align: right;\n",
              "    }\n",
              "</style>\n",
              "<table border=\"1\" class=\"dataframe\">\n",
              "  <thead>\n",
              "    <tr style=\"text-align: right;\">\n",
              "      <th></th>\n",
              "      <th>pkSeqID</th>\n",
              "      <th>sport</th>\n",
              "      <th>dport</th>\n",
              "      <th>seq</th>\n",
              "      <th>stddev</th>\n",
              "      <th>N_IN_Conn_P_SrcIP</th>\n",
              "      <th>min</th>\n",
              "      <th>state_number</th>\n",
              "      <th>mean</th>\n",
              "      <th>N_IN_Conn_P_DstIP</th>\n",
              "      <th>drate</th>\n",
              "      <th>srate</th>\n",
              "      <th>max</th>\n",
              "      <th>subcategory</th>\n",
              "    </tr>\n",
              "  </thead>\n",
              "  <tbody>\n",
              "    <tr>\n",
              "      <th>pkSeqID</th>\n",
              "      <td>1.000000</td>\n",
              "      <td>-0.059620</td>\n",
              "      <td>0.056769</td>\n",
              "      <td>0.409466</td>\n",
              "      <td>-0.028027</td>\n",
              "      <td>-0.009582</td>\n",
              "      <td>-0.020653</td>\n",
              "      <td>0.052549</td>\n",
              "      <td>-0.034568</td>\n",
              "      <td>-0.073160</td>\n",
              "      <td>-0.021266</td>\n",
              "      <td>-0.017647</td>\n",
              "      <td>-0.038108</td>\n",
              "      <td>0.713762</td>\n",
              "    </tr>\n",
              "    <tr>\n",
              "      <th>sport</th>\n",
              "      <td>-0.059620</td>\n",
              "      <td>1.000000</td>\n",
              "      <td>0.175099</td>\n",
              "      <td>0.329668</td>\n",
              "      <td>-0.019906</td>\n",
              "      <td>0.110269</td>\n",
              "      <td>0.051808</td>\n",
              "      <td>0.146269</td>\n",
              "      <td>0.031917</td>\n",
              "      <td>0.001483</td>\n",
              "      <td>-0.048334</td>\n",
              "      <td>0.010246</td>\n",
              "      <td>0.018224</td>\n",
              "      <td>-0.169546</td>\n",
              "    </tr>\n",
              "    <tr>\n",
              "      <th>dport</th>\n",
              "      <td>0.056769</td>\n",
              "      <td>0.175099</td>\n",
              "      <td>1.000000</td>\n",
              "      <td>0.105776</td>\n",
              "      <td>-0.011237</td>\n",
              "      <td>-0.219994</td>\n",
              "      <td>-0.084532</td>\n",
              "      <td>0.221279</td>\n",
              "      <td>-0.075983</td>\n",
              "      <td>-0.390168</td>\n",
              "      <td>0.016222</td>\n",
              "      <td>-0.009366</td>\n",
              "      <td>-0.066532</td>\n",
              "      <td>0.030464</td>\n",
              "    </tr>\n",
              "    <tr>\n",
              "      <th>seq</th>\n",
              "      <td>0.409466</td>\n",
              "      <td>0.329668</td>\n",
              "      <td>0.105776</td>\n",
              "      <td>1.000000</td>\n",
              "      <td>-0.013157</td>\n",
              "      <td>-0.067260</td>\n",
              "      <td>0.129959</td>\n",
              "      <td>0.284037</td>\n",
              "      <td>0.097788</td>\n",
              "      <td>0.005297</td>\n",
              "      <td>-0.020930</td>\n",
              "      <td>-0.004815</td>\n",
              "      <td>0.076235</td>\n",
              "      <td>0.207919</td>\n",
              "    </tr>\n",
              "    <tr>\n",
              "      <th>stddev</th>\n",
              "      <td>-0.028027</td>\n",
              "      <td>-0.019906</td>\n",
              "      <td>-0.011237</td>\n",
              "      <td>-0.013157</td>\n",
              "      <td>1.000000</td>\n",
              "      <td>-0.019738</td>\n",
              "      <td>0.017890</td>\n",
              "      <td>0.041086</td>\n",
              "      <td>0.428228</td>\n",
              "      <td>-0.000478</td>\n",
              "      <td>-0.001794</td>\n",
              "      <td>-0.000799</td>\n",
              "      <td>0.666170</td>\n",
              "      <td>-0.039198</td>\n",
              "    </tr>\n",
              "    <tr>\n",
              "      <th>N_IN_Conn_P_SrcIP</th>\n",
              "      <td>-0.009582</td>\n",
              "      <td>0.110269</td>\n",
              "      <td>-0.219994</td>\n",
              "      <td>-0.067260</td>\n",
              "      <td>-0.019738</td>\n",
              "      <td>1.000000</td>\n",
              "      <td>-0.127717</td>\n",
              "      <td>-0.699522</td>\n",
              "      <td>-0.119758</td>\n",
              "      <td>0.600212</td>\n",
              "      <td>-0.016595</td>\n",
              "      <td>-0.014533</td>\n",
              "      <td>-0.106028</td>\n",
              "      <td>-0.111878</td>\n",
              "    </tr>\n",
              "    <tr>\n",
              "      <th>min</th>\n",
              "      <td>-0.020653</td>\n",
              "      <td>0.051808</td>\n",
              "      <td>-0.084532</td>\n",
              "      <td>0.129959</td>\n",
              "      <td>0.017890</td>\n",
              "      <td>-0.127717</td>\n",
              "      <td>1.000000</td>\n",
              "      <td>0.259446</td>\n",
              "      <td>0.867485</td>\n",
              "      <td>0.018979</td>\n",
              "      <td>-0.001574</td>\n",
              "      <td>0.002975</td>\n",
              "      <td>0.724883</td>\n",
              "      <td>0.028031</td>\n",
              "    </tr>\n",
              "    <tr>\n",
              "      <th>state_number</th>\n",
              "      <td>0.052549</td>\n",
              "      <td>0.146269</td>\n",
              "      <td>0.221279</td>\n",
              "      <td>0.284037</td>\n",
              "      <td>0.041086</td>\n",
              "      <td>-0.699522</td>\n",
              "      <td>0.259446</td>\n",
              "      <td>1.000000</td>\n",
              "      <td>0.232000</td>\n",
              "      <td>-0.441865</td>\n",
              "      <td>0.013882</td>\n",
              "      <td>-0.003914</td>\n",
              "      <td>0.204044</td>\n",
              "      <td>0.212088</td>\n",
              "    </tr>\n",
              "    <tr>\n",
              "      <th>mean</th>\n",
              "      <td>-0.034568</td>\n",
              "      <td>0.031917</td>\n",
              "      <td>-0.075983</td>\n",
              "      <td>0.097788</td>\n",
              "      <td>0.428228</td>\n",
              "      <td>-0.119758</td>\n",
              "      <td>0.867485</td>\n",
              "      <td>0.232000</td>\n",
              "      <td>1.000000</td>\n",
              "      <td>-0.005216</td>\n",
              "      <td>-0.002121</td>\n",
              "      <td>0.002111</td>\n",
              "      <td>0.954296</td>\n",
              "      <td>-0.008341</td>\n",
              "    </tr>\n",
              "    <tr>\n",
              "      <th>N_IN_Conn_P_DstIP</th>\n",
              "      <td>-0.073160</td>\n",
              "      <td>0.001483</td>\n",
              "      <td>-0.390168</td>\n",
              "      <td>0.005297</td>\n",
              "      <td>-0.000478</td>\n",
              "      <td>0.600212</td>\n",
              "      <td>0.018979</td>\n",
              "      <td>-0.441865</td>\n",
              "      <td>-0.005216</td>\n",
              "      <td>1.000000</td>\n",
              "      <td>-0.027650</td>\n",
              "      <td>-0.023668</td>\n",
              "      <td>-0.004810</td>\n",
              "      <td>-0.082185</td>\n",
              "    </tr>\n",
              "    <tr>\n",
              "      <th>drate</th>\n",
              "      <td>-0.021266</td>\n",
              "      <td>-0.048334</td>\n",
              "      <td>0.016222</td>\n",
              "      <td>-0.020930</td>\n",
              "      <td>-0.001794</td>\n",
              "      <td>-0.016595</td>\n",
              "      <td>-0.001574</td>\n",
              "      <td>0.013882</td>\n",
              "      <td>-0.002121</td>\n",
              "      <td>-0.027650</td>\n",
              "      <td>1.000000</td>\n",
              "      <td>0.037484</td>\n",
              "      <td>-0.002342</td>\n",
              "      <td>-0.016377</td>\n",
              "    </tr>\n",
              "    <tr>\n",
              "      <th>srate</th>\n",
              "      <td>-0.017647</td>\n",
              "      <td>0.010246</td>\n",
              "      <td>-0.009366</td>\n",
              "      <td>-0.004815</td>\n",
              "      <td>-0.000799</td>\n",
              "      <td>-0.014533</td>\n",
              "      <td>0.002975</td>\n",
              "      <td>-0.003914</td>\n",
              "      <td>0.002111</td>\n",
              "      <td>-0.023668</td>\n",
              "      <td>0.037484</td>\n",
              "      <td>1.000000</td>\n",
              "      <td>0.001472</td>\n",
              "      <td>-0.026694</td>\n",
              "    </tr>\n",
              "    <tr>\n",
              "      <th>max</th>\n",
              "      <td>-0.038108</td>\n",
              "      <td>0.018224</td>\n",
              "      <td>-0.066532</td>\n",
              "      <td>0.076235</td>\n",
              "      <td>0.666170</td>\n",
              "      <td>-0.106028</td>\n",
              "      <td>0.724883</td>\n",
              "      <td>0.204044</td>\n",
              "      <td>0.954296</td>\n",
              "      <td>-0.004810</td>\n",
              "      <td>-0.002342</td>\n",
              "      <td>0.001472</td>\n",
              "      <td>1.000000</td>\n",
              "      <td>-0.020003</td>\n",
              "    </tr>\n",
              "    <tr>\n",
              "      <th>subcategory</th>\n",
              "      <td>0.713762</td>\n",
              "      <td>-0.169546</td>\n",
              "      <td>0.030464</td>\n",
              "      <td>0.207919</td>\n",
              "      <td>-0.039198</td>\n",
              "      <td>-0.111878</td>\n",
              "      <td>0.028031</td>\n",
              "      <td>0.212088</td>\n",
              "      <td>-0.008341</td>\n",
              "      <td>-0.082185</td>\n",
              "      <td>-0.016377</td>\n",
              "      <td>-0.026694</td>\n",
              "      <td>-0.020003</td>\n",
              "      <td>1.000000</td>\n",
              "    </tr>\n",
              "  </tbody>\n",
              "</table>\n",
              "</div>"
            ],
            "text/plain": [
              "                    pkSeqID     sport  ...       max  subcategory\n",
              "pkSeqID            1.000000 -0.059620  ... -0.038108     0.713762\n",
              "sport             -0.059620  1.000000  ...  0.018224    -0.169546\n",
              "dport              0.056769  0.175099  ... -0.066532     0.030464\n",
              "seq                0.409466  0.329668  ...  0.076235     0.207919\n",
              "stddev            -0.028027 -0.019906  ...  0.666170    -0.039198\n",
              "N_IN_Conn_P_SrcIP -0.009582  0.110269  ... -0.106028    -0.111878\n",
              "min               -0.020653  0.051808  ...  0.724883     0.028031\n",
              "state_number       0.052549  0.146269  ...  0.204044     0.212088\n",
              "mean              -0.034568  0.031917  ...  0.954296    -0.008341\n",
              "N_IN_Conn_P_DstIP -0.073160  0.001483  ... -0.004810    -0.082185\n",
              "drate             -0.021266 -0.048334  ... -0.002342    -0.016377\n",
              "srate             -0.017647  0.010246  ...  0.001472    -0.026694\n",
              "max               -0.038108  0.018224  ...  1.000000    -0.020003\n",
              "subcategory        0.713762 -0.169546  ... -0.020003     1.000000\n",
              "\n",
              "[14 rows x 14 columns]"
            ]
          },
          "metadata": {
            "tags": []
          },
          "execution_count": 17
        }
      ]
    },
    {
      "cell_type": "code",
      "metadata": {
        "id": "iUAdKgcZlpPl",
        "colab": {
          "base_uri": "https://localhost:8080/"
        },
        "outputId": "228e9944-5b03-491e-d207-8a36a3fbe4b9"
      },
      "source": [
        "#Cross tables and data visualization\n",
        "#Extracting the coloumn names\n",
        "data.columns"
      ],
      "execution_count": 18,
      "outputs": [
        {
          "output_type": "execute_result",
          "data": {
            "text/plain": [
              "Index(['pkSeqID', 'proto', 'sport', 'dport', 'seq', 'stddev',\n",
              "       'N_IN_Conn_P_SrcIP', 'min', 'state_number', 'mean', 'N_IN_Conn_P_DstIP',\n",
              "       'drate', 'srate', 'max', 'subcategory'],\n",
              "      dtype='object')"
            ]
          },
          "metadata": {
            "tags": []
          },
          "execution_count": 18
        }
      ]
    },
    {
      "cell_type": "code",
      "metadata": {
        "id": "WoM2mTO5lpPm",
        "colab": {
          "base_uri": "https://localhost:8080/",
          "height": 204
        },
        "outputId": "0074009a-91c7-42fb-9f20-945e6aa63868"
      },
      "source": [
        "#proto proportion table\n",
        "pd.crosstab(index=data['proto'],columns='count',normalize=True)"
      ],
      "execution_count": 19,
      "outputs": [
        {
          "output_type": "execute_result",
          "data": {
            "text/html": [
              "<div>\n",
              "<style scoped>\n",
              "    .dataframe tbody tr th:only-of-type {\n",
              "        vertical-align: middle;\n",
              "    }\n",
              "\n",
              "    .dataframe tbody tr th {\n",
              "        vertical-align: top;\n",
              "    }\n",
              "\n",
              "    .dataframe thead th {\n",
              "        text-align: right;\n",
              "    }\n",
              "</style>\n",
              "<table border=\"1\" class=\"dataframe\">\n",
              "  <thead>\n",
              "    <tr style=\"text-align: right;\">\n",
              "      <th>col_0</th>\n",
              "      <th>count</th>\n",
              "    </tr>\n",
              "    <tr>\n",
              "      <th>proto</th>\n",
              "      <th></th>\n",
              "    </tr>\n",
              "  </thead>\n",
              "  <tbody>\n",
              "    <tr>\n",
              "      <th>arp</th>\n",
              "      <td>0.001409</td>\n",
              "    </tr>\n",
              "    <tr>\n",
              "      <th>ipv6-icmp</th>\n",
              "      <td>0.000128</td>\n",
              "    </tr>\n",
              "    <tr>\n",
              "      <th>tcp</th>\n",
              "      <td>0.813271</td>\n",
              "    </tr>\n",
              "    <tr>\n",
              "      <th>udp</th>\n",
              "      <td>0.185192</td>\n",
              "    </tr>\n",
              "  </tbody>\n",
              "</table>\n",
              "</div>"
            ],
            "text/plain": [
              "col_0         count\n",
              "proto              \n",
              "arp        0.001409\n",
              "ipv6-icmp  0.000128\n",
              "tcp        0.813271\n",
              "udp        0.185192"
            ]
          },
          "metadata": {
            "tags": []
          },
          "execution_count": 19
        }
      ]
    },
    {
      "cell_type": "code",
      "metadata": {
        "id": "3OwTCkZrlpPn",
        "colab": {
          "base_uri": "https://localhost:8080/",
          "height": 204
        },
        "outputId": "1016d01c-d9ff-4cc4-9007-b595b7ae54ce"
      },
      "source": [
        "#proto vs attack\n",
        "pd.crosstab(index=data['proto'],columns=data['subcategory'],normalize=True)"
      ],
      "execution_count": 20,
      "outputs": [
        {
          "output_type": "execute_result",
          "data": {
            "text/html": [
              "<div>\n",
              "<style scoped>\n",
              "    .dataframe tbody tr th:only-of-type {\n",
              "        vertical-align: middle;\n",
              "    }\n",
              "\n",
              "    .dataframe tbody tr th {\n",
              "        vertical-align: top;\n",
              "    }\n",
              "\n",
              "    .dataframe thead th {\n",
              "        text-align: right;\n",
              "    }\n",
              "</style>\n",
              "<table border=\"1\" class=\"dataframe\">\n",
              "  <thead>\n",
              "    <tr style=\"text-align: right;\">\n",
              "      <th>subcategory</th>\n",
              "      <th>0</th>\n",
              "      <th>1</th>\n",
              "      <th>2</th>\n",
              "    </tr>\n",
              "    <tr>\n",
              "      <th>proto</th>\n",
              "      <th></th>\n",
              "      <th></th>\n",
              "      <th></th>\n",
              "    </tr>\n",
              "  </thead>\n",
              "  <tbody>\n",
              "    <tr>\n",
              "      <th>arp</th>\n",
              "      <td>0.000427</td>\n",
              "      <td>0.000470</td>\n",
              "      <td>0.000512</td>\n",
              "    </tr>\n",
              "    <tr>\n",
              "      <th>ipv6-icmp</th>\n",
              "      <td>0.000128</td>\n",
              "      <td>0.000000</td>\n",
              "      <td>0.000000</td>\n",
              "    </tr>\n",
              "    <tr>\n",
              "      <th>tcp</th>\n",
              "      <td>0.000555</td>\n",
              "      <td>0.213673</td>\n",
              "      <td>0.599044</td>\n",
              "    </tr>\n",
              "    <tr>\n",
              "      <th>udp</th>\n",
              "      <td>0.003928</td>\n",
              "      <td>0.000555</td>\n",
              "      <td>0.180708</td>\n",
              "    </tr>\n",
              "  </tbody>\n",
              "</table>\n",
              "</div>"
            ],
            "text/plain": [
              "subcategory         0         1         2\n",
              "proto                                    \n",
              "arp          0.000427  0.000470  0.000512\n",
              "ipv6-icmp    0.000128  0.000000  0.000000\n",
              "tcp          0.000555  0.213673  0.599044\n",
              "udp          0.003928  0.000555  0.180708"
            ]
          },
          "metadata": {
            "tags": []
          },
          "execution_count": 20
        }
      ]
    },
    {
      "cell_type": "code",
      "metadata": {
        "id": "xAYCC6J1lpPp",
        "colab": {
          "base_uri": "https://localhost:8080/",
          "height": 302
        },
        "outputId": "a2153ca0-4511-4471-b03b-7ef7ffd6404f"
      },
      "source": [
        "#frequency distribution of attack\n",
        "sns.countplot(data['subcategory'])"
      ],
      "execution_count": 21,
      "outputs": [
        {
          "output_type": "execute_result",
          "data": {
            "text/plain": [
              "<matplotlib.axes._subplots.AxesSubplot at 0x7fc23584f750>"
            ]
          },
          "metadata": {
            "tags": []
          },
          "execution_count": 21
        },
        {
          "output_type": "display_data",
          "data": {
            "image/png": "[encoded data removed]",
            "text/plain": [
              "<Figure size 432x288 with 1 Axes>"
            ]
          },
          "metadata": {
            "tags": [],
            "needs_background": "light"
          }
        }
      ]
    },
    {
      "cell_type": "code",
      "metadata": {
        "id": "Q2mfvV7flpPq"
      },
      "source": [
        "\n",
        "data=data.drop(columns='pkSeqID')"
      ],
      "execution_count": 22,
      "outputs": []
    },
    {
      "cell_type": "code",
      "metadata": {
        "id": "w4Sl81iXlpPr"
      },
      "source": [
        "#Categorical Encoding\n",
        "data=pd.get_dummies(data)"
      ],
      "execution_count": 23,
      "outputs": []
    },
    {
      "cell_type": "code",
      "metadata": {
        "id": "I8FOBjHSlpPs",
        "colab": {
          "base_uri": "https://localhost:8080/",
          "height": 241
        },
        "outputId": "912327f6-032a-40c2-e97a-a13668ea1b00"
      },
      "source": [
        "data.head()"
      ],
      "execution_count": 24,
      "outputs": [
        {
          "output_type": "execute_result",
          "data": {
            "text/html": [
              "<div>\n",
              "<style scoped>\n",
              "    .dataframe tbody tr th:only-of-type {\n",
              "        vertical-align: middle;\n",
              "    }\n",
              "\n",
              "    .dataframe tbody tr th {\n",
              "        vertical-align: top;\n",
              "    }\n",
              "\n",
              "    .dataframe thead th {\n",
              "        text-align: right;\n",
              "    }\n",
              "</style>\n",
              "<table border=\"1\" class=\"dataframe\">\n",
              "  <thead>\n",
              "    <tr style=\"text-align: right;\">\n",
              "      <th></th>\n",
              "      <th>sport</th>\n",
              "      <th>dport</th>\n",
              "      <th>seq</th>\n",
              "      <th>stddev</th>\n",
              "      <th>N_IN_Conn_P_SrcIP</th>\n",
              "      <th>min</th>\n",
              "      <th>state_number</th>\n",
              "      <th>mean</th>\n",
              "      <th>N_IN_Conn_P_DstIP</th>\n",
              "      <th>drate</th>\n",
              "      <th>srate</th>\n",
              "      <th>max</th>\n",
              "      <th>subcategory</th>\n",
              "      <th>proto_arp</th>\n",
              "      <th>proto_ipv6-icmp</th>\n",
              "      <th>proto_tcp</th>\n",
              "      <th>proto_udp</th>\n",
              "    </tr>\n",
              "  </thead>\n",
              "  <tbody>\n",
              "    <tr>\n",
              "      <th>0</th>\n",
              "      <td>45115</td>\n",
              "      <td>3031</td>\n",
              "      <td>13913</td>\n",
              "      <td>0.0</td>\n",
              "      <td>100</td>\n",
              "      <td>0.000423</td>\n",
              "      <td>1</td>\n",
              "      <td>0.000423</td>\n",
              "      <td>100</td>\n",
              "      <td>0.000000</td>\n",
              "      <td>0.000000</td>\n",
              "      <td>0.000423</td>\n",
              "      <td>1</td>\n",
              "      <td>0</td>\n",
              "      <td>0</td>\n",
              "      <td>1</td>\n",
              "      <td>0</td>\n",
              "    </tr>\n",
              "    <tr>\n",
              "      <th>1</th>\n",
              "      <td>61890</td>\n",
              "      <td>9502</td>\n",
              "      <td>5431</td>\n",
              "      <td>0.0</td>\n",
              "      <td>98</td>\n",
              "      <td>0.000781</td>\n",
              "      <td>1</td>\n",
              "      <td>0.000781</td>\n",
              "      <td>100</td>\n",
              "      <td>0.000000</td>\n",
              "      <td>0.000000</td>\n",
              "      <td>0.000781</td>\n",
              "      <td>2</td>\n",
              "      <td>0</td>\n",
              "      <td>0</td>\n",
              "      <td>1</td>\n",
              "      <td>0</td>\n",
              "    </tr>\n",
              "    <tr>\n",
              "      <th>2</th>\n",
              "      <td>1822</td>\n",
              "      <td>916</td>\n",
              "      <td>3030</td>\n",
              "      <td>0.0</td>\n",
              "      <td>100</td>\n",
              "      <td>0.004917</td>\n",
              "      <td>1</td>\n",
              "      <td>0.004917</td>\n",
              "      <td>100</td>\n",
              "      <td>406.752075</td>\n",
              "      <td>203.376038</td>\n",
              "      <td>0.004917</td>\n",
              "      <td>2</td>\n",
              "      <td>0</td>\n",
              "      <td>0</td>\n",
              "      <td>1</td>\n",
              "      <td>0</td>\n",
              "    </tr>\n",
              "    <tr>\n",
              "      <th>3</th>\n",
              "      <td>33626</td>\n",
              "      <td>9000</td>\n",
              "      <td>4900</td>\n",
              "      <td>0.0</td>\n",
              "      <td>100</td>\n",
              "      <td>0.002834</td>\n",
              "      <td>1</td>\n",
              "      <td>0.002834</td>\n",
              "      <td>100</td>\n",
              "      <td>0.000000</td>\n",
              "      <td>0.000000</td>\n",
              "      <td>0.002834</td>\n",
              "      <td>2</td>\n",
              "      <td>0</td>\n",
              "      <td>0</td>\n",
              "      <td>1</td>\n",
              "      <td>0</td>\n",
              "    </tr>\n",
              "    <tr>\n",
              "      <th>4</th>\n",
              "      <td>1216</td>\n",
              "      <td>400</td>\n",
              "      <td>6924</td>\n",
              "      <td>0.0</td>\n",
              "      <td>100</td>\n",
              "      <td>0.005377</td>\n",
              "      <td>1</td>\n",
              "      <td>0.005377</td>\n",
              "      <td>100</td>\n",
              "      <td>185.977310</td>\n",
              "      <td>185.977310</td>\n",
              "      <td>0.005377</td>\n",
              "      <td>2</td>\n",
              "      <td>0</td>\n",
              "      <td>0</td>\n",
              "      <td>1</td>\n",
              "      <td>0</td>\n",
              "    </tr>\n",
              "  </tbody>\n",
              "</table>\n",
              "</div>"
            ],
            "text/plain": [
              "   sport  dport    seq  ...  proto_ipv6-icmp  proto_tcp  proto_udp\n",
              "0  45115   3031  13913  ...                0          1          0\n",
              "1  61890   9502   5431  ...                0          1          0\n",
              "2   1822    916   3030  ...                0          1          0\n",
              "3  33626   9000   4900  ...                0          1          0\n",
              "4   1216    400   6924  ...                0          1          0\n",
              "\n",
              "[5 rows x 17 columns]"
            ]
          },
          "metadata": {
            "tags": []
          },
          "execution_count": 24
        }
      ]
    },
    {
      "cell_type": "code",
      "metadata": {
        "id": "E8nGE2sllpPt"
      },
      "source": [
        "#Seperating the features and target variable\n",
        "y=data['subcategory']\n",
        "x=data.drop(columns='subcategory')"
      ],
      "execution_count": 25,
      "outputs": []
    },
    {
      "cell_type": "code",
      "metadata": {
        "id": "DHk1HlPdlpPu",
        "colab": {
          "base_uri": "https://localhost:8080/"
        },
        "outputId": "ef65ef46-1281-417b-b968-53835bc82ea5"
      },
      "source": [
        "data.shape"
      ],
      "execution_count": 26,
      "outputs": [
        {
          "output_type": "execute_result",
          "data": {
            "text/plain": [
              "(23419, 17)"
            ]
          },
          "metadata": {
            "tags": []
          },
          "execution_count": 26
        }
      ]
    },
    {
      "cell_type": "code",
      "metadata": {
        "id": "je19_1LdlpPv",
        "colab": {
          "base_uri": "https://localhost:8080/"
        },
        "outputId": "8c89765b-2ad4-4c90-cc31-a0b70577b975"
      },
      "source": [
        "x.shape"
      ],
      "execution_count": 27,
      "outputs": [
        {
          "output_type": "execute_result",
          "data": {
            "text/plain": [
              "(23419, 16)"
            ]
          },
          "metadata": {
            "tags": []
          },
          "execution_count": 27
        }
      ]
    },
    {
      "cell_type": "markdown",
      "metadata": {
        "id": "U67hIzqwlpPw"
      },
      "source": [
        "#"
      ]
    },
    {
      "cell_type": "code",
      "metadata": {
        "id": "c4763hE7lpPw"
      },
      "source": [
        "#Balancing the target variable\n",
        "from imblearn.combine import SMOTETomek\n",
        "smk = SMOTETomek(random_state = 0)\n",
        "x, y = smk.fit_sample(x,y)"
      ],
      "execution_count": 28,
      "outputs": []
    },
    {
      "cell_type": "code",
      "metadata": {
        "id": "tv_7X_u9lpPx",
        "colab": {
          "base_uri": "https://localhost:8080/"
        },
        "outputId": "41e1bee5-a24e-426c-c619-2d83231f542e"
      },
      "source": [
        "x.shape"
      ],
      "execution_count": 29,
      "outputs": [
        {
          "output_type": "execute_result",
          "data": {
            "text/plain": [
              "(54709, 16)"
            ]
          },
          "metadata": {
            "tags": []
          },
          "execution_count": 29
        }
      ]
    },
    {
      "cell_type": "code",
      "metadata": {
        "id": "h5hI6pVxlpPy",
        "colab": {
          "base_uri": "https://localhost:8080/",
          "height": 285
        },
        "outputId": "5a161023-935f-4187-c75e-379e94a701d2"
      },
      "source": [
        "sns.countplot(y)"
      ],
      "execution_count": 30,
      "outputs": [
        {
          "output_type": "execute_result",
          "data": {
            "text/plain": [
              "<matplotlib.axes._subplots.AxesSubplot at 0x7fc22e64b8d0>"
            ]
          },
          "metadata": {
            "tags": []
          },
          "execution_count": 30
        },
        {
          "output_type": "display_data",
          "data": {
            "image/png": "[encoded data removed]",
            "text/plain": [
              "<Figure size 432x288 with 1 Axes>"
            ]
          },
          "metadata": {
            "tags": [],
            "needs_background": "light"
          }
        }
      ]
    },
    {
      "cell_type": "code",
      "metadata": {
        "id": "1l6uLP2blpPz"
      },
      "source": [
        "#Spliting dataset into Train and Test set \n",
        "from sklearn.model_selection import train_test_split\n",
        "x_train,x_test,y_train,y_test = train_test_split(x,y,test_size = 0.3, random_state = 0)"
      ],
      "execution_count": 31,
      "outputs": []
    },
    {
      "cell_type": "code",
      "metadata": {
        "id": "2siOzdMAlpP0"
      },
      "source": [
        "#Feature Scaling\n",
        "from sklearn.preprocessing import StandardScaler\n",
        "sc = StandardScaler()\n",
        "x_train = sc.fit_transform(x_train)\n",
        "x_test = sc.transform(x_test)"
      ],
      "execution_count": 32,
      "outputs": []
    },
    {
      "cell_type": "code",
      "metadata": {
        "id": "a85T98ZglpP1",
        "colab": {
          "base_uri": "https://localhost:8080/"
        },
        "outputId": "76b25ba7-03a9-4d88-e3cf-7c30371dd0d7"
      },
      "source": [
        "from sklearn.ensemble import RandomForestClassifier\n",
        "from sklearn.model_selection import cross_val_score\n",
        "clf=RandomForestClassifier()\n",
        "clf.fit(x_train,y_train)"
      ],
      "execution_count": 33,
      "outputs": [
        {
          "output_type": "execute_result",
          "data": {
            "text/plain": [
              "RandomForestClassifier(bootstrap=True, ccp_alpha=0.0, class_weight=None,\n",
              "                       criterion='gini', max_depth=None, max_features='auto',\n",
              "                       max_leaf_nodes=None, max_samples=None,\n",
              "                       min_impurity_decrease=0.0, min_impurity_split=None,\n",
              "                       min_samples_leaf=1, min_samples_split=2,\n",
              "                       min_weight_fraction_leaf=0.0, n_estimators=100,\n",
              "                       n_jobs=None, oob_score=False, random_state=None,\n",
              "                       verbose=0, warm_start=False)"
            ]
          },
          "metadata": {
            "tags": []
          },
          "execution_count": 33
        }
      ]
    },
    {
      "cell_type": "code",
      "metadata": {
        "id": "ISiGwLnilpP2",
        "colab": {
          "base_uri": "https://localhost:8080/"
        },
        "outputId": "509dc52e-cffc-466e-bde7-18c1b1d33d3e"
      },
      "source": [
        "#Checking the accuracy of model\n",
        "from sklearn.metrics import accuracy_score\n",
        "y_pred=clf.predict(x_test)\n",
        "accuracy = accuracy_score(y_test, y_pred)\n",
        "print(\" Testing Accuracy: %.2f%%\" % (accuracy * 100.0))\n",
        "scores = cross_val_score(clf, x_train, y_train, cv=10)\n",
        "print(\"Cross Validation Accuracy: %.2f%% \" % (scores.mean()*100))"
      ],
      "execution_count": 35,
      "outputs": [
        {
          "output_type": "stream",
          "text": [
            " Testing Accuracy: 99.80%\n",
            "Cross Validation Accuracy: 99.81% \n"
          ],
          "name": "stdout"
        }
      ]
    },
    {
      "cell_type": "code",
      "metadata": {
        "id": "tBaqWmDwlpP3",
        "colab": {
          "base_uri": "https://localhost:8080/",
          "height": 318
        },
        "outputId": "1f55bfe4-d13a-4af5-d03b-e7462264025b"
      },
      "source": [
        "#confusion matrix\n",
        "from sklearn.metrics import confusion_matrix\n",
        "con = confusion_matrix(y_test,y_pred)\n",
        "import seaborn as sns\n",
        "import matplotlib.pyplot as plt\n",
        "axes = sns.heatmap(con, square=True,annot=True,fmt='d',cbar = True, cmap = plt.cm.GnBu)\n",
        "ax = plt.axes()\n",
        "plt.xlabel('Predicted Values')\n",
        "plt.ylabel('Actual values')\n",
        "ax.set_title('Random Forest Classifier')"
      ],
      "execution_count": 36,
      "outputs": [
        {
          "output_type": "execute_result",
          "data": {
            "text/plain": [
              "Text(0.5, 1.0, 'Random Forest Classifier')"
            ]
          },
          "metadata": {
            "tags": []
          },
          "execution_count": 36
        },
        {
          "output_type": "display_data",
          "data": {
            "image/png": "[encoded data removed]",
            "text/plain": [
              "<Figure size 432x288 with 2 Axes>"
            ]
          },
          "metadata": {
            "tags": [],
            "needs_background": "light"
          }
        }
      ]
    },
    {
      "cell_type": "code",
      "metadata": {
        "id": "2TRHh6o_lpP5",
        "colab": {
          "base_uri": "https://localhost:8080/"
        },
        "outputId": "8c8893b7-a10c-4ca4-8e3f-fd8beb453be9"
      },
      "source": [
        "from sklearn.metrics import classification_report\n",
        "print('Random Forest Classifier')\n",
        "print(classification_report(y_test, y_pred))"
      ],
      "execution_count": 37,
      "outputs": [
        {
          "output_type": "stream",
          "text": [
            "Random Forest Classifier\n",
            "              precision    recall  f1-score   support\n",
            "\n",
            "           0       1.00      1.00      1.00      5509\n",
            "           1       1.00      1.00      1.00      5482\n",
            "           2       1.00      1.00      1.00      5422\n",
            "\n",
            "    accuracy                           1.00     16413\n",
            "   macro avg       1.00      1.00      1.00     16413\n",
            "weighted avg       1.00      1.00      1.00     16413\n",
            "\n"
          ],
          "name": "stdout"
        }
      ]
    },
    {
      "cell_type": "code",
      "metadata": {
        "id": "KAWY4dIKlpP6"
      },
      "source": [
        "#from sklearn.metrics import roc_auc_score\n",
        "#roc_auc_score(y_test,y_pred)"
      ],
      "execution_count": null,
      "outputs": []
    },
    {
      "cell_type": "code",
      "metadata": {
        "id": "WUDw4bEhlpP7",
        "colab": {
          "base_uri": "https://localhost:8080/",
          "height": 899
        },
        "outputId": "de5b6f7b-e18c-412a-f086-009202c414c7"
      },
      "source": [
        "#from sklearn.model_selection import learning_curve\n",
        "from sklearn.model_selection import learning_curve\n",
        "from sklearn.model_selection import ShuffleSplit\n",
        "\n",
        "def plot_learning_curve(estimator, title, x, y, axes=None, ylim=None, cv=None,\n",
        "                        n_jobs=None, train_sizes=np.linspace(.1, 1.0, 5)):\n",
        "   \n",
        "    if axes is None:\n",
        "        _, axes = plt.subplots(1, 1, figsize=(20, 5))\n",
        "\n",
        "    axes[0].set_title(title)\n",
        "    if ylim is not None:\n",
        "        axes[0].set_ylim(*ylim)\n",
        "    axes[0].set_xlabel(\"Training examples\")\n",
        "    axes[0].set_ylabel(\"Score\")\n",
        "\n",
        "    train_sizes, train_scores, test_scores, fit_times, _ = \\\n",
        "        learning_curve(estimator, x, y, cv=cv, n_jobs=n_jobs,\n",
        "                       train_sizes=train_sizes,\n",
        "                       return_times=True)\n",
        "    train_scores_mean = np.mean(train_scores, axis=1)\n",
        "    train_scores_std = np.std(train_scores, axis=1)\n",
        "    test_scores_mean = np.mean(test_scores, axis=1)\n",
        "    test_scores_std = np.std(test_scores, axis=1)\n",
        "    fit_times_mean = np.mean(fit_times, axis=1)\n",
        "    fit_times_std = np.std(fit_times, axis=1)\n",
        "\n",
        "    # Plot learning curve\n",
        "    axes[0].grid()\n",
        "    axes[0].fill_between(train_sizes, train_scores_mean - train_scores_std,\n",
        "                         train_scores_mean + train_scores_std, alpha=0.1,\n",
        "                         color=\"r\")\n",
        "    axes[0].fill_between(train_sizes, test_scores_mean - test_scores_std,\n",
        "                         test_scores_mean + test_scores_std, alpha=0.1,\n",
        "                         color=\"g\")\n",
        "    axes[0].plot(train_sizes, train_scores_mean, 'o-', color=\"r\",\n",
        "                 label=\"Training score\")\n",
        "    axes[0].plot(train_sizes, test_scores_mean, 'o-', color=\"g\",\n",
        "                 label=\"Cross-validation score\")\n",
        "    axes[0].legend(loc=\"best\")\n",
        "\n",
        "    # Plot n_samples vs fit_times\n",
        "    axes[1].grid()\n",
        "    axes[1].plot(train_sizes, fit_times_mean, 'o-')\n",
        "    axes[1].fill_between(train_sizes, fit_times_mean - fit_times_std,\n",
        "                         fit_times_mean + fit_times_std, alpha=0.1)\n",
        "    axes[1].set_xlabel(\"Training examples\")\n",
        "    axes[1].set_ylabel(\"fit_times\")\n",
        "    axes[1].set_title(\"Scalability of the model\")\n",
        "\n",
        "    # Plot fit_time vs score\n",
        "    axes[2].grid()\n",
        "    axes[2].plot(fit_times_mean, test_scores_mean, 'o-')\n",
        "    axes[2].fill_between(fit_times_mean, test_scores_mean - test_scores_std,\n",
        "                         test_scores_mean + test_scores_std, alpha=0.1)\n",
        "    axes[2].set_xlabel(\"fit_times\")\n",
        "    axes[2].set_ylabel(\"Score\")\n",
        "    axes[2].set_title(\"Performance of the model\")\n",
        "\n",
        "\n",
        "fig, axes = plt.subplots(3, 1, figsize=(10, 15))\n",
        "\n",
        "title = \"Learning Curves (Random Forest Classifier)\"\n",
        "# Cross validation with 10 iterations to get smoother mean test and train\n",
        "# score curves, each time with 20% data randomly selected as a validation set.\n",
        "cv = ShuffleSplit(n_splits=10, test_size=0.2, random_state=0)\n",
        "\n",
        "estimator = RandomForestClassifier()\n",
        "plot_learning_curve(estimator, title, x, y,axes=axes[:,], cv=cv, ylim=(0.7, 1.01), n_jobs=4)\n",
        "\n",
        "plt.show()"
      ],
      "execution_count": 38,
      "outputs": [
        {
          "output_type": "display_data",
          "data": {
            "image/png": "[encoded data removed]",
            "text/plain": [
              "<Figure size 720x1080 with 3 Axes>"
            ]
          },
          "metadata": {
            "tags": [],
            "needs_background": "light"
          }
        }
      ]
    },
    {
      "cell_type": "code",
      "metadata": {
        "id": "qIe4sjtdlpQA"
      },
      "source": [
        ""
      ],
      "execution_count": null,
      "outputs": []
    }
  ]
}