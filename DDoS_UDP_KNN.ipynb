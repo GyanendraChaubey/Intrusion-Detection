{
 "cells": [
  {
   "cell_type": "code",
   "execution_count": 1,
   "metadata": {},
   "outputs": [
    {
     "name": "stderr",
     "output_type": "stream",
     "text": [
      "C:\\Users\\Dell\\Anaconda3\\lib\\site-packages\\statsmodels\\tools\\_testing.py:19: FutureWarning: pandas.util.testing is deprecated. Use the functions in the public API at pandas.testing instead.\n",
      "  import pandas.util.testing as tm\n"
     ]
    }
   ],
   "source": [
    "#Importing the necessary libraries\n",
    "import numpy as np\n",
    "import pandas as pd\n",
    "import lux\n",
    "import matplotlib.pyplot as plt\n",
    "import seaborn as sns\n",
    "sns.set()\n",
    "import warnings\n",
    "warnings.filterwarnings('ignore')\n",
    "import pandas.util.testing as tm"
   ]
  },
  {
   "cell_type": "code",
   "execution_count": 2,
   "metadata": {},
   "outputs": [],
   "source": [
    "#Read the data\n",
    "data=pd.read_csv(\"D:\\\\Machine Learning\\\\Research Work\\\\IoT intrusion detection\\\\BOT IOT Dataset\\\\Training and Test Dataset\\\\DDOS_UDP_sample.csv\")"
   ]
  },
  {
   "cell_type": "code",
   "execution_count": 3,
   "metadata": {},
   "outputs": [],
   "source": [
    "#Making a copy of data\n",
    "data=data.copy()"
   ]
  },
  {
   "cell_type": "markdown",
   "metadata": {},
   "source": [
    "#Feature Engineering"
   ]
  },
  {
   "cell_type": "markdown",
   "metadata": {},
   "source": [
    "1. Understanding Data"
   ]
  },
  {
   "cell_type": "code",
   "execution_count": 4,
   "metadata": {},
   "outputs": [
    {
     "name": "stdout",
     "output_type": "stream",
     "text": [
      "pkSeqID              0\n",
      "proto                0\n",
      "saddr                0\n",
      "sport                0\n",
      "daddr                0\n",
      "dport                0\n",
      "seq                  0\n",
      "stddev               0\n",
      "N_IN_Conn_P_SrcIP    0\n",
      "min                  0\n",
      "state_number         0\n",
      "mean                 0\n",
      "N_IN_Conn_P_DstIP    0\n",
      "drate                0\n",
      "srate                0\n",
      "max                  0\n",
      "attack               0\n",
      "category             0\n",
      "subcategory          0\n",
      "dtype: int64\n"
     ]
    },
    {
     "data": {
      "text/plain": []
     },
     "execution_count": 4,
     "metadata": {},
     "output_type": "execute_result"
    }
   ],
   "source": [
    "#checking the missing values\n",
    "data.isnull().sum()"
   ]
  },
  {
   "cell_type": "code",
   "execution_count": 5,
   "metadata": {},
   "outputs": [
    {
     "name": "stdout",
     "output_type": "stream",
     "text": [
      "<class 'lux.core.frame.LuxDataFrame'>\n",
      "RangeIndex: 1117 entries, 0 to 1116\n",
      "Data columns (total 19 columns):\n",
      " #   Column             Non-Null Count  Dtype  \n",
      "---  ------             --------------  -----  \n",
      " 0   pkSeqID            1117 non-null   int64  \n",
      " 1   proto              1117 non-null   object \n",
      " 2   saddr              1117 non-null   object \n",
      " 3   sport              1117 non-null   int64  \n",
      " 4   daddr              1117 non-null   object \n",
      " 5   dport              1117 non-null   int64  \n",
      " 6   seq                1117 non-null   int64  \n",
      " 7   stddev             1117 non-null   float64\n",
      " 8   N_IN_Conn_P_SrcIP  1117 non-null   int64  \n",
      " 9   min                1117 non-null   float64\n",
      " 10  state_number       1117 non-null   int64  \n",
      " 11  mean               1117 non-null   float64\n",
      " 12  N_IN_Conn_P_DstIP  1117 non-null   int64  \n",
      " 13  drate              1117 non-null   float64\n",
      " 14  srate              1117 non-null   float64\n",
      " 15  max                1117 non-null   float64\n",
      " 16  attack             1117 non-null   int64  \n",
      " 17  category           1117 non-null   object \n",
      " 18  subcategory        1117 non-null   object \n",
      "dtypes: float64(6), int64(8), object(5)\n",
      "memory usage: 165.9+ KB\n"
     ]
    }
   ],
   "source": [
    "data.info()"
   ]
  },
  {
   "cell_type": "code",
   "execution_count": 6,
   "metadata": {},
   "outputs": [
    {
     "data": {
      "text/html": [
       "<div>\n",
       "<style scoped>\n",
       "    .dataframe tbody tr th:only-of-type {\n",
       "        vertical-align: middle;\n",
       "    }\n",
       "\n",
       "    .dataframe tbody tr th {\n",
       "        vertical-align: top;\n",
       "    }\n",
       "\n",
       "    .dataframe thead th {\n",
       "        text-align: right;\n",
       "    }\n",
       "</style>\n",
       "<table border=\"1\" class=\"dataframe\">\n",
       "  <thead>\n",
       "    <tr style=\"text-align: right;\">\n",
       "      <th></th>\n",
       "      <th>pkSeqID</th>\n",
       "      <th>proto</th>\n",
       "      <th>saddr</th>\n",
       "      <th>sport</th>\n",
       "      <th>daddr</th>\n",
       "      <th>dport</th>\n",
       "      <th>seq</th>\n",
       "      <th>stddev</th>\n",
       "      <th>N_IN_Conn_P_SrcIP</th>\n",
       "      <th>min</th>\n",
       "      <th>state_number</th>\n",
       "      <th>mean</th>\n",
       "      <th>N_IN_Conn_P_DstIP</th>\n",
       "      <th>drate</th>\n",
       "      <th>srate</th>\n",
       "      <th>max</th>\n",
       "      <th>attack</th>\n",
       "      <th>category</th>\n",
       "      <th>subcategory</th>\n",
       "    </tr>\n",
       "  </thead>\n",
       "  <tbody>\n",
       "    <tr>\n",
       "      <th>0</th>\n",
       "      <td>3142762</td>\n",
       "      <td>udp</td>\n",
       "      <td>192.168.100.150</td>\n",
       "      <td>6551</td>\n",
       "      <td>192.168.100.3</td>\n",
       "      <td>80</td>\n",
       "      <td>251984</td>\n",
       "      <td>1.900363</td>\n",
       "      <td>100</td>\n",
       "      <td>0.000000</td>\n",
       "      <td>4</td>\n",
       "      <td>2.687519</td>\n",
       "      <td>100</td>\n",
       "      <td>0.0</td>\n",
       "      <td>0.494549</td>\n",
       "      <td>4.031619</td>\n",
       "      <td>1</td>\n",
       "      <td>DDoS</td>\n",
       "      <td>UDP</td>\n",
       "    </tr>\n",
       "    <tr>\n",
       "      <th>1</th>\n",
       "      <td>3257991</td>\n",
       "      <td>udp</td>\n",
       "      <td>192.168.100.147</td>\n",
       "      <td>22461</td>\n",
       "      <td>192.168.100.3</td>\n",
       "      <td>80</td>\n",
       "      <td>105063</td>\n",
       "      <td>0.822418</td>\n",
       "      <td>100</td>\n",
       "      <td>2.979995</td>\n",
       "      <td>4</td>\n",
       "      <td>3.983222</td>\n",
       "      <td>100</td>\n",
       "      <td>0.0</td>\n",
       "      <td>1.002999</td>\n",
       "      <td>4.994452</td>\n",
       "      <td>1</td>\n",
       "      <td>DDoS</td>\n",
       "      <td>UDP</td>\n",
       "    </tr>\n",
       "    <tr>\n",
       "      <th>2</th>\n",
       "      <td>3406860</td>\n",
       "      <td>udp</td>\n",
       "      <td>192.168.100.150</td>\n",
       "      <td>31712</td>\n",
       "      <td>192.168.100.3</td>\n",
       "      <td>80</td>\n",
       "      <td>253932</td>\n",
       "      <td>1.928021</td>\n",
       "      <td>100</td>\n",
       "      <td>0.000000</td>\n",
       "      <td>4</td>\n",
       "      <td>2.726619</td>\n",
       "      <td>100</td>\n",
       "      <td>0.0</td>\n",
       "      <td>0.490708</td>\n",
       "      <td>4.097849</td>\n",
       "      <td>1</td>\n",
       "      <td>DDoS</td>\n",
       "      <td>UDP</td>\n",
       "    </tr>\n",
       "    <tr>\n",
       "      <th>3</th>\n",
       "      <td>2748123</td>\n",
       "      <td>udp</td>\n",
       "      <td>192.168.100.148</td>\n",
       "      <td>40439</td>\n",
       "      <td>192.168.100.3</td>\n",
       "      <td>80</td>\n",
       "      <td>119506</td>\n",
       "      <td>0.859362</td>\n",
       "      <td>100</td>\n",
       "      <td>2.756653</td>\n",
       "      <td>4</td>\n",
       "      <td>3.907695</td>\n",
       "      <td>100</td>\n",
       "      <td>0.0</td>\n",
       "      <td>0.621363</td>\n",
       "      <td>4.820975</td>\n",
       "      <td>1</td>\n",
       "      <td>DDoS</td>\n",
       "      <td>UDP</td>\n",
       "    </tr>\n",
       "    <tr>\n",
       "      <th>4</th>\n",
       "      <td>3456380</td>\n",
       "      <td>udp</td>\n",
       "      <td>192.168.100.148</td>\n",
       "      <td>41921</td>\n",
       "      <td>192.168.100.3</td>\n",
       "      <td>80</td>\n",
       "      <td>41299</td>\n",
       "      <td>0.649773</td>\n",
       "      <td>29</td>\n",
       "      <td>2.744750</td>\n",
       "      <td>4</td>\n",
       "      <td>3.663178</td>\n",
       "      <td>100</td>\n",
       "      <td>0.0</td>\n",
       "      <td>0.729789</td>\n",
       "      <td>4.148325</td>\n",
       "      <td>1</td>\n",
       "      <td>DDoS</td>\n",
       "      <td>UDP</td>\n",
       "    </tr>\n",
       "  </tbody>\n",
       "</table>\n",
       "</div>"
      ],
      "text/plain": [
       "   pkSeqID proto            saddr  sport          daddr  dport     seq  \\\n",
       "0  3142762   udp  192.168.100.150   6551  192.168.100.3     80  251984   \n",
       "1  3257991   udp  192.168.100.147  22461  192.168.100.3     80  105063   \n",
       "2  3406860   udp  192.168.100.150  31712  192.168.100.3     80  253932   \n",
       "3  2748123   udp  192.168.100.148  40439  192.168.100.3     80  119506   \n",
       "4  3456380   udp  192.168.100.148  41921  192.168.100.3     80   41299   \n",
       "\n",
       "     stddev  N_IN_Conn_P_SrcIP       min  state_number      mean  \\\n",
       "0  1.900363                100  0.000000             4  2.687519   \n",
       "1  0.822418                100  2.979995             4  3.983222   \n",
       "2  1.928021                100  0.000000             4  2.726619   \n",
       "3  0.859362                100  2.756653             4  3.907695   \n",
       "4  0.649773                 29  2.744750             4  3.663178   \n",
       "\n",
       "   N_IN_Conn_P_DstIP  drate     srate       max  attack category subcategory  \n",
       "0                100    0.0  0.494549  4.031619       1     DDoS         UDP  \n",
       "1                100    0.0  1.002999  4.994452       1     DDoS         UDP  \n",
       "2                100    0.0  0.490708  4.097849       1     DDoS         UDP  \n",
       "3                100    0.0  0.621363  4.820975       1     DDoS         UDP  \n",
       "4                100    0.0  0.729789  4.148325       1     DDoS         UDP  "
      ]
     },
     "metadata": {},
     "output_type": "display_data"
    },
    {
     "data": {
      "text/plain": []
     },
     "execution_count": 6,
     "metadata": {},
     "output_type": "execute_result"
    }
   ],
   "source": [
    "data.head()"
   ]
  },
  {
   "cell_type": "code",
   "execution_count": 7,
   "metadata": {},
   "outputs": [
    {
     "data": {
      "text/plain": [
       "array(['udp', 'tcp', 'arp', 'ipv6-icmp'], dtype=object)"
      ]
     },
     "execution_count": 7,
     "metadata": {},
     "output_type": "execute_result"
    }
   ],
   "source": [
    "data['proto'].unique()"
   ]
  },
  {
   "cell_type": "code",
   "execution_count": 8,
   "metadata": {},
   "outputs": [
    {
     "data": {
      "text/plain": [
       "array(['192.168.100.150', '192.168.100.147', '192.168.100.148',\n",
       "       '192.168.100.149', '192.168.100.5', '192.168.100.3',\n",
       "       '192.168.100.27', 'fe80::250:56ff:febe:254',\n",
       "       'fe80::250:56ff:febe:e9d9', '192.168.100.46',\n",
       "       'fe80::250:56ff:febe:26db', '192.168.100.1', '192.168.100.6',\n",
       "       'fe80::250:56ff:febe:89ee', '192.168.100.4', '192.168.100.7'],\n",
       "      dtype=object)"
      ]
     },
     "execution_count": 8,
     "metadata": {},
     "output_type": "execute_result"
    }
   ],
   "source": [
    "data['saddr'].unique()"
   ]
  },
  {
   "cell_type": "code",
   "execution_count": 9,
   "metadata": {},
   "outputs": [
    {
     "data": {
      "text/plain": [
       "array(['192.168.100.3', '192.168.217.2', '192.168.100.55',\n",
       "       '255.255.255.255', '96.7.49.66', '205.251.197.206',\n",
       "       '192.168.100.1', '205.251.194.201', '224.0.0.251',\n",
       "       '205.251.196.32', '52.201.147.106', '192.5.5.241', '192.55.83.30',\n",
       "       '192.31.80.30', '8.8.8.8', '13.55.154.73', 'ff02::2',\n",
       "       '192.41.162.30', '129.250.35.250', 'ff02::fb', '27.124.125.250',\n",
       "       '199.19.56.1', '192.168.100.5', '192.33.14.30', '205.251.199.148',\n",
       "       '192.58.128.30', '192.12.94.30', '205.251.196.160',\n",
       "       '205.251.199.194', '192.36.148.17', '184.85.248.65', '192.33.4.12',\n",
       "       '52.11.124.117', '192.168.100.255', '192.54.112.30', 'ff02::1',\n",
       "       '172.217.25.170', '205.251.194.102', '192.112.36.4',\n",
       "       '192.168.100.7', '205.251.194.86', '192.168.100.27',\n",
       "       '192.52.178.30', '205.251.195.59', '52.35.35.13'], dtype=object)"
      ]
     },
     "execution_count": 9,
     "metadata": {},
     "output_type": "execute_result"
    }
   ],
   "source": [
    "data['daddr'].unique()"
   ]
  },
  {
   "cell_type": "code",
   "execution_count": 10,
   "metadata": {},
   "outputs": [
    {
     "data": {
      "application/vnd.jupyter.widget-view+json": {
       "model_id": "cf56fc44817e4fc0b4ba0cffdd3917c8",
       "version_major": 2,
       "version_minor": 0
      },
      "text/plain": [
       "Button(description='Toggle Pandas/Lux', layout=Layout(top='5px', width='140px'), style=ButtonStyle())"
      ]
     },
     "metadata": {},
     "output_type": "display_data"
    },
    {
     "data": {
      "application/vnd.jupyter.widget-view+json": {
       "model_id": "9bc4a15d4a5c4c46aa6f3a3fd15eefeb",
       "version_major": 2,
       "version_minor": 0
      },
      "text/plain": [
       "Output()"
      ]
     },
     "metadata": {},
     "output_type": "display_data"
    },
    {
     "data": {
      "text/plain": []
     },
     "execution_count": 10,
     "metadata": {},
     "output_type": "execute_result"
    }
   ],
   "source": [
    "data.describe()"
   ]
  },
  {
   "cell_type": "code",
   "execution_count": 11,
   "metadata": {},
   "outputs": [],
   "source": [
    "#Removing the unwanted coloumns\n",
    "col=['saddr','daddr','category','subcategory']\n",
    "data=data.drop(columns=col,axis=1)"
   ]
  },
  {
   "cell_type": "code",
   "execution_count": 12,
   "metadata": {},
   "outputs": [],
   "source": [
    "#Removing the dublicate values\n",
    "data.drop_duplicates(keep='first',inplace=True)"
   ]
  },
  {
   "cell_type": "markdown",
   "metadata": {},
   "source": [
    "2. Exploratory Data Analysis"
   ]
  },
  {
   "cell_type": "code",
   "execution_count": 13,
   "metadata": {},
   "outputs": [
    {
     "data": {
      "text/html": [
       "<div>\n",
       "<style scoped>\n",
       "    .dataframe tbody tr th:only-of-type {\n",
       "        vertical-align: middle;\n",
       "    }\n",
       "\n",
       "    .dataframe tbody tr th {\n",
       "        vertical-align: top;\n",
       "    }\n",
       "\n",
       "    .dataframe thead th {\n",
       "        text-align: right;\n",
       "    }\n",
       "</style>\n",
       "<table border=\"1\" class=\"dataframe\">\n",
       "  <thead>\n",
       "    <tr style=\"text-align: right;\">\n",
       "      <th></th>\n",
       "      <th>pkSeqID</th>\n",
       "      <th>proto</th>\n",
       "      <th>sport</th>\n",
       "      <th>dport</th>\n",
       "      <th>seq</th>\n",
       "      <th>stddev</th>\n",
       "      <th>N_IN_Conn_P_SrcIP</th>\n",
       "      <th>min</th>\n",
       "      <th>state_number</th>\n",
       "      <th>mean</th>\n",
       "      <th>N_IN_Conn_P_DstIP</th>\n",
       "      <th>drate</th>\n",
       "      <th>srate</th>\n",
       "      <th>max</th>\n",
       "      <th>attack</th>\n",
       "    </tr>\n",
       "  </thead>\n",
       "  <tbody>\n",
       "    <tr>\n",
       "      <th>0</th>\n",
       "      <td>3142762</td>\n",
       "      <td>udp</td>\n",
       "      <td>6551</td>\n",
       "      <td>80</td>\n",
       "      <td>251984</td>\n",
       "      <td>1.900363</td>\n",
       "      <td>100</td>\n",
       "      <td>0.000000</td>\n",
       "      <td>4</td>\n",
       "      <td>2.687519</td>\n",
       "      <td>100</td>\n",
       "      <td>0.0</td>\n",
       "      <td>0.494549</td>\n",
       "      <td>4.031619</td>\n",
       "      <td>1</td>\n",
       "    </tr>\n",
       "    <tr>\n",
       "      <th>1</th>\n",
       "      <td>3257991</td>\n",
       "      <td>udp</td>\n",
       "      <td>22461</td>\n",
       "      <td>80</td>\n",
       "      <td>105063</td>\n",
       "      <td>0.822418</td>\n",
       "      <td>100</td>\n",
       "      <td>2.979995</td>\n",
       "      <td>4</td>\n",
       "      <td>3.983222</td>\n",
       "      <td>100</td>\n",
       "      <td>0.0</td>\n",
       "      <td>1.002999</td>\n",
       "      <td>4.994452</td>\n",
       "      <td>1</td>\n",
       "    </tr>\n",
       "    <tr>\n",
       "      <th>2</th>\n",
       "      <td>3406860</td>\n",
       "      <td>udp</td>\n",
       "      <td>31712</td>\n",
       "      <td>80</td>\n",
       "      <td>253932</td>\n",
       "      <td>1.928021</td>\n",
       "      <td>100</td>\n",
       "      <td>0.000000</td>\n",
       "      <td>4</td>\n",
       "      <td>2.726619</td>\n",
       "      <td>100</td>\n",
       "      <td>0.0</td>\n",
       "      <td>0.490708</td>\n",
       "      <td>4.097849</td>\n",
       "      <td>1</td>\n",
       "    </tr>\n",
       "    <tr>\n",
       "      <th>3</th>\n",
       "      <td>2748123</td>\n",
       "      <td>udp</td>\n",
       "      <td>40439</td>\n",
       "      <td>80</td>\n",
       "      <td>119506</td>\n",
       "      <td>0.859362</td>\n",
       "      <td>100</td>\n",
       "      <td>2.756653</td>\n",
       "      <td>4</td>\n",
       "      <td>3.907695</td>\n",
       "      <td>100</td>\n",
       "      <td>0.0</td>\n",
       "      <td>0.621363</td>\n",
       "      <td>4.820975</td>\n",
       "      <td>1</td>\n",
       "    </tr>\n",
       "    <tr>\n",
       "      <th>4</th>\n",
       "      <td>3456380</td>\n",
       "      <td>udp</td>\n",
       "      <td>41921</td>\n",
       "      <td>80</td>\n",
       "      <td>41299</td>\n",
       "      <td>0.649773</td>\n",
       "      <td>29</td>\n",
       "      <td>2.744750</td>\n",
       "      <td>4</td>\n",
       "      <td>3.663178</td>\n",
       "      <td>100</td>\n",
       "      <td>0.0</td>\n",
       "      <td>0.729789</td>\n",
       "      <td>4.148325</td>\n",
       "      <td>1</td>\n",
       "    </tr>\n",
       "  </tbody>\n",
       "</table>\n",
       "</div>"
      ],
      "text/plain": [
       "   pkSeqID proto  sport  dport     seq    stddev  N_IN_Conn_P_SrcIP       min  \\\n",
       "0  3142762   udp   6551     80  251984  1.900363                100  0.000000   \n",
       "1  3257991   udp  22461     80  105063  0.822418                100  2.979995   \n",
       "2  3406860   udp  31712     80  253932  1.928021                100  0.000000   \n",
       "3  2748123   udp  40439     80  119506  0.859362                100  2.756653   \n",
       "4  3456380   udp  41921     80   41299  0.649773                 29  2.744750   \n",
       "\n",
       "   state_number      mean  N_IN_Conn_P_DstIP  drate     srate       max  \\\n",
       "0             4  2.687519                100    0.0  0.494549  4.031619   \n",
       "1             4  3.983222                100    0.0  1.002999  4.994452   \n",
       "2             4  2.726619                100    0.0  0.490708  4.097849   \n",
       "3             4  3.907695                100    0.0  0.621363  4.820975   \n",
       "4             4  3.663178                100    0.0  0.729789  4.148325   \n",
       "\n",
       "   attack  \n",
       "0       1  \n",
       "1       1  \n",
       "2       1  \n",
       "3       1  \n",
       "4       1  "
      ]
     },
     "metadata": {},
     "output_type": "display_data"
    },
    {
     "data": {
      "text/plain": []
     },
     "execution_count": 13,
     "metadata": {},
     "output_type": "execute_result"
    }
   ],
   "source": [
    "data.head()"
   ]
  },
  {
   "cell_type": "code",
   "execution_count": 14,
   "metadata": {},
   "outputs": [
    {
     "name": "stdout",
     "output_type": "stream",
     "text": [
      "udp          1091\n",
      "tcp            13\n",
      "arp            10\n",
      "ipv6-icmp       3\n",
      "dtype: int64\n"
     ]
    },
    {
     "data": {
      "text/plain": []
     },
     "execution_count": 14,
     "metadata": {},
     "output_type": "execute_result"
    }
   ],
   "source": [
    "#Frequency of each category\n",
    "data['proto'].value_counts()"
   ]
  },
  {
   "cell_type": "code",
   "execution_count": 15,
   "metadata": {},
   "outputs": [
    {
     "data": {
      "application/vnd.jupyter.widget-view+json": {
       "model_id": "80710511b13e4e7bbd16a2833713589b",
       "version_major": 2,
       "version_minor": 0
      },
      "text/plain": [
       "Button(description='Toggle Pandas/Lux', layout=Layout(top='5px', width='140px'), style=ButtonStyle())"
      ]
     },
     "metadata": {},
     "output_type": "display_data"
    },
    {
     "data": {
      "application/vnd.jupyter.widget-view+json": {
       "model_id": "9db5a49d5e4c4f918f64c9d39ecfc090",
       "version_major": 2,
       "version_minor": 0
      },
      "text/plain": [
       "Output()"
      ]
     },
     "metadata": {},
     "output_type": "display_data"
    },
    {
     "data": {
      "text/plain": []
     },
     "execution_count": 15,
     "metadata": {},
     "output_type": "execute_result"
    }
   ],
   "source": [
    "#relationship between the independent variables\n",
    "data.corr()"
   ]
  },
  {
   "cell_type": "code",
   "execution_count": 16,
   "metadata": {},
   "outputs": [
    {
     "data": {
      "text/plain": [
       "Index(['pkSeqID', 'proto', 'sport', 'dport', 'seq', 'stddev',\n",
       "       'N_IN_Conn_P_SrcIP', 'min', 'state_number', 'mean', 'N_IN_Conn_P_DstIP',\n",
       "       'drate', 'srate', 'max', 'attack'],\n",
       "      dtype='object')"
      ]
     },
     "execution_count": 16,
     "metadata": {},
     "output_type": "execute_result"
    }
   ],
   "source": [
    "#Cross tables and data visualization\n",
    "#Extracting the coloumn names\n",
    "data.columns"
   ]
  },
  {
   "cell_type": "code",
   "execution_count": 17,
   "metadata": {},
   "outputs": [
    {
     "data": {
      "text/html": [
       "<div>\n",
       "<style scoped>\n",
       "    .dataframe tbody tr th:only-of-type {\n",
       "        vertical-align: middle;\n",
       "    }\n",
       "\n",
       "    .dataframe tbody tr th {\n",
       "        vertical-align: top;\n",
       "    }\n",
       "\n",
       "    .dataframe thead th {\n",
       "        text-align: right;\n",
       "    }\n",
       "</style>\n",
       "<table border=\"1\" class=\"dataframe\">\n",
       "  <thead>\n",
       "    <tr style=\"text-align: right;\">\n",
       "      <th>col_0</th>\n",
       "      <th>count</th>\n",
       "    </tr>\n",
       "    <tr>\n",
       "      <th>proto</th>\n",
       "      <th></th>\n",
       "    </tr>\n",
       "  </thead>\n",
       "  <tbody>\n",
       "    <tr>\n",
       "      <th>arp</th>\n",
       "      <td>0.008953</td>\n",
       "    </tr>\n",
       "    <tr>\n",
       "      <th>ipv6-icmp</th>\n",
       "      <td>0.002686</td>\n",
       "    </tr>\n",
       "    <tr>\n",
       "      <th>tcp</th>\n",
       "      <td>0.011638</td>\n",
       "    </tr>\n",
       "    <tr>\n",
       "      <th>udp</th>\n",
       "      <td>0.976723</td>\n",
       "    </tr>\n",
       "  </tbody>\n",
       "</table>\n",
       "</div>"
      ],
      "text/plain": [
       "col_0         count\n",
       "proto              \n",
       "arp        0.008953\n",
       "ipv6-icmp  0.002686\n",
       "tcp        0.011638\n",
       "udp        0.976723"
      ]
     },
     "metadata": {},
     "output_type": "display_data"
    },
    {
     "data": {
      "text/plain": []
     },
     "execution_count": 17,
     "metadata": {},
     "output_type": "execute_result"
    }
   ],
   "source": [
    "#proto proportion table\n",
    "pd.crosstab(index=data['proto'],columns='count',normalize=True)"
   ]
  },
  {
   "cell_type": "code",
   "execution_count": 18,
   "metadata": {},
   "outputs": [
    {
     "data": {
      "text/html": [
       "<div>\n",
       "<style scoped>\n",
       "    .dataframe tbody tr th:only-of-type {\n",
       "        vertical-align: middle;\n",
       "    }\n",
       "\n",
       "    .dataframe tbody tr th {\n",
       "        vertical-align: top;\n",
       "    }\n",
       "\n",
       "    .dataframe thead th {\n",
       "        text-align: right;\n",
       "    }\n",
       "</style>\n",
       "<table border=\"1\" class=\"dataframe\">\n",
       "  <thead>\n",
       "    <tr style=\"text-align: right;\">\n",
       "      <th>attack</th>\n",
       "      <th>0</th>\n",
       "      <th>1</th>\n",
       "    </tr>\n",
       "    <tr>\n",
       "      <th>proto</th>\n",
       "      <th></th>\n",
       "      <th></th>\n",
       "    </tr>\n",
       "  </thead>\n",
       "  <tbody>\n",
       "    <tr>\n",
       "      <th>arp</th>\n",
       "      <td>0.008953</td>\n",
       "      <td>0.00000</td>\n",
       "    </tr>\n",
       "    <tr>\n",
       "      <th>ipv6-icmp</th>\n",
       "      <td>0.002686</td>\n",
       "      <td>0.00000</td>\n",
       "    </tr>\n",
       "    <tr>\n",
       "      <th>tcp</th>\n",
       "      <td>0.011638</td>\n",
       "      <td>0.00000</td>\n",
       "    </tr>\n",
       "    <tr>\n",
       "      <th>udp</th>\n",
       "      <td>0.082363</td>\n",
       "      <td>0.89436</td>\n",
       "    </tr>\n",
       "  </tbody>\n",
       "</table>\n",
       "</div>"
      ],
      "text/plain": [
       "attack            0        1\n",
       "proto                       \n",
       "arp        0.008953  0.00000\n",
       "ipv6-icmp  0.002686  0.00000\n",
       "tcp        0.011638  0.00000\n",
       "udp        0.082363  0.89436"
      ]
     },
     "metadata": {},
     "output_type": "display_data"
    },
    {
     "data": {
      "text/plain": []
     },
     "execution_count": 18,
     "metadata": {},
     "output_type": "execute_result"
    }
   ],
   "source": [
    "#proto vs attack\n",
    "pd.crosstab(index=data['proto'],columns=data['attack'],normalize=True)"
   ]
  },
  {
   "cell_type": "code",
   "execution_count": 19,
   "metadata": {},
   "outputs": [
    {
     "data": {
      "application/vnd.jupyter.widget-view+json": {
       "model_id": "49bfa3372c7b4dd6acedd1f90d566f7a",
       "version_major": 2,
       "version_minor": 0
      },
      "text/plain": [
       "Button(description='Toggle Pandas/Lux', layout=Layout(top='5px', width='140px'), style=ButtonStyle())"
      ]
     },
     "metadata": {},
     "output_type": "display_data"
    },
    {
     "data": {
      "application/vnd.jupyter.widget-view+json": {
       "model_id": "7b24e7929b4b4d7d9b7107c976d85b82",
       "version_major": 2,
       "version_minor": 0
      },
      "text/plain": [
       "Output()"
      ]
     },
     "metadata": {},
     "output_type": "display_data"
    },
    {
     "data": {
      "text/plain": [
       "<matplotlib.axes._subplots.AxesSubplot at 0x2a8c18de8d0>"
      ]
     },
     "execution_count": 19,
     "metadata": {},
     "output_type": "execute_result"
    },
    {
     "data": {
      "image/png": "[encoded data removed]",
      "text/plain": [
       "<Figure size 432x288 with 1 Axes>"
      ]
     },
     "metadata": {
      "needs_background": "light"
     },
     "output_type": "display_data"
    }
   ],
   "source": [
    "#frequency distribution of attack\n",
    "sns.countplot(data['attack'])"
   ]
  },
  {
   "cell_type": "code",
   "execution_count": 20,
   "metadata": {},
   "outputs": [],
   "source": [
    "\n",
    "data=data.drop(columns='pkSeqID')"
   ]
  },
  {
   "cell_type": "code",
   "execution_count": 21,
   "metadata": {},
   "outputs": [],
   "source": [
    "#Categorical Encoding\n",
    "data=pd.get_dummies(data)"
   ]
  },
  {
   "cell_type": "code",
   "execution_count": 22,
   "metadata": {},
   "outputs": [
    {
     "data": {
      "text/html": [
       "<div>\n",
       "<style scoped>\n",
       "    .dataframe tbody tr th:only-of-type {\n",
       "        vertical-align: middle;\n",
       "    }\n",
       "\n",
       "    .dataframe tbody tr th {\n",
       "        vertical-align: top;\n",
       "    }\n",
       "\n",
       "    .dataframe thead th {\n",
       "        text-align: right;\n",
       "    }\n",
       "</style>\n",
       "<table border=\"1\" class=\"dataframe\">\n",
       "  <thead>\n",
       "    <tr style=\"text-align: right;\">\n",
       "      <th></th>\n",
       "      <th>sport</th>\n",
       "      <th>dport</th>\n",
       "      <th>seq</th>\n",
       "      <th>stddev</th>\n",
       "      <th>N_IN_Conn_P_SrcIP</th>\n",
       "      <th>min</th>\n",
       "      <th>state_number</th>\n",
       "      <th>mean</th>\n",
       "      <th>N_IN_Conn_P_DstIP</th>\n",
       "      <th>drate</th>\n",
       "      <th>srate</th>\n",
       "      <th>max</th>\n",
       "      <th>attack</th>\n",
       "      <th>proto_arp</th>\n",
       "      <th>proto_ipv6-icmp</th>\n",
       "      <th>proto_tcp</th>\n",
       "      <th>proto_udp</th>\n",
       "    </tr>\n",
       "  </thead>\n",
       "  <tbody>\n",
       "    <tr>\n",
       "      <th>0</th>\n",
       "      <td>6551</td>\n",
       "      <td>80</td>\n",
       "      <td>251984</td>\n",
       "      <td>1.900363</td>\n",
       "      <td>100</td>\n",
       "      <td>0.000000</td>\n",
       "      <td>4</td>\n",
       "      <td>2.687519</td>\n",
       "      <td>100</td>\n",
       "      <td>0.0</td>\n",
       "      <td>0.494549</td>\n",
       "      <td>4.031619</td>\n",
       "      <td>1</td>\n",
       "      <td>0</td>\n",
       "      <td>0</td>\n",
       "      <td>0</td>\n",
       "      <td>1</td>\n",
       "    </tr>\n",
       "    <tr>\n",
       "      <th>1</th>\n",
       "      <td>22461</td>\n",
       "      <td>80</td>\n",
       "      <td>105063</td>\n",
       "      <td>0.822418</td>\n",
       "      <td>100</td>\n",
       "      <td>2.979995</td>\n",
       "      <td>4</td>\n",
       "      <td>3.983222</td>\n",
       "      <td>100</td>\n",
       "      <td>0.0</td>\n",
       "      <td>1.002999</td>\n",
       "      <td>4.994452</td>\n",
       "      <td>1</td>\n",
       "      <td>0</td>\n",
       "      <td>0</td>\n",
       "      <td>0</td>\n",
       "      <td>1</td>\n",
       "    </tr>\n",
       "    <tr>\n",
       "      <th>2</th>\n",
       "      <td>31712</td>\n",
       "      <td>80</td>\n",
       "      <td>253932</td>\n",
       "      <td>1.928021</td>\n",
       "      <td>100</td>\n",
       "      <td>0.000000</td>\n",
       "      <td>4</td>\n",
       "      <td>2.726619</td>\n",
       "      <td>100</td>\n",
       "      <td>0.0</td>\n",
       "      <td>0.490708</td>\n",
       "      <td>4.097849</td>\n",
       "      <td>1</td>\n",
       "      <td>0</td>\n",
       "      <td>0</td>\n",
       "      <td>0</td>\n",
       "      <td>1</td>\n",
       "    </tr>\n",
       "    <tr>\n",
       "      <th>3</th>\n",
       "      <td>40439</td>\n",
       "      <td>80</td>\n",
       "      <td>119506</td>\n",
       "      <td>0.859362</td>\n",
       "      <td>100</td>\n",
       "      <td>2.756653</td>\n",
       "      <td>4</td>\n",
       "      <td>3.907695</td>\n",
       "      <td>100</td>\n",
       "      <td>0.0</td>\n",
       "      <td>0.621363</td>\n",
       "      <td>4.820975</td>\n",
       "      <td>1</td>\n",
       "      <td>0</td>\n",
       "      <td>0</td>\n",
       "      <td>0</td>\n",
       "      <td>1</td>\n",
       "    </tr>\n",
       "    <tr>\n",
       "      <th>4</th>\n",
       "      <td>41921</td>\n",
       "      <td>80</td>\n",
       "      <td>41299</td>\n",
       "      <td>0.649773</td>\n",
       "      <td>29</td>\n",
       "      <td>2.744750</td>\n",
       "      <td>4</td>\n",
       "      <td>3.663178</td>\n",
       "      <td>100</td>\n",
       "      <td>0.0</td>\n",
       "      <td>0.729789</td>\n",
       "      <td>4.148325</td>\n",
       "      <td>1</td>\n",
       "      <td>0</td>\n",
       "      <td>0</td>\n",
       "      <td>0</td>\n",
       "      <td>1</td>\n",
       "    </tr>\n",
       "  </tbody>\n",
       "</table>\n",
       "</div>"
      ],
      "text/plain": [
       "   sport  dport     seq    stddev  N_IN_Conn_P_SrcIP       min  state_number  \\\n",
       "0   6551     80  251984  1.900363                100  0.000000             4   \n",
       "1  22461     80  105063  0.822418                100  2.979995             4   \n",
       "2  31712     80  253932  1.928021                100  0.000000             4   \n",
       "3  40439     80  119506  0.859362                100  2.756653             4   \n",
       "4  41921     80   41299  0.649773                 29  2.744750             4   \n",
       "\n",
       "       mean  N_IN_Conn_P_DstIP  drate     srate       max  attack  proto_arp  \\\n",
       "0  2.687519                100    0.0  0.494549  4.031619       1          0   \n",
       "1  3.983222                100    0.0  1.002999  4.994452       1          0   \n",
       "2  2.726619                100    0.0  0.490708  4.097849       1          0   \n",
       "3  3.907695                100    0.0  0.621363  4.820975       1          0   \n",
       "4  3.663178                100    0.0  0.729789  4.148325       1          0   \n",
       "\n",
       "   proto_ipv6-icmp  proto_tcp  proto_udp  \n",
       "0                0          0          1  \n",
       "1                0          0          1  \n",
       "2                0          0          1  \n",
       "3                0          0          1  \n",
       "4                0          0          1  "
      ]
     },
     "metadata": {},
     "output_type": "display_data"
    },
    {
     "data": {
      "text/plain": []
     },
     "execution_count": 22,
     "metadata": {},
     "output_type": "execute_result"
    }
   ],
   "source": [
    "data.head()"
   ]
  },
  {
   "cell_type": "code",
   "execution_count": 23,
   "metadata": {},
   "outputs": [],
   "source": [
    "#Seperating the features and target variable\n",
    "y=data['attack']\n",
    "x=data.drop(columns='attack')"
   ]
  },
  {
   "cell_type": "code",
   "execution_count": 24,
   "metadata": {},
   "outputs": [
    {
     "data": {
      "text/plain": [
       "(1117, 17)"
      ]
     },
     "execution_count": 24,
     "metadata": {},
     "output_type": "execute_result"
    }
   ],
   "source": [
    "data.shape"
   ]
  },
  {
   "cell_type": "markdown",
   "metadata": {},
   "source": [
    "#"
   ]
  },
  {
   "cell_type": "code",
   "execution_count": 25,
   "metadata": {},
   "outputs": [
    {
     "data": {
      "text/plain": [
       "(1117, 16)"
      ]
     },
     "execution_count": 25,
     "metadata": {},
     "output_type": "execute_result"
    }
   ],
   "source": [
    "x.shape"
   ]
  },
  {
   "cell_type": "code",
   "execution_count": 26,
   "metadata": {},
   "outputs": [
    {
     "data": {
      "text/plain": [
       "(1117,)"
      ]
     },
     "execution_count": 26,
     "metadata": {},
     "output_type": "execute_result"
    }
   ],
   "source": [
    "y.shape"
   ]
  },
  {
   "cell_type": "code",
   "execution_count": 27,
   "metadata": {},
   "outputs": [],
   "source": [
    "#Balancing the target variable\n",
    "from imblearn.combine import SMOTETomek\n",
    "smk = SMOTETomek(random_state = 0)\n",
    "x, y = smk.fit_sample(x,y)"
   ]
  },
  {
   "cell_type": "code",
   "execution_count": 28,
   "metadata": {},
   "outputs": [
    {
     "data": {
      "text/plain": [
       "(1976, 16)"
      ]
     },
     "execution_count": 28,
     "metadata": {},
     "output_type": "execute_result"
    }
   ],
   "source": [
    "x.shape"
   ]
  },
  {
   "cell_type": "code",
   "execution_count": 29,
   "metadata": {},
   "outputs": [
    {
     "data": {
      "text/plain": [
       "<matplotlib.axes._subplots.AxesSubplot at 0x2a8c45a12b0>"
      ]
     },
     "execution_count": 29,
     "metadata": {},
     "output_type": "execute_result"
    },
    {
     "data": {
      "image/png": "[encoded data removed]",
      "text/plain": [
       "<Figure size 432x288 with 1 Axes>"
      ]
     },
     "metadata": {
      "needs_background": "light"
     },
     "output_type": "display_data"
    }
   ],
   "source": [
    "sns.countplot(y)"
   ]
  },
  {
   "cell_type": "code",
   "execution_count": 30,
   "metadata": {},
   "outputs": [],
   "source": [
    "#Spliting dataset into Train and Test set \n",
    "from sklearn.model_selection import train_test_split\n",
    "x_train,x_test,y_train,y_test = train_test_split(x,y,test_size = 0.3, random_state = 0)"
   ]
  },
  {
   "cell_type": "code",
   "execution_count": 31,
   "metadata": {},
   "outputs": [],
   "source": [
    "#Feature Scaling\n",
    "from sklearn.preprocessing import StandardScaler\n",
    "sc = StandardScaler()\n",
    "x_train = sc.fit_transform(x_train)\n",
    "x_test = sc.transform(x_test)"
   ]
  },
  {
   "cell_type": "code",
   "execution_count": 33,
   "metadata": {},
   "outputs": [
    {
     "data": {
      "text/plain": [
       "KNeighborsClassifier()"
      ]
     },
     "execution_count": 33,
     "metadata": {},
     "output_type": "execute_result"
    }
   ],
   "source": [
    "from sklearn.neighbors import KNeighborsClassifier\n",
    "from sklearn.model_selection import cross_val_score\n",
    "clf=KNeighborsClassifier()\n",
    "clf.fit(x_train,y_train)"
   ]
  },
  {
   "cell_type": "code",
   "execution_count": 34,
   "metadata": {},
   "outputs": [
    {
     "name": "stdout",
     "output_type": "stream",
     "text": [
      " Testing Accuracy: 100.00%\n",
      "Cross Validation Accuracy: 100.00% \n"
     ]
    }
   ],
   "source": [
    "#Checking the accuracy of model\n",
    "from sklearn.metrics import accuracy_score\n",
    "y_pred=clf.predict(x_test)\n",
    "accuracy = accuracy_score(y_test, y_pred)\n",
    "print(\" Testing Accuracy: %.2f%%\" % (accuracy * 100.0))\n",
    "scores = cross_val_score(clf, x_train, y_train, cv=10)\n",
    "print(\"Cross Validation Accuracy: %.2f%% \" % (scores.mean()*100))"
   ]
  },
  {
   "cell_type": "code",
   "execution_count": 35,
   "metadata": {},
   "outputs": [
    {
     "data": {
      "text/plain": [
       "Text(0.5, 1.0, 'KNeighbors Classifier')"
      ]
     },
     "execution_count": 35,
     "metadata": {},
     "output_type": "execute_result"
    },
    {
     "data": {
      "image/png": "[encoded data removed]",
      "text/plain": [
       "<Figure size 432x288 with 2 Axes>"
      ]
     },
     "metadata": {
      "needs_background": "light"
     },
     "output_type": "display_data"
    }
   ],
   "source": [
    "#confusion matrix\n",
    "from sklearn.metrics import confusion_matrix\n",
    "con = confusion_matrix(y_test,y_pred)\n",
    "import seaborn as sns\n",
    "import matplotlib.pyplot as plt\n",
    "axes = sns.heatmap(con, square=True,annot=True,fmt='d',cbar = True, cmap = plt.cm.GnBu)\n",
    "ax = plt.axes()\n",
    "plt.xlabel('Predicted Values')\n",
    "plt.ylabel('Actual values')\n",
    "ax.set_title('KNeighbors Classifier')"
   ]
  },
  {
   "cell_type": "code",
   "execution_count": 36,
   "metadata": {},
   "outputs": [
    {
     "name": "stdout",
     "output_type": "stream",
     "text": [
      "KNeighbors Classifier\n",
      "              precision    recall  f1-score   support\n",
      "\n",
      "           0       1.00      1.00      1.00       297\n",
      "           1       1.00      1.00      1.00       296\n",
      "\n",
      "    accuracy                           1.00       593\n",
      "   macro avg       1.00      1.00      1.00       593\n",
      "weighted avg       1.00      1.00      1.00       593\n",
      "\n"
     ]
    }
   ],
   "source": [
    "from sklearn.metrics import classification_report\n",
    "print('KNeighbors Classifier')\n",
    "print(classification_report(y_test, y_pred))"
   ]
  },
  {
   "cell_type": "code",
   "execution_count": 37,
   "metadata": {},
   "outputs": [
    {
     "data": {
      "text/plain": [
       "1.0"
      ]
     },
     "execution_count": 37,
     "metadata": {},
     "output_type": "execute_result"
    }
   ],
   "source": [
    "from sklearn.metrics import roc_auc_score\n",
    "roc_auc_score(y_test,y_pred)"
   ]
  },
  {
   "cell_type": "code",
   "execution_count": 39,
   "metadata": {},
   "outputs": [
    {
     "data": {
      "image/png": "[encoded data removed]",
      "text/plain": [
       "<Figure size 720x1080 with 3 Axes>"
      ]
     },
     "metadata": {
      "needs_background": "light"
     },
     "output_type": "display_data"
    }
   ],
   "source": [
    "#from sklearn.model_selection import learning_curve\n",
    "from sklearn.model_selection import learning_curve\n",
    "from sklearn.model_selection import ShuffleSplit\n",
    "\n",
    "def plot_learning_curve(estimator, title, x, y, axes=None, ylim=None, cv=None,\n",
    "                        n_jobs=None, train_sizes=np.linspace(.1, 1.0, 5)):\n",
    "   \n",
    "    if axes is None:\n",
    "        _, axes = plt.subplots(1, 1, figsize=(20, 5))\n",
    "\n",
    "    axes[0].set_title(title)\n",
    "    if ylim is not None:\n",
    "        axes[0].set_ylim(*ylim)\n",
    "    axes[0].set_xlabel(\"Training examples\")\n",
    "    axes[0].set_ylabel(\"Score\")\n",
    "\n",
    "    train_sizes, train_scores, test_scores, fit_times, _ = \\\n",
    "        learning_curve(estimator, x, y, cv=cv, n_jobs=n_jobs,\n",
    "                       train_sizes=train_sizes,\n",
    "                       return_times=True)\n",
    "    train_scores_mean = np.mean(train_scores, axis=1)\n",
    "    train_scores_std = np.std(train_scores, axis=1)\n",
    "    test_scores_mean = np.mean(test_scores, axis=1)\n",
    "    test_scores_std = np.std(test_scores, axis=1)\n",
    "    fit_times_mean = np.mean(fit_times, axis=1)\n",
    "    fit_times_std = np.std(fit_times, axis=1)\n",
    "\n",
    "    # Plot learning curve\n",
    "    axes[0].grid()\n",
    "    axes[0].fill_between(train_sizes, train_scores_mean - train_scores_std,\n",
    "                         train_scores_mean + train_scores_std, alpha=0.1,\n",
    "                         color=\"r\")\n",
    "    axes[0].fill_between(train_sizes, test_scores_mean - test_scores_std,\n",
    "                         test_scores_mean + test_scores_std, alpha=0.1,\n",
    "                         color=\"g\")\n",
    "    axes[0].plot(train_sizes, train_scores_mean, 'o-', color=\"r\",\n",
    "                 label=\"Training score\")\n",
    "    axes[0].plot(train_sizes, test_scores_mean, 'o-', color=\"g\",\n",
    "                 label=\"Cross-validation score\")\n",
    "    axes[0].legend(loc=\"best\")\n",
    "\n",
    "    # Plot n_samples vs fit_times\n",
    "    axes[1].grid()\n",
    "    axes[1].plot(train_sizes, fit_times_mean, 'o-')\n",
    "    axes[1].fill_between(train_sizes, fit_times_mean - fit_times_std,\n",
    "                         fit_times_mean + fit_times_std, alpha=0.1)\n",
    "    axes[1].set_xlabel(\"Training examples\")\n",
    "    axes[1].set_ylabel(\"fit_times\")\n",
    "    axes[1].set_title(\"Scalability of the model\")\n",
    "\n",
    "    # Plot fit_time vs score\n",
    "    axes[2].grid()\n",
    "    axes[2].plot(fit_times_mean, test_scores_mean, 'o-')\n",
    "    axes[2].fill_between(fit_times_mean, test_scores_mean - test_scores_std,\n",
    "                         test_scores_mean + test_scores_std, alpha=0.1)\n",
    "    axes[2].set_xlabel(\"fit_times\")\n",
    "    axes[2].set_ylabel(\"Score\")\n",
    "    axes[2].set_title(\"Performance of the model\")\n",
    "\n",
    "\n",
    "fig, axes = plt.subplots(3, 1, figsize=(10, 15))\n",
    "\n",
    "title = \"Learning Curves (KNN Classifier)\"\n",
    "# Cross validation with 10 iterations to get smoother mean test and train\n",
    "# score curves, each time with 20% data randomly selected as a validation set.\n",
    "cv = ShuffleSplit(n_splits=10, test_size=0.2, random_state=0)\n",
    "\n",
    "estimator = KNeighborsClassifier()\n",
    "plot_learning_curve(estimator, title, x, y,axes=axes[:,], cv=cv, ylim=(0.7, 1.01), n_jobs=4)\n",
    "\n",
    "plt.show()"
   ]
  },
  {
   "cell_type": "code",
   "execution_count": null,
   "metadata": {},
   "outputs": [],
   "source": []
  }
 ],
 "metadata": {
  "kernelspec": {
   "display_name": "Python 3",
   "language": "python",
   "name": "python3"
  },
  "language_info": {
   "codemirror_mode": {
    "name": "ipython",
    "version": 3
   },
   "file_extension": ".py",
   "mimetype": "text/x-python",
   "name": "python",
   "nbconvert_exporter": "python",
   "pygments_lexer": "ipython3",
   "version": "3.7.3"
  }
 },
 "nbformat": 4,
 "nbformat_minor": 2
}
