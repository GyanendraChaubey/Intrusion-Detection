{
 "cells": [
  {
   "cell_type": "code",
   "execution_count": 1,
   "metadata": {},
   "outputs": [
    {
     "name": "stderr",
     "output_type": "stream",
     "text": [
      "C:\\Users\\Dell\\Anaconda3\\lib\\site-packages\\statsmodels\\tools\\_testing.py:19: FutureWarning: pandas.util.testing is deprecated. Use the functions in the public API at pandas.testing instead.\n",
      "  import pandas.util.testing as tm\n"
     ]
    }
   ],
   "source": [
    "#Importing the necessary libraries\n",
    "import numpy as np\n",
    "import pandas as pd\n",
    "import lux\n",
    "import matplotlib.pyplot as plt\n",
    "import seaborn as sns\n",
    "sns.set()\n",
    "import warnings\n",
    "warnings.filterwarnings('ignore')\n",
    "import pandas.util.testing as tm"
   ]
  },
  {
   "cell_type": "code",
   "execution_count": 2,
   "metadata": {},
   "outputs": [],
   "source": [
    "#Read the data\n",
    "data=pd.read_csv(\"D:\\\\Machine Learning\\\\Research Work\\\\IoT intrusion detection\\\\BOT IOT Dataset\\\\Training and Test Dataset\\\\DOS_HTTP.csv\")"
   ]
  },
  {
   "cell_type": "code",
   "execution_count": 3,
   "metadata": {},
   "outputs": [],
   "source": [
    "#Making a copy of data\n",
    "data=data.copy()"
   ]
  },
  {
   "cell_type": "markdown",
   "metadata": {},
   "source": [
    "#Feature Engineering"
   ]
  },
  {
   "cell_type": "markdown",
   "metadata": {},
   "source": [
    "1. Understanding Data"
   ]
  },
  {
   "cell_type": "code",
   "execution_count": 4,
   "metadata": {},
   "outputs": [
    {
     "name": "stdout",
     "output_type": "stream",
     "text": [
      "pkSeqID              0\n",
      "proto                0\n",
      "saddr                0\n",
      "sport                0\n",
      "daddr                0\n",
      "dport                0\n",
      "seq                  0\n",
      "stddev               0\n",
      "N_IN_Conn_P_SrcIP    0\n",
      "min                  0\n",
      "state_number         0\n",
      "mean                 0\n",
      "N_IN_Conn_P_DstIP    0\n",
      "drate                0\n",
      "srate                0\n",
      "max                  0\n",
      "attack               0\n",
      "category             0\n",
      "subcategory          0\n",
      "dtype: int64\n"
     ]
    },
    {
     "data": {
      "text/plain": []
     },
     "execution_count": 4,
     "metadata": {},
     "output_type": "execute_result"
    }
   ],
   "source": [
    "#checking the missing values\n",
    "data.isnull().sum()"
   ]
  },
  {
   "cell_type": "code",
   "execution_count": 5,
   "metadata": {},
   "outputs": [
    {
     "name": "stdout",
     "output_type": "stream",
     "text": [
      "<class 'lux.core.frame.LuxDataFrame'>\n",
      "RangeIndex: 555 entries, 0 to 554\n",
      "Data columns (total 19 columns):\n",
      " #   Column             Non-Null Count  Dtype  \n",
      "---  ------             --------------  -----  \n",
      " 0   pkSeqID            555 non-null    int64  \n",
      " 1   proto              555 non-null    object \n",
      " 2   saddr              555 non-null    object \n",
      " 3   sport              555 non-null    int64  \n",
      " 4   daddr              555 non-null    object \n",
      " 5   dport              555 non-null    int64  \n",
      " 6   seq                555 non-null    int64  \n",
      " 7   stddev             555 non-null    float64\n",
      " 8   N_IN_Conn_P_SrcIP  555 non-null    int64  \n",
      " 9   min                555 non-null    float64\n",
      " 10  state_number       555 non-null    int64  \n",
      " 11  mean               555 non-null    float64\n",
      " 12  N_IN_Conn_P_DstIP  555 non-null    int64  \n",
      " 13  drate              555 non-null    float64\n",
      " 14  srate              555 non-null    float64\n",
      " 15  max                555 non-null    float64\n",
      " 16  attack             555 non-null    int64  \n",
      " 17  category           555 non-null    object \n",
      " 18  subcategory        555 non-null    object \n",
      "dtypes: float64(6), int64(8), object(5)\n",
      "memory usage: 82.5+ KB\n"
     ]
    }
   ],
   "source": [
    "data.info()"
   ]
  },
  {
   "cell_type": "code",
   "execution_count": 6,
   "metadata": {},
   "outputs": [
    {
     "data": {
      "text/html": [
       "<div>\n",
       "<style scoped>\n",
       "    .dataframe tbody tr th:only-of-type {\n",
       "        vertical-align: middle;\n",
       "    }\n",
       "\n",
       "    .dataframe tbody tr th {\n",
       "        vertical-align: top;\n",
       "    }\n",
       "\n",
       "    .dataframe thead th {\n",
       "        text-align: right;\n",
       "    }\n",
       "</style>\n",
       "<table border=\"1\" class=\"dataframe\">\n",
       "  <thead>\n",
       "    <tr style=\"text-align: right;\">\n",
       "      <th></th>\n",
       "      <th>pkSeqID</th>\n",
       "      <th>proto</th>\n",
       "      <th>saddr</th>\n",
       "      <th>sport</th>\n",
       "      <th>daddr</th>\n",
       "      <th>dport</th>\n",
       "      <th>seq</th>\n",
       "      <th>stddev</th>\n",
       "      <th>N_IN_Conn_P_SrcIP</th>\n",
       "      <th>min</th>\n",
       "      <th>state_number</th>\n",
       "      <th>mean</th>\n",
       "      <th>N_IN_Conn_P_DstIP</th>\n",
       "      <th>drate</th>\n",
       "      <th>srate</th>\n",
       "      <th>max</th>\n",
       "      <th>attack</th>\n",
       "      <th>category</th>\n",
       "      <th>subcategory</th>\n",
       "    </tr>\n",
       "  </thead>\n",
       "  <tbody>\n",
       "    <tr>\n",
       "      <th>0</th>\n",
       "      <td>937</td>\n",
       "      <td>tcp</td>\n",
       "      <td>192.168.100.150</td>\n",
       "      <td>51940</td>\n",
       "      <td>192.168.100.3</td>\n",
       "      <td>80</td>\n",
       "      <td>945</td>\n",
       "      <td>0.949318</td>\n",
       "      <td>100</td>\n",
       "      <td>0.000000</td>\n",
       "      <td>1</td>\n",
       "      <td>0.671317</td>\n",
       "      <td>100</td>\n",
       "      <td>0.249423</td>\n",
       "      <td>0.356085</td>\n",
       "      <td>2.013856</td>\n",
       "      <td>1</td>\n",
       "      <td>DoS</td>\n",
       "      <td>HTTP</td>\n",
       "    </tr>\n",
       "    <tr>\n",
       "      <th>1</th>\n",
       "      <td>613</td>\n",
       "      <td>tcp</td>\n",
       "      <td>192.168.100.149</td>\n",
       "      <td>52894</td>\n",
       "      <td>192.168.100.3</td>\n",
       "      <td>80</td>\n",
       "      <td>621</td>\n",
       "      <td>0.000031</td>\n",
       "      <td>15</td>\n",
       "      <td>0.000000</td>\n",
       "      <td>1</td>\n",
       "      <td>0.000018</td>\n",
       "      <td>17</td>\n",
       "      <td>0.249041</td>\n",
       "      <td>0.237660</td>\n",
       "      <td>0.000071</td>\n",
       "      <td>1</td>\n",
       "      <td>DoS</td>\n",
       "      <td>HTTP</td>\n",
       "    </tr>\n",
       "    <tr>\n",
       "      <th>2</th>\n",
       "      <td>872</td>\n",
       "      <td>tcp</td>\n",
       "      <td>192.168.100.147</td>\n",
       "      <td>50404</td>\n",
       "      <td>192.168.100.7</td>\n",
       "      <td>80</td>\n",
       "      <td>880</td>\n",
       "      <td>1.975777</td>\n",
       "      <td>18</td>\n",
       "      <td>0.000000</td>\n",
       "      <td>1</td>\n",
       "      <td>2.338181</td>\n",
       "      <td>45</td>\n",
       "      <td>0.131477</td>\n",
       "      <td>0.394432</td>\n",
       "      <td>4.738491</td>\n",
       "      <td>1</td>\n",
       "      <td>DoS</td>\n",
       "      <td>HTTP</td>\n",
       "    </tr>\n",
       "    <tr>\n",
       "      <th>3</th>\n",
       "      <td>565</td>\n",
       "      <td>tcp</td>\n",
       "      <td>192.168.100.150</td>\n",
       "      <td>51768</td>\n",
       "      <td>192.168.100.3</td>\n",
       "      <td>80</td>\n",
       "      <td>573</td>\n",
       "      <td>0.126828</td>\n",
       "      <td>82</td>\n",
       "      <td>0.866681</td>\n",
       "      <td>1</td>\n",
       "      <td>0.993509</td>\n",
       "      <td>100</td>\n",
       "      <td>0.486430</td>\n",
       "      <td>0.710826</td>\n",
       "      <td>1.120337</td>\n",
       "      <td>1</td>\n",
       "      <td>DoS</td>\n",
       "      <td>HTTP</td>\n",
       "    </tr>\n",
       "    <tr>\n",
       "      <th>4</th>\n",
       "      <td>3576923</td>\n",
       "      <td>tcp</td>\n",
       "      <td>192.168.100.5</td>\n",
       "      <td>0</td>\n",
       "      <td>192.168.100.3</td>\n",
       "      <td>0</td>\n",
       "      <td>7</td>\n",
       "      <td>0.235357</td>\n",
       "      <td>7</td>\n",
       "      <td>0.598172</td>\n",
       "      <td>2</td>\n",
       "      <td>4.898582</td>\n",
       "      <td>7</td>\n",
       "      <td>0.000000</td>\n",
       "      <td>10.932437</td>\n",
       "      <td>4.999866</td>\n",
       "      <td>0</td>\n",
       "      <td>Normal</td>\n",
       "      <td>Normal</td>\n",
       "    </tr>\n",
       "  </tbody>\n",
       "</table>\n",
       "</div>"
      ],
      "text/plain": [
       "   pkSeqID proto            saddr  sport          daddr  dport  seq    stddev  \\\n",
       "0      937   tcp  192.168.100.150  51940  192.168.100.3     80  945  0.949318   \n",
       "1      613   tcp  192.168.100.149  52894  192.168.100.3     80  621  0.000031   \n",
       "2      872   tcp  192.168.100.147  50404  192.168.100.7     80  880  1.975777   \n",
       "3      565   tcp  192.168.100.150  51768  192.168.100.3     80  573  0.126828   \n",
       "4  3576923   tcp    192.168.100.5      0  192.168.100.3      0    7  0.235357   \n",
       "\n",
       "   N_IN_Conn_P_SrcIP       min  state_number      mean  N_IN_Conn_P_DstIP  \\\n",
       "0                100  0.000000             1  0.671317                100   \n",
       "1                 15  0.000000             1  0.000018                 17   \n",
       "2                 18  0.000000             1  2.338181                 45   \n",
       "3                 82  0.866681             1  0.993509                100   \n",
       "4                  7  0.598172             2  4.898582                  7   \n",
       "\n",
       "      drate      srate       max  attack category subcategory  \n",
       "0  0.249423   0.356085  2.013856       1      DoS        HTTP  \n",
       "1  0.249041   0.237660  0.000071       1      DoS        HTTP  \n",
       "2  0.131477   0.394432  4.738491       1      DoS        HTTP  \n",
       "3  0.486430   0.710826  1.120337       1      DoS        HTTP  \n",
       "4  0.000000  10.932437  4.999866       0   Normal      Normal  "
      ]
     },
     "metadata": {},
     "output_type": "display_data"
    },
    {
     "data": {
      "text/plain": []
     },
     "execution_count": 6,
     "metadata": {},
     "output_type": "execute_result"
    }
   ],
   "source": [
    "data.head()"
   ]
  },
  {
   "cell_type": "code",
   "execution_count": 7,
   "metadata": {},
   "outputs": [
    {
     "data": {
      "text/plain": [
       "array(['tcp', 'udp', 'arp', 'ipv6-icmp'], dtype=object)"
      ]
     },
     "execution_count": 7,
     "metadata": {},
     "output_type": "execute_result"
    }
   ],
   "source": [
    "data['proto'].unique()"
   ]
  },
  {
   "cell_type": "code",
   "execution_count": 8,
   "metadata": {},
   "outputs": [
    {
     "data": {
      "text/plain": [
       "array(['192.168.100.150', '192.168.100.149', '192.168.100.147',\n",
       "       '192.168.100.5', '192.168.100.3', '192.168.100.148',\n",
       "       '192.168.100.27', 'fe80::250:56ff:febe:254',\n",
       "       'fe80::250:56ff:febe:e9d9', '192.168.100.46',\n",
       "       'fe80::250:56ff:febe:26db', '192.168.100.1', '192.168.100.6',\n",
       "       'fe80::250:56ff:febe:89ee', '192.168.100.4', '192.168.100.7'],\n",
       "      dtype=object)"
      ]
     },
     "execution_count": 8,
     "metadata": {},
     "output_type": "execute_result"
    }
   ],
   "source": [
    "data['saddr'].unique()"
   ]
  },
  {
   "cell_type": "code",
   "execution_count": 9,
   "metadata": {},
   "outputs": [
    {
     "data": {
      "text/plain": [
       "array(['192.168.100.3', '192.168.100.7', '192.168.217.2',\n",
       "       '192.168.100.55', '255.255.255.255', '96.7.49.66',\n",
       "       '205.251.197.206', '192.168.100.1', '205.251.194.201',\n",
       "       '224.0.0.251', '205.251.196.32', '52.201.147.106', '192.5.5.241',\n",
       "       '192.55.83.30', '192.31.80.30', '8.8.8.8', '13.55.154.73',\n",
       "       'ff02::2', '192.41.162.30', '129.250.35.250', 'ff02::fb',\n",
       "       '27.124.125.250', '199.19.56.1', '192.168.100.5', '192.33.14.30',\n",
       "       '205.251.199.148', '192.58.128.30', '192.12.94.30',\n",
       "       '205.251.196.160', '205.251.199.194', '192.36.148.17',\n",
       "       '184.85.248.65', '192.33.4.12', '52.11.124.117', '192.168.100.255',\n",
       "       '192.54.112.30', 'ff02::1', '172.217.25.170', '205.251.194.102',\n",
       "       '192.112.36.4', '205.251.194.86', '192.168.100.27',\n",
       "       '192.52.178.30', '205.251.195.59', '52.35.35.13'], dtype=object)"
      ]
     },
     "execution_count": 9,
     "metadata": {},
     "output_type": "execute_result"
    }
   ],
   "source": [
    "data['daddr'].unique()"
   ]
  },
  {
   "cell_type": "code",
   "execution_count": 10,
   "metadata": {},
   "outputs": [
    {
     "data": {
      "application/vnd.jupyter.widget-view+json": {
       "model_id": "d1f05b13ce5e4fd89798e4255d0f91f2",
       "version_major": 2,
       "version_minor": 0
      },
      "text/plain": [
       "Button(description='Toggle Pandas/Lux', layout=Layout(top='5px', width='140px'), style=ButtonStyle())"
      ]
     },
     "metadata": {},
     "output_type": "display_data"
    },
    {
     "data": {
      "application/vnd.jupyter.widget-view+json": {
       "model_id": "2115ce89ff944052943e383c4aa65a25",
       "version_major": 2,
       "version_minor": 0
      },
      "text/plain": [
       "Output()"
      ]
     },
     "metadata": {},
     "output_type": "display_data"
    },
    {
     "data": {
      "text/plain": []
     },
     "execution_count": 10,
     "metadata": {},
     "output_type": "execute_result"
    }
   ],
   "source": [
    "data.describe()"
   ]
  },
  {
   "cell_type": "code",
   "execution_count": 11,
   "metadata": {},
   "outputs": [],
   "source": [
    "#Removing the unwanted coloumns\n",
    "col=['saddr','daddr','category','subcategory']\n",
    "data=data.drop(columns=col,axis=1)"
   ]
  },
  {
   "cell_type": "code",
   "execution_count": 12,
   "metadata": {},
   "outputs": [],
   "source": [
    "#Removing the dublicate values\n",
    "data.drop_duplicates(keep='first',inplace=True)"
   ]
  },
  {
   "cell_type": "markdown",
   "metadata": {},
   "source": [
    "2. Exploratory Data Analysis"
   ]
  },
  {
   "cell_type": "code",
   "execution_count": 13,
   "metadata": {},
   "outputs": [
    {
     "data": {
      "text/html": [
       "<div>\n",
       "<style scoped>\n",
       "    .dataframe tbody tr th:only-of-type {\n",
       "        vertical-align: middle;\n",
       "    }\n",
       "\n",
       "    .dataframe tbody tr th {\n",
       "        vertical-align: top;\n",
       "    }\n",
       "\n",
       "    .dataframe thead th {\n",
       "        text-align: right;\n",
       "    }\n",
       "</style>\n",
       "<table border=\"1\" class=\"dataframe\">\n",
       "  <thead>\n",
       "    <tr style=\"text-align: right;\">\n",
       "      <th></th>\n",
       "      <th>pkSeqID</th>\n",
       "      <th>proto</th>\n",
       "      <th>sport</th>\n",
       "      <th>dport</th>\n",
       "      <th>seq</th>\n",
       "      <th>stddev</th>\n",
       "      <th>N_IN_Conn_P_SrcIP</th>\n",
       "      <th>min</th>\n",
       "      <th>state_number</th>\n",
       "      <th>mean</th>\n",
       "      <th>N_IN_Conn_P_DstIP</th>\n",
       "      <th>drate</th>\n",
       "      <th>srate</th>\n",
       "      <th>max</th>\n",
       "      <th>attack</th>\n",
       "    </tr>\n",
       "  </thead>\n",
       "  <tbody>\n",
       "    <tr>\n",
       "      <th>0</th>\n",
       "      <td>937</td>\n",
       "      <td>tcp</td>\n",
       "      <td>51940</td>\n",
       "      <td>80</td>\n",
       "      <td>945</td>\n",
       "      <td>0.949318</td>\n",
       "      <td>100</td>\n",
       "      <td>0.000000</td>\n",
       "      <td>1</td>\n",
       "      <td>0.671317</td>\n",
       "      <td>100</td>\n",
       "      <td>0.249423</td>\n",
       "      <td>0.356085</td>\n",
       "      <td>2.013856</td>\n",
       "      <td>1</td>\n",
       "    </tr>\n",
       "    <tr>\n",
       "      <th>1</th>\n",
       "      <td>613</td>\n",
       "      <td>tcp</td>\n",
       "      <td>52894</td>\n",
       "      <td>80</td>\n",
       "      <td>621</td>\n",
       "      <td>0.000031</td>\n",
       "      <td>15</td>\n",
       "      <td>0.000000</td>\n",
       "      <td>1</td>\n",
       "      <td>0.000018</td>\n",
       "      <td>17</td>\n",
       "      <td>0.249041</td>\n",
       "      <td>0.237660</td>\n",
       "      <td>0.000071</td>\n",
       "      <td>1</td>\n",
       "    </tr>\n",
       "    <tr>\n",
       "      <th>2</th>\n",
       "      <td>872</td>\n",
       "      <td>tcp</td>\n",
       "      <td>50404</td>\n",
       "      <td>80</td>\n",
       "      <td>880</td>\n",
       "      <td>1.975777</td>\n",
       "      <td>18</td>\n",
       "      <td>0.000000</td>\n",
       "      <td>1</td>\n",
       "      <td>2.338181</td>\n",
       "      <td>45</td>\n",
       "      <td>0.131477</td>\n",
       "      <td>0.394432</td>\n",
       "      <td>4.738491</td>\n",
       "      <td>1</td>\n",
       "    </tr>\n",
       "    <tr>\n",
       "      <th>3</th>\n",
       "      <td>565</td>\n",
       "      <td>tcp</td>\n",
       "      <td>51768</td>\n",
       "      <td>80</td>\n",
       "      <td>573</td>\n",
       "      <td>0.126828</td>\n",
       "      <td>82</td>\n",
       "      <td>0.866681</td>\n",
       "      <td>1</td>\n",
       "      <td>0.993509</td>\n",
       "      <td>100</td>\n",
       "      <td>0.486430</td>\n",
       "      <td>0.710826</td>\n",
       "      <td>1.120337</td>\n",
       "      <td>1</td>\n",
       "    </tr>\n",
       "    <tr>\n",
       "      <th>4</th>\n",
       "      <td>3576923</td>\n",
       "      <td>tcp</td>\n",
       "      <td>0</td>\n",
       "      <td>0</td>\n",
       "      <td>7</td>\n",
       "      <td>0.235357</td>\n",
       "      <td>7</td>\n",
       "      <td>0.598172</td>\n",
       "      <td>2</td>\n",
       "      <td>4.898582</td>\n",
       "      <td>7</td>\n",
       "      <td>0.000000</td>\n",
       "      <td>10.932437</td>\n",
       "      <td>4.999866</td>\n",
       "      <td>0</td>\n",
       "    </tr>\n",
       "  </tbody>\n",
       "</table>\n",
       "</div>"
      ],
      "text/plain": [
       "   pkSeqID proto  sport  dport  seq    stddev  N_IN_Conn_P_SrcIP       min  \\\n",
       "0      937   tcp  51940     80  945  0.949318                100  0.000000   \n",
       "1      613   tcp  52894     80  621  0.000031                 15  0.000000   \n",
       "2      872   tcp  50404     80  880  1.975777                 18  0.000000   \n",
       "3      565   tcp  51768     80  573  0.126828                 82  0.866681   \n",
       "4  3576923   tcp      0      0    7  0.235357                  7  0.598172   \n",
       "\n",
       "   state_number      mean  N_IN_Conn_P_DstIP     drate      srate       max  \\\n",
       "0             1  0.671317                100  0.249423   0.356085  2.013856   \n",
       "1             1  0.000018                 17  0.249041   0.237660  0.000071   \n",
       "2             1  2.338181                 45  0.131477   0.394432  4.738491   \n",
       "3             1  0.993509                100  0.486430   0.710826  1.120337   \n",
       "4             2  4.898582                  7  0.000000  10.932437  4.999866   \n",
       "\n",
       "   attack  \n",
       "0       1  \n",
       "1       1  \n",
       "2       1  \n",
       "3       1  \n",
       "4       0  "
      ]
     },
     "metadata": {},
     "output_type": "display_data"
    },
    {
     "data": {
      "text/plain": []
     },
     "execution_count": 13,
     "metadata": {},
     "output_type": "execute_result"
    }
   ],
   "source": [
    "data.head()"
   ]
  },
  {
   "cell_type": "code",
   "execution_count": 14,
   "metadata": {},
   "outputs": [
    {
     "name": "stdout",
     "output_type": "stream",
     "text": [
      "tcp          450\n",
      "udp           92\n",
      "arp           10\n",
      "ipv6-icmp      3\n",
      "dtype: int64\n"
     ]
    },
    {
     "data": {
      "text/plain": []
     },
     "execution_count": 14,
     "metadata": {},
     "output_type": "execute_result"
    }
   ],
   "source": [
    "#Frequency of each category\n",
    "data['proto'].value_counts()"
   ]
  },
  {
   "cell_type": "code",
   "execution_count": 15,
   "metadata": {},
   "outputs": [
    {
     "data": {
      "application/vnd.jupyter.widget-view+json": {
       "model_id": "56f54d96c94a4e478dcd189a752b1159",
       "version_major": 2,
       "version_minor": 0
      },
      "text/plain": [
       "Button(description='Toggle Pandas/Lux', layout=Layout(top='5px', width='140px'), style=ButtonStyle())"
      ]
     },
     "metadata": {},
     "output_type": "display_data"
    },
    {
     "data": {
      "application/vnd.jupyter.widget-view+json": {
       "model_id": "007e883bedc44b428130ff0e3284c9be",
       "version_major": 2,
       "version_minor": 0
      },
      "text/plain": [
       "Output()"
      ]
     },
     "metadata": {},
     "output_type": "display_data"
    },
    {
     "data": {
      "text/plain": []
     },
     "execution_count": 15,
     "metadata": {},
     "output_type": "execute_result"
    }
   ],
   "source": [
    "#relationship between the independent variables\n",
    "data.corr()"
   ]
  },
  {
   "cell_type": "code",
   "execution_count": 16,
   "metadata": {},
   "outputs": [
    {
     "data": {
      "text/plain": [
       "Index(['pkSeqID', 'proto', 'sport', 'dport', 'seq', 'stddev',\n",
       "       'N_IN_Conn_P_SrcIP', 'min', 'state_number', 'mean', 'N_IN_Conn_P_DstIP',\n",
       "       'drate', 'srate', 'max', 'attack'],\n",
       "      dtype='object')"
      ]
     },
     "execution_count": 16,
     "metadata": {},
     "output_type": "execute_result"
    }
   ],
   "source": [
    "#Cross tables and data visualization\n",
    "#Extracting the coloumn names\n",
    "data.columns"
   ]
  },
  {
   "cell_type": "code",
   "execution_count": 17,
   "metadata": {},
   "outputs": [
    {
     "data": {
      "text/html": [
       "<div>\n",
       "<style scoped>\n",
       "    .dataframe tbody tr th:only-of-type {\n",
       "        vertical-align: middle;\n",
       "    }\n",
       "\n",
       "    .dataframe tbody tr th {\n",
       "        vertical-align: top;\n",
       "    }\n",
       "\n",
       "    .dataframe thead th {\n",
       "        text-align: right;\n",
       "    }\n",
       "</style>\n",
       "<table border=\"1\" class=\"dataframe\">\n",
       "  <thead>\n",
       "    <tr style=\"text-align: right;\">\n",
       "      <th>col_0</th>\n",
       "      <th>count</th>\n",
       "    </tr>\n",
       "    <tr>\n",
       "      <th>proto</th>\n",
       "      <th></th>\n",
       "    </tr>\n",
       "  </thead>\n",
       "  <tbody>\n",
       "    <tr>\n",
       "      <th>arp</th>\n",
       "      <td>0.018018</td>\n",
       "    </tr>\n",
       "    <tr>\n",
       "      <th>ipv6-icmp</th>\n",
       "      <td>0.005405</td>\n",
       "    </tr>\n",
       "    <tr>\n",
       "      <th>tcp</th>\n",
       "      <td>0.810811</td>\n",
       "    </tr>\n",
       "    <tr>\n",
       "      <th>udp</th>\n",
       "      <td>0.165766</td>\n",
       "    </tr>\n",
       "  </tbody>\n",
       "</table>\n",
       "</div>"
      ],
      "text/plain": [
       "col_0         count\n",
       "proto              \n",
       "arp        0.018018\n",
       "ipv6-icmp  0.005405\n",
       "tcp        0.810811\n",
       "udp        0.165766"
      ]
     },
     "metadata": {},
     "output_type": "display_data"
    },
    {
     "data": {
      "text/plain": []
     },
     "execution_count": 17,
     "metadata": {},
     "output_type": "execute_result"
    }
   ],
   "source": [
    "#proto proportion table\n",
    "pd.crosstab(index=data['proto'],columns='count',normalize=True)"
   ]
  },
  {
   "cell_type": "code",
   "execution_count": 18,
   "metadata": {},
   "outputs": [
    {
     "data": {
      "text/html": [
       "<div>\n",
       "<style scoped>\n",
       "    .dataframe tbody tr th:only-of-type {\n",
       "        vertical-align: middle;\n",
       "    }\n",
       "\n",
       "    .dataframe tbody tr th {\n",
       "        vertical-align: top;\n",
       "    }\n",
       "\n",
       "    .dataframe thead th {\n",
       "        text-align: right;\n",
       "    }\n",
       "</style>\n",
       "<table border=\"1\" class=\"dataframe\">\n",
       "  <thead>\n",
       "    <tr style=\"text-align: right;\">\n",
       "      <th>attack</th>\n",
       "      <th>0</th>\n",
       "      <th>1</th>\n",
       "    </tr>\n",
       "    <tr>\n",
       "      <th>proto</th>\n",
       "      <th></th>\n",
       "      <th></th>\n",
       "    </tr>\n",
       "  </thead>\n",
       "  <tbody>\n",
       "    <tr>\n",
       "      <th>arp</th>\n",
       "      <td>0.018018</td>\n",
       "      <td>0.000000</td>\n",
       "    </tr>\n",
       "    <tr>\n",
       "      <th>ipv6-icmp</th>\n",
       "      <td>0.005405</td>\n",
       "      <td>0.000000</td>\n",
       "    </tr>\n",
       "    <tr>\n",
       "      <th>tcp</th>\n",
       "      <td>0.023423</td>\n",
       "      <td>0.787387</td>\n",
       "    </tr>\n",
       "    <tr>\n",
       "      <th>udp</th>\n",
       "      <td>0.165766</td>\n",
       "      <td>0.000000</td>\n",
       "    </tr>\n",
       "  </tbody>\n",
       "</table>\n",
       "</div>"
      ],
      "text/plain": [
       "attack            0         1\n",
       "proto                        \n",
       "arp        0.018018  0.000000\n",
       "ipv6-icmp  0.005405  0.000000\n",
       "tcp        0.023423  0.787387\n",
       "udp        0.165766  0.000000"
      ]
     },
     "metadata": {},
     "output_type": "display_data"
    },
    {
     "data": {
      "text/plain": []
     },
     "execution_count": 18,
     "metadata": {},
     "output_type": "execute_result"
    }
   ],
   "source": [
    "#proto vs attack\n",
    "pd.crosstab(index=data['proto'],columns=data['attack'],normalize=True)"
   ]
  },
  {
   "cell_type": "code",
   "execution_count": 19,
   "metadata": {},
   "outputs": [
    {
     "data": {
      "application/vnd.jupyter.widget-view+json": {
       "model_id": "8017c6eabc5042d1984e75d30251c92d",
       "version_major": 2,
       "version_minor": 0
      },
      "text/plain": [
       "Button(description='Toggle Pandas/Lux', layout=Layout(top='5px', width='140px'), style=ButtonStyle())"
      ]
     },
     "metadata": {},
     "output_type": "display_data"
    },
    {
     "data": {
      "application/vnd.jupyter.widget-view+json": {
       "model_id": "2fa432ab66db49a192ea62f3f17ed644",
       "version_major": 2,
       "version_minor": 0
      },
      "text/plain": [
       "Output()"
      ]
     },
     "metadata": {},
     "output_type": "display_data"
    },
    {
     "data": {
      "text/plain": [
       "<matplotlib.axes._subplots.AxesSubplot at 0x1c9e98cf128>"
      ]
     },
     "execution_count": 19,
     "metadata": {},
     "output_type": "execute_result"
    },
    {
     "data": {
      "image/png": "[encoded data removed]",
      "text/plain": [
       "<Figure size 432x288 with 1 Axes>"
      ]
     },
     "metadata": {
      "needs_background": "light"
     },
     "output_type": "display_data"
    }
   ],
   "source": [
    "#frequency distribution of attack\n",
    "sns.countplot(data['attack'])"
   ]
  },
  {
   "cell_type": "code",
   "execution_count": 20,
   "metadata": {},
   "outputs": [],
   "source": [
    "\n",
    "data=data.drop(columns='pkSeqID')"
   ]
  },
  {
   "cell_type": "code",
   "execution_count": 21,
   "metadata": {},
   "outputs": [],
   "source": [
    "#Categorical Encoding\n",
    "data=pd.get_dummies(data)"
   ]
  },
  {
   "cell_type": "code",
   "execution_count": 22,
   "metadata": {},
   "outputs": [
    {
     "data": {
      "text/html": [
       "<div>\n",
       "<style scoped>\n",
       "    .dataframe tbody tr th:only-of-type {\n",
       "        vertical-align: middle;\n",
       "    }\n",
       "\n",
       "    .dataframe tbody tr th {\n",
       "        vertical-align: top;\n",
       "    }\n",
       "\n",
       "    .dataframe thead th {\n",
       "        text-align: right;\n",
       "    }\n",
       "</style>\n",
       "<table border=\"1\" class=\"dataframe\">\n",
       "  <thead>\n",
       "    <tr style=\"text-align: right;\">\n",
       "      <th></th>\n",
       "      <th>sport</th>\n",
       "      <th>dport</th>\n",
       "      <th>seq</th>\n",
       "      <th>stddev</th>\n",
       "      <th>N_IN_Conn_P_SrcIP</th>\n",
       "      <th>min</th>\n",
       "      <th>state_number</th>\n",
       "      <th>mean</th>\n",
       "      <th>N_IN_Conn_P_DstIP</th>\n",
       "      <th>drate</th>\n",
       "      <th>srate</th>\n",
       "      <th>max</th>\n",
       "      <th>attack</th>\n",
       "      <th>proto_arp</th>\n",
       "      <th>proto_ipv6-icmp</th>\n",
       "      <th>proto_tcp</th>\n",
       "      <th>proto_udp</th>\n",
       "    </tr>\n",
       "  </thead>\n",
       "  <tbody>\n",
       "    <tr>\n",
       "      <th>0</th>\n",
       "      <td>51940</td>\n",
       "      <td>80</td>\n",
       "      <td>945</td>\n",
       "      <td>0.949318</td>\n",
       "      <td>100</td>\n",
       "      <td>0.000000</td>\n",
       "      <td>1</td>\n",
       "      <td>0.671317</td>\n",
       "      <td>100</td>\n",
       "      <td>0.249423</td>\n",
       "      <td>0.356085</td>\n",
       "      <td>2.013856</td>\n",
       "      <td>1</td>\n",
       "      <td>0</td>\n",
       "      <td>0</td>\n",
       "      <td>1</td>\n",
       "      <td>0</td>\n",
       "    </tr>\n",
       "    <tr>\n",
       "      <th>1</th>\n",
       "      <td>52894</td>\n",
       "      <td>80</td>\n",
       "      <td>621</td>\n",
       "      <td>0.000031</td>\n",
       "      <td>15</td>\n",
       "      <td>0.000000</td>\n",
       "      <td>1</td>\n",
       "      <td>0.000018</td>\n",
       "      <td>17</td>\n",
       "      <td>0.249041</td>\n",
       "      <td>0.237660</td>\n",
       "      <td>0.000071</td>\n",
       "      <td>1</td>\n",
       "      <td>0</td>\n",
       "      <td>0</td>\n",
       "      <td>1</td>\n",
       "      <td>0</td>\n",
       "    </tr>\n",
       "    <tr>\n",
       "      <th>2</th>\n",
       "      <td>50404</td>\n",
       "      <td>80</td>\n",
       "      <td>880</td>\n",
       "      <td>1.975777</td>\n",
       "      <td>18</td>\n",
       "      <td>0.000000</td>\n",
       "      <td>1</td>\n",
       "      <td>2.338181</td>\n",
       "      <td>45</td>\n",
       "      <td>0.131477</td>\n",
       "      <td>0.394432</td>\n",
       "      <td>4.738491</td>\n",
       "      <td>1</td>\n",
       "      <td>0</td>\n",
       "      <td>0</td>\n",
       "      <td>1</td>\n",
       "      <td>0</td>\n",
       "    </tr>\n",
       "    <tr>\n",
       "      <th>3</th>\n",
       "      <td>51768</td>\n",
       "      <td>80</td>\n",
       "      <td>573</td>\n",
       "      <td>0.126828</td>\n",
       "      <td>82</td>\n",
       "      <td>0.866681</td>\n",
       "      <td>1</td>\n",
       "      <td>0.993509</td>\n",
       "      <td>100</td>\n",
       "      <td>0.486430</td>\n",
       "      <td>0.710826</td>\n",
       "      <td>1.120337</td>\n",
       "      <td>1</td>\n",
       "      <td>0</td>\n",
       "      <td>0</td>\n",
       "      <td>1</td>\n",
       "      <td>0</td>\n",
       "    </tr>\n",
       "    <tr>\n",
       "      <th>4</th>\n",
       "      <td>0</td>\n",
       "      <td>0</td>\n",
       "      <td>7</td>\n",
       "      <td>0.235357</td>\n",
       "      <td>7</td>\n",
       "      <td>0.598172</td>\n",
       "      <td>2</td>\n",
       "      <td>4.898582</td>\n",
       "      <td>7</td>\n",
       "      <td>0.000000</td>\n",
       "      <td>10.932437</td>\n",
       "      <td>4.999866</td>\n",
       "      <td>0</td>\n",
       "      <td>0</td>\n",
       "      <td>0</td>\n",
       "      <td>1</td>\n",
       "      <td>0</td>\n",
       "    </tr>\n",
       "  </tbody>\n",
       "</table>\n",
       "</div>"
      ],
      "text/plain": [
       "   sport  dport  seq    stddev  N_IN_Conn_P_SrcIP       min  state_number  \\\n",
       "0  51940     80  945  0.949318                100  0.000000             1   \n",
       "1  52894     80  621  0.000031                 15  0.000000             1   \n",
       "2  50404     80  880  1.975777                 18  0.000000             1   \n",
       "3  51768     80  573  0.126828                 82  0.866681             1   \n",
       "4      0      0    7  0.235357                  7  0.598172             2   \n",
       "\n",
       "       mean  N_IN_Conn_P_DstIP     drate      srate       max  attack  \\\n",
       "0  0.671317                100  0.249423   0.356085  2.013856       1   \n",
       "1  0.000018                 17  0.249041   0.237660  0.000071       1   \n",
       "2  2.338181                 45  0.131477   0.394432  4.738491       1   \n",
       "3  0.993509                100  0.486430   0.710826  1.120337       1   \n",
       "4  4.898582                  7  0.000000  10.932437  4.999866       0   \n",
       "\n",
       "   proto_arp  proto_ipv6-icmp  proto_tcp  proto_udp  \n",
       "0          0                0          1          0  \n",
       "1          0                0          1          0  \n",
       "2          0                0          1          0  \n",
       "3          0                0          1          0  \n",
       "4          0                0          1          0  "
      ]
     },
     "metadata": {},
     "output_type": "display_data"
    },
    {
     "data": {
      "text/plain": []
     },
     "execution_count": 22,
     "metadata": {},
     "output_type": "execute_result"
    }
   ],
   "source": [
    "data.head()"
   ]
  },
  {
   "cell_type": "code",
   "execution_count": 23,
   "metadata": {},
   "outputs": [],
   "source": [
    "#Seperating the features and target variable\n",
    "y=data['attack']\n",
    "x=data.drop(columns='attack')"
   ]
  },
  {
   "cell_type": "code",
   "execution_count": 24,
   "metadata": {},
   "outputs": [
    {
     "data": {
      "text/plain": [
       "(555, 17)"
      ]
     },
     "execution_count": 24,
     "metadata": {},
     "output_type": "execute_result"
    }
   ],
   "source": [
    "data.shape"
   ]
  },
  {
   "cell_type": "code",
   "execution_count": 25,
   "metadata": {},
   "outputs": [
    {
     "data": {
      "text/plain": [
       "(555, 16)"
      ]
     },
     "execution_count": 25,
     "metadata": {},
     "output_type": "execute_result"
    }
   ],
   "source": [
    "x.shape"
   ]
  },
  {
   "cell_type": "markdown",
   "metadata": {},
   "source": [
    "#"
   ]
  },
  {
   "cell_type": "code",
   "execution_count": 26,
   "metadata": {},
   "outputs": [],
   "source": [
    "#Balancing the target variable\n",
    "from imblearn.combine import SMOTETomek\n",
    "smk = SMOTETomek(random_state = 0)\n",
    "x, y = smk.fit_sample(x,y)"
   ]
  },
  {
   "cell_type": "code",
   "execution_count": 27,
   "metadata": {},
   "outputs": [
    {
     "data": {
      "text/plain": [
       "(874, 16)"
      ]
     },
     "execution_count": 27,
     "metadata": {},
     "output_type": "execute_result"
    }
   ],
   "source": [
    "x.shape"
   ]
  },
  {
   "cell_type": "code",
   "execution_count": 28,
   "metadata": {},
   "outputs": [
    {
     "data": {
      "text/plain": [
       "<matplotlib.axes._subplots.AxesSubplot at 0x1c9eaaaf518>"
      ]
     },
     "execution_count": 28,
     "metadata": {},
     "output_type": "execute_result"
    },
    {
     "data": {
      "image/png": "[encoded data removed]",
      "text/plain": [
       "<Figure size 432x288 with 1 Axes>"
      ]
     },
     "metadata": {
      "needs_background": "light"
     },
     "output_type": "display_data"
    }
   ],
   "source": [
    "sns.countplot(y)"
   ]
  },
  {
   "cell_type": "code",
   "execution_count": 29,
   "metadata": {},
   "outputs": [],
   "source": [
    "#Spliting dataset into Train and Test set \n",
    "from sklearn.model_selection import train_test_split\n",
    "x_train,x_test,y_train,y_test = train_test_split(x,y,test_size = 0.3, random_state = 0)"
   ]
  },
  {
   "cell_type": "code",
   "execution_count": 30,
   "metadata": {},
   "outputs": [],
   "source": [
    "#Feature Scaling\n",
    "from sklearn.preprocessing import StandardScaler\n",
    "sc = StandardScaler()\n",
    "x_train = sc.fit_transform(x_train)\n",
    "x_test = sc.transform(x_test)"
   ]
  },
  {
   "cell_type": "code",
   "execution_count": 31,
   "metadata": {},
   "outputs": [
    {
     "data": {
      "text/plain": [
       "AdaBoostClassifier()"
      ]
     },
     "execution_count": 31,
     "metadata": {},
     "output_type": "execute_result"
    }
   ],
   "source": [
    "from sklearn.ensemble import AdaBoostClassifier\n",
    "from sklearn.model_selection import cross_val_score\n",
    "clf=AdaBoostClassifier()\n",
    "clf.fit(x_train,y_train)"
   ]
  },
  {
   "cell_type": "code",
   "execution_count": 32,
   "metadata": {},
   "outputs": [
    {
     "name": "stdout",
     "output_type": "stream",
     "text": [
      " Testing Accuracy: 100.00%\n",
      "Cross Validation Accuracy: 100.00% \n"
     ]
    }
   ],
   "source": [
    "#Checking the accuracy of model\n",
    "from sklearn.metrics import accuracy_score\n",
    "y_pred=clf.predict(x_test)\n",
    "accuracy = accuracy_score(y_test, y_pred)\n",
    "print(\" Testing Accuracy: %.2f%%\" % (accuracy * 100.0))\n",
    "scores = cross_val_score(clf, x_train, y_train, cv=10)\n",
    "print(\"Cross Validation Accuracy: %.2f%% \" % (scores.mean()*100))"
   ]
  },
  {
   "cell_type": "code",
   "execution_count": 33,
   "metadata": {},
   "outputs": [
    {
     "data": {
      "text/plain": [
       "Text(0.5, 1.0, 'AdaBoostClassifier')"
      ]
     },
     "execution_count": 33,
     "metadata": {},
     "output_type": "execute_result"
    },
    {
     "data": {
      "image/png": "[encoded data removed]",
      "text/plain": [
       "<Figure size 432x288 with 2 Axes>"
      ]
     },
     "metadata": {
      "needs_background": "light"
     },
     "output_type": "display_data"
    }
   ],
   "source": [
    "#confusion matrix\n",
    "from sklearn.metrics import confusion_matrix\n",
    "con = confusion_matrix(y_test,y_pred)\n",
    "import seaborn as sns\n",
    "import matplotlib.pyplot as plt\n",
    "axes = sns.heatmap(con, square=True,annot=True,fmt='d',cbar = True, cmap = plt.cm.GnBu)\n",
    "ax = plt.axes()\n",
    "plt.xlabel('Predicted Values')\n",
    "plt.ylabel('Actual values')\n",
    "ax.set_title('AdaBoostClassifier')"
   ]
  },
  {
   "cell_type": "code",
   "execution_count": 34,
   "metadata": {},
   "outputs": [
    {
     "name": "stdout",
     "output_type": "stream",
     "text": [
      "AdaBoost Classifier\n",
      "              precision    recall  f1-score   support\n",
      "\n",
      "           0       1.00      1.00      1.00       133\n",
      "           1       1.00      1.00      1.00       130\n",
      "\n",
      "    accuracy                           1.00       263\n",
      "   macro avg       1.00      1.00      1.00       263\n",
      "weighted avg       1.00      1.00      1.00       263\n",
      "\n"
     ]
    }
   ],
   "source": [
    "from sklearn.metrics import classification_report\n",
    "print('AdaBoost Classifier')\n",
    "print(classification_report(y_test, y_pred))"
   ]
  },
  {
   "cell_type": "code",
   "execution_count": 35,
   "metadata": {},
   "outputs": [
    {
     "data": {
      "text/plain": [
       "1.0"
      ]
     },
     "execution_count": 35,
     "metadata": {},
     "output_type": "execute_result"
    }
   ],
   "source": [
    "from sklearn.metrics import roc_auc_score\n",
    "roc_auc_score(y_test,y_pred)"
   ]
  },
  {
   "cell_type": "code",
   "execution_count": 36,
   "metadata": {},
   "outputs": [
    {
     "data": {
      "image/png": "[encoded data removed]",
      "text/plain": [
       "<Figure size 720x1080 with 3 Axes>"
      ]
     },
     "metadata": {
      "needs_background": "light"
     },
     "output_type": "display_data"
    }
   ],
   "source": [
    "#from sklearn.model_selection import learning_curve\n",
    "from sklearn.model_selection import learning_curve\n",
    "from sklearn.model_selection import ShuffleSplit\n",
    "\n",
    "def plot_learning_curve(estimator, title, x, y, axes=None, ylim=None, cv=None,\n",
    "                        n_jobs=None, train_sizes=np.linspace(.1, 1.0, 5)):\n",
    "   \n",
    "    if axes is None:\n",
    "        _, axes = plt.subplots(1, 1, figsize=(20, 5))\n",
    "\n",
    "    axes[0].set_title(title)\n",
    "    if ylim is not None:\n",
    "        axes[0].set_ylim(*ylim)\n",
    "    axes[0].set_xlabel(\"Training examples\")\n",
    "    axes[0].set_ylabel(\"Score\")\n",
    "\n",
    "    train_sizes, train_scores, test_scores, fit_times, _ = \\\n",
    "        learning_curve(estimator, x, y, cv=cv, n_jobs=n_jobs,\n",
    "                       train_sizes=train_sizes,\n",
    "                       return_times=True)\n",
    "    train_scores_mean = np.mean(train_scores, axis=1)\n",
    "    train_scores_std = np.std(train_scores, axis=1)\n",
    "    test_scores_mean = np.mean(test_scores, axis=1)\n",
    "    test_scores_std = np.std(test_scores, axis=1)\n",
    "    fit_times_mean = np.mean(fit_times, axis=1)\n",
    "    fit_times_std = np.std(fit_times, axis=1)\n",
    "\n",
    "    # Plot learning curve\n",
    "    axes[0].grid()\n",
    "    axes[0].fill_between(train_sizes, train_scores_mean - train_scores_std,\n",
    "                         train_scores_mean + train_scores_std, alpha=0.1,\n",
    "                         color=\"r\")\n",
    "    axes[0].fill_between(train_sizes, test_scores_mean - test_scores_std,\n",
    "                         test_scores_mean + test_scores_std, alpha=0.1,\n",
    "                         color=\"g\")\n",
    "    axes[0].plot(train_sizes, train_scores_mean, 'o-', color=\"r\",\n",
    "                 label=\"Training score\")\n",
    "    axes[0].plot(train_sizes, test_scores_mean, 'o-', color=\"g\",\n",
    "                 label=\"Cross-validation score\")\n",
    "    axes[0].legend(loc=\"best\")\n",
    "\n",
    "    # Plot n_samples vs fit_times\n",
    "    axes[1].grid()\n",
    "    axes[1].plot(train_sizes, fit_times_mean, 'o-')\n",
    "    axes[1].fill_between(train_sizes, fit_times_mean - fit_times_std,\n",
    "                         fit_times_mean + fit_times_std, alpha=0.1)\n",
    "    axes[1].set_xlabel(\"Training examples\")\n",
    "    axes[1].set_ylabel(\"fit_times\")\n",
    "    axes[1].set_title(\"Scalability of the model\")\n",
    "\n",
    "    # Plot fit_time vs score\n",
    "    axes[2].grid()\n",
    "    axes[2].plot(fit_times_mean, test_scores_mean, 'o-')\n",
    "    axes[2].fill_between(fit_times_mean, test_scores_mean - test_scores_std,\n",
    "                         test_scores_mean + test_scores_std, alpha=0.1)\n",
    "    axes[2].set_xlabel(\"fit_times\")\n",
    "    axes[2].set_ylabel(\"Score\")\n",
    "    axes[2].set_title(\"Performance of the model\")\n",
    "\n",
    "\n",
    "fig, axes = plt.subplots(3, 1, figsize=(10, 15))\n",
    "\n",
    "title = \"Learning Curves (AdaBoost Classifier)\"\n",
    "# Cross validation with 10 iterations to get smoother mean test and train\n",
    "# score curves, each time with 20% data randomly selected as a validation set.\n",
    "cv = ShuffleSplit(n_splits=10, test_size=0.2, random_state=0)\n",
    "\n",
    "estimator = AdaBoostClassifier()\n",
    "plot_learning_curve(estimator, title, x, y,axes=axes[:,], cv=cv, ylim=(0.7, 1.01), n_jobs=4)\n",
    "\n",
    "plt.show()"
   ]
  },
  {
   "cell_type": "code",
   "execution_count": null,
   "metadata": {},
   "outputs": [],
   "source": []
  }
 ],
 "metadata": {
  "kernelspec": {
   "display_name": "Python 3",
   "language": "python",
   "name": "python3"
  },
  "language_info": {
   "codemirror_mode": {
    "name": "ipython",
    "version": 3
   },
   "file_extension": ".py",
   "mimetype": "text/x-python",
   "name": "python",
   "nbconvert_exporter": "python",
   "pygments_lexer": "ipython3",
   "version": "3.7.3"
  }
 },
 "nbformat": 4,
 "nbformat_minor": 2
}
