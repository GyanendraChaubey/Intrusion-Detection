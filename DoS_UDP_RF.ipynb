{
  "nbformat": 4,
  "nbformat_minor": 0,
  "metadata": {
    "kernelspec": {
      "display_name": "Python 3",
      "language": "python",
      "name": "python3"
    },
    "language_info": {
      "codemirror_mode": {
        "name": "ipython",
        "version": 3
      },
      "file_extension": ".py",
      "mimetype": "text/x-python",
      "name": "python",
      "nbconvert_exporter": "python",
      "pygments_lexer": "ipython3",
      "version": "3.7.3"
    },
    "colab": {
      "name": "DoS_UDP_RF.ipynb",
      "provenance": [],
      "toc_visible": true
    }
  },
  "cells": [
    {
      "cell_type": "code",
      "metadata": {
        "id": "Uqoav8B2y6ml"
      },
      "source": [
        "#Importing the necessary libraries\n",
        "import numpy as np\n",
        "import pandas as pd\n",
        "import matplotlib.pyplot as plt\n",
        "import seaborn as sns\n",
        "sns.set()\n",
        "import warnings\n",
        "warnings.filterwarnings('ignore')\n",
        "import pandas.util.testing as tm"
      ],
      "execution_count": 26,
      "outputs": []
    },
    {
      "cell_type": "code",
      "metadata": {
        "id": "04pGWtn_0R3b",
        "outputId": "16150674-6cbe-4422-9080-3d14459402d7",
        "colab": {
          "base_uri": "https://localhost:8080/"
        }
      },
      "source": [
        "from google.colab import drive\n",
        "drive.mount('/content/drive')"
      ],
      "execution_count": 27,
      "outputs": [
        {
          "output_type": "stream",
          "text": [
            "Drive already mounted at /content/drive; to attempt to forcibly remount, call drive.mount(\"/content/drive\", force_remount=True).\n"
          ],
          "name": "stdout"
        }
      ]
    },
    {
      "cell_type": "code",
      "metadata": {
        "id": "ktHxZGl2y6mw"
      },
      "source": [
        "#Read the data\n",
        "data=pd.read_csv(\"/content/drive/My Drive/DOS_UDP.csv\")"
      ],
      "execution_count": 28,
      "outputs": []
    },
    {
      "cell_type": "code",
      "metadata": {
        "id": "uB3FcvvGy6my"
      },
      "source": [
        "#Making a copy of data\n",
        "data=data.copy()"
      ],
      "execution_count": 29,
      "outputs": []
    },
    {
      "cell_type": "markdown",
      "metadata": {
        "id": "nqCErn_5y6m0"
      },
      "source": [
        "#Feature Engineering"
      ]
    },
    {
      "cell_type": "markdown",
      "metadata": {
        "id": "VDvHBE81y6m1"
      },
      "source": [
        "1. Understanding Data"
      ]
    },
    {
      "cell_type": "code",
      "metadata": {
        "id": "rvJqV5Cmy6m3",
        "outputId": "62cd4d07-3095-4bdb-bacc-094f6e649258",
        "colab": {
          "base_uri": "https://localhost:8080/"
        }
      },
      "source": [
        "#checking the missing values\n",
        "data.isnull().sum()"
      ],
      "execution_count": 30,
      "outputs": [
        {
          "output_type": "execute_result",
          "data": {
            "text/plain": [
              "pkSeqID              0\n",
              "proto                0\n",
              "saddr                0\n",
              "sport                0\n",
              "daddr                0\n",
              "dport                0\n",
              "seq                  0\n",
              "stddev               0\n",
              "N_IN_Conn_P_SrcIP    0\n",
              "min                  0\n",
              "state_number         0\n",
              "mean                 0\n",
              "N_IN_Conn_P_DstIP    0\n",
              "drate                0\n",
              "srate                0\n",
              "max                  0\n",
              "attack               0\n",
              "category             0\n",
              "subcategory          0\n",
              "dtype: int64"
            ]
          },
          "metadata": {
            "tags": []
          },
          "execution_count": 30
        }
      ]
    },
    {
      "cell_type": "code",
      "metadata": {
        "id": "IQH0tJf9y6m4",
        "outputId": "ab169de7-c280-4692-b8b8-8717a2f3faca",
        "colab": {
          "base_uri": "https://localhost:8080/"
        }
      },
      "source": [
        "data.info()"
      ],
      "execution_count": 31,
      "outputs": [
        {
          "output_type": "stream",
          "text": [
            "<class 'pandas.core.frame.DataFrame'>\n",
            "RangeIndex: 295188 entries, 0 to 295187\n",
            "Data columns (total 19 columns):\n",
            " #   Column             Non-Null Count   Dtype  \n",
            "---  ------             --------------   -----  \n",
            " 0   pkSeqID            295188 non-null  int64  \n",
            " 1   proto              295188 non-null  object \n",
            " 2   saddr              295188 non-null  object \n",
            " 3   sport              295188 non-null  int64  \n",
            " 4   daddr              295188 non-null  object \n",
            " 5   dport              295188 non-null  int64  \n",
            " 6   seq                295188 non-null  int64  \n",
            " 7   stddev             295188 non-null  float64\n",
            " 8   N_IN_Conn_P_SrcIP  295188 non-null  int64  \n",
            " 9   min                295188 non-null  float64\n",
            " 10  state_number       295188 non-null  int64  \n",
            " 11  mean               295188 non-null  float64\n",
            " 12  N_IN_Conn_P_DstIP  295188 non-null  int64  \n",
            " 13  drate              295188 non-null  float64\n",
            " 14  srate              295188 non-null  float64\n",
            " 15  max                295188 non-null  float64\n",
            " 16  attack             295188 non-null  int64  \n",
            " 17  category           295188 non-null  object \n",
            " 18  subcategory        295188 non-null  object \n",
            "dtypes: float64(6), int64(8), object(5)\n",
            "memory usage: 42.8+ MB\n"
          ],
          "name": "stdout"
        }
      ]
    },
    {
      "cell_type": "code",
      "metadata": {
        "id": "nPMVUlRgy6m5",
        "outputId": "62a82834-cc83-4601-a847-04b3f628055b",
        "colab": {
          "base_uri": "https://localhost:8080/",
          "height": 224
        }
      },
      "source": [
        "data.head()"
      ],
      "execution_count": 32,
      "outputs": [
        {
          "output_type": "execute_result",
          "data": {
            "text/html": [
              "<div>\n",
              "<style scoped>\n",
              "    .dataframe tbody tr th:only-of-type {\n",
              "        vertical-align: middle;\n",
              "    }\n",
              "\n",
              "    .dataframe tbody tr th {\n",
              "        vertical-align: top;\n",
              "    }\n",
              "\n",
              "    .dataframe thead th {\n",
              "        text-align: right;\n",
              "    }\n",
              "</style>\n",
              "<table border=\"1\" class=\"dataframe\">\n",
              "  <thead>\n",
              "    <tr style=\"text-align: right;\">\n",
              "      <th></th>\n",
              "      <th>pkSeqID</th>\n",
              "      <th>proto</th>\n",
              "      <th>saddr</th>\n",
              "      <th>sport</th>\n",
              "      <th>daddr</th>\n",
              "      <th>dport</th>\n",
              "      <th>seq</th>\n",
              "      <th>stddev</th>\n",
              "      <th>N_IN_Conn_P_SrcIP</th>\n",
              "      <th>min</th>\n",
              "      <th>state_number</th>\n",
              "      <th>mean</th>\n",
              "      <th>N_IN_Conn_P_DstIP</th>\n",
              "      <th>drate</th>\n",
              "      <th>srate</th>\n",
              "      <th>max</th>\n",
              "      <th>attack</th>\n",
              "      <th>category</th>\n",
              "      <th>subcategory</th>\n",
              "    </tr>\n",
              "  </thead>\n",
              "  <tbody>\n",
              "    <tr>\n",
              "      <th>0</th>\n",
              "      <td>1240757</td>\n",
              "      <td>udp</td>\n",
              "      <td>192.168.100.150</td>\n",
              "      <td>48719</td>\n",
              "      <td>192.168.100.3</td>\n",
              "      <td>80</td>\n",
              "      <td>99168</td>\n",
              "      <td>1.823185</td>\n",
              "      <td>63</td>\n",
              "      <td>0.000000</td>\n",
              "      <td>4</td>\n",
              "      <td>3.222832</td>\n",
              "      <td>63</td>\n",
              "      <td>0.0</td>\n",
              "      <td>0.461435</td>\n",
              "      <td>4.942302</td>\n",
              "      <td>1</td>\n",
              "      <td>DoS</td>\n",
              "      <td>UDP</td>\n",
              "    </tr>\n",
              "    <tr>\n",
              "      <th>1</th>\n",
              "      <td>787741</td>\n",
              "      <td>udp</td>\n",
              "      <td>192.168.100.149</td>\n",
              "      <td>33530</td>\n",
              "      <td>192.168.100.5</td>\n",
              "      <td>80</td>\n",
              "      <td>170464</td>\n",
              "      <td>2.113912</td>\n",
              "      <td>100</td>\n",
              "      <td>0.000000</td>\n",
              "      <td>4</td>\n",
              "      <td>2.112801</td>\n",
              "      <td>100</td>\n",
              "      <td>0.0</td>\n",
              "      <td>0.209328</td>\n",
              "      <td>4.322539</td>\n",
              "      <td>1</td>\n",
              "      <td>DoS</td>\n",
              "      <td>UDP</td>\n",
              "    </tr>\n",
              "    <tr>\n",
              "      <th>2</th>\n",
              "      <td>1429027</td>\n",
              "      <td>udp</td>\n",
              "      <td>192.168.100.148</td>\n",
              "      <td>108</td>\n",
              "      <td>192.168.100.6</td>\n",
              "      <td>80</td>\n",
              "      <td>25284</td>\n",
              "      <td>0.028597</td>\n",
              "      <td>100</td>\n",
              "      <td>4.002665</td>\n",
              "      <td>4</td>\n",
              "      <td>4.046831</td>\n",
              "      <td>100</td>\n",
              "      <td>0.0</td>\n",
              "      <td>0.247826</td>\n",
              "      <td>4.082324</td>\n",
              "      <td>1</td>\n",
              "      <td>DoS</td>\n",
              "      <td>UDP</td>\n",
              "    </tr>\n",
              "    <tr>\n",
              "      <th>3</th>\n",
              "      <td>1479476</td>\n",
              "      <td>udp</td>\n",
              "      <td>192.168.100.149</td>\n",
              "      <td>38264</td>\n",
              "      <td>192.168.100.5</td>\n",
              "      <td>80</td>\n",
              "      <td>75733</td>\n",
              "      <td>0.126301</td>\n",
              "      <td>100</td>\n",
              "      <td>3.258537</td>\n",
              "      <td>4</td>\n",
              "      <td>3.375540</td>\n",
              "      <td>100</td>\n",
              "      <td>0.0</td>\n",
              "      <td>0.282681</td>\n",
              "      <td>3.580228</td>\n",
              "      <td>1</td>\n",
              "      <td>DoS</td>\n",
              "      <td>UDP</td>\n",
              "    </tr>\n",
              "    <tr>\n",
              "      <th>4</th>\n",
              "      <td>909045</td>\n",
              "      <td>udp</td>\n",
              "      <td>192.168.100.148</td>\n",
              "      <td>10365</td>\n",
              "      <td>192.168.100.6</td>\n",
              "      <td>80</td>\n",
              "      <td>29611</td>\n",
              "      <td>1.432325</td>\n",
              "      <td>90</td>\n",
              "      <td>0.000000</td>\n",
              "      <td>4</td>\n",
              "      <td>2.864638</td>\n",
              "      <td>90</td>\n",
              "      <td>0.0</td>\n",
              "      <td>0.280290</td>\n",
              "      <td>3.586937</td>\n",
              "      <td>1</td>\n",
              "      <td>DoS</td>\n",
              "      <td>UDP</td>\n",
              "    </tr>\n",
              "  </tbody>\n",
              "</table>\n",
              "</div>"
            ],
            "text/plain": [
              "   pkSeqID proto            saddr  sport  ...       max  attack  category  subcategory\n",
              "0  1240757   udp  192.168.100.150  48719  ...  4.942302       1       DoS          UDP\n",
              "1   787741   udp  192.168.100.149  33530  ...  4.322539       1       DoS          UDP\n",
              "2  1429027   udp  192.168.100.148    108  ...  4.082324       1       DoS          UDP\n",
              "3  1479476   udp  192.168.100.149  38264  ...  3.580228       1       DoS          UDP\n",
              "4   909045   udp  192.168.100.148  10365  ...  3.586937       1       DoS          UDP\n",
              "\n",
              "[5 rows x 19 columns]"
            ]
          },
          "metadata": {
            "tags": []
          },
          "execution_count": 32
        }
      ]
    },
    {
      "cell_type": "code",
      "metadata": {
        "id": "C5aZWV_oy6m6",
        "outputId": "9c23d886-dcde-49b9-e532-166003a7837f",
        "colab": {
          "base_uri": "https://localhost:8080/"
        }
      },
      "source": [
        "data['proto'].unique()"
      ],
      "execution_count": 33,
      "outputs": [
        {
          "output_type": "execute_result",
          "data": {
            "text/plain": [
              "array(['udp', 'tcp', 'arp', 'ipv6-icmp'], dtype=object)"
            ]
          },
          "metadata": {
            "tags": []
          },
          "execution_count": 33
        }
      ]
    },
    {
      "cell_type": "code",
      "metadata": {
        "id": "UrT196gdy6m6",
        "outputId": "548ddace-f347-4084-b34e-55924b277617",
        "colab": {
          "base_uri": "https://localhost:8080/"
        }
      },
      "source": [
        "data['saddr'].unique()"
      ],
      "execution_count": 34,
      "outputs": [
        {
          "output_type": "execute_result",
          "data": {
            "text/plain": [
              "array(['192.168.100.150', '192.168.100.149', '192.168.100.148',\n",
              "       '192.168.100.147', '192.168.100.5', '192.168.100.3',\n",
              "       '192.168.100.27', 'fe80::250:56ff:febe:254',\n",
              "       'fe80::250:56ff:febe:e9d9', '192.168.100.46',\n",
              "       'fe80::250:56ff:febe:26db', '192.168.100.1', '192.168.100.6',\n",
              "       'fe80::250:56ff:febe:89ee', '192.168.100.4', '192.168.100.7'],\n",
              "      dtype=object)"
            ]
          },
          "metadata": {
            "tags": []
          },
          "execution_count": 34
        }
      ]
    },
    {
      "cell_type": "code",
      "metadata": {
        "id": "QAkFP7rfy6m7",
        "outputId": "cd84edbb-94b6-4a0c-d535-ed3afb64287e",
        "colab": {
          "base_uri": "https://localhost:8080/"
        }
      },
      "source": [
        "data['daddr'].unique()"
      ],
      "execution_count": 35,
      "outputs": [
        {
          "output_type": "execute_result",
          "data": {
            "text/plain": [
              "array(['192.168.100.3', '192.168.100.5', '192.168.100.6', '192.168.100.7',\n",
              "       '192.168.217.2', '192.168.100.55', '255.255.255.255', '96.7.49.66',\n",
              "       '205.251.197.206', '192.168.100.1', '205.251.194.201',\n",
              "       '224.0.0.251', '205.251.196.32', '52.201.147.106', '192.5.5.241',\n",
              "       '192.55.83.30', '192.31.80.30', '8.8.8.8', '13.55.154.73',\n",
              "       'ff02::2', '192.41.162.30', '129.250.35.250', 'ff02::fb',\n",
              "       '27.124.125.250', '199.19.56.1', '192.33.14.30', '205.251.199.148',\n",
              "       '192.58.128.30', '192.12.94.30', '205.251.196.160',\n",
              "       '205.251.199.194', '192.36.148.17', '184.85.248.65', '192.33.4.12',\n",
              "       '52.11.124.117', '192.168.100.255', '192.54.112.30', 'ff02::1',\n",
              "       '172.217.25.170', '192.168.100.148', '205.251.194.102',\n",
              "       '192.112.36.4', '205.251.194.86', '192.168.100.27',\n",
              "       '192.52.178.30', '205.251.195.59', '52.35.35.13'], dtype=object)"
            ]
          },
          "metadata": {
            "tags": []
          },
          "execution_count": 35
        }
      ]
    },
    {
      "cell_type": "code",
      "metadata": {
        "id": "DRdJJaguy6m8",
        "outputId": "3ce1f2b6-5f60-4ed2-b65b-9ec18ae187ad",
        "colab": {
          "base_uri": "https://localhost:8080/",
          "height": 317
        }
      },
      "source": [
        "data.describe()"
      ],
      "execution_count": 36,
      "outputs": [
        {
          "output_type": "execute_result",
          "data": {
            "text/html": [
              "<div>\n",
              "<style scoped>\n",
              "    .dataframe tbody tr th:only-of-type {\n",
              "        vertical-align: middle;\n",
              "    }\n",
              "\n",
              "    .dataframe tbody tr th {\n",
              "        vertical-align: top;\n",
              "    }\n",
              "\n",
              "    .dataframe thead th {\n",
              "        text-align: right;\n",
              "    }\n",
              "</style>\n",
              "<table border=\"1\" class=\"dataframe\">\n",
              "  <thead>\n",
              "    <tr style=\"text-align: right;\">\n",
              "      <th></th>\n",
              "      <th>pkSeqID</th>\n",
              "      <th>sport</th>\n",
              "      <th>dport</th>\n",
              "      <th>seq</th>\n",
              "      <th>stddev</th>\n",
              "      <th>N_IN_Conn_P_SrcIP</th>\n",
              "      <th>min</th>\n",
              "      <th>state_number</th>\n",
              "      <th>mean</th>\n",
              "      <th>N_IN_Conn_P_DstIP</th>\n",
              "      <th>drate</th>\n",
              "      <th>srate</th>\n",
              "      <th>max</th>\n",
              "      <th>attack</th>\n",
              "    </tr>\n",
              "  </thead>\n",
              "  <tbody>\n",
              "    <tr>\n",
              "      <th>count</th>\n",
              "      <td>2.951880e+05</td>\n",
              "      <td>295188.000000</td>\n",
              "      <td>295188.000000</td>\n",
              "      <td>295188.000000</td>\n",
              "      <td>295188.000000</td>\n",
              "      <td>295188.000000</td>\n",
              "      <td>295188.000000</td>\n",
              "      <td>295188.000000</td>\n",
              "      <td>295188.000000</td>\n",
              "      <td>295188.000000</td>\n",
              "      <td>295188.000000</td>\n",
              "      <td>295188.000000</td>\n",
              "      <td>295188.000000</td>\n",
              "      <td>295188.00000</td>\n",
              "    </tr>\n",
              "    <tr>\n",
              "      <th>mean</th>\n",
              "      <td>1.134484e+06</td>\n",
              "      <td>32730.124781</td>\n",
              "      <td>80.368643</td>\n",
              "      <td>128952.088876</td>\n",
              "      <td>1.227157</td>\n",
              "      <td>84.916104</td>\n",
              "      <td>1.160165</td>\n",
              "      <td>3.999526</td>\n",
              "      <td>3.032434</td>\n",
              "      <td>84.910589</td>\n",
              "      <td>0.007588</td>\n",
              "      <td>3.705250</td>\n",
              "      <td>4.088931</td>\n",
              "      <td>0.99960</td>\n",
              "    </tr>\n",
              "    <tr>\n",
              "      <th>std</th>\n",
              "      <td>3.020110e+05</td>\n",
              "      <td>19035.453452</td>\n",
              "      <td>49.059054</td>\n",
              "      <td>74743.668757</td>\n",
              "      <td>0.745898</td>\n",
              "      <td>22.997154</td>\n",
              "      <td>1.680366</td>\n",
              "      <td>0.036438</td>\n",
              "      <td>0.821567</td>\n",
              "      <td>23.010391</td>\n",
              "      <td>4.010274</td>\n",
              "      <td>1840.562405</td>\n",
              "      <td>0.631001</td>\n",
              "      <td>0.01999</td>\n",
              "    </tr>\n",
              "    <tr>\n",
              "      <th>min</th>\n",
              "      <td>6.172860e+05</td>\n",
              "      <td>-1.000000</td>\n",
              "      <td>-1.000000</td>\n",
              "      <td>1.000000</td>\n",
              "      <td>0.000000</td>\n",
              "      <td>1.000000</td>\n",
              "      <td>0.000000</td>\n",
              "      <td>2.000000</td>\n",
              "      <td>0.000000</td>\n",
              "      <td>1.000000</td>\n",
              "      <td>0.000000</td>\n",
              "      <td>0.000000</td>\n",
              "      <td>0.000000</td>\n",
              "      <td>0.00000</td>\n",
              "    </tr>\n",
              "    <tr>\n",
              "      <th>25%</th>\n",
              "      <td>8.755530e+05</td>\n",
              "      <td>16145.000000</td>\n",
              "      <td>80.000000</td>\n",
              "      <td>64174.750000</td>\n",
              "      <td>0.456314</td>\n",
              "      <td>74.000000</td>\n",
              "      <td>0.000000</td>\n",
              "      <td>4.000000</td>\n",
              "      <td>2.381333</td>\n",
              "      <td>74.000000</td>\n",
              "      <td>0.000000</td>\n",
              "      <td>0.230914</td>\n",
              "      <td>3.655815</td>\n",
              "      <td>1.00000</td>\n",
              "    </tr>\n",
              "    <tr>\n",
              "      <th>50%</th>\n",
              "      <td>1.134374e+06</td>\n",
              "      <td>32750.000000</td>\n",
              "      <td>80.000000</td>\n",
              "      <td>128785.500000</td>\n",
              "      <td>1.577425</td>\n",
              "      <td>100.000000</td>\n",
              "      <td>0.000000</td>\n",
              "      <td>4.000000</td>\n",
              "      <td>3.040930</td>\n",
              "      <td>100.000000</td>\n",
              "      <td>0.000000</td>\n",
              "      <td>0.279815</td>\n",
              "      <td>4.132957</td>\n",
              "      <td>1.00000</td>\n",
              "    </tr>\n",
              "    <tr>\n",
              "      <th>75%</th>\n",
              "      <td>1.391749e+06</td>\n",
              "      <td>49392.000000</td>\n",
              "      <td>80.000000</td>\n",
              "      <td>193329.250000</td>\n",
              "      <td>1.790869</td>\n",
              "      <td>100.000000</td>\n",
              "      <td>3.048082</td>\n",
              "      <td>4.000000</td>\n",
              "      <td>3.584404</td>\n",
              "      <td>100.000000</td>\n",
              "      <td>0.000000</td>\n",
              "      <td>0.404198</td>\n",
              "      <td>4.618028</td>\n",
              "      <td>1.00000</td>\n",
              "    </tr>\n",
              "    <tr>\n",
              "      <th>max</th>\n",
              "      <td>3.577360e+06</td>\n",
              "      <td>65535.000000</td>\n",
              "      <td>8883.000000</td>\n",
              "      <td>262167.000000</td>\n",
              "      <td>2.272045</td>\n",
              "      <td>100.000000</td>\n",
              "      <td>4.950444</td>\n",
              "      <td>8.000000</td>\n",
              "      <td>4.966808</td>\n",
              "      <td>100.000000</td>\n",
              "      <td>2178.649170</td>\n",
              "      <td>1000000.000000</td>\n",
              "      <td>4.999998</td>\n",
              "      <td>1.00000</td>\n",
              "    </tr>\n",
              "  </tbody>\n",
              "</table>\n",
              "</div>"
            ],
            "text/plain": [
              "            pkSeqID          sport  ...            max        attack\n",
              "count  2.951880e+05  295188.000000  ...  295188.000000  295188.00000\n",
              "mean   1.134484e+06   32730.124781  ...       4.088931       0.99960\n",
              "std    3.020110e+05   19035.453452  ...       0.631001       0.01999\n",
              "min    6.172860e+05      -1.000000  ...       0.000000       0.00000\n",
              "25%    8.755530e+05   16145.000000  ...       3.655815       1.00000\n",
              "50%    1.134374e+06   32750.000000  ...       4.132957       1.00000\n",
              "75%    1.391749e+06   49392.000000  ...       4.618028       1.00000\n",
              "max    3.577360e+06   65535.000000  ...       4.999998       1.00000\n",
              "\n",
              "[8 rows x 14 columns]"
            ]
          },
          "metadata": {
            "tags": []
          },
          "execution_count": 36
        }
      ]
    },
    {
      "cell_type": "code",
      "metadata": {
        "id": "GHG3IKnzy6m9"
      },
      "source": [
        "#Removing the unwanted coloumns\n",
        "col=['saddr','daddr','category','subcategory']\n",
        "data=data.drop(columns=col,axis=1)"
      ],
      "execution_count": 37,
      "outputs": []
    },
    {
      "cell_type": "code",
      "metadata": {
        "id": "mSmU5Jwky6m9"
      },
      "source": [
        "#Removing the dublicate values\n",
        "data.drop_duplicates(keep='first',inplace=True)"
      ],
      "execution_count": 38,
      "outputs": []
    },
    {
      "cell_type": "markdown",
      "metadata": {
        "id": "gpJu04APy6m-"
      },
      "source": [
        "2. Exploratory Data Analysis"
      ]
    },
    {
      "cell_type": "code",
      "metadata": {
        "id": "aMKFmuOZy6m_",
        "outputId": "d669f275-d605-4f66-d053-ca73fe1de26a",
        "colab": {
          "base_uri": "https://localhost:8080/",
          "height": 224
        }
      },
      "source": [
        "data.head()"
      ],
      "execution_count": 39,
      "outputs": [
        {
          "output_type": "execute_result",
          "data": {
            "text/html": [
              "<div>\n",
              "<style scoped>\n",
              "    .dataframe tbody tr th:only-of-type {\n",
              "        vertical-align: middle;\n",
              "    }\n",
              "\n",
              "    .dataframe tbody tr th {\n",
              "        vertical-align: top;\n",
              "    }\n",
              "\n",
              "    .dataframe thead th {\n",
              "        text-align: right;\n",
              "    }\n",
              "</style>\n",
              "<table border=\"1\" class=\"dataframe\">\n",
              "  <thead>\n",
              "    <tr style=\"text-align: right;\">\n",
              "      <th></th>\n",
              "      <th>pkSeqID</th>\n",
              "      <th>proto</th>\n",
              "      <th>sport</th>\n",
              "      <th>dport</th>\n",
              "      <th>seq</th>\n",
              "      <th>stddev</th>\n",
              "      <th>N_IN_Conn_P_SrcIP</th>\n",
              "      <th>min</th>\n",
              "      <th>state_number</th>\n",
              "      <th>mean</th>\n",
              "      <th>N_IN_Conn_P_DstIP</th>\n",
              "      <th>drate</th>\n",
              "      <th>srate</th>\n",
              "      <th>max</th>\n",
              "      <th>attack</th>\n",
              "    </tr>\n",
              "  </thead>\n",
              "  <tbody>\n",
              "    <tr>\n",
              "      <th>0</th>\n",
              "      <td>1240757</td>\n",
              "      <td>udp</td>\n",
              "      <td>48719</td>\n",
              "      <td>80</td>\n",
              "      <td>99168</td>\n",
              "      <td>1.823185</td>\n",
              "      <td>63</td>\n",
              "      <td>0.000000</td>\n",
              "      <td>4</td>\n",
              "      <td>3.222832</td>\n",
              "      <td>63</td>\n",
              "      <td>0.0</td>\n",
              "      <td>0.461435</td>\n",
              "      <td>4.942302</td>\n",
              "      <td>1</td>\n",
              "    </tr>\n",
              "    <tr>\n",
              "      <th>1</th>\n",
              "      <td>787741</td>\n",
              "      <td>udp</td>\n",
              "      <td>33530</td>\n",
              "      <td>80</td>\n",
              "      <td>170464</td>\n",
              "      <td>2.113912</td>\n",
              "      <td>100</td>\n",
              "      <td>0.000000</td>\n",
              "      <td>4</td>\n",
              "      <td>2.112801</td>\n",
              "      <td>100</td>\n",
              "      <td>0.0</td>\n",
              "      <td>0.209328</td>\n",
              "      <td>4.322539</td>\n",
              "      <td>1</td>\n",
              "    </tr>\n",
              "    <tr>\n",
              "      <th>2</th>\n",
              "      <td>1429027</td>\n",
              "      <td>udp</td>\n",
              "      <td>108</td>\n",
              "      <td>80</td>\n",
              "      <td>25284</td>\n",
              "      <td>0.028597</td>\n",
              "      <td>100</td>\n",
              "      <td>4.002665</td>\n",
              "      <td>4</td>\n",
              "      <td>4.046831</td>\n",
              "      <td>100</td>\n",
              "      <td>0.0</td>\n",
              "      <td>0.247826</td>\n",
              "      <td>4.082324</td>\n",
              "      <td>1</td>\n",
              "    </tr>\n",
              "    <tr>\n",
              "      <th>3</th>\n",
              "      <td>1479476</td>\n",
              "      <td>udp</td>\n",
              "      <td>38264</td>\n",
              "      <td>80</td>\n",
              "      <td>75733</td>\n",
              "      <td>0.126301</td>\n",
              "      <td>100</td>\n",
              "      <td>3.258537</td>\n",
              "      <td>4</td>\n",
              "      <td>3.375540</td>\n",
              "      <td>100</td>\n",
              "      <td>0.0</td>\n",
              "      <td>0.282681</td>\n",
              "      <td>3.580228</td>\n",
              "      <td>1</td>\n",
              "    </tr>\n",
              "    <tr>\n",
              "      <th>4</th>\n",
              "      <td>909045</td>\n",
              "      <td>udp</td>\n",
              "      <td>10365</td>\n",
              "      <td>80</td>\n",
              "      <td>29611</td>\n",
              "      <td>1.432325</td>\n",
              "      <td>90</td>\n",
              "      <td>0.000000</td>\n",
              "      <td>4</td>\n",
              "      <td>2.864638</td>\n",
              "      <td>90</td>\n",
              "      <td>0.0</td>\n",
              "      <td>0.280290</td>\n",
              "      <td>3.586937</td>\n",
              "      <td>1</td>\n",
              "    </tr>\n",
              "  </tbody>\n",
              "</table>\n",
              "</div>"
            ],
            "text/plain": [
              "   pkSeqID proto  sport  dport  ...  drate     srate       max  attack\n",
              "0  1240757   udp  48719     80  ...    0.0  0.461435  4.942302       1\n",
              "1   787741   udp  33530     80  ...    0.0  0.209328  4.322539       1\n",
              "2  1429027   udp    108     80  ...    0.0  0.247826  4.082324       1\n",
              "3  1479476   udp  38264     80  ...    0.0  0.282681  3.580228       1\n",
              "4   909045   udp  10365     80  ...    0.0  0.280290  3.586937       1\n",
              "\n",
              "[5 rows x 15 columns]"
            ]
          },
          "metadata": {
            "tags": []
          },
          "execution_count": 39
        }
      ]
    },
    {
      "cell_type": "code",
      "metadata": {
        "id": "r4qdZPQ9y6nA",
        "outputId": "b08f8db8-c182-48a7-c78f-f113f98996ac",
        "colab": {
          "base_uri": "https://localhost:8080/"
        }
      },
      "source": [
        "#Frequency of each category\n",
        "data['proto'].value_counts()"
      ],
      "execution_count": 40,
      "outputs": [
        {
          "output_type": "execute_result",
          "data": {
            "text/plain": [
              "udp          295155\n",
              "arp              17\n",
              "tcp              13\n",
              "ipv6-icmp         3\n",
              "Name: proto, dtype: int64"
            ]
          },
          "metadata": {
            "tags": []
          },
          "execution_count": 40
        }
      ]
    },
    {
      "cell_type": "code",
      "metadata": {
        "id": "S5Enu8Iny6nA",
        "outputId": "b2b6ebab-4e53-4004-d760-ac34e094dbb1",
        "colab": {
          "base_uri": "https://localhost:8080/",
          "height": 503
        }
      },
      "source": [
        "#relationship between the independent variables\n",
        "data.corr()"
      ],
      "execution_count": 41,
      "outputs": [
        {
          "output_type": "execute_result",
          "data": {
            "text/html": [
              "<div>\n",
              "<style scoped>\n",
              "    .dataframe tbody tr th:only-of-type {\n",
              "        vertical-align: middle;\n",
              "    }\n",
              "\n",
              "    .dataframe tbody tr th {\n",
              "        vertical-align: top;\n",
              "    }\n",
              "\n",
              "    .dataframe thead th {\n",
              "        text-align: right;\n",
              "    }\n",
              "</style>\n",
              "<table border=\"1\" class=\"dataframe\">\n",
              "  <thead>\n",
              "    <tr style=\"text-align: right;\">\n",
              "      <th></th>\n",
              "      <th>pkSeqID</th>\n",
              "      <th>sport</th>\n",
              "      <th>dport</th>\n",
              "      <th>seq</th>\n",
              "      <th>stddev</th>\n",
              "      <th>N_IN_Conn_P_SrcIP</th>\n",
              "      <th>min</th>\n",
              "      <th>state_number</th>\n",
              "      <th>mean</th>\n",
              "      <th>N_IN_Conn_P_DstIP</th>\n",
              "      <th>drate</th>\n",
              "      <th>srate</th>\n",
              "      <th>max</th>\n",
              "      <th>attack</th>\n",
              "    </tr>\n",
              "  </thead>\n",
              "  <tbody>\n",
              "    <tr>\n",
              "      <th>pkSeqID</th>\n",
              "      <td>1.000000</td>\n",
              "      <td>0.035544</td>\n",
              "      <td>0.061090</td>\n",
              "      <td>0.208882</td>\n",
              "      <td>-0.048077</td>\n",
              "      <td>0.018522</td>\n",
              "      <td>0.111363</td>\n",
              "      <td>-0.094730</td>\n",
              "      <td>0.136154</td>\n",
              "      <td>0.016573</td>\n",
              "      <td>0.015303</td>\n",
              "      <td>0.014901</td>\n",
              "      <td>0.179332</td>\n",
              "      <td>-0.161739</td>\n",
              "    </tr>\n",
              "    <tr>\n",
              "      <th>sport</th>\n",
              "      <td>0.035544</td>\n",
              "      <td>1.000000</td>\n",
              "      <td>-0.000187</td>\n",
              "      <td>0.152336</td>\n",
              "      <td>-0.093065</td>\n",
              "      <td>-0.044963</td>\n",
              "      <td>0.094758</td>\n",
              "      <td>0.001270</td>\n",
              "      <td>0.042872</td>\n",
              "      <td>-0.045032</td>\n",
              "      <td>0.002463</td>\n",
              "      <td>0.002444</td>\n",
              "      <td>0.002791</td>\n",
              "      <td>-0.000864</td>\n",
              "    </tr>\n",
              "    <tr>\n",
              "      <th>dport</th>\n",
              "      <td>0.061090</td>\n",
              "      <td>-0.000187</td>\n",
              "      <td>1.000000</td>\n",
              "      <td>-0.012569</td>\n",
              "      <td>-0.010046</td>\n",
              "      <td>-0.024068</td>\n",
              "      <td>-0.004910</td>\n",
              "      <td>-0.081891</td>\n",
              "      <td>-0.018080</td>\n",
              "      <td>-0.024936</td>\n",
              "      <td>0.001870</td>\n",
              "      <td>-0.000958</td>\n",
              "      <td>-0.034629</td>\n",
              "      <td>-0.377717</td>\n",
              "    </tr>\n",
              "    <tr>\n",
              "      <th>seq</th>\n",
              "      <td>0.208882</td>\n",
              "      <td>0.152336</td>\n",
              "      <td>-0.012569</td>\n",
              "      <td>1.000000</td>\n",
              "      <td>-0.086040</td>\n",
              "      <td>0.032481</td>\n",
              "      <td>0.146002</td>\n",
              "      <td>0.016927</td>\n",
              "      <td>0.027345</td>\n",
              "      <td>0.032867</td>\n",
              "      <td>-0.003128</td>\n",
              "      <td>-0.003055</td>\n",
              "      <td>0.084401</td>\n",
              "      <td>0.032363</td>\n",
              "    </tr>\n",
              "    <tr>\n",
              "      <th>stddev</th>\n",
              "      <td>-0.048077</td>\n",
              "      <td>-0.093065</td>\n",
              "      <td>-0.010046</td>\n",
              "      <td>-0.086040</td>\n",
              "      <td>1.000000</td>\n",
              "      <td>-0.017884</td>\n",
              "      <td>-0.938780</td>\n",
              "      <td>0.020679</td>\n",
              "      <td>-0.572633</td>\n",
              "      <td>-0.017489</td>\n",
              "      <td>-0.003105</td>\n",
              "      <td>-0.003037</td>\n",
              "      <td>0.237062</td>\n",
              "      <td>0.031995</td>\n",
              "    </tr>\n",
              "    <tr>\n",
              "      <th>N_IN_Conn_P_SrcIP</th>\n",
              "      <td>0.018522</td>\n",
              "      <td>-0.044963</td>\n",
              "      <td>-0.024068</td>\n",
              "      <td>0.032481</td>\n",
              "      <td>-0.017884</td>\n",
              "      <td>1.000000</td>\n",
              "      <td>0.017706</td>\n",
              "      <td>0.030362</td>\n",
              "      <td>0.018438</td>\n",
              "      <td>0.999653</td>\n",
              "      <td>-0.005993</td>\n",
              "      <td>-0.005838</td>\n",
              "      <td>-0.004789</td>\n",
              "      <td>0.054681</td>\n",
              "    </tr>\n",
              "    <tr>\n",
              "      <th>min</th>\n",
              "      <td>0.111363</td>\n",
              "      <td>0.094758</td>\n",
              "      <td>-0.004910</td>\n",
              "      <td>0.146002</td>\n",
              "      <td>-0.938780</td>\n",
              "      <td>0.017706</td>\n",
              "      <td>1.000000</td>\n",
              "      <td>0.006320</td>\n",
              "      <td>0.696400</td>\n",
              "      <td>0.017838</td>\n",
              "      <td>-0.001121</td>\n",
              "      <td>-0.001105</td>\n",
              "      <td>0.049219</td>\n",
              "      <td>0.010034</td>\n",
              "    </tr>\n",
              "    <tr>\n",
              "      <th>state_number</th>\n",
              "      <td>-0.094730</td>\n",
              "      <td>0.001270</td>\n",
              "      <td>-0.081891</td>\n",
              "      <td>0.016927</td>\n",
              "      <td>0.020679</td>\n",
              "      <td>0.030362</td>\n",
              "      <td>0.006320</td>\n",
              "      <td>1.000000</td>\n",
              "      <td>0.038314</td>\n",
              "      <td>0.042365</td>\n",
              "      <td>-0.100697</td>\n",
              "      <td>-0.101039</td>\n",
              "      <td>0.071387</td>\n",
              "      <td>0.585757</td>\n",
              "    </tr>\n",
              "    <tr>\n",
              "      <th>mean</th>\n",
              "      <td>0.136154</td>\n",
              "      <td>0.042872</td>\n",
              "      <td>-0.018080</td>\n",
              "      <td>0.027345</td>\n",
              "      <td>-0.572633</td>\n",
              "      <td>0.018438</td>\n",
              "      <td>0.696400</td>\n",
              "      <td>0.038314</td>\n",
              "      <td>1.000000</td>\n",
              "      <td>0.019230</td>\n",
              "      <td>-0.006520</td>\n",
              "      <td>-0.006442</td>\n",
              "      <td>0.509939</td>\n",
              "      <td>0.061811</td>\n",
              "    </tr>\n",
              "    <tr>\n",
              "      <th>N_IN_Conn_P_DstIP</th>\n",
              "      <td>0.016573</td>\n",
              "      <td>-0.045032</td>\n",
              "      <td>-0.024936</td>\n",
              "      <td>0.032867</td>\n",
              "      <td>-0.017489</td>\n",
              "      <td>0.999653</td>\n",
              "      <td>0.017838</td>\n",
              "      <td>0.042365</td>\n",
              "      <td>0.019230</td>\n",
              "      <td>1.000000</td>\n",
              "      <td>-0.005852</td>\n",
              "      <td>-0.005674</td>\n",
              "      <td>-0.003349</td>\n",
              "      <td>0.066635</td>\n",
              "    </tr>\n",
              "    <tr>\n",
              "      <th>drate</th>\n",
              "      <td>0.015303</td>\n",
              "      <td>0.002463</td>\n",
              "      <td>0.001870</td>\n",
              "      <td>-0.003128</td>\n",
              "      <td>-0.003105</td>\n",
              "      <td>-0.005993</td>\n",
              "      <td>-0.001121</td>\n",
              "      <td>-0.100697</td>\n",
              "      <td>-0.006520</td>\n",
              "      <td>-0.005852</td>\n",
              "      <td>1.000000</td>\n",
              "      <td>0.999918</td>\n",
              "      <td>-0.011653</td>\n",
              "      <td>-0.094617</td>\n",
              "    </tr>\n",
              "    <tr>\n",
              "      <th>srate</th>\n",
              "      <td>0.014901</td>\n",
              "      <td>0.002444</td>\n",
              "      <td>-0.000958</td>\n",
              "      <td>-0.003055</td>\n",
              "      <td>-0.003037</td>\n",
              "      <td>-0.005838</td>\n",
              "      <td>-0.001105</td>\n",
              "      <td>-0.101039</td>\n",
              "      <td>-0.006442</td>\n",
              "      <td>-0.005674</td>\n",
              "      <td>0.999918</td>\n",
              "      <td>1.000000</td>\n",
              "      <td>-0.011490</td>\n",
              "      <td>-0.092102</td>\n",
              "    </tr>\n",
              "    <tr>\n",
              "      <th>max</th>\n",
              "      <td>0.179332</td>\n",
              "      <td>0.002791</td>\n",
              "      <td>-0.034629</td>\n",
              "      <td>0.084401</td>\n",
              "      <td>0.237062</td>\n",
              "      <td>-0.004789</td>\n",
              "      <td>0.049219</td>\n",
              "      <td>0.071387</td>\n",
              "      <td>0.509939</td>\n",
              "      <td>-0.003349</td>\n",
              "      <td>-0.011653</td>\n",
              "      <td>-0.011490</td>\n",
              "      <td>1.000000</td>\n",
              "      <td>0.113111</td>\n",
              "    </tr>\n",
              "    <tr>\n",
              "      <th>attack</th>\n",
              "      <td>-0.161739</td>\n",
              "      <td>-0.000864</td>\n",
              "      <td>-0.377717</td>\n",
              "      <td>0.032363</td>\n",
              "      <td>0.031995</td>\n",
              "      <td>0.054681</td>\n",
              "      <td>0.010034</td>\n",
              "      <td>0.585757</td>\n",
              "      <td>0.061811</td>\n",
              "      <td>0.066635</td>\n",
              "      <td>-0.094617</td>\n",
              "      <td>-0.092102</td>\n",
              "      <td>0.113111</td>\n",
              "      <td>1.000000</td>\n",
              "    </tr>\n",
              "  </tbody>\n",
              "</table>\n",
              "</div>"
            ],
            "text/plain": [
              "                    pkSeqID     sport     dport  ...     srate       max    attack\n",
              "pkSeqID            1.000000  0.035544  0.061090  ...  0.014901  0.179332 -0.161739\n",
              "sport              0.035544  1.000000 -0.000187  ...  0.002444  0.002791 -0.000864\n",
              "dport              0.061090 -0.000187  1.000000  ... -0.000958 -0.034629 -0.377717\n",
              "seq                0.208882  0.152336 -0.012569  ... -0.003055  0.084401  0.032363\n",
              "stddev            -0.048077 -0.093065 -0.010046  ... -0.003037  0.237062  0.031995\n",
              "N_IN_Conn_P_SrcIP  0.018522 -0.044963 -0.024068  ... -0.005838 -0.004789  0.054681\n",
              "min                0.111363  0.094758 -0.004910  ... -0.001105  0.049219  0.010034\n",
              "state_number      -0.094730  0.001270 -0.081891  ... -0.101039  0.071387  0.585757\n",
              "mean               0.136154  0.042872 -0.018080  ... -0.006442  0.509939  0.061811\n",
              "N_IN_Conn_P_DstIP  0.016573 -0.045032 -0.024936  ... -0.005674 -0.003349  0.066635\n",
              "drate              0.015303  0.002463  0.001870  ...  0.999918 -0.011653 -0.094617\n",
              "srate              0.014901  0.002444 -0.000958  ...  1.000000 -0.011490 -0.092102\n",
              "max                0.179332  0.002791 -0.034629  ... -0.011490  1.000000  0.113111\n",
              "attack            -0.161739 -0.000864 -0.377717  ... -0.092102  0.113111  1.000000\n",
              "\n",
              "[14 rows x 14 columns]"
            ]
          },
          "metadata": {
            "tags": []
          },
          "execution_count": 41
        }
      ]
    },
    {
      "cell_type": "code",
      "metadata": {
        "id": "kW9VwK9Zy6nB",
        "outputId": "15fea2e6-21cb-4a5b-ce7f-5d8783311c8a",
        "colab": {
          "base_uri": "https://localhost:8080/"
        }
      },
      "source": [
        "#Cross tables and data visualization\n",
        "#Extracting the coloumn names\n",
        "data.columns"
      ],
      "execution_count": 42,
      "outputs": [
        {
          "output_type": "execute_result",
          "data": {
            "text/plain": [
              "Index(['pkSeqID', 'proto', 'sport', 'dport', 'seq', 'stddev',\n",
              "       'N_IN_Conn_P_SrcIP', 'min', 'state_number', 'mean', 'N_IN_Conn_P_DstIP',\n",
              "       'drate', 'srate', 'max', 'attack'],\n",
              "      dtype='object')"
            ]
          },
          "metadata": {
            "tags": []
          },
          "execution_count": 42
        }
      ]
    },
    {
      "cell_type": "code",
      "metadata": {
        "id": "iaJyqEViy6nB",
        "outputId": "eac9a1ee-acd2-4e5c-c645-0045c42d63b6",
        "colab": {
          "base_uri": "https://localhost:8080/",
          "height": 204
        }
      },
      "source": [
        "#proto proportion table\n",
        "pd.crosstab(index=data['proto'],columns='count',normalize=True)"
      ],
      "execution_count": 43,
      "outputs": [
        {
          "output_type": "execute_result",
          "data": {
            "text/html": [
              "<div>\n",
              "<style scoped>\n",
              "    .dataframe tbody tr th:only-of-type {\n",
              "        vertical-align: middle;\n",
              "    }\n",
              "\n",
              "    .dataframe tbody tr th {\n",
              "        vertical-align: top;\n",
              "    }\n",
              "\n",
              "    .dataframe thead th {\n",
              "        text-align: right;\n",
              "    }\n",
              "</style>\n",
              "<table border=\"1\" class=\"dataframe\">\n",
              "  <thead>\n",
              "    <tr style=\"text-align: right;\">\n",
              "      <th>col_0</th>\n",
              "      <th>count</th>\n",
              "    </tr>\n",
              "    <tr>\n",
              "      <th>proto</th>\n",
              "      <th></th>\n",
              "    </tr>\n",
              "  </thead>\n",
              "  <tbody>\n",
              "    <tr>\n",
              "      <th>arp</th>\n",
              "      <td>0.000058</td>\n",
              "    </tr>\n",
              "    <tr>\n",
              "      <th>ipv6-icmp</th>\n",
              "      <td>0.000010</td>\n",
              "    </tr>\n",
              "    <tr>\n",
              "      <th>tcp</th>\n",
              "      <td>0.000044</td>\n",
              "    </tr>\n",
              "    <tr>\n",
              "      <th>udp</th>\n",
              "      <td>0.999888</td>\n",
              "    </tr>\n",
              "  </tbody>\n",
              "</table>\n",
              "</div>"
            ],
            "text/plain": [
              "col_0         count\n",
              "proto              \n",
              "arp        0.000058\n",
              "ipv6-icmp  0.000010\n",
              "tcp        0.000044\n",
              "udp        0.999888"
            ]
          },
          "metadata": {
            "tags": []
          },
          "execution_count": 43
        }
      ]
    },
    {
      "cell_type": "code",
      "metadata": {
        "id": "I01Arhpsy6nB",
        "outputId": "84dbded1-442f-4c1b-8bf3-a3f0f96a14fd",
        "colab": {
          "base_uri": "https://localhost:8080/",
          "height": 204
        }
      },
      "source": [
        "#proto vs attack\n",
        "pd.crosstab(index=data['proto'],columns=data['attack'],normalize=True)"
      ],
      "execution_count": 44,
      "outputs": [
        {
          "output_type": "execute_result",
          "data": {
            "text/html": [
              "<div>\n",
              "<style scoped>\n",
              "    .dataframe tbody tr th:only-of-type {\n",
              "        vertical-align: middle;\n",
              "    }\n",
              "\n",
              "    .dataframe tbody tr th {\n",
              "        vertical-align: top;\n",
              "    }\n",
              "\n",
              "    .dataframe thead th {\n",
              "        text-align: right;\n",
              "    }\n",
              "</style>\n",
              "<table border=\"1\" class=\"dataframe\">\n",
              "  <thead>\n",
              "    <tr style=\"text-align: right;\">\n",
              "      <th>attack</th>\n",
              "      <th>0</th>\n",
              "      <th>1</th>\n",
              "    </tr>\n",
              "    <tr>\n",
              "      <th>proto</th>\n",
              "      <th></th>\n",
              "      <th></th>\n",
              "    </tr>\n",
              "  </thead>\n",
              "  <tbody>\n",
              "    <tr>\n",
              "      <th>arp</th>\n",
              "      <td>0.000034</td>\n",
              "      <td>0.000024</td>\n",
              "    </tr>\n",
              "    <tr>\n",
              "      <th>ipv6-icmp</th>\n",
              "      <td>0.000010</td>\n",
              "      <td>0.000000</td>\n",
              "    </tr>\n",
              "    <tr>\n",
              "      <th>tcp</th>\n",
              "      <td>0.000044</td>\n",
              "      <td>0.000000</td>\n",
              "    </tr>\n",
              "    <tr>\n",
              "      <th>udp</th>\n",
              "      <td>0.000312</td>\n",
              "      <td>0.999577</td>\n",
              "    </tr>\n",
              "  </tbody>\n",
              "</table>\n",
              "</div>"
            ],
            "text/plain": [
              "attack            0         1\n",
              "proto                        \n",
              "arp        0.000034  0.000024\n",
              "ipv6-icmp  0.000010  0.000000\n",
              "tcp        0.000044  0.000000\n",
              "udp        0.000312  0.999577"
            ]
          },
          "metadata": {
            "tags": []
          },
          "execution_count": 44
        }
      ]
    },
    {
      "cell_type": "code",
      "metadata": {
        "id": "XC7LcSLpy6nC",
        "outputId": "908f9c16-20ca-44e8-853c-12b9e248c216",
        "colab": {
          "base_uri": "https://localhost:8080/",
          "height": 302
        }
      },
      "source": [
        "#frequency distribution of attack\n",
        "sns.countplot(data['attack'])"
      ],
      "execution_count": 45,
      "outputs": [
        {
          "output_type": "execute_result",
          "data": {
            "text/plain": [
              "<matplotlib.axes._subplots.AxesSubplot at 0x7f7b39bb8750>"
            ]
          },
          "metadata": {
            "tags": []
          },
          "execution_count": 45
        },
        {
          "output_type": "display_data",
          "data": {
            "image/png": "[encoded data removed]",
            "text/plain": [
              "<Figure size 432x288 with 1 Axes>"
            ]
          },
          "metadata": {
            "tags": []
          }
        }
      ]
    },
    {
      "cell_type": "code",
      "metadata": {
        "id": "bddbWFhFy6nC"
      },
      "source": [
        "data=data.drop(columns='pkSeqID')"
      ],
      "execution_count": 46,
      "outputs": []
    },
    {
      "cell_type": "code",
      "metadata": {
        "id": "-VPxKBw31yMG",
        "outputId": "6cebeed1-2b58-45fd-a67e-03037c7df783",
        "colab": {
          "base_uri": "https://localhost:8080/"
        }
      },
      "source": [
        "data.info()"
      ],
      "execution_count": 47,
      "outputs": [
        {
          "output_type": "stream",
          "text": [
            "<class 'pandas.core.frame.DataFrame'>\n",
            "Int64Index: 295188 entries, 0 to 295187\n",
            "Data columns (total 14 columns):\n",
            " #   Column             Non-Null Count   Dtype  \n",
            "---  ------             --------------   -----  \n",
            " 0   proto              295188 non-null  object \n",
            " 1   sport              295188 non-null  int64  \n",
            " 2   dport              295188 non-null  int64  \n",
            " 3   seq                295188 non-null  int64  \n",
            " 4   stddev             295188 non-null  float64\n",
            " 5   N_IN_Conn_P_SrcIP  295188 non-null  int64  \n",
            " 6   min                295188 non-null  float64\n",
            " 7   state_number       295188 non-null  int64  \n",
            " 8   mean               295188 non-null  float64\n",
            " 9   N_IN_Conn_P_DstIP  295188 non-null  int64  \n",
            " 10  drate              295188 non-null  float64\n",
            " 11  srate              295188 non-null  float64\n",
            " 12  max                295188 non-null  float64\n",
            " 13  attack             295188 non-null  int64  \n",
            "dtypes: float64(6), int64(7), object(1)\n",
            "memory usage: 43.8+ MB\n"
          ],
          "name": "stdout"
        }
      ]
    },
    {
      "cell_type": "code",
      "metadata": {
        "id": "230EvZ5M5Gta",
        "outputId": "b5272e1e-57d3-410d-bb02-6c8e8a746e67",
        "colab": {
          "base_uri": "https://localhost:8080/"
        }
      },
      "source": [
        "data['sport'].astype(int)\n",
        "data['dport'].astype(int)"
      ],
      "execution_count": 48,
      "outputs": [
        {
          "output_type": "execute_result",
          "data": {
            "text/plain": [
              "0         80\n",
              "1         80\n",
              "2         80\n",
              "3         80\n",
              "4         80\n",
              "          ..\n",
              "295183    80\n",
              "295184    80\n",
              "295185    80\n",
              "295186    80\n",
              "295187    80\n",
              "Name: dport, Length: 295188, dtype: int64"
            ]
          },
          "metadata": {
            "tags": []
          },
          "execution_count": 48
        }
      ]
    },
    {
      "cell_type": "code",
      "metadata": {
        "id": "fH3ebDbry6nD"
      },
      "source": [
        "#Categorical Encoding\n",
        "data=pd.get_dummies(data)"
      ],
      "execution_count": 50,
      "outputs": []
    },
    {
      "cell_type": "code",
      "metadata": {
        "id": "Fsihf1Fzy6nD",
        "outputId": "0975b7eb-acf9-4078-bff5-d47f4b651dc9",
        "colab": {
          "base_uri": "https://localhost:8080/",
          "height": 241
        }
      },
      "source": [
        "data.head()"
      ],
      "execution_count": 51,
      "outputs": [
        {
          "output_type": "execute_result",
          "data": {
            "text/html": [
              "<div>\n",
              "<style scoped>\n",
              "    .dataframe tbody tr th:only-of-type {\n",
              "        vertical-align: middle;\n",
              "    }\n",
              "\n",
              "    .dataframe tbody tr th {\n",
              "        vertical-align: top;\n",
              "    }\n",
              "\n",
              "    .dataframe thead th {\n",
              "        text-align: right;\n",
              "    }\n",
              "</style>\n",
              "<table border=\"1\" class=\"dataframe\">\n",
              "  <thead>\n",
              "    <tr style=\"text-align: right;\">\n",
              "      <th></th>\n",
              "      <th>sport</th>\n",
              "      <th>dport</th>\n",
              "      <th>seq</th>\n",
              "      <th>stddev</th>\n",
              "      <th>N_IN_Conn_P_SrcIP</th>\n",
              "      <th>min</th>\n",
              "      <th>state_number</th>\n",
              "      <th>mean</th>\n",
              "      <th>N_IN_Conn_P_DstIP</th>\n",
              "      <th>drate</th>\n",
              "      <th>srate</th>\n",
              "      <th>max</th>\n",
              "      <th>attack</th>\n",
              "      <th>proto_arp</th>\n",
              "      <th>proto_ipv6-icmp</th>\n",
              "      <th>proto_tcp</th>\n",
              "      <th>proto_udp</th>\n",
              "    </tr>\n",
              "  </thead>\n",
              "  <tbody>\n",
              "    <tr>\n",
              "      <th>0</th>\n",
              "      <td>48719</td>\n",
              "      <td>80</td>\n",
              "      <td>99168</td>\n",
              "      <td>1.823185</td>\n",
              "      <td>63</td>\n",
              "      <td>0.000000</td>\n",
              "      <td>4</td>\n",
              "      <td>3.222832</td>\n",
              "      <td>63</td>\n",
              "      <td>0.0</td>\n",
              "      <td>0.461435</td>\n",
              "      <td>4.942302</td>\n",
              "      <td>1</td>\n",
              "      <td>0</td>\n",
              "      <td>0</td>\n",
              "      <td>0</td>\n",
              "      <td>1</td>\n",
              "    </tr>\n",
              "    <tr>\n",
              "      <th>1</th>\n",
              "      <td>33530</td>\n",
              "      <td>80</td>\n",
              "      <td>170464</td>\n",
              "      <td>2.113912</td>\n",
              "      <td>100</td>\n",
              "      <td>0.000000</td>\n",
              "      <td>4</td>\n",
              "      <td>2.112801</td>\n",
              "      <td>100</td>\n",
              "      <td>0.0</td>\n",
              "      <td>0.209328</td>\n",
              "      <td>4.322539</td>\n",
              "      <td>1</td>\n",
              "      <td>0</td>\n",
              "      <td>0</td>\n",
              "      <td>0</td>\n",
              "      <td>1</td>\n",
              "    </tr>\n",
              "    <tr>\n",
              "      <th>2</th>\n",
              "      <td>108</td>\n",
              "      <td>80</td>\n",
              "      <td>25284</td>\n",
              "      <td>0.028597</td>\n",
              "      <td>100</td>\n",
              "      <td>4.002665</td>\n",
              "      <td>4</td>\n",
              "      <td>4.046831</td>\n",
              "      <td>100</td>\n",
              "      <td>0.0</td>\n",
              "      <td>0.247826</td>\n",
              "      <td>4.082324</td>\n",
              "      <td>1</td>\n",
              "      <td>0</td>\n",
              "      <td>0</td>\n",
              "      <td>0</td>\n",
              "      <td>1</td>\n",
              "    </tr>\n",
              "    <tr>\n",
              "      <th>3</th>\n",
              "      <td>38264</td>\n",
              "      <td>80</td>\n",
              "      <td>75733</td>\n",
              "      <td>0.126301</td>\n",
              "      <td>100</td>\n",
              "      <td>3.258537</td>\n",
              "      <td>4</td>\n",
              "      <td>3.375540</td>\n",
              "      <td>100</td>\n",
              "      <td>0.0</td>\n",
              "      <td>0.282681</td>\n",
              "      <td>3.580228</td>\n",
              "      <td>1</td>\n",
              "      <td>0</td>\n",
              "      <td>0</td>\n",
              "      <td>0</td>\n",
              "      <td>1</td>\n",
              "    </tr>\n",
              "    <tr>\n",
              "      <th>4</th>\n",
              "      <td>10365</td>\n",
              "      <td>80</td>\n",
              "      <td>29611</td>\n",
              "      <td>1.432325</td>\n",
              "      <td>90</td>\n",
              "      <td>0.000000</td>\n",
              "      <td>4</td>\n",
              "      <td>2.864638</td>\n",
              "      <td>90</td>\n",
              "      <td>0.0</td>\n",
              "      <td>0.280290</td>\n",
              "      <td>3.586937</td>\n",
              "      <td>1</td>\n",
              "      <td>0</td>\n",
              "      <td>0</td>\n",
              "      <td>0</td>\n",
              "      <td>1</td>\n",
              "    </tr>\n",
              "  </tbody>\n",
              "</table>\n",
              "</div>"
            ],
            "text/plain": [
              "   sport  dport     seq  ...  proto_ipv6-icmp  proto_tcp  proto_udp\n",
              "0  48719     80   99168  ...                0          0          1\n",
              "1  33530     80  170464  ...                0          0          1\n",
              "2    108     80   25284  ...                0          0          1\n",
              "3  38264     80   75733  ...                0          0          1\n",
              "4  10365     80   29611  ...                0          0          1\n",
              "\n",
              "[5 rows x 17 columns]"
            ]
          },
          "metadata": {
            "tags": []
          },
          "execution_count": 51
        }
      ]
    },
    {
      "cell_type": "code",
      "metadata": {
        "id": "GN7fbqq6y6nD"
      },
      "source": [
        "#Seperating the features and target variable\n",
        "y=data['attack']\n",
        "x=data.drop(columns='attack')"
      ],
      "execution_count": 52,
      "outputs": []
    },
    {
      "cell_type": "code",
      "metadata": {
        "id": "2yQjsSJAy6nE",
        "outputId": "2e50f044-2dd7-4a33-d4c7-1611cbb4f9d4",
        "colab": {
          "base_uri": "https://localhost:8080/"
        }
      },
      "source": [
        "data.shape"
      ],
      "execution_count": 53,
      "outputs": [
        {
          "output_type": "execute_result",
          "data": {
            "text/plain": [
              "(295188, 17)"
            ]
          },
          "metadata": {
            "tags": []
          },
          "execution_count": 53
        }
      ]
    },
    {
      "cell_type": "code",
      "metadata": {
        "id": "AFdbUReCy6nE",
        "outputId": "f7c8e9d9-fcd2-41c2-f9f0-4d60e508b04d",
        "colab": {
          "base_uri": "https://localhost:8080/"
        }
      },
      "source": [
        "x.shape"
      ],
      "execution_count": 54,
      "outputs": [
        {
          "output_type": "execute_result",
          "data": {
            "text/plain": [
              "(295188, 16)"
            ]
          },
          "metadata": {
            "tags": []
          },
          "execution_count": 54
        }
      ]
    },
    {
      "cell_type": "markdown",
      "metadata": {
        "id": "2KeUn0SAy6nF"
      },
      "source": [
        "#"
      ]
    },
    {
      "cell_type": "code",
      "metadata": {
        "id": "7gkfEmegy6nF"
      },
      "source": [
        "#Balancing the target variable\n",
        "from imblearn.combine import SMOTETomek\n",
        "smk = SMOTETomek(random_state = 0)\n",
        "x, y = smk.fit_sample(x,y)"
      ],
      "execution_count": 55,
      "outputs": []
    },
    {
      "cell_type": "code",
      "metadata": {
        "id": "wdzo8CMcy6nF",
        "outputId": "1f01f5a1-d0af-4740-8866-72dc23ef2d6b",
        "colab": {
          "base_uri": "https://localhost:8080/"
        }
      },
      "source": [
        "x.shape"
      ],
      "execution_count": 56,
      "outputs": [
        {
          "output_type": "execute_result",
          "data": {
            "text/plain": [
              "(590140, 16)"
            ]
          },
          "metadata": {
            "tags": []
          },
          "execution_count": 56
        }
      ]
    },
    {
      "cell_type": "code",
      "metadata": {
        "id": "sQdYZdILy6nG",
        "outputId": "c912d0e1-1410-4aa3-ad9d-56026f471581",
        "colab": {
          "base_uri": "https://localhost:8080/",
          "height": 285
        }
      },
      "source": [
        "sns.countplot(y)"
      ],
      "execution_count": 57,
      "outputs": [
        {
          "output_type": "execute_result",
          "data": {
            "text/plain": [
              "<matplotlib.axes._subplots.AxesSubplot at 0x7f7b338cf350>"
            ]
          },
          "metadata": {
            "tags": []
          },
          "execution_count": 57
        },
        {
          "output_type": "display_data",
          "data": {
            "image/png": "[encoded data removed]",
            "text/plain": [
              "<Figure size 432x288 with 1 Axes>"
            ]
          },
          "metadata": {
            "tags": []
          }
        }
      ]
    },
    {
      "cell_type": "code",
      "metadata": {
        "id": "_W3L2OHwy6nG"
      },
      "source": [
        "#Spliting dataset into Train and Test set \n",
        "from sklearn.model_selection import train_test_split\n",
        "x_train,x_test,y_train,y_test = train_test_split(x,y,test_size = 0.3, random_state = 0)"
      ],
      "execution_count": 58,
      "outputs": []
    },
    {
      "cell_type": "code",
      "metadata": {
        "id": "JWjwkLOty6nH"
      },
      "source": [
        "#Feature Scaling\n",
        "from sklearn.preprocessing import StandardScaler\n",
        "sc = StandardScaler()\n",
        "x_train = sc.fit_transform(x_train)\n",
        "x_test = sc.transform(x_test)"
      ],
      "execution_count": 59,
      "outputs": []
    },
    {
      "cell_type": "code",
      "metadata": {
        "id": "cMgEuBtcy6nH",
        "outputId": "2de4bc31-7893-45ac-a22c-b55e13e820a6",
        "colab": {
          "base_uri": "https://localhost:8080/"
        }
      },
      "source": [
        "from sklearn.ensemble import RandomForestClassifier\n",
        "from sklearn.model_selection import cross_val_score\n",
        "clf=RandomForestClassifier()\n",
        "clf.fit(x_train,y_train)"
      ],
      "execution_count": 60,
      "outputs": [
        {
          "output_type": "execute_result",
          "data": {
            "text/plain": [
              "RandomForestClassifier(bootstrap=True, ccp_alpha=0.0, class_weight=None,\n",
              "                       criterion='gini', max_depth=None, max_features='auto',\n",
              "                       max_leaf_nodes=None, max_samples=None,\n",
              "                       min_impurity_decrease=0.0, min_impurity_split=None,\n",
              "                       min_samples_leaf=1, min_samples_split=2,\n",
              "                       min_weight_fraction_leaf=0.0, n_estimators=100,\n",
              "                       n_jobs=None, oob_score=False, random_state=None,\n",
              "                       verbose=0, warm_start=False)"
            ]
          },
          "metadata": {
            "tags": []
          },
          "execution_count": 60
        }
      ]
    },
    {
      "cell_type": "code",
      "metadata": {
        "id": "6TH8SIkRy6nI",
        "outputId": "875f6caa-c138-45ec-fd8d-17b67e53ab2e",
        "colab": {
          "base_uri": "https://localhost:8080/"
        }
      },
      "source": [
        "#Checking the accuracy of model\n",
        "from sklearn.metrics import accuracy_score\n",
        "y_pred=clf.predict(x_test)\n",
        "accuracy = accuracy_score(y_test, y_pred)\n",
        "print(\" Testing Accuracy: %.2f%%\" % (accuracy * 100.0))\n",
        "scores = cross_val_score(clf, x_train, y_train, cv=10)\n",
        "print(\"Cross Validation Accuracy: %.2f%% \" % (scores.mean()*100))"
      ],
      "execution_count": 63,
      "outputs": [
        {
          "output_type": "stream",
          "text": [
            " Testing Accuracy: 100.00%\n",
            "Cross Validation Accuracy: 100.00% \n",
            " Testing Accuracy: 100.00%\n",
            "Cross Validation Accuracy: 100.00% \n"
          ],
          "name": "stdout"
        }
      ]
    },
    {
      "cell_type": "code",
      "metadata": {
        "id": "MNZuuZpey6nI",
        "outputId": "f017bcdf-6297-423b-b68e-47200b8681b9",
        "colab": {
          "base_uri": "https://localhost:8080/",
          "height": 318
        }
      },
      "source": [
        "#confusion matrix\n",
        "from sklearn.metrics import confusion_matrix\n",
        "con = confusion_matrix(y_test,y_pred)\n",
        "import seaborn as sns\n",
        "import matplotlib.pyplot as plt\n",
        "axes = sns.heatmap(con, square=True,annot=True,fmt='d',cbar = True, cmap = plt.cm.GnBu)\n",
        "ax = plt.axes()\n",
        "plt.xlabel('Predicted Values')\n",
        "plt.ylabel('Actual values')\n",
        "ax.set_title('Random Forest Classifier')"
      ],
      "execution_count": 64,
      "outputs": [
        {
          "output_type": "execute_result",
          "data": {
            "text/plain": [
              "Text(0.5, 1.0, 'Random Forest Classifier')"
            ]
          },
          "metadata": {
            "tags": []
          },
          "execution_count": 64
        },
        {
          "output_type": "display_data",
          "data": {
            "image/png": "[encoded data removed]",
            "text/plain": [
              "<Figure size 432x288 with 2 Axes>"
            ]
          },
          "metadata": {
            "tags": []
          }
        }
      ]
    },
    {
      "cell_type": "code",
      "metadata": {
        "id": "O-g6uog7y6nJ",
        "outputId": "5f5cabe6-9b40-4236-8d74-b08469b49485",
        "colab": {
          "base_uri": "https://localhost:8080/"
        }
      },
      "source": [
        "from sklearn.metrics import classification_report\n",
        "print('Random Forest Classifier')\n",
        "print(classification_report(y_test, y_pred))"
      ],
      "execution_count": 65,
      "outputs": [
        {
          "output_type": "stream",
          "text": [
            "Random Forest Classifier\n",
            "              precision    recall  f1-score   support\n",
            "\n",
            "           0       1.00      1.00      1.00     88777\n",
            "           1       1.00      1.00      1.00     88265\n",
            "\n",
            "    accuracy                           1.00    177042\n",
            "   macro avg       1.00      1.00      1.00    177042\n",
            "weighted avg       1.00      1.00      1.00    177042\n",
            "\n"
          ],
          "name": "stdout"
        }
      ]
    },
    {
      "cell_type": "code",
      "metadata": {
        "id": "HW6n1Y-By6nK",
        "outputId": "354a57b8-7b3f-49b5-ca24-bb136dd66c4c",
        "colab": {
          "base_uri": "https://localhost:8080/"
        }
      },
      "source": [
        "from sklearn.metrics import roc_auc_score\n",
        "roc_auc_score(y_test,y_pred)"
      ],
      "execution_count": 66,
      "outputs": [
        {
          "output_type": "execute_result",
          "data": {
            "text/plain": [
              "1.0"
            ]
          },
          "metadata": {
            "tags": []
          },
          "execution_count": 66
        }
      ]
    },
    {
      "cell_type": "code",
      "metadata": {
        "id": "S_ikxh3xy6nK",
        "outputId": "4a95f906-d840-4374-d82a-136e132da80b",
        "colab": {
          "base_uri": "https://localhost:8080/",
          "height": 899
        }
      },
      "source": [
        "#from sklearn.model_selection import learning_curve\n",
        "from sklearn.model_selection import learning_curve\n",
        "from sklearn.model_selection import ShuffleSplit\n",
        "\n",
        "def plot_learning_curve(estimator, title, x, y, axes=None, ylim=None, cv=None,\n",
        "                        n_jobs=None, train_sizes=np.linspace(.1, 1.0, 5)):\n",
        "   \n",
        "    if axes is None:\n",
        "        _, axes = plt.subplots(1, 1, figsize=(20, 5))\n",
        "\n",
        "    axes[0].set_title(title)\n",
        "    if ylim is not None:\n",
        "        axes[0].set_ylim(*ylim)\n",
        "    axes[0].set_xlabel(\"Training examples\")\n",
        "    axes[0].set_ylabel(\"Score\")\n",
        "\n",
        "    train_sizes, train_scores, test_scores, fit_times, _ = \\\n",
        "        learning_curve(estimator, x, y, cv=cv, n_jobs=n_jobs,\n",
        "                       train_sizes=train_sizes,\n",
        "                       return_times=True)\n",
        "    train_scores_mean = np.mean(train_scores, axis=1)\n",
        "    train_scores_std = np.std(train_scores, axis=1)\n",
        "    test_scores_mean = np.mean(test_scores, axis=1)\n",
        "    test_scores_std = np.std(test_scores, axis=1)\n",
        "    fit_times_mean = np.mean(fit_times, axis=1)\n",
        "    fit_times_std = np.std(fit_times, axis=1)\n",
        "\n",
        "    # Plot learning curve\n",
        "    axes[0].grid()\n",
        "    axes[0].fill_between(train_sizes, train_scores_mean - train_scores_std,\n",
        "                         train_scores_mean + train_scores_std, alpha=0.1,\n",
        "                         color=\"r\")\n",
        "    axes[0].fill_between(train_sizes, test_scores_mean - test_scores_std,\n",
        "                         test_scores_mean + test_scores_std, alpha=0.1,\n",
        "                         color=\"g\")\n",
        "    axes[0].plot(train_sizes, train_scores_mean, 'o-', color=\"r\",\n",
        "                 label=\"Training score\")\n",
        "    axes[0].plot(train_sizes, test_scores_mean, 'o-', color=\"g\",\n",
        "                 label=\"Cross-validation score\")\n",
        "    axes[0].legend(loc=\"best\")\n",
        "\n",
        "    # Plot n_samples vs fit_times\n",
        "    axes[1].grid()\n",
        "    axes[1].plot(train_sizes, fit_times_mean, 'o-')\n",
        "    axes[1].fill_between(train_sizes, fit_times_mean - fit_times_std,\n",
        "                         fit_times_mean + fit_times_std, alpha=0.1)\n",
        "    axes[1].set_xlabel(\"Training examples\")\n",
        "    axes[1].set_ylabel(\"fit_times\")\n",
        "    axes[1].set_title(\"Scalability of the model\")\n",
        "\n",
        "    # Plot fit_time vs score\n",
        "    axes[2].grid()\n",
        "    axes[2].plot(fit_times_mean, test_scores_mean, 'o-')\n",
        "    axes[2].fill_between(fit_times_mean, test_scores_mean - test_scores_std,\n",
        "                         test_scores_mean + test_scores_std, alpha=0.1)\n",
        "    axes[2].set_xlabel(\"fit_times\")\n",
        "    axes[2].set_ylabel(\"Score\")\n",
        "    axes[2].set_title(\"Performance of the model\")\n",
        "\n",
        "\n",
        "fig, axes = plt.subplots(3, 1, figsize=(10, 15))\n",
        "\n",
        "title = \"Learning Curves (Random Forest Classifier)\"\n",
        "# Cross validation with 10 iterations to get smoother mean test and train\n",
        "# score curves, each time with 20% data randomly selected as a validation set.\n",
        "cv = ShuffleSplit(n_splits=10, test_size=0.2, random_state=0)\n",
        "\n",
        "estimator = RandomForestClassifier()\n",
        "plot_learning_curve(estimator, title, x, y,axes=axes[:,], cv=cv, ylim=(0.7, 1.01), n_jobs=4)\n",
        "\n",
        "plt.show()"
      ],
      "execution_count": 68,
      "outputs": [
        {
          "output_type": "display_data",
          "data": {
            "image/png": "[encoded data removed]",
            "text/plain": [
              "<Figure size 720x1080 with 3 Axes>"
            ]
          },
          "metadata": {
            "tags": []
          }
        }
      ]
    },
    {
      "cell_type": "code",
      "metadata": {
        "id": "MbaqXFoay6nM"
      },
      "source": [
        ""
      ],
      "execution_count": null,
      "outputs": []
    },
    {
      "cell_type": "code",
      "metadata": {
        "id": "keL__2Xxy6nN"
      },
      "source": [
        ""
      ],
      "execution_count": null,
      "outputs": []
    }
  ]
}