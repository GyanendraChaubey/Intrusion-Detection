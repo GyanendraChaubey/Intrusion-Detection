{
  "nbformat": 4,
  "nbformat_minor": 0,
  "metadata": {
    "kernelspec": {
      "display_name": "Python 3",
      "language": "python",
      "name": "python3"
    },
    "language_info": {
      "codemirror_mode": {
        "name": "ipython",
        "version": 3
      },
      "file_extension": ".py",
      "mimetype": "text/x-python",
      "name": "python",
      "nbconvert_exporter": "python",
      "pygments_lexer": "ipython3",
      "version": "3.7.3"
    },
    "colab": {
      "name": "DoS_UDP_NB.ipynb",
      "provenance": [],
      "toc_visible": true
    }
  },
  "cells": [
    {
      "cell_type": "code",
      "metadata": {
        "id": "IuWOhCvNSuYH"
      },
      "source": [
        "#Importing the necessary libraries\n",
        "import numpy as np\n",
        "import pandas as pd\n",
        "import matplotlib.pyplot as plt\n",
        "import seaborn as sns\n",
        "sns.set()\n",
        "import warnings\n",
        "warnings.filterwarnings('ignore')\n",
        "import pandas.util.testing as tm"
      ],
      "execution_count": 1,
      "outputs": []
    },
    {
      "cell_type": "code",
      "metadata": {
        "id": "iG9TMrBDTEFy",
        "outputId": "7db51665-013a-4a8d-c085-5e8d57ead18b",
        "colab": {
          "base_uri": "https://localhost:8080/"
        }
      },
      "source": [
        "from google.colab import drive\n",
        "drive.mount('/content/drive')"
      ],
      "execution_count": 3,
      "outputs": [
        {
          "output_type": "stream",
          "text": [
            "Mounted at /content/drive\n"
          ],
          "name": "stdout"
        }
      ]
    },
    {
      "cell_type": "code",
      "metadata": {
        "id": "kMjdDKnASuYM"
      },
      "source": [
        "#Read the data\n",
        "data=pd.read_csv(\"/content/drive/My Drive/DOS_UDP.csv\")"
      ],
      "execution_count": 5,
      "outputs": []
    },
    {
      "cell_type": "code",
      "metadata": {
        "id": "C3_MVW8XSuYN"
      },
      "source": [
        "#Making a copy of data\n",
        "data=data.copy()"
      ],
      "execution_count": 6,
      "outputs": []
    },
    {
      "cell_type": "markdown",
      "metadata": {
        "id": "45sqM_bFSuYN"
      },
      "source": [
        "#Feature Engineering"
      ]
    },
    {
      "cell_type": "markdown",
      "metadata": {
        "id": "Tff50hPASuYO"
      },
      "source": [
        "1. Understanding Data"
      ]
    },
    {
      "cell_type": "code",
      "metadata": {
        "id": "JV9tMwo1SuYO",
        "outputId": "646dd995-1a83-4f0d-cdf0-4e44e9b685de",
        "colab": {
          "base_uri": "https://localhost:8080/"
        }
      },
      "source": [
        "#checking the missing values\n",
        "data.isnull().sum()"
      ],
      "execution_count": 7,
      "outputs": [
        {
          "output_type": "execute_result",
          "data": {
            "text/plain": [
              "pkSeqID              0\n",
              "proto                0\n",
              "saddr                0\n",
              "sport                0\n",
              "daddr                0\n",
              "dport                0\n",
              "seq                  0\n",
              "stddev               0\n",
              "N_IN_Conn_P_SrcIP    0\n",
              "min                  0\n",
              "state_number         0\n",
              "mean                 0\n",
              "N_IN_Conn_P_DstIP    0\n",
              "drate                0\n",
              "srate                0\n",
              "max                  0\n",
              "attack               0\n",
              "category             0\n",
              "subcategory          0\n",
              "dtype: int64"
            ]
          },
          "metadata": {
            "tags": []
          },
          "execution_count": 7
        }
      ]
    },
    {
      "cell_type": "code",
      "metadata": {
        "id": "QRpjFH4OSuYQ",
        "outputId": "19833795-115c-41be-daba-974a99d6387d",
        "colab": {
          "base_uri": "https://localhost:8080/"
        }
      },
      "source": [
        "data.info()"
      ],
      "execution_count": 8,
      "outputs": [
        {
          "output_type": "stream",
          "text": [
            "<class 'pandas.core.frame.DataFrame'>\n",
            "RangeIndex: 295188 entries, 0 to 295187\n",
            "Data columns (total 19 columns):\n",
            " #   Column             Non-Null Count   Dtype  \n",
            "---  ------             --------------   -----  \n",
            " 0   pkSeqID            295188 non-null  int64  \n",
            " 1   proto              295188 non-null  object \n",
            " 2   saddr              295188 non-null  object \n",
            " 3   sport              295188 non-null  int64  \n",
            " 4   daddr              295188 non-null  object \n",
            " 5   dport              295188 non-null  int64  \n",
            " 6   seq                295188 non-null  int64  \n",
            " 7   stddev             295188 non-null  float64\n",
            " 8   N_IN_Conn_P_SrcIP  295188 non-null  int64  \n",
            " 9   min                295188 non-null  float64\n",
            " 10  state_number       295188 non-null  int64  \n",
            " 11  mean               295188 non-null  float64\n",
            " 12  N_IN_Conn_P_DstIP  295188 non-null  int64  \n",
            " 13  drate              295188 non-null  float64\n",
            " 14  srate              295188 non-null  float64\n",
            " 15  max                295188 non-null  float64\n",
            " 16  attack             295188 non-null  int64  \n",
            " 17  category           295188 non-null  object \n",
            " 18  subcategory        295188 non-null  object \n",
            "dtypes: float64(6), int64(8), object(5)\n",
            "memory usage: 42.8+ MB\n"
          ],
          "name": "stdout"
        }
      ]
    },
    {
      "cell_type": "code",
      "metadata": {
        "id": "RQg4ZHmfSuYR",
        "outputId": "05eb6717-3449-4d08-f28d-4c82620bc4b3",
        "colab": {
          "base_uri": "https://localhost:8080/",
          "height": 224
        }
      },
      "source": [
        "data.head()"
      ],
      "execution_count": 9,
      "outputs": [
        {
          "output_type": "execute_result",
          "data": {
            "text/html": [
              "<div>\n",
              "<style scoped>\n",
              "    .dataframe tbody tr th:only-of-type {\n",
              "        vertical-align: middle;\n",
              "    }\n",
              "\n",
              "    .dataframe tbody tr th {\n",
              "        vertical-align: top;\n",
              "    }\n",
              "\n",
              "    .dataframe thead th {\n",
              "        text-align: right;\n",
              "    }\n",
              "</style>\n",
              "<table border=\"1\" class=\"dataframe\">\n",
              "  <thead>\n",
              "    <tr style=\"text-align: right;\">\n",
              "      <th></th>\n",
              "      <th>pkSeqID</th>\n",
              "      <th>proto</th>\n",
              "      <th>saddr</th>\n",
              "      <th>sport</th>\n",
              "      <th>daddr</th>\n",
              "      <th>dport</th>\n",
              "      <th>seq</th>\n",
              "      <th>stddev</th>\n",
              "      <th>N_IN_Conn_P_SrcIP</th>\n",
              "      <th>min</th>\n",
              "      <th>state_number</th>\n",
              "      <th>mean</th>\n",
              "      <th>N_IN_Conn_P_DstIP</th>\n",
              "      <th>drate</th>\n",
              "      <th>srate</th>\n",
              "      <th>max</th>\n",
              "      <th>attack</th>\n",
              "      <th>category</th>\n",
              "      <th>subcategory</th>\n",
              "    </tr>\n",
              "  </thead>\n",
              "  <tbody>\n",
              "    <tr>\n",
              "      <th>0</th>\n",
              "      <td>1240757</td>\n",
              "      <td>udp</td>\n",
              "      <td>192.168.100.150</td>\n",
              "      <td>48719</td>\n",
              "      <td>192.168.100.3</td>\n",
              "      <td>80</td>\n",
              "      <td>99168</td>\n",
              "      <td>1.823185</td>\n",
              "      <td>63</td>\n",
              "      <td>0.000000</td>\n",
              "      <td>4</td>\n",
              "      <td>3.222832</td>\n",
              "      <td>63</td>\n",
              "      <td>0.0</td>\n",
              "      <td>0.461435</td>\n",
              "      <td>4.942302</td>\n",
              "      <td>1</td>\n",
              "      <td>DoS</td>\n",
              "      <td>UDP</td>\n",
              "    </tr>\n",
              "    <tr>\n",
              "      <th>1</th>\n",
              "      <td>787741</td>\n",
              "      <td>udp</td>\n",
              "      <td>192.168.100.149</td>\n",
              "      <td>33530</td>\n",
              "      <td>192.168.100.5</td>\n",
              "      <td>80</td>\n",
              "      <td>170464</td>\n",
              "      <td>2.113912</td>\n",
              "      <td>100</td>\n",
              "      <td>0.000000</td>\n",
              "      <td>4</td>\n",
              "      <td>2.112801</td>\n",
              "      <td>100</td>\n",
              "      <td>0.0</td>\n",
              "      <td>0.209328</td>\n",
              "      <td>4.322539</td>\n",
              "      <td>1</td>\n",
              "      <td>DoS</td>\n",
              "      <td>UDP</td>\n",
              "    </tr>\n",
              "    <tr>\n",
              "      <th>2</th>\n",
              "      <td>1429027</td>\n",
              "      <td>udp</td>\n",
              "      <td>192.168.100.148</td>\n",
              "      <td>108</td>\n",
              "      <td>192.168.100.6</td>\n",
              "      <td>80</td>\n",
              "      <td>25284</td>\n",
              "      <td>0.028597</td>\n",
              "      <td>100</td>\n",
              "      <td>4.002665</td>\n",
              "      <td>4</td>\n",
              "      <td>4.046831</td>\n",
              "      <td>100</td>\n",
              "      <td>0.0</td>\n",
              "      <td>0.247826</td>\n",
              "      <td>4.082324</td>\n",
              "      <td>1</td>\n",
              "      <td>DoS</td>\n",
              "      <td>UDP</td>\n",
              "    </tr>\n",
              "    <tr>\n",
              "      <th>3</th>\n",
              "      <td>1479476</td>\n",
              "      <td>udp</td>\n",
              "      <td>192.168.100.149</td>\n",
              "      <td>38264</td>\n",
              "      <td>192.168.100.5</td>\n",
              "      <td>80</td>\n",
              "      <td>75733</td>\n",
              "      <td>0.126301</td>\n",
              "      <td>100</td>\n",
              "      <td>3.258537</td>\n",
              "      <td>4</td>\n",
              "      <td>3.375540</td>\n",
              "      <td>100</td>\n",
              "      <td>0.0</td>\n",
              "      <td>0.282681</td>\n",
              "      <td>3.580228</td>\n",
              "      <td>1</td>\n",
              "      <td>DoS</td>\n",
              "      <td>UDP</td>\n",
              "    </tr>\n",
              "    <tr>\n",
              "      <th>4</th>\n",
              "      <td>909045</td>\n",
              "      <td>udp</td>\n",
              "      <td>192.168.100.148</td>\n",
              "      <td>10365</td>\n",
              "      <td>192.168.100.6</td>\n",
              "      <td>80</td>\n",
              "      <td>29611</td>\n",
              "      <td>1.432325</td>\n",
              "      <td>90</td>\n",
              "      <td>0.000000</td>\n",
              "      <td>4</td>\n",
              "      <td>2.864638</td>\n",
              "      <td>90</td>\n",
              "      <td>0.0</td>\n",
              "      <td>0.280290</td>\n",
              "      <td>3.586937</td>\n",
              "      <td>1</td>\n",
              "      <td>DoS</td>\n",
              "      <td>UDP</td>\n",
              "    </tr>\n",
              "  </tbody>\n",
              "</table>\n",
              "</div>"
            ],
            "text/plain": [
              "   pkSeqID proto            saddr  sport  ...       max  attack  category  subcategory\n",
              "0  1240757   udp  192.168.100.150  48719  ...  4.942302       1       DoS          UDP\n",
              "1   787741   udp  192.168.100.149  33530  ...  4.322539       1       DoS          UDP\n",
              "2  1429027   udp  192.168.100.148    108  ...  4.082324       1       DoS          UDP\n",
              "3  1479476   udp  192.168.100.149  38264  ...  3.580228       1       DoS          UDP\n",
              "4   909045   udp  192.168.100.148  10365  ...  3.586937       1       DoS          UDP\n",
              "\n",
              "[5 rows x 19 columns]"
            ]
          },
          "metadata": {
            "tags": []
          },
          "execution_count": 9
        }
      ]
    },
    {
      "cell_type": "code",
      "metadata": {
        "id": "FcQDCKHmSuYS",
        "outputId": "649d95f7-1e55-4994-9fad-75278938a90d",
        "colab": {
          "base_uri": "https://localhost:8080/"
        }
      },
      "source": [
        "data['proto'].unique()"
      ],
      "execution_count": 10,
      "outputs": [
        {
          "output_type": "execute_result",
          "data": {
            "text/plain": [
              "array(['udp', 'tcp', 'arp', 'ipv6-icmp'], dtype=object)"
            ]
          },
          "metadata": {
            "tags": []
          },
          "execution_count": 10
        }
      ]
    },
    {
      "cell_type": "code",
      "metadata": {
        "id": "tPYyQWhJSuYS",
        "outputId": "212dc3ea-eac7-49c5-9989-00abe24db1bf",
        "colab": {
          "base_uri": "https://localhost:8080/"
        }
      },
      "source": [
        "data['saddr'].unique()"
      ],
      "execution_count": 11,
      "outputs": [
        {
          "output_type": "execute_result",
          "data": {
            "text/plain": [
              "array(['192.168.100.150', '192.168.100.149', '192.168.100.148',\n",
              "       '192.168.100.147', '192.168.100.5', '192.168.100.3',\n",
              "       '192.168.100.27', 'fe80::250:56ff:febe:254',\n",
              "       'fe80::250:56ff:febe:e9d9', '192.168.100.46',\n",
              "       'fe80::250:56ff:febe:26db', '192.168.100.1', '192.168.100.6',\n",
              "       'fe80::250:56ff:febe:89ee', '192.168.100.4', '192.168.100.7'],\n",
              "      dtype=object)"
            ]
          },
          "metadata": {
            "tags": []
          },
          "execution_count": 11
        }
      ]
    },
    {
      "cell_type": "code",
      "metadata": {
        "id": "tWgPM535SuYT",
        "outputId": "0d46413c-66e8-4ff1-96a2-55d9e6b3be8a",
        "colab": {
          "base_uri": "https://localhost:8080/"
        }
      },
      "source": [
        "data['daddr'].unique()"
      ],
      "execution_count": 12,
      "outputs": [
        {
          "output_type": "execute_result",
          "data": {
            "text/plain": [
              "array(['192.168.100.3', '192.168.100.5', '192.168.100.6', '192.168.100.7',\n",
              "       '192.168.217.2', '192.168.100.55', '255.255.255.255', '96.7.49.66',\n",
              "       '205.251.197.206', '192.168.100.1', '205.251.194.201',\n",
              "       '224.0.0.251', '205.251.196.32', '52.201.147.106', '192.5.5.241',\n",
              "       '192.55.83.30', '192.31.80.30', '8.8.8.8', '13.55.154.73',\n",
              "       'ff02::2', '192.41.162.30', '129.250.35.250', 'ff02::fb',\n",
              "       '27.124.125.250', '199.19.56.1', '192.33.14.30', '205.251.199.148',\n",
              "       '192.58.128.30', '192.12.94.30', '205.251.196.160',\n",
              "       '205.251.199.194', '192.36.148.17', '184.85.248.65', '192.33.4.12',\n",
              "       '52.11.124.117', '192.168.100.255', '192.54.112.30', 'ff02::1',\n",
              "       '172.217.25.170', '192.168.100.148', '205.251.194.102',\n",
              "       '192.112.36.4', '205.251.194.86', '192.168.100.27',\n",
              "       '192.52.178.30', '205.251.195.59', '52.35.35.13'], dtype=object)"
            ]
          },
          "metadata": {
            "tags": []
          },
          "execution_count": 12
        }
      ]
    },
    {
      "cell_type": "code",
      "metadata": {
        "id": "UZrDHTqsSuYT",
        "outputId": "4bbc7a92-dc8f-453b-b99f-94ef4fdcb061",
        "colab": {
          "base_uri": "https://localhost:8080/",
          "height": 317
        }
      },
      "source": [
        "data.describe()"
      ],
      "execution_count": 13,
      "outputs": [
        {
          "output_type": "execute_result",
          "data": {
            "text/html": [
              "<div>\n",
              "<style scoped>\n",
              "    .dataframe tbody tr th:only-of-type {\n",
              "        vertical-align: middle;\n",
              "    }\n",
              "\n",
              "    .dataframe tbody tr th {\n",
              "        vertical-align: top;\n",
              "    }\n",
              "\n",
              "    .dataframe thead th {\n",
              "        text-align: right;\n",
              "    }\n",
              "</style>\n",
              "<table border=\"1\" class=\"dataframe\">\n",
              "  <thead>\n",
              "    <tr style=\"text-align: right;\">\n",
              "      <th></th>\n",
              "      <th>pkSeqID</th>\n",
              "      <th>sport</th>\n",
              "      <th>dport</th>\n",
              "      <th>seq</th>\n",
              "      <th>stddev</th>\n",
              "      <th>N_IN_Conn_P_SrcIP</th>\n",
              "      <th>min</th>\n",
              "      <th>state_number</th>\n",
              "      <th>mean</th>\n",
              "      <th>N_IN_Conn_P_DstIP</th>\n",
              "      <th>drate</th>\n",
              "      <th>srate</th>\n",
              "      <th>max</th>\n",
              "      <th>attack</th>\n",
              "    </tr>\n",
              "  </thead>\n",
              "  <tbody>\n",
              "    <tr>\n",
              "      <th>count</th>\n",
              "      <td>2.951880e+05</td>\n",
              "      <td>295188.000000</td>\n",
              "      <td>295188.000000</td>\n",
              "      <td>295188.000000</td>\n",
              "      <td>295188.000000</td>\n",
              "      <td>295188.000000</td>\n",
              "      <td>295188.000000</td>\n",
              "      <td>295188.000000</td>\n",
              "      <td>295188.000000</td>\n",
              "      <td>295188.000000</td>\n",
              "      <td>295188.000000</td>\n",
              "      <td>295188.000000</td>\n",
              "      <td>295188.000000</td>\n",
              "      <td>295188.00000</td>\n",
              "    </tr>\n",
              "    <tr>\n",
              "      <th>mean</th>\n",
              "      <td>1.134484e+06</td>\n",
              "      <td>32730.124781</td>\n",
              "      <td>80.368643</td>\n",
              "      <td>128952.088876</td>\n",
              "      <td>1.227157</td>\n",
              "      <td>84.916104</td>\n",
              "      <td>1.160165</td>\n",
              "      <td>3.999526</td>\n",
              "      <td>3.032434</td>\n",
              "      <td>84.910589</td>\n",
              "      <td>0.007588</td>\n",
              "      <td>3.705250</td>\n",
              "      <td>4.088931</td>\n",
              "      <td>0.99960</td>\n",
              "    </tr>\n",
              "    <tr>\n",
              "      <th>std</th>\n",
              "      <td>3.020110e+05</td>\n",
              "      <td>19035.453452</td>\n",
              "      <td>49.059054</td>\n",
              "      <td>74743.668757</td>\n",
              "      <td>0.745898</td>\n",
              "      <td>22.997154</td>\n",
              "      <td>1.680366</td>\n",
              "      <td>0.036438</td>\n",
              "      <td>0.821567</td>\n",
              "      <td>23.010391</td>\n",
              "      <td>4.010274</td>\n",
              "      <td>1840.562405</td>\n",
              "      <td>0.631001</td>\n",
              "      <td>0.01999</td>\n",
              "    </tr>\n",
              "    <tr>\n",
              "      <th>min</th>\n",
              "      <td>6.172860e+05</td>\n",
              "      <td>-1.000000</td>\n",
              "      <td>-1.000000</td>\n",
              "      <td>1.000000</td>\n",
              "      <td>0.000000</td>\n",
              "      <td>1.000000</td>\n",
              "      <td>0.000000</td>\n",
              "      <td>2.000000</td>\n",
              "      <td>0.000000</td>\n",
              "      <td>1.000000</td>\n",
              "      <td>0.000000</td>\n",
              "      <td>0.000000</td>\n",
              "      <td>0.000000</td>\n",
              "      <td>0.00000</td>\n",
              "    </tr>\n",
              "    <tr>\n",
              "      <th>25%</th>\n",
              "      <td>8.755530e+05</td>\n",
              "      <td>16145.000000</td>\n",
              "      <td>80.000000</td>\n",
              "      <td>64174.750000</td>\n",
              "      <td>0.456314</td>\n",
              "      <td>74.000000</td>\n",
              "      <td>0.000000</td>\n",
              "      <td>4.000000</td>\n",
              "      <td>2.381333</td>\n",
              "      <td>74.000000</td>\n",
              "      <td>0.000000</td>\n",
              "      <td>0.230914</td>\n",
              "      <td>3.655815</td>\n",
              "      <td>1.00000</td>\n",
              "    </tr>\n",
              "    <tr>\n",
              "      <th>50%</th>\n",
              "      <td>1.134374e+06</td>\n",
              "      <td>32750.000000</td>\n",
              "      <td>80.000000</td>\n",
              "      <td>128785.500000</td>\n",
              "      <td>1.577425</td>\n",
              "      <td>100.000000</td>\n",
              "      <td>0.000000</td>\n",
              "      <td>4.000000</td>\n",
              "      <td>3.040930</td>\n",
              "      <td>100.000000</td>\n",
              "      <td>0.000000</td>\n",
              "      <td>0.279815</td>\n",
              "      <td>4.132957</td>\n",
              "      <td>1.00000</td>\n",
              "    </tr>\n",
              "    <tr>\n",
              "      <th>75%</th>\n",
              "      <td>1.391749e+06</td>\n",
              "      <td>49392.000000</td>\n",
              "      <td>80.000000</td>\n",
              "      <td>193329.250000</td>\n",
              "      <td>1.790869</td>\n",
              "      <td>100.000000</td>\n",
              "      <td>3.048082</td>\n",
              "      <td>4.000000</td>\n",
              "      <td>3.584404</td>\n",
              "      <td>100.000000</td>\n",
              "      <td>0.000000</td>\n",
              "      <td>0.404198</td>\n",
              "      <td>4.618028</td>\n",
              "      <td>1.00000</td>\n",
              "    </tr>\n",
              "    <tr>\n",
              "      <th>max</th>\n",
              "      <td>3.577360e+06</td>\n",
              "      <td>65535.000000</td>\n",
              "      <td>8883.000000</td>\n",
              "      <td>262167.000000</td>\n",
              "      <td>2.272045</td>\n",
              "      <td>100.000000</td>\n",
              "      <td>4.950444</td>\n",
              "      <td>8.000000</td>\n",
              "      <td>4.966808</td>\n",
              "      <td>100.000000</td>\n",
              "      <td>2178.649170</td>\n",
              "      <td>1000000.000000</td>\n",
              "      <td>4.999998</td>\n",
              "      <td>1.00000</td>\n",
              "    </tr>\n",
              "  </tbody>\n",
              "</table>\n",
              "</div>"
            ],
            "text/plain": [
              "            pkSeqID          sport  ...            max        attack\n",
              "count  2.951880e+05  295188.000000  ...  295188.000000  295188.00000\n",
              "mean   1.134484e+06   32730.124781  ...       4.088931       0.99960\n",
              "std    3.020110e+05   19035.453452  ...       0.631001       0.01999\n",
              "min    6.172860e+05      -1.000000  ...       0.000000       0.00000\n",
              "25%    8.755530e+05   16145.000000  ...       3.655815       1.00000\n",
              "50%    1.134374e+06   32750.000000  ...       4.132957       1.00000\n",
              "75%    1.391749e+06   49392.000000  ...       4.618028       1.00000\n",
              "max    3.577360e+06   65535.000000  ...       4.999998       1.00000\n",
              "\n",
              "[8 rows x 14 columns]"
            ]
          },
          "metadata": {
            "tags": []
          },
          "execution_count": 13
        }
      ]
    },
    {
      "cell_type": "code",
      "metadata": {
        "id": "uJrsoJnuSuYU"
      },
      "source": [
        "#Removing the unwanted coloumns\n",
        "col=['saddr','daddr','category','subcategory']\n",
        "data=data.drop(columns=col,axis=1)"
      ],
      "execution_count": 14,
      "outputs": []
    },
    {
      "cell_type": "code",
      "metadata": {
        "id": "ppLD80ljSuYU"
      },
      "source": [
        "#Removing the dublicate values\n",
        "data.drop_duplicates(keep='first',inplace=True)"
      ],
      "execution_count": 15,
      "outputs": []
    },
    {
      "cell_type": "markdown",
      "metadata": {
        "id": "wyxoleaNSuYV"
      },
      "source": [
        "2. Exploratory Data Analysis"
      ]
    },
    {
      "cell_type": "code",
      "metadata": {
        "id": "_irFMZ4pSuYV",
        "outputId": "9f864bfa-d0c9-4cf3-acdd-4a211e0b0b66",
        "colab": {
          "base_uri": "https://localhost:8080/",
          "height": 224
        }
      },
      "source": [
        "data.head()"
      ],
      "execution_count": 16,
      "outputs": [
        {
          "output_type": "execute_result",
          "data": {
            "text/html": [
              "<div>\n",
              "<style scoped>\n",
              "    .dataframe tbody tr th:only-of-type {\n",
              "        vertical-align: middle;\n",
              "    }\n",
              "\n",
              "    .dataframe tbody tr th {\n",
              "        vertical-align: top;\n",
              "    }\n",
              "\n",
              "    .dataframe thead th {\n",
              "        text-align: right;\n",
              "    }\n",
              "</style>\n",
              "<table border=\"1\" class=\"dataframe\">\n",
              "  <thead>\n",
              "    <tr style=\"text-align: right;\">\n",
              "      <th></th>\n",
              "      <th>pkSeqID</th>\n",
              "      <th>proto</th>\n",
              "      <th>sport</th>\n",
              "      <th>dport</th>\n",
              "      <th>seq</th>\n",
              "      <th>stddev</th>\n",
              "      <th>N_IN_Conn_P_SrcIP</th>\n",
              "      <th>min</th>\n",
              "      <th>state_number</th>\n",
              "      <th>mean</th>\n",
              "      <th>N_IN_Conn_P_DstIP</th>\n",
              "      <th>drate</th>\n",
              "      <th>srate</th>\n",
              "      <th>max</th>\n",
              "      <th>attack</th>\n",
              "    </tr>\n",
              "  </thead>\n",
              "  <tbody>\n",
              "    <tr>\n",
              "      <th>0</th>\n",
              "      <td>1240757</td>\n",
              "      <td>udp</td>\n",
              "      <td>48719</td>\n",
              "      <td>80</td>\n",
              "      <td>99168</td>\n",
              "      <td>1.823185</td>\n",
              "      <td>63</td>\n",
              "      <td>0.000000</td>\n",
              "      <td>4</td>\n",
              "      <td>3.222832</td>\n",
              "      <td>63</td>\n",
              "      <td>0.0</td>\n",
              "      <td>0.461435</td>\n",
              "      <td>4.942302</td>\n",
              "      <td>1</td>\n",
              "    </tr>\n",
              "    <tr>\n",
              "      <th>1</th>\n",
              "      <td>787741</td>\n",
              "      <td>udp</td>\n",
              "      <td>33530</td>\n",
              "      <td>80</td>\n",
              "      <td>170464</td>\n",
              "      <td>2.113912</td>\n",
              "      <td>100</td>\n",
              "      <td>0.000000</td>\n",
              "      <td>4</td>\n",
              "      <td>2.112801</td>\n",
              "      <td>100</td>\n",
              "      <td>0.0</td>\n",
              "      <td>0.209328</td>\n",
              "      <td>4.322539</td>\n",
              "      <td>1</td>\n",
              "    </tr>\n",
              "    <tr>\n",
              "      <th>2</th>\n",
              "      <td>1429027</td>\n",
              "      <td>udp</td>\n",
              "      <td>108</td>\n",
              "      <td>80</td>\n",
              "      <td>25284</td>\n",
              "      <td>0.028597</td>\n",
              "      <td>100</td>\n",
              "      <td>4.002665</td>\n",
              "      <td>4</td>\n",
              "      <td>4.046831</td>\n",
              "      <td>100</td>\n",
              "      <td>0.0</td>\n",
              "      <td>0.247826</td>\n",
              "      <td>4.082324</td>\n",
              "      <td>1</td>\n",
              "    </tr>\n",
              "    <tr>\n",
              "      <th>3</th>\n",
              "      <td>1479476</td>\n",
              "      <td>udp</td>\n",
              "      <td>38264</td>\n",
              "      <td>80</td>\n",
              "      <td>75733</td>\n",
              "      <td>0.126301</td>\n",
              "      <td>100</td>\n",
              "      <td>3.258537</td>\n",
              "      <td>4</td>\n",
              "      <td>3.375540</td>\n",
              "      <td>100</td>\n",
              "      <td>0.0</td>\n",
              "      <td>0.282681</td>\n",
              "      <td>3.580228</td>\n",
              "      <td>1</td>\n",
              "    </tr>\n",
              "    <tr>\n",
              "      <th>4</th>\n",
              "      <td>909045</td>\n",
              "      <td>udp</td>\n",
              "      <td>10365</td>\n",
              "      <td>80</td>\n",
              "      <td>29611</td>\n",
              "      <td>1.432325</td>\n",
              "      <td>90</td>\n",
              "      <td>0.000000</td>\n",
              "      <td>4</td>\n",
              "      <td>2.864638</td>\n",
              "      <td>90</td>\n",
              "      <td>0.0</td>\n",
              "      <td>0.280290</td>\n",
              "      <td>3.586937</td>\n",
              "      <td>1</td>\n",
              "    </tr>\n",
              "  </tbody>\n",
              "</table>\n",
              "</div>"
            ],
            "text/plain": [
              "   pkSeqID proto  sport  dport  ...  drate     srate       max  attack\n",
              "0  1240757   udp  48719     80  ...    0.0  0.461435  4.942302       1\n",
              "1   787741   udp  33530     80  ...    0.0  0.209328  4.322539       1\n",
              "2  1429027   udp    108     80  ...    0.0  0.247826  4.082324       1\n",
              "3  1479476   udp  38264     80  ...    0.0  0.282681  3.580228       1\n",
              "4   909045   udp  10365     80  ...    0.0  0.280290  3.586937       1\n",
              "\n",
              "[5 rows x 15 columns]"
            ]
          },
          "metadata": {
            "tags": []
          },
          "execution_count": 16
        }
      ]
    },
    {
      "cell_type": "code",
      "metadata": {
        "id": "s3B7YVgtSuYW",
        "outputId": "2ddd0f6d-473b-4560-8b11-789f51117383",
        "colab": {
          "base_uri": "https://localhost:8080/"
        }
      },
      "source": [
        "#Frequency of each category\n",
        "data['proto'].value_counts()"
      ],
      "execution_count": 17,
      "outputs": [
        {
          "output_type": "execute_result",
          "data": {
            "text/plain": [
              "udp          295155\n",
              "arp              17\n",
              "tcp              13\n",
              "ipv6-icmp         3\n",
              "Name: proto, dtype: int64"
            ]
          },
          "metadata": {
            "tags": []
          },
          "execution_count": 17
        }
      ]
    },
    {
      "cell_type": "code",
      "metadata": {
        "id": "Ykw988a0SuYW",
        "outputId": "04088c91-169e-43d3-bf10-172cf6fdba45",
        "colab": {
          "base_uri": "https://localhost:8080/",
          "height": 503
        }
      },
      "source": [
        "#relationship between the independent variables\n",
        "data.corr()"
      ],
      "execution_count": 18,
      "outputs": [
        {
          "output_type": "execute_result",
          "data": {
            "text/html": [
              "<div>\n",
              "<style scoped>\n",
              "    .dataframe tbody tr th:only-of-type {\n",
              "        vertical-align: middle;\n",
              "    }\n",
              "\n",
              "    .dataframe tbody tr th {\n",
              "        vertical-align: top;\n",
              "    }\n",
              "\n",
              "    .dataframe thead th {\n",
              "        text-align: right;\n",
              "    }\n",
              "</style>\n",
              "<table border=\"1\" class=\"dataframe\">\n",
              "  <thead>\n",
              "    <tr style=\"text-align: right;\">\n",
              "      <th></th>\n",
              "      <th>pkSeqID</th>\n",
              "      <th>sport</th>\n",
              "      <th>dport</th>\n",
              "      <th>seq</th>\n",
              "      <th>stddev</th>\n",
              "      <th>N_IN_Conn_P_SrcIP</th>\n",
              "      <th>min</th>\n",
              "      <th>state_number</th>\n",
              "      <th>mean</th>\n",
              "      <th>N_IN_Conn_P_DstIP</th>\n",
              "      <th>drate</th>\n",
              "      <th>srate</th>\n",
              "      <th>max</th>\n",
              "      <th>attack</th>\n",
              "    </tr>\n",
              "  </thead>\n",
              "  <tbody>\n",
              "    <tr>\n",
              "      <th>pkSeqID</th>\n",
              "      <td>1.000000</td>\n",
              "      <td>0.035544</td>\n",
              "      <td>0.061090</td>\n",
              "      <td>0.208882</td>\n",
              "      <td>-0.048077</td>\n",
              "      <td>0.018522</td>\n",
              "      <td>0.111363</td>\n",
              "      <td>-0.094730</td>\n",
              "      <td>0.136154</td>\n",
              "      <td>0.016573</td>\n",
              "      <td>0.015303</td>\n",
              "      <td>0.014901</td>\n",
              "      <td>0.179332</td>\n",
              "      <td>-0.161739</td>\n",
              "    </tr>\n",
              "    <tr>\n",
              "      <th>sport</th>\n",
              "      <td>0.035544</td>\n",
              "      <td>1.000000</td>\n",
              "      <td>-0.000187</td>\n",
              "      <td>0.152336</td>\n",
              "      <td>-0.093065</td>\n",
              "      <td>-0.044963</td>\n",
              "      <td>0.094758</td>\n",
              "      <td>0.001270</td>\n",
              "      <td>0.042872</td>\n",
              "      <td>-0.045032</td>\n",
              "      <td>0.002463</td>\n",
              "      <td>0.002444</td>\n",
              "      <td>0.002791</td>\n",
              "      <td>-0.000864</td>\n",
              "    </tr>\n",
              "    <tr>\n",
              "      <th>dport</th>\n",
              "      <td>0.061090</td>\n",
              "      <td>-0.000187</td>\n",
              "      <td>1.000000</td>\n",
              "      <td>-0.012569</td>\n",
              "      <td>-0.010046</td>\n",
              "      <td>-0.024068</td>\n",
              "      <td>-0.004910</td>\n",
              "      <td>-0.081891</td>\n",
              "      <td>-0.018080</td>\n",
              "      <td>-0.024936</td>\n",
              "      <td>0.001870</td>\n",
              "      <td>-0.000958</td>\n",
              "      <td>-0.034629</td>\n",
              "      <td>-0.377717</td>\n",
              "    </tr>\n",
              "    <tr>\n",
              "      <th>seq</th>\n",
              "      <td>0.208882</td>\n",
              "      <td>0.152336</td>\n",
              "      <td>-0.012569</td>\n",
              "      <td>1.000000</td>\n",
              "      <td>-0.086040</td>\n",
              "      <td>0.032481</td>\n",
              "      <td>0.146002</td>\n",
              "      <td>0.016927</td>\n",
              "      <td>0.027345</td>\n",
              "      <td>0.032867</td>\n",
              "      <td>-0.003128</td>\n",
              "      <td>-0.003055</td>\n",
              "      <td>0.084401</td>\n",
              "      <td>0.032363</td>\n",
              "    </tr>\n",
              "    <tr>\n",
              "      <th>stddev</th>\n",
              "      <td>-0.048077</td>\n",
              "      <td>-0.093065</td>\n",
              "      <td>-0.010046</td>\n",
              "      <td>-0.086040</td>\n",
              "      <td>1.000000</td>\n",
              "      <td>-0.017884</td>\n",
              "      <td>-0.938780</td>\n",
              "      <td>0.020679</td>\n",
              "      <td>-0.572633</td>\n",
              "      <td>-0.017489</td>\n",
              "      <td>-0.003105</td>\n",
              "      <td>-0.003037</td>\n",
              "      <td>0.237062</td>\n",
              "      <td>0.031995</td>\n",
              "    </tr>\n",
              "    <tr>\n",
              "      <th>N_IN_Conn_P_SrcIP</th>\n",
              "      <td>0.018522</td>\n",
              "      <td>-0.044963</td>\n",
              "      <td>-0.024068</td>\n",
              "      <td>0.032481</td>\n",
              "      <td>-0.017884</td>\n",
              "      <td>1.000000</td>\n",
              "      <td>0.017706</td>\n",
              "      <td>0.030362</td>\n",
              "      <td>0.018438</td>\n",
              "      <td>0.999653</td>\n",
              "      <td>-0.005993</td>\n",
              "      <td>-0.005838</td>\n",
              "      <td>-0.004789</td>\n",
              "      <td>0.054681</td>\n",
              "    </tr>\n",
              "    <tr>\n",
              "      <th>min</th>\n",
              "      <td>0.111363</td>\n",
              "      <td>0.094758</td>\n",
              "      <td>-0.004910</td>\n",
              "      <td>0.146002</td>\n",
              "      <td>-0.938780</td>\n",
              "      <td>0.017706</td>\n",
              "      <td>1.000000</td>\n",
              "      <td>0.006320</td>\n",
              "      <td>0.696400</td>\n",
              "      <td>0.017838</td>\n",
              "      <td>-0.001121</td>\n",
              "      <td>-0.001105</td>\n",
              "      <td>0.049219</td>\n",
              "      <td>0.010034</td>\n",
              "    </tr>\n",
              "    <tr>\n",
              "      <th>state_number</th>\n",
              "      <td>-0.094730</td>\n",
              "      <td>0.001270</td>\n",
              "      <td>-0.081891</td>\n",
              "      <td>0.016927</td>\n",
              "      <td>0.020679</td>\n",
              "      <td>0.030362</td>\n",
              "      <td>0.006320</td>\n",
              "      <td>1.000000</td>\n",
              "      <td>0.038314</td>\n",
              "      <td>0.042365</td>\n",
              "      <td>-0.100697</td>\n",
              "      <td>-0.101039</td>\n",
              "      <td>0.071387</td>\n",
              "      <td>0.585757</td>\n",
              "    </tr>\n",
              "    <tr>\n",
              "      <th>mean</th>\n",
              "      <td>0.136154</td>\n",
              "      <td>0.042872</td>\n",
              "      <td>-0.018080</td>\n",
              "      <td>0.027345</td>\n",
              "      <td>-0.572633</td>\n",
              "      <td>0.018438</td>\n",
              "      <td>0.696400</td>\n",
              "      <td>0.038314</td>\n",
              "      <td>1.000000</td>\n",
              "      <td>0.019230</td>\n",
              "      <td>-0.006520</td>\n",
              "      <td>-0.006442</td>\n",
              "      <td>0.509939</td>\n",
              "      <td>0.061811</td>\n",
              "    </tr>\n",
              "    <tr>\n",
              "      <th>N_IN_Conn_P_DstIP</th>\n",
              "      <td>0.016573</td>\n",
              "      <td>-0.045032</td>\n",
              "      <td>-0.024936</td>\n",
              "      <td>0.032867</td>\n",
              "      <td>-0.017489</td>\n",
              "      <td>0.999653</td>\n",
              "      <td>0.017838</td>\n",
              "      <td>0.042365</td>\n",
              "      <td>0.019230</td>\n",
              "      <td>1.000000</td>\n",
              "      <td>-0.005852</td>\n",
              "      <td>-0.005674</td>\n",
              "      <td>-0.003349</td>\n",
              "      <td>0.066635</td>\n",
              "    </tr>\n",
              "    <tr>\n",
              "      <th>drate</th>\n",
              "      <td>0.015303</td>\n",
              "      <td>0.002463</td>\n",
              "      <td>0.001870</td>\n",
              "      <td>-0.003128</td>\n",
              "      <td>-0.003105</td>\n",
              "      <td>-0.005993</td>\n",
              "      <td>-0.001121</td>\n",
              "      <td>-0.100697</td>\n",
              "      <td>-0.006520</td>\n",
              "      <td>-0.005852</td>\n",
              "      <td>1.000000</td>\n",
              "      <td>0.999918</td>\n",
              "      <td>-0.011653</td>\n",
              "      <td>-0.094617</td>\n",
              "    </tr>\n",
              "    <tr>\n",
              "      <th>srate</th>\n",
              "      <td>0.014901</td>\n",
              "      <td>0.002444</td>\n",
              "      <td>-0.000958</td>\n",
              "      <td>-0.003055</td>\n",
              "      <td>-0.003037</td>\n",
              "      <td>-0.005838</td>\n",
              "      <td>-0.001105</td>\n",
              "      <td>-0.101039</td>\n",
              "      <td>-0.006442</td>\n",
              "      <td>-0.005674</td>\n",
              "      <td>0.999918</td>\n",
              "      <td>1.000000</td>\n",
              "      <td>-0.011490</td>\n",
              "      <td>-0.092102</td>\n",
              "    </tr>\n",
              "    <tr>\n",
              "      <th>max</th>\n",
              "      <td>0.179332</td>\n",
              "      <td>0.002791</td>\n",
              "      <td>-0.034629</td>\n",
              "      <td>0.084401</td>\n",
              "      <td>0.237062</td>\n",
              "      <td>-0.004789</td>\n",
              "      <td>0.049219</td>\n",
              "      <td>0.071387</td>\n",
              "      <td>0.509939</td>\n",
              "      <td>-0.003349</td>\n",
              "      <td>-0.011653</td>\n",
              "      <td>-0.011490</td>\n",
              "      <td>1.000000</td>\n",
              "      <td>0.113111</td>\n",
              "    </tr>\n",
              "    <tr>\n",
              "      <th>attack</th>\n",
              "      <td>-0.161739</td>\n",
              "      <td>-0.000864</td>\n",
              "      <td>-0.377717</td>\n",
              "      <td>0.032363</td>\n",
              "      <td>0.031995</td>\n",
              "      <td>0.054681</td>\n",
              "      <td>0.010034</td>\n",
              "      <td>0.585757</td>\n",
              "      <td>0.061811</td>\n",
              "      <td>0.066635</td>\n",
              "      <td>-0.094617</td>\n",
              "      <td>-0.092102</td>\n",
              "      <td>0.113111</td>\n",
              "      <td>1.000000</td>\n",
              "    </tr>\n",
              "  </tbody>\n",
              "</table>\n",
              "</div>"
            ],
            "text/plain": [
              "                    pkSeqID     sport     dport  ...     srate       max    attack\n",
              "pkSeqID            1.000000  0.035544  0.061090  ...  0.014901  0.179332 -0.161739\n",
              "sport              0.035544  1.000000 -0.000187  ...  0.002444  0.002791 -0.000864\n",
              "dport              0.061090 -0.000187  1.000000  ... -0.000958 -0.034629 -0.377717\n",
              "seq                0.208882  0.152336 -0.012569  ... -0.003055  0.084401  0.032363\n",
              "stddev            -0.048077 -0.093065 -0.010046  ... -0.003037  0.237062  0.031995\n",
              "N_IN_Conn_P_SrcIP  0.018522 -0.044963 -0.024068  ... -0.005838 -0.004789  0.054681\n",
              "min                0.111363  0.094758 -0.004910  ... -0.001105  0.049219  0.010034\n",
              "state_number      -0.094730  0.001270 -0.081891  ... -0.101039  0.071387  0.585757\n",
              "mean               0.136154  0.042872 -0.018080  ... -0.006442  0.509939  0.061811\n",
              "N_IN_Conn_P_DstIP  0.016573 -0.045032 -0.024936  ... -0.005674 -0.003349  0.066635\n",
              "drate              0.015303  0.002463  0.001870  ...  0.999918 -0.011653 -0.094617\n",
              "srate              0.014901  0.002444 -0.000958  ...  1.000000 -0.011490 -0.092102\n",
              "max                0.179332  0.002791 -0.034629  ... -0.011490  1.000000  0.113111\n",
              "attack            -0.161739 -0.000864 -0.377717  ... -0.092102  0.113111  1.000000\n",
              "\n",
              "[14 rows x 14 columns]"
            ]
          },
          "metadata": {
            "tags": []
          },
          "execution_count": 18
        }
      ]
    },
    {
      "cell_type": "code",
      "metadata": {
        "id": "VVMv83owSuYW",
        "outputId": "cebfe8ac-2e21-441d-dc1b-0a013ff59fdd",
        "colab": {
          "base_uri": "https://localhost:8080/"
        }
      },
      "source": [
        "#Cross tables and data visualization\n",
        "#Extracting the coloumn names\n",
        "data.columns"
      ],
      "execution_count": 19,
      "outputs": [
        {
          "output_type": "execute_result",
          "data": {
            "text/plain": [
              "Index(['pkSeqID', 'proto', 'sport', 'dport', 'seq', 'stddev',\n",
              "       'N_IN_Conn_P_SrcIP', 'min', 'state_number', 'mean', 'N_IN_Conn_P_DstIP',\n",
              "       'drate', 'srate', 'max', 'attack'],\n",
              "      dtype='object')"
            ]
          },
          "metadata": {
            "tags": []
          },
          "execution_count": 19
        }
      ]
    },
    {
      "cell_type": "code",
      "metadata": {
        "id": "931TJhPXSuYX",
        "outputId": "a94e756f-d20e-4245-e29e-966d71be22ea",
        "colab": {
          "base_uri": "https://localhost:8080/",
          "height": 204
        }
      },
      "source": [
        "#proto proportion table\n",
        "pd.crosstab(index=data['proto'],columns='count',normalize=True)"
      ],
      "execution_count": 20,
      "outputs": [
        {
          "output_type": "execute_result",
          "data": {
            "text/html": [
              "<div>\n",
              "<style scoped>\n",
              "    .dataframe tbody tr th:only-of-type {\n",
              "        vertical-align: middle;\n",
              "    }\n",
              "\n",
              "    .dataframe tbody tr th {\n",
              "        vertical-align: top;\n",
              "    }\n",
              "\n",
              "    .dataframe thead th {\n",
              "        text-align: right;\n",
              "    }\n",
              "</style>\n",
              "<table border=\"1\" class=\"dataframe\">\n",
              "  <thead>\n",
              "    <tr style=\"text-align: right;\">\n",
              "      <th>col_0</th>\n",
              "      <th>count</th>\n",
              "    </tr>\n",
              "    <tr>\n",
              "      <th>proto</th>\n",
              "      <th></th>\n",
              "    </tr>\n",
              "  </thead>\n",
              "  <tbody>\n",
              "    <tr>\n",
              "      <th>arp</th>\n",
              "      <td>0.000058</td>\n",
              "    </tr>\n",
              "    <tr>\n",
              "      <th>ipv6-icmp</th>\n",
              "      <td>0.000010</td>\n",
              "    </tr>\n",
              "    <tr>\n",
              "      <th>tcp</th>\n",
              "      <td>0.000044</td>\n",
              "    </tr>\n",
              "    <tr>\n",
              "      <th>udp</th>\n",
              "      <td>0.999888</td>\n",
              "    </tr>\n",
              "  </tbody>\n",
              "</table>\n",
              "</div>"
            ],
            "text/plain": [
              "col_0         count\n",
              "proto              \n",
              "arp        0.000058\n",
              "ipv6-icmp  0.000010\n",
              "tcp        0.000044\n",
              "udp        0.999888"
            ]
          },
          "metadata": {
            "tags": []
          },
          "execution_count": 20
        }
      ]
    },
    {
      "cell_type": "code",
      "metadata": {
        "id": "FRjdBMJcSuYX",
        "outputId": "2269c44d-209b-4822-9d68-9967c8f1e015",
        "colab": {
          "base_uri": "https://localhost:8080/",
          "height": 204
        }
      },
      "source": [
        "#proto vs attack\n",
        "pd.crosstab(index=data['proto'],columns=data['attack'],normalize=True)"
      ],
      "execution_count": 21,
      "outputs": [
        {
          "output_type": "execute_result",
          "data": {
            "text/html": [
              "<div>\n",
              "<style scoped>\n",
              "    .dataframe tbody tr th:only-of-type {\n",
              "        vertical-align: middle;\n",
              "    }\n",
              "\n",
              "    .dataframe tbody tr th {\n",
              "        vertical-align: top;\n",
              "    }\n",
              "\n",
              "    .dataframe thead th {\n",
              "        text-align: right;\n",
              "    }\n",
              "</style>\n",
              "<table border=\"1\" class=\"dataframe\">\n",
              "  <thead>\n",
              "    <tr style=\"text-align: right;\">\n",
              "      <th>attack</th>\n",
              "      <th>0</th>\n",
              "      <th>1</th>\n",
              "    </tr>\n",
              "    <tr>\n",
              "      <th>proto</th>\n",
              "      <th></th>\n",
              "      <th></th>\n",
              "    </tr>\n",
              "  </thead>\n",
              "  <tbody>\n",
              "    <tr>\n",
              "      <th>arp</th>\n",
              "      <td>0.000034</td>\n",
              "      <td>0.000024</td>\n",
              "    </tr>\n",
              "    <tr>\n",
              "      <th>ipv6-icmp</th>\n",
              "      <td>0.000010</td>\n",
              "      <td>0.000000</td>\n",
              "    </tr>\n",
              "    <tr>\n",
              "      <th>tcp</th>\n",
              "      <td>0.000044</td>\n",
              "      <td>0.000000</td>\n",
              "    </tr>\n",
              "    <tr>\n",
              "      <th>udp</th>\n",
              "      <td>0.000312</td>\n",
              "      <td>0.999577</td>\n",
              "    </tr>\n",
              "  </tbody>\n",
              "</table>\n",
              "</div>"
            ],
            "text/plain": [
              "attack            0         1\n",
              "proto                        \n",
              "arp        0.000034  0.000024\n",
              "ipv6-icmp  0.000010  0.000000\n",
              "tcp        0.000044  0.000000\n",
              "udp        0.000312  0.999577"
            ]
          },
          "metadata": {
            "tags": []
          },
          "execution_count": 21
        }
      ]
    },
    {
      "cell_type": "code",
      "metadata": {
        "id": "JGeDrRjiSuYY",
        "outputId": "3b8d9618-7636-4f09-8ea4-fd2f6f312b64",
        "colab": {
          "base_uri": "https://localhost:8080/",
          "height": 302
        }
      },
      "source": [
        "#frequency distribution of attack\n",
        "sns.countplot(data['attack'])"
      ],
      "execution_count": 22,
      "outputs": [
        {
          "output_type": "execute_result",
          "data": {
            "text/plain": [
              "<matplotlib.axes._subplots.AxesSubplot at 0x7f425aadb250>"
            ]
          },
          "metadata": {
            "tags": []
          },
          "execution_count": 22
        },
        {
          "output_type": "display_data",
          "data": {
            "image/png": "[encoded data removed]",
            "text/plain": [
              "<Figure size 432x288 with 1 Axes>"
            ]
          },
          "metadata": {
            "tags": [],
            "needs_background": "light"
          }
        }
      ]
    },
    {
      "cell_type": "code",
      "metadata": {
        "id": "p5v67lkKSuYY"
      },
      "source": [
        "data=data.drop(columns='pkSeqID')"
      ],
      "execution_count": 23,
      "outputs": []
    },
    {
      "cell_type": "code",
      "metadata": {
        "id": "MkMLbOuASuYY"
      },
      "source": [
        "#Categorical Encoding\n",
        "data=pd.get_dummies(data)"
      ],
      "execution_count": 24,
      "outputs": []
    },
    {
      "cell_type": "code",
      "metadata": {
        "id": "mX2l9nlaSuYZ",
        "outputId": "12ae5dd3-700b-401c-e4bb-a151479c4211",
        "colab": {
          "base_uri": "https://localhost:8080/",
          "height": 241
        }
      },
      "source": [
        "data.head()"
      ],
      "execution_count": 25,
      "outputs": [
        {
          "output_type": "execute_result",
          "data": {
            "text/html": [
              "<div>\n",
              "<style scoped>\n",
              "    .dataframe tbody tr th:only-of-type {\n",
              "        vertical-align: middle;\n",
              "    }\n",
              "\n",
              "    .dataframe tbody tr th {\n",
              "        vertical-align: top;\n",
              "    }\n",
              "\n",
              "    .dataframe thead th {\n",
              "        text-align: right;\n",
              "    }\n",
              "</style>\n",
              "<table border=\"1\" class=\"dataframe\">\n",
              "  <thead>\n",
              "    <tr style=\"text-align: right;\">\n",
              "      <th></th>\n",
              "      <th>sport</th>\n",
              "      <th>dport</th>\n",
              "      <th>seq</th>\n",
              "      <th>stddev</th>\n",
              "      <th>N_IN_Conn_P_SrcIP</th>\n",
              "      <th>min</th>\n",
              "      <th>state_number</th>\n",
              "      <th>mean</th>\n",
              "      <th>N_IN_Conn_P_DstIP</th>\n",
              "      <th>drate</th>\n",
              "      <th>srate</th>\n",
              "      <th>max</th>\n",
              "      <th>attack</th>\n",
              "      <th>proto_arp</th>\n",
              "      <th>proto_ipv6-icmp</th>\n",
              "      <th>proto_tcp</th>\n",
              "      <th>proto_udp</th>\n",
              "    </tr>\n",
              "  </thead>\n",
              "  <tbody>\n",
              "    <tr>\n",
              "      <th>0</th>\n",
              "      <td>48719</td>\n",
              "      <td>80</td>\n",
              "      <td>99168</td>\n",
              "      <td>1.823185</td>\n",
              "      <td>63</td>\n",
              "      <td>0.000000</td>\n",
              "      <td>4</td>\n",
              "      <td>3.222832</td>\n",
              "      <td>63</td>\n",
              "      <td>0.0</td>\n",
              "      <td>0.461435</td>\n",
              "      <td>4.942302</td>\n",
              "      <td>1</td>\n",
              "      <td>0</td>\n",
              "      <td>0</td>\n",
              "      <td>0</td>\n",
              "      <td>1</td>\n",
              "    </tr>\n",
              "    <tr>\n",
              "      <th>1</th>\n",
              "      <td>33530</td>\n",
              "      <td>80</td>\n",
              "      <td>170464</td>\n",
              "      <td>2.113912</td>\n",
              "      <td>100</td>\n",
              "      <td>0.000000</td>\n",
              "      <td>4</td>\n",
              "      <td>2.112801</td>\n",
              "      <td>100</td>\n",
              "      <td>0.0</td>\n",
              "      <td>0.209328</td>\n",
              "      <td>4.322539</td>\n",
              "      <td>1</td>\n",
              "      <td>0</td>\n",
              "      <td>0</td>\n",
              "      <td>0</td>\n",
              "      <td>1</td>\n",
              "    </tr>\n",
              "    <tr>\n",
              "      <th>2</th>\n",
              "      <td>108</td>\n",
              "      <td>80</td>\n",
              "      <td>25284</td>\n",
              "      <td>0.028597</td>\n",
              "      <td>100</td>\n",
              "      <td>4.002665</td>\n",
              "      <td>4</td>\n",
              "      <td>4.046831</td>\n",
              "      <td>100</td>\n",
              "      <td>0.0</td>\n",
              "      <td>0.247826</td>\n",
              "      <td>4.082324</td>\n",
              "      <td>1</td>\n",
              "      <td>0</td>\n",
              "      <td>0</td>\n",
              "      <td>0</td>\n",
              "      <td>1</td>\n",
              "    </tr>\n",
              "    <tr>\n",
              "      <th>3</th>\n",
              "      <td>38264</td>\n",
              "      <td>80</td>\n",
              "      <td>75733</td>\n",
              "      <td>0.126301</td>\n",
              "      <td>100</td>\n",
              "      <td>3.258537</td>\n",
              "      <td>4</td>\n",
              "      <td>3.375540</td>\n",
              "      <td>100</td>\n",
              "      <td>0.0</td>\n",
              "      <td>0.282681</td>\n",
              "      <td>3.580228</td>\n",
              "      <td>1</td>\n",
              "      <td>0</td>\n",
              "      <td>0</td>\n",
              "      <td>0</td>\n",
              "      <td>1</td>\n",
              "    </tr>\n",
              "    <tr>\n",
              "      <th>4</th>\n",
              "      <td>10365</td>\n",
              "      <td>80</td>\n",
              "      <td>29611</td>\n",
              "      <td>1.432325</td>\n",
              "      <td>90</td>\n",
              "      <td>0.000000</td>\n",
              "      <td>4</td>\n",
              "      <td>2.864638</td>\n",
              "      <td>90</td>\n",
              "      <td>0.0</td>\n",
              "      <td>0.280290</td>\n",
              "      <td>3.586937</td>\n",
              "      <td>1</td>\n",
              "      <td>0</td>\n",
              "      <td>0</td>\n",
              "      <td>0</td>\n",
              "      <td>1</td>\n",
              "    </tr>\n",
              "  </tbody>\n",
              "</table>\n",
              "</div>"
            ],
            "text/plain": [
              "   sport  dport     seq  ...  proto_ipv6-icmp  proto_tcp  proto_udp\n",
              "0  48719     80   99168  ...                0          0          1\n",
              "1  33530     80  170464  ...                0          0          1\n",
              "2    108     80   25284  ...                0          0          1\n",
              "3  38264     80   75733  ...                0          0          1\n",
              "4  10365     80   29611  ...                0          0          1\n",
              "\n",
              "[5 rows x 17 columns]"
            ]
          },
          "metadata": {
            "tags": []
          },
          "execution_count": 25
        }
      ]
    },
    {
      "cell_type": "code",
      "metadata": {
        "id": "azYseBG_SuYZ"
      },
      "source": [
        "#Seperating the features and target variable\n",
        "y=data['attack']\n",
        "x=data.drop(columns='attack')"
      ],
      "execution_count": 26,
      "outputs": []
    },
    {
      "cell_type": "code",
      "metadata": {
        "id": "bBVYobmqSuYZ",
        "outputId": "3e3a0ee0-bde0-4e13-fa84-a3fe35b4e206",
        "colab": {
          "base_uri": "https://localhost:8080/"
        }
      },
      "source": [
        "data.shape"
      ],
      "execution_count": 27,
      "outputs": [
        {
          "output_type": "execute_result",
          "data": {
            "text/plain": [
              "(295188, 17)"
            ]
          },
          "metadata": {
            "tags": []
          },
          "execution_count": 27
        }
      ]
    },
    {
      "cell_type": "code",
      "metadata": {
        "id": "W6j6HRz2SuYa",
        "outputId": "a86b6f31-9ea0-44aa-d608-f9b67dab68de",
        "colab": {
          "base_uri": "https://localhost:8080/"
        }
      },
      "source": [
        "x.shape"
      ],
      "execution_count": 28,
      "outputs": [
        {
          "output_type": "execute_result",
          "data": {
            "text/plain": [
              "(295188, 16)"
            ]
          },
          "metadata": {
            "tags": []
          },
          "execution_count": 28
        }
      ]
    },
    {
      "cell_type": "code",
      "metadata": {
        "id": "J-I1enusSuYa",
        "outputId": "554c644b-5b3d-4660-e61a-f3b5c2520b88",
        "colab": {
          "base_uri": "https://localhost:8080/"
        }
      },
      "source": [
        "y.shape"
      ],
      "execution_count": 29,
      "outputs": [
        {
          "output_type": "execute_result",
          "data": {
            "text/plain": [
              "(295188,)"
            ]
          },
          "metadata": {
            "tags": []
          },
          "execution_count": 29
        }
      ]
    },
    {
      "cell_type": "code",
      "metadata": {
        "id": "k6IWI0TpSuYa"
      },
      "source": [
        "#Balancing the target variable\n",
        "from imblearn.combine import SMOTETomek\n",
        "smk = SMOTETomek(random_state = 0)\n",
        "x, y = smk.fit_sample(x,y)"
      ],
      "execution_count": 30,
      "outputs": []
    },
    {
      "cell_type": "code",
      "metadata": {
        "id": "vb0oArvySuYb",
        "outputId": "e9477141-22d5-4eaa-9c8a-88158fa541fa",
        "colab": {
          "base_uri": "https://localhost:8080/"
        }
      },
      "source": [
        "x.shape"
      ],
      "execution_count": 31,
      "outputs": [
        {
          "output_type": "execute_result",
          "data": {
            "text/plain": [
              "(590140, 16)"
            ]
          },
          "metadata": {
            "tags": []
          },
          "execution_count": 31
        }
      ]
    },
    {
      "cell_type": "code",
      "metadata": {
        "id": "fVURUplTSuYb",
        "outputId": "f7e05e7e-13ea-4d21-e858-04172e9055c2",
        "colab": {
          "base_uri": "https://localhost:8080/",
          "height": 285
        }
      },
      "source": [
        "sns.countplot(y)"
      ],
      "execution_count": 32,
      "outputs": [
        {
          "output_type": "execute_result",
          "data": {
            "text/plain": [
              "<matplotlib.axes._subplots.AxesSubplot at 0x7f42538c4b50>"
            ]
          },
          "metadata": {
            "tags": []
          },
          "execution_count": 32
        },
        {
          "output_type": "display_data",
          "data": {
            "image/png": "[encoded data removed]",
            "text/plain": [
              "<Figure size 432x288 with 1 Axes>"
            ]
          },
          "metadata": {
            "tags": [],
            "needs_background": "light"
          }
        }
      ]
    },
    {
      "cell_type": "code",
      "metadata": {
        "id": "XJZ_06unSuYc"
      },
      "source": [
        "#Spliting dataset into Train and Test set \n",
        "from sklearn.model_selection import train_test_split\n",
        "x_train,x_test,y_train,y_test = train_test_split(x,y,test_size = 0.3, random_state = 0)"
      ],
      "execution_count": 33,
      "outputs": []
    },
    {
      "cell_type": "code",
      "metadata": {
        "id": "38iAuAc6SuYc"
      },
      "source": [
        "#Feature Scaling\n",
        "from sklearn.preprocessing import StandardScaler\n",
        "sc = StandardScaler()\n",
        "x_train = sc.fit_transform(x_train)\n",
        "x_test = sc.transform(x_test)"
      ],
      "execution_count": 34,
      "outputs": []
    },
    {
      "cell_type": "code",
      "metadata": {
        "id": "nlIDpxg3SuYd",
        "outputId": "5b7a9d79-432f-4d42-9929-6426842a3786",
        "colab": {
          "base_uri": "https://localhost:8080/"
        }
      },
      "source": [
        "from sklearn.naive_bayes import GaussianNB\n",
        "from sklearn.model_selection import cross_val_score\n",
        "clf=GaussianNB()\n",
        "clf.fit(x_train,y_train)"
      ],
      "execution_count": 35,
      "outputs": [
        {
          "output_type": "execute_result",
          "data": {
            "text/plain": [
              "GaussianNB(priors=None, var_smoothing=1e-09)"
            ]
          },
          "metadata": {
            "tags": []
          },
          "execution_count": 35
        }
      ]
    },
    {
      "cell_type": "code",
      "metadata": {
        "id": "fiHtc-fcSuYd",
        "outputId": "2c345ab3-9120-4a9a-c3f9-41434fb7598e",
        "colab": {
          "base_uri": "https://localhost:8080/"
        }
      },
      "source": [
        "#Checking the accuracy of model\n",
        "from sklearn.metrics import accuracy_score\n",
        "y_pred=clf.predict(x_test)\n",
        "accuracy = accuracy_score(y_test, y_pred)\n",
        "print(\" Testing Accuracy: %.2f%%\" % (accuracy * 100.0))\n",
        "scores = cross_val_score(clf, x_train, y_train, cv=10)\n",
        "print(\"Cross Validation Accuracy: %.2f%% \" % (scores.mean()*100))"
      ],
      "execution_count": 36,
      "outputs": [
        {
          "output_type": "stream",
          "text": [
            " Testing Accuracy: 100.00%\n",
            "Cross Validation Accuracy: 100.00% \n"
          ],
          "name": "stdout"
        }
      ]
    },
    {
      "cell_type": "code",
      "metadata": {
        "id": "NXV8D033SuYd",
        "outputId": "9cc415aa-f221-4b87-e573-2b830f8892ec",
        "colab": {
          "base_uri": "https://localhost:8080/",
          "height": 318
        }
      },
      "source": [
        "#confusion matrix\n",
        "from sklearn.metrics import confusion_matrix\n",
        "con = confusion_matrix(y_test,y_pred)\n",
        "import seaborn as sns\n",
        "import matplotlib.pyplot as plt\n",
        "axes = sns.heatmap(con, square=True,annot=True,fmt='d',cbar = True, cmap = plt.cm.GnBu)\n",
        "ax = plt.axes()\n",
        "plt.xlabel('Predicted Values')\n",
        "plt.ylabel('Actual values')\n",
        "ax.set_title('Naive Bayes Classifier')"
      ],
      "execution_count": 37,
      "outputs": [
        {
          "output_type": "execute_result",
          "data": {
            "text/plain": [
              "Text(0.5, 1.0, 'Naive Bayes Classifier')"
            ]
          },
          "metadata": {
            "tags": []
          },
          "execution_count": 37
        },
        {
          "output_type": "display_data",
          "data": {
            "image/png": "[encoded data removed]",
            "text/plain": [
              "<Figure size 432x288 with 2 Axes>"
            ]
          },
          "metadata": {
            "tags": [],
            "needs_background": "light"
          }
        }
      ]
    },
    {
      "cell_type": "code",
      "metadata": {
        "id": "PWzS9AkISuYe",
        "outputId": "efccfa30-010b-4b61-9c53-f9f1086182e9",
        "colab": {
          "base_uri": "https://localhost:8080/"
        }
      },
      "source": [
        "from sklearn.metrics import classification_report\n",
        "print('Naive Bayes Classifier')\n",
        "print(classification_report(y_test, y_pred))"
      ],
      "execution_count": 38,
      "outputs": [
        {
          "output_type": "stream",
          "text": [
            "Naive Bayes Classifier\n",
            "              precision    recall  f1-score   support\n",
            "\n",
            "           0       1.00      1.00      1.00     88777\n",
            "           1       1.00      1.00      1.00     88265\n",
            "\n",
            "    accuracy                           1.00    177042\n",
            "   macro avg       1.00      1.00      1.00    177042\n",
            "weighted avg       1.00      1.00      1.00    177042\n",
            "\n"
          ],
          "name": "stdout"
        }
      ]
    },
    {
      "cell_type": "code",
      "metadata": {
        "id": "BXTscRIdSuYe",
        "outputId": "0ce21ab9-ab1e-442c-e3ed-9a6eb38cf062",
        "colab": {
          "base_uri": "https://localhost:8080/"
        }
      },
      "source": [
        "from sklearn.metrics import roc_auc_score\n",
        "roc_auc_score(y_test,y_pred)"
      ],
      "execution_count": 39,
      "outputs": [
        {
          "output_type": "execute_result",
          "data": {
            "text/plain": [
              "0.9999830057214072"
            ]
          },
          "metadata": {
            "tags": []
          },
          "execution_count": 39
        }
      ]
    },
    {
      "cell_type": "code",
      "metadata": {
        "id": "8s5KXgjVSuYf",
        "outputId": "0b83e7db-0c84-4216-ba03-1fb049513bf7",
        "colab": {
          "base_uri": "https://localhost:8080/",
          "height": 899
        }
      },
      "source": [
        "#from sklearn.model_selection import learning_curve\n",
        "from sklearn.model_selection import learning_curve\n",
        "from sklearn.model_selection import ShuffleSplit\n",
        "\n",
        "def plot_learning_curve(estimator, title, x, y, axes=None, ylim=None, cv=None,\n",
        "                        n_jobs=None, train_sizes=np.linspace(.1, 1.0, 5)):\n",
        "   \n",
        "    if axes is None:\n",
        "        _, axes = plt.subplots(1, 1, figsize=(20, 5))\n",
        "\n",
        "    axes[0].set_title(title)\n",
        "    if ylim is not None:\n",
        "        axes[0].set_ylim(*ylim)\n",
        "    axes[0].set_xlabel(\"Training examples\")\n",
        "    axes[0].set_ylabel(\"Score\")\n",
        "\n",
        "    train_sizes, train_scores, test_scores, fit_times, _ = \\\n",
        "        learning_curve(estimator, x, y, cv=cv, n_jobs=n_jobs,\n",
        "                       train_sizes=train_sizes,\n",
        "                       return_times=True)\n",
        "    train_scores_mean = np.mean(train_scores, axis=1)\n",
        "    train_scores_std = np.std(train_scores, axis=1)\n",
        "    test_scores_mean = np.mean(test_scores, axis=1)\n",
        "    test_scores_std = np.std(test_scores, axis=1)\n",
        "    fit_times_mean = np.mean(fit_times, axis=1)\n",
        "    fit_times_std = np.std(fit_times, axis=1)\n",
        "\n",
        "    # Plot learning curve\n",
        "    axes[0].grid()\n",
        "    axes[0].fill_between(train_sizes, train_scores_mean - train_scores_std,\n",
        "                         train_scores_mean + train_scores_std, alpha=0.1,\n",
        "                         color=\"r\")\n",
        "    axes[0].fill_between(train_sizes, test_scores_mean - test_scores_std,\n",
        "                         test_scores_mean + test_scores_std, alpha=0.1,\n",
        "                         color=\"g\")\n",
        "    axes[0].plot(train_sizes, train_scores_mean, 'o-', color=\"r\",\n",
        "                 label=\"Training score\")\n",
        "    axes[0].plot(train_sizes, test_scores_mean, 'o-', color=\"g\",\n",
        "                 label=\"Cross-validation score\")\n",
        "    axes[0].legend(loc=\"best\")\n",
        "\n",
        "    # Plot n_samples vs fit_times\n",
        "    axes[1].grid()\n",
        "    axes[1].plot(train_sizes, fit_times_mean, 'o-')\n",
        "    axes[1].fill_between(train_sizes, fit_times_mean - fit_times_std,\n",
        "                         fit_times_mean + fit_times_std, alpha=0.1)\n",
        "    axes[1].set_xlabel(\"Training examples\")\n",
        "    axes[1].set_ylabel(\"fit_times\")\n",
        "    axes[1].set_title(\"Scalability of the model\")\n",
        "\n",
        "    # Plot fit_time vs score\n",
        "    axes[2].grid()\n",
        "    axes[2].plot(fit_times_mean, test_scores_mean, 'o-')\n",
        "    axes[2].fill_between(fit_times_mean, test_scores_mean - test_scores_std,\n",
        "                         test_scores_mean + test_scores_std, alpha=0.1)\n",
        "    axes[2].set_xlabel(\"fit_times\")\n",
        "    axes[2].set_ylabel(\"Score\")\n",
        "    axes[2].set_title(\"Performance of the model\")\n",
        "\n",
        "\n",
        "fig, axes = plt.subplots(3, 1, figsize=(10, 15))\n",
        "\n",
        "title = \"Learning Curves (Naive Bayes Classifier)\"\n",
        "# Cross validation with 10 iterations to get smoother mean test and train\n",
        "# score curves, each time with 20% data randomly selected as a validation set.\n",
        "cv = ShuffleSplit(n_splits=10, test_size=0.2, random_state=0)\n",
        "\n",
        "estimator = GaussianNB()\n",
        "plot_learning_curve(estimator, title, x, y,axes=axes[:,], cv=cv, ylim=(0.7, 1.01), n_jobs=4)\n",
        "\n",
        "plt.show()"
      ],
      "execution_count": 41,
      "outputs": [
        {
          "output_type": "display_data",
          "data": {
            "image/png": "[encoded data removed]",
            "text/plain": [
              "<Figure size 720x1080 with 3 Axes>"
            ]
          },
          "metadata": {
            "tags": [],
            "needs_background": "light"
          }
        }
      ]
    },
    {
      "cell_type": "code",
      "metadata": {
        "id": "KwWotpT9SuYh"
      },
      "source": [
        ""
      ],
      "execution_count": null,
      "outputs": []
    }
  ]
}