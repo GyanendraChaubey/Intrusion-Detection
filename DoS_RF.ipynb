{
  "nbformat": 4,
  "nbformat_minor": 0,
  "metadata": {
    "kernelspec": {
      "display_name": "Python 3",
      "language": "python",
      "name": "python3"
    },
    "language_info": {
      "codemirror_mode": {
        "name": "ipython",
        "version": 3
      },
      "file_extension": ".py",
      "mimetype": "text/x-python",
      "name": "python",
      "nbconvert_exporter": "python",
      "pygments_lexer": "ipython3",
      "version": "3.7.3"
    },
    "colab": {
      "name": "DDoS_HTTP_AB.ipynb",
      "provenance": [],
      "toc_visible": true,
      "include_colab_link": true
    }
  },
  "cells": [
    {
      "cell_type": "markdown",
      "metadata": {
        "id": "view-in-github",
        "colab_type": "text"
      },
      "source": [
        "<a href=\"https://colab.research.google.com/github/GyanendraChaubey/Intrusion-Detection/blob/main/DoS_RF.ipynb\" target=\"_parent\"><img src=\"https://colab.research.google.com/assets/colab-badge.svg\" alt=\"Open In Colab\"/></a>"
      ]
    },
    {
      "cell_type": "code",
      "metadata": {
        "id": "hITRe9E9lpO8"
      },
      "source": [
        "#Importing the necessary libraries\n",
        "import numpy as np\n",
        "import pandas as pd\n",
        "import matplotlib.pyplot as plt\n",
        "import seaborn as sns\n",
        "sns.set()\n",
        "import warnings\n",
        "warnings.filterwarnings('ignore')\n",
        "import pandas.util.testing as tm"
      ],
      "execution_count": 37,
      "outputs": []
    },
    {
      "cell_type": "code",
      "metadata": {
        "id": "CsI6mXnTl3W1",
        "colab": {
          "base_uri": "https://localhost:8080/"
        },
        "outputId": "e8ef8dba-af91-4153-87ef-321b5bee88d7"
      },
      "source": [
        "from google.colab import drive\n",
        "drive.mount('/content/drive')"
      ],
      "execution_count": 38,
      "outputs": [
        {
          "output_type": "stream",
          "text": [
            "Drive already mounted at /content/drive; to attempt to forcibly remount, call drive.mount(\"/content/drive\", force_remount=True).\n"
          ],
          "name": "stdout"
        }
      ]
    },
    {
      "cell_type": "code",
      "metadata": {
        "id": "trMVYZENlpPK"
      },
      "source": [
        "#Read the data\n",
        "data=pd.read_csv(\"/content/drive/MyDrive/DOS.csv\")"
      ],
      "execution_count": 51,
      "outputs": []
    },
    {
      "cell_type": "code",
      "metadata": {
        "id": "dK3PQCMhlpPM"
      },
      "source": [
        "#Making a copy of data\n",
        "data=data.copy()"
      ],
      "execution_count": 52,
      "outputs": []
    },
    {
      "cell_type": "markdown",
      "metadata": {
        "id": "MEkHHlELlpPN"
      },
      "source": [
        "#Feature Engineering"
      ]
    },
    {
      "cell_type": "markdown",
      "metadata": {
        "id": "-U31-FoClpPP"
      },
      "source": [
        "1. Understanding Data"
      ]
    },
    {
      "cell_type": "code",
      "metadata": {
        "id": "0olwCpIClpPQ",
        "colab": {
          "base_uri": "https://localhost:8080/"
        },
        "outputId": "25091337-c862-4011-ba90-e0aeaa7d0b5f"
      },
      "source": [
        "#checking the missing values\n",
        "data.isnull().sum()"
      ],
      "execution_count": 53,
      "outputs": [
        {
          "output_type": "execute_result",
          "data": {
            "text/plain": [
              "pkSeqID              0\n",
              "proto                0\n",
              "saddr                0\n",
              "sport                0\n",
              "daddr                0\n",
              "dport                0\n",
              "seq                  0\n",
              "stddev               0\n",
              "N_IN_Conn_P_SrcIP    0\n",
              "min                  0\n",
              "state_number         0\n",
              "mean                 0\n",
              "N_IN_Conn_P_DstIP    0\n",
              "drate                0\n",
              "srate                0\n",
              "max                  0\n",
              "attack               0\n",
              "category             0\n",
              "subcategory          0\n",
              "dtype: int64"
            ]
          },
          "metadata": {
            "tags": []
          },
          "execution_count": 53
        }
      ]
    },
    {
      "cell_type": "code",
      "metadata": {
        "id": "VgqnUMNUlpPS",
        "colab": {
          "base_uri": "https://localhost:8080/"
        },
        "outputId": "3a6ec2e8-8602-4724-ff51-8f3f27360d19"
      },
      "source": [
        "data.info()"
      ],
      "execution_count": 54,
      "outputs": [
        {
          "output_type": "stream",
          "text": [
            "<class 'pandas.core.frame.DataFrame'>\n",
            "RangeIndex: 471752 entries, 0 to 471751\n",
            "Data columns (total 19 columns):\n",
            " #   Column             Non-Null Count   Dtype  \n",
            "---  ------             --------------   -----  \n",
            " 0   pkSeqID            471752 non-null  int64  \n",
            " 1   proto              471752 non-null  object \n",
            " 2   saddr              471752 non-null  object \n",
            " 3   sport              471752 non-null  int64  \n",
            " 4   daddr              471752 non-null  object \n",
            " 5   dport              471752 non-null  int64  \n",
            " 6   seq                471752 non-null  int64  \n",
            " 7   stddev             471752 non-null  float64\n",
            " 8   N_IN_Conn_P_SrcIP  471752 non-null  int64  \n",
            " 9   min                471752 non-null  float64\n",
            " 10  state_number       471752 non-null  int64  \n",
            " 11  mean               471752 non-null  float64\n",
            " 12  N_IN_Conn_P_DstIP  471752 non-null  int64  \n",
            " 13  drate              471752 non-null  float64\n",
            " 14  srate              471752 non-null  float64\n",
            " 15  max                471752 non-null  float64\n",
            " 16  attack             471752 non-null  int64  \n",
            " 17  category           471752 non-null  object \n",
            " 18  subcategory        471752 non-null  object \n",
            "dtypes: float64(6), int64(8), object(5)\n",
            "memory usage: 68.4+ MB\n"
          ],
          "name": "stdout"
        }
      ]
    },
    {
      "cell_type": "code",
      "metadata": {
        "id": "slK2bI-1lpPU",
        "colab": {
          "base_uri": "https://localhost:8080/",
          "height": 224
        },
        "outputId": "eb224e09-f9c3-45c1-8e2e-1110d4b46b65"
      },
      "source": [
        "data.head()"
      ],
      "execution_count": 55,
      "outputs": [
        {
          "output_type": "execute_result",
          "data": {
            "text/html": [
              "<div>\n",
              "<style scoped>\n",
              "    .dataframe tbody tr th:only-of-type {\n",
              "        vertical-align: middle;\n",
              "    }\n",
              "\n",
              "    .dataframe tbody tr th {\n",
              "        vertical-align: top;\n",
              "    }\n",
              "\n",
              "    .dataframe thead th {\n",
              "        text-align: right;\n",
              "    }\n",
              "</style>\n",
              "<table border=\"1\" class=\"dataframe\">\n",
              "  <thead>\n",
              "    <tr style=\"text-align: right;\">\n",
              "      <th></th>\n",
              "      <th>pkSeqID</th>\n",
              "      <th>proto</th>\n",
              "      <th>saddr</th>\n",
              "      <th>sport</th>\n",
              "      <th>daddr</th>\n",
              "      <th>dport</th>\n",
              "      <th>seq</th>\n",
              "      <th>stddev</th>\n",
              "      <th>N_IN_Conn_P_SrcIP</th>\n",
              "      <th>min</th>\n",
              "      <th>state_number</th>\n",
              "      <th>mean</th>\n",
              "      <th>N_IN_Conn_P_DstIP</th>\n",
              "      <th>drate</th>\n",
              "      <th>srate</th>\n",
              "      <th>max</th>\n",
              "      <th>attack</th>\n",
              "      <th>category</th>\n",
              "      <th>subcategory</th>\n",
              "    </tr>\n",
              "  </thead>\n",
              "  <tbody>\n",
              "    <tr>\n",
              "      <th>0</th>\n",
              "      <td>1240757</td>\n",
              "      <td>udp</td>\n",
              "      <td>192.168.100.150</td>\n",
              "      <td>48719</td>\n",
              "      <td>192.168.100.3</td>\n",
              "      <td>80</td>\n",
              "      <td>99168</td>\n",
              "      <td>1.823185</td>\n",
              "      <td>63</td>\n",
              "      <td>0.000000</td>\n",
              "      <td>4</td>\n",
              "      <td>3.222832</td>\n",
              "      <td>63</td>\n",
              "      <td>0.000000</td>\n",
              "      <td>0.461435</td>\n",
              "      <td>4.942302</td>\n",
              "      <td>1</td>\n",
              "      <td>DoS</td>\n",
              "      <td>UDP</td>\n",
              "    </tr>\n",
              "    <tr>\n",
              "      <th>1</th>\n",
              "      <td>409928</td>\n",
              "      <td>tcp</td>\n",
              "      <td>192.168.100.147</td>\n",
              "      <td>25305</td>\n",
              "      <td>192.168.100.7</td>\n",
              "      <td>80</td>\n",
              "      <td>146299</td>\n",
              "      <td>1.755521</td>\n",
              "      <td>100</td>\n",
              "      <td>0.000000</td>\n",
              "      <td>3</td>\n",
              "      <td>1.013550</td>\n",
              "      <td>100</td>\n",
              "      <td>0.000000</td>\n",
              "      <td>0.178650</td>\n",
              "      <td>4.054201</td>\n",
              "      <td>1</td>\n",
              "      <td>DoS</td>\n",
              "      <td>TCP</td>\n",
              "    </tr>\n",
              "    <tr>\n",
              "      <th>2</th>\n",
              "      <td>787741</td>\n",
              "      <td>udp</td>\n",
              "      <td>192.168.100.149</td>\n",
              "      <td>33530</td>\n",
              "      <td>192.168.100.5</td>\n",
              "      <td>80</td>\n",
              "      <td>170464</td>\n",
              "      <td>2.113912</td>\n",
              "      <td>100</td>\n",
              "      <td>0.000000</td>\n",
              "      <td>4</td>\n",
              "      <td>2.112801</td>\n",
              "      <td>100</td>\n",
              "      <td>0.000000</td>\n",
              "      <td>0.209328</td>\n",
              "      <td>4.322539</td>\n",
              "      <td>1</td>\n",
              "      <td>DoS</td>\n",
              "      <td>UDP</td>\n",
              "    </tr>\n",
              "    <tr>\n",
              "      <th>3</th>\n",
              "      <td>1429027</td>\n",
              "      <td>udp</td>\n",
              "      <td>192.168.100.148</td>\n",
              "      <td>108</td>\n",
              "      <td>192.168.100.6</td>\n",
              "      <td>80</td>\n",
              "      <td>25284</td>\n",
              "      <td>0.028597</td>\n",
              "      <td>100</td>\n",
              "      <td>4.002665</td>\n",
              "      <td>4</td>\n",
              "      <td>4.046831</td>\n",
              "      <td>100</td>\n",
              "      <td>0.000000</td>\n",
              "      <td>0.247826</td>\n",
              "      <td>4.082324</td>\n",
              "      <td>1</td>\n",
              "      <td>DoS</td>\n",
              "      <td>UDP</td>\n",
              "    </tr>\n",
              "    <tr>\n",
              "      <th>4</th>\n",
              "      <td>56836</td>\n",
              "      <td>tcp</td>\n",
              "      <td>192.168.100.148</td>\n",
              "      <td>19521</td>\n",
              "      <td>192.168.100.6</td>\n",
              "      <td>80</td>\n",
              "      <td>55359</td>\n",
              "      <td>0.117809</td>\n",
              "      <td>78</td>\n",
              "      <td>0.000000</td>\n",
              "      <td>1</td>\n",
              "      <td>0.061803</td>\n",
              "      <td>78</td>\n",
              "      <td>0.038164</td>\n",
              "      <td>0.127681</td>\n",
              "      <td>0.297244</td>\n",
              "      <td>1</td>\n",
              "      <td>DoS</td>\n",
              "      <td>TCP</td>\n",
              "    </tr>\n",
              "  </tbody>\n",
              "</table>\n",
              "</div>"
            ],
            "text/plain": [
              "   pkSeqID proto            saddr  sport  ...       max  attack  category  subcategory\n",
              "0  1240757   udp  192.168.100.150  48719  ...  4.942302       1       DoS          UDP\n",
              "1   409928   tcp  192.168.100.147  25305  ...  4.054201       1       DoS          TCP\n",
              "2   787741   udp  192.168.100.149  33530  ...  4.322539       1       DoS          UDP\n",
              "3  1429027   udp  192.168.100.148    108  ...  4.082324       1       DoS          UDP\n",
              "4    56836   tcp  192.168.100.148  19521  ...  0.297244       1       DoS          TCP\n",
              "\n",
              "[5 rows x 19 columns]"
            ]
          },
          "metadata": {
            "tags": []
          },
          "execution_count": 55
        }
      ]
    },
    {
      "cell_type": "code",
      "metadata": {
        "id": "cbIZFmtNfC7U"
      },
      "source": [
        "data['subcategory']=data['subcategory'].map({'Normal':0,'HTTP':1,'TCP':2,'UDP':3})"
      ],
      "execution_count": 56,
      "outputs": []
    },
    {
      "cell_type": "code",
      "metadata": {
        "id": "qwo00qvplpPW",
        "colab": {
          "base_uri": "https://localhost:8080/"
        },
        "outputId": "1a1caa67-7f31-497f-c91e-4096bf5f09a0"
      },
      "source": [
        "data['proto'].unique()"
      ],
      "execution_count": 57,
      "outputs": [
        {
          "output_type": "execute_result",
          "data": {
            "text/plain": [
              "array(['udp', 'tcp', 'arp', 'ipv6-icmp'], dtype=object)"
            ]
          },
          "metadata": {
            "tags": []
          },
          "execution_count": 57
        }
      ]
    },
    {
      "cell_type": "code",
      "metadata": {
        "id": "d_Rg4dIylpPY",
        "colab": {
          "base_uri": "https://localhost:8080/"
        },
        "outputId": "14e732f1-c192-4f5d-ce02-a4b36ffea958"
      },
      "source": [
        "data['saddr'].unique()"
      ],
      "execution_count": 58,
      "outputs": [
        {
          "output_type": "execute_result",
          "data": {
            "text/plain": [
              "array(['192.168.100.150', '192.168.100.147', '192.168.100.149',\n",
              "       '192.168.100.148', '192.168.100.5', '192.168.100.3',\n",
              "       '192.168.100.6', '192.168.100.27', 'fe80::250:56ff:febe:254',\n",
              "       '192.168.100.7', 'fe80::250:56ff:febe:e9d9', '192.168.100.46',\n",
              "       'fe80::250:56ff:febe:26db', '192.168.100.1',\n",
              "       'fe80::250:56ff:febe:89ee', '192.168.100.4'], dtype=object)"
            ]
          },
          "metadata": {
            "tags": []
          },
          "execution_count": 58
        }
      ]
    },
    {
      "cell_type": "code",
      "metadata": {
        "id": "PUk2WfxjlpPZ",
        "colab": {
          "base_uri": "https://localhost:8080/"
        },
        "outputId": "f78490f9-b73c-499a-9369-3c9a60766f06"
      },
      "source": [
        "data['daddr'].unique()"
      ],
      "execution_count": 59,
      "outputs": [
        {
          "output_type": "execute_result",
          "data": {
            "text/plain": [
              "array(['192.168.100.3', '192.168.100.7', '192.168.100.5', '192.168.100.6',\n",
              "       '192.168.217.2', '192.168.100.55', '192.168.100.150',\n",
              "       '192.168.100.149', '255.255.255.255', '192.168.100.148',\n",
              "       '96.7.49.66', '205.251.197.206', '192.168.100.1',\n",
              "       '205.251.194.201', '224.0.0.251', '205.251.196.32',\n",
              "       '52.201.147.106', '192.5.5.241', '192.55.83.30', '192.31.80.30',\n",
              "       '8.8.8.8', '13.55.154.73', 'ff02::2', '192.168.100.147',\n",
              "       '192.41.162.30', '129.250.35.250', 'ff02::fb', '27.124.125.250',\n",
              "       '199.19.56.1', '192.33.14.30', '205.251.199.148', '192.58.128.30',\n",
              "       '192.12.94.30', '205.251.196.160', '205.251.199.194',\n",
              "       '192.36.148.17', '184.85.248.65', '192.33.4.12', '52.11.124.117',\n",
              "       '192.168.100.255', '192.54.112.30', 'ff02::1', '172.217.25.170',\n",
              "       '205.251.194.102', '192.112.36.4', '205.251.194.86',\n",
              "       '192.168.100.27', '192.52.178.30', '205.251.195.59', '52.35.35.13'],\n",
              "      dtype=object)"
            ]
          },
          "metadata": {
            "tags": []
          },
          "execution_count": 59
        }
      ]
    },
    {
      "cell_type": "code",
      "metadata": {
        "id": "9lL1S_aKlpPb",
        "colab": {
          "base_uri": "https://localhost:8080/",
          "height": 317
        },
        "outputId": "fcb0a989-0004-40dc-c3ef-0c55a34ff62e"
      },
      "source": [
        "data.describe()"
      ],
      "execution_count": 60,
      "outputs": [
        {
          "output_type": "execute_result",
          "data": {
            "text/html": [
              "<div>\n",
              "<style scoped>\n",
              "    .dataframe tbody tr th:only-of-type {\n",
              "        vertical-align: middle;\n",
              "    }\n",
              "\n",
              "    .dataframe tbody tr th {\n",
              "        vertical-align: top;\n",
              "    }\n",
              "\n",
              "    .dataframe thead th {\n",
              "        text-align: right;\n",
              "    }\n",
              "</style>\n",
              "<table border=\"1\" class=\"dataframe\">\n",
              "  <thead>\n",
              "    <tr style=\"text-align: right;\">\n",
              "      <th></th>\n",
              "      <th>pkSeqID</th>\n",
              "      <th>sport</th>\n",
              "      <th>dport</th>\n",
              "      <th>seq</th>\n",
              "      <th>stddev</th>\n",
              "      <th>N_IN_Conn_P_SrcIP</th>\n",
              "      <th>min</th>\n",
              "      <th>state_number</th>\n",
              "      <th>mean</th>\n",
              "      <th>N_IN_Conn_P_DstIP</th>\n",
              "      <th>drate</th>\n",
              "      <th>srate</th>\n",
              "      <th>max</th>\n",
              "      <th>attack</th>\n",
              "      <th>subcategory</th>\n",
              "    </tr>\n",
              "  </thead>\n",
              "  <tbody>\n",
              "    <tr>\n",
              "      <th>count</th>\n",
              "      <td>4.717520e+05</td>\n",
              "      <td>471752.000000</td>\n",
              "      <td>471752.000000</td>\n",
              "      <td>471752.000000</td>\n",
              "      <td>471752.000000</td>\n",
              "      <td>471752.000000</td>\n",
              "      <td>471752.000000</td>\n",
              "      <td>471752.000000</td>\n",
              "      <td>471752.000000</td>\n",
              "      <td>471752.000000</td>\n",
              "      <td>471752.000000</td>\n",
              "      <td>471752.000000</td>\n",
              "      <td>471752.000000</td>\n",
              "      <td>471752.000000</td>\n",
              "      <td>471752.000000</td>\n",
              "    </tr>\n",
              "    <tr>\n",
              "      <th>mean</th>\n",
              "      <td>8.253817e+05</td>\n",
              "      <td>32932.470669</td>\n",
              "      <td>92.306246</td>\n",
              "      <td>124909.947621</td>\n",
              "      <td>0.869242</td>\n",
              "      <td>84.267776</td>\n",
              "      <td>0.738609</td>\n",
              "      <td>3.289317</td>\n",
              "      <td>1.979729</td>\n",
              "      <td>84.278047</td>\n",
              "      <td>0.009780</td>\n",
              "      <td>2.622580</td>\n",
              "      <td>2.802114</td>\n",
              "      <td>0.999750</td>\n",
              "      <td>2.624050</td>\n",
              "    </tr>\n",
              "    <tr>\n",
              "      <th>std</th>\n",
              "      <td>4.782077e+05</td>\n",
              "      <td>19184.837789</td>\n",
              "      <td>709.720345</td>\n",
              "      <td>75741.590833</td>\n",
              "      <td>0.853363</td>\n",
              "      <td>23.311734</td>\n",
              "      <td>1.437318</td>\n",
              "      <td>1.102035</td>\n",
              "      <td>1.537813</td>\n",
              "      <td>23.309707</td>\n",
              "      <td>3.175927</td>\n",
              "      <td>1455.938708</td>\n",
              "      <td>1.965062</td>\n",
              "      <td>0.015814</td>\n",
              "      <td>0.487817</td>\n",
              "    </tr>\n",
              "    <tr>\n",
              "      <th>min</th>\n",
              "      <td>5.000000e+00</td>\n",
              "      <td>-1.000000</td>\n",
              "      <td>-1.000000</td>\n",
              "      <td>1.000000</td>\n",
              "      <td>0.000000</td>\n",
              "      <td>1.000000</td>\n",
              "      <td>0.000000</td>\n",
              "      <td>1.000000</td>\n",
              "      <td>0.000000</td>\n",
              "      <td>1.000000</td>\n",
              "      <td>0.000000</td>\n",
              "      <td>0.000000</td>\n",
              "      <td>0.000000</td>\n",
              "      <td>0.000000</td>\n",
              "      <td>0.000000</td>\n",
              "    </tr>\n",
              "    <tr>\n",
              "      <th>25%</th>\n",
              "      <td>4.120795e+05</td>\n",
              "      <td>16141.000000</td>\n",
              "      <td>80.000000</td>\n",
              "      <td>58571.000000</td>\n",
              "      <td>0.016485</td>\n",
              "      <td>72.000000</td>\n",
              "      <td>0.000000</td>\n",
              "      <td>3.000000</td>\n",
              "      <td>0.117820</td>\n",
              "      <td>72.000000</td>\n",
              "      <td>0.000000</td>\n",
              "      <td>0.132332</td>\n",
              "      <td>0.161874</td>\n",
              "      <td>1.000000</td>\n",
              "      <td>2.000000</td>\n",
              "    </tr>\n",
              "    <tr>\n",
              "      <th>50%</th>\n",
              "      <td>8.244905e+05</td>\n",
              "      <td>32948.000000</td>\n",
              "      <td>80.000000</td>\n",
              "      <td>121885.500000</td>\n",
              "      <td>0.531122</td>\n",
              "      <td>100.000000</td>\n",
              "      <td>0.000000</td>\n",
              "      <td>4.000000</td>\n",
              "      <td>2.161920</td>\n",
              "      <td>100.000000</td>\n",
              "      <td>0.000000</td>\n",
              "      <td>0.233901</td>\n",
              "      <td>3.737601</td>\n",
              "      <td>1.000000</td>\n",
              "      <td>3.000000</td>\n",
              "    </tr>\n",
              "    <tr>\n",
              "      <th>75%</th>\n",
              "      <td>1.238013e+06</td>\n",
              "      <td>49891.000000</td>\n",
              "      <td>80.000000</td>\n",
              "      <td>190572.250000</td>\n",
              "      <td>1.779085</td>\n",
              "      <td>100.000000</td>\n",
              "      <td>0.160881</td>\n",
              "      <td>4.000000</td>\n",
              "      <td>3.310120</td>\n",
              "      <td>100.000000</td>\n",
              "      <td>0.000000</td>\n",
              "      <td>0.348328</td>\n",
              "      <td>4.479992</td>\n",
              "      <td>1.000000</td>\n",
              "      <td>3.000000</td>\n",
              "    </tr>\n",
              "    <tr>\n",
              "      <th>max</th>\n",
              "      <td>3.577360e+06</td>\n",
              "      <td>65535.000000</td>\n",
              "      <td>62893.000000</td>\n",
              "      <td>262207.000000</td>\n",
              "      <td>2.444468</td>\n",
              "      <td>100.000000</td>\n",
              "      <td>4.950444</td>\n",
              "      <td>8.000000</td>\n",
              "      <td>4.966808</td>\n",
              "      <td>100.000000</td>\n",
              "      <td>2178.649170</td>\n",
              "      <td>1000000.000000</td>\n",
              "      <td>4.999998</td>\n",
              "      <td>1.000000</td>\n",
              "      <td>3.000000</td>\n",
              "    </tr>\n",
              "  </tbody>\n",
              "</table>\n",
              "</div>"
            ],
            "text/plain": [
              "            pkSeqID          sport  ...         attack    subcategory\n",
              "count  4.717520e+05  471752.000000  ...  471752.000000  471752.000000\n",
              "mean   8.253817e+05   32932.470669  ...       0.999750       2.624050\n",
              "std    4.782077e+05   19184.837789  ...       0.015814       0.487817\n",
              "min    5.000000e+00      -1.000000  ...       0.000000       0.000000\n",
              "25%    4.120795e+05   16141.000000  ...       1.000000       2.000000\n",
              "50%    8.244905e+05   32948.000000  ...       1.000000       3.000000\n",
              "75%    1.238013e+06   49891.000000  ...       1.000000       3.000000\n",
              "max    3.577360e+06   65535.000000  ...       1.000000       3.000000\n",
              "\n",
              "[8 rows x 15 columns]"
            ]
          },
          "metadata": {
            "tags": []
          },
          "execution_count": 60
        }
      ]
    },
    {
      "cell_type": "code",
      "metadata": {
        "id": "xmKHiTfdlpPd"
      },
      "source": [
        "#Removing the unwanted coloumns\n",
        "col=['saddr','daddr','category','attack']\n",
        "data=data.drop(columns=col,axis=1)"
      ],
      "execution_count": 61,
      "outputs": []
    },
    {
      "cell_type": "code",
      "metadata": {
        "id": "7XAq9HlIlpPf"
      },
      "source": [
        "#Removing the dublicate values\n",
        "data.drop_duplicates(keep='first',inplace=True)"
      ],
      "execution_count": 62,
      "outputs": []
    },
    {
      "cell_type": "markdown",
      "metadata": {
        "id": "43DKLBzxlpPg"
      },
      "source": [
        "2. Exploratory Data Analysis"
      ]
    },
    {
      "cell_type": "code",
      "metadata": {
        "id": "L5HtqC0nlpPh",
        "colab": {
          "base_uri": "https://localhost:8080/",
          "height": 224
        },
        "outputId": "8afcbcae-017c-4ee6-8ab4-2f92250c4a86"
      },
      "source": [
        "data.head()"
      ],
      "execution_count": 63,
      "outputs": [
        {
          "output_type": "execute_result",
          "data": {
            "text/html": [
              "<div>\n",
              "<style scoped>\n",
              "    .dataframe tbody tr th:only-of-type {\n",
              "        vertical-align: middle;\n",
              "    }\n",
              "\n",
              "    .dataframe tbody tr th {\n",
              "        vertical-align: top;\n",
              "    }\n",
              "\n",
              "    .dataframe thead th {\n",
              "        text-align: right;\n",
              "    }\n",
              "</style>\n",
              "<table border=\"1\" class=\"dataframe\">\n",
              "  <thead>\n",
              "    <tr style=\"text-align: right;\">\n",
              "      <th></th>\n",
              "      <th>pkSeqID</th>\n",
              "      <th>proto</th>\n",
              "      <th>sport</th>\n",
              "      <th>dport</th>\n",
              "      <th>seq</th>\n",
              "      <th>stddev</th>\n",
              "      <th>N_IN_Conn_P_SrcIP</th>\n",
              "      <th>min</th>\n",
              "      <th>state_number</th>\n",
              "      <th>mean</th>\n",
              "      <th>N_IN_Conn_P_DstIP</th>\n",
              "      <th>drate</th>\n",
              "      <th>srate</th>\n",
              "      <th>max</th>\n",
              "      <th>subcategory</th>\n",
              "    </tr>\n",
              "  </thead>\n",
              "  <tbody>\n",
              "    <tr>\n",
              "      <th>0</th>\n",
              "      <td>1240757</td>\n",
              "      <td>udp</td>\n",
              "      <td>48719</td>\n",
              "      <td>80</td>\n",
              "      <td>99168</td>\n",
              "      <td>1.823185</td>\n",
              "      <td>63</td>\n",
              "      <td>0.000000</td>\n",
              "      <td>4</td>\n",
              "      <td>3.222832</td>\n",
              "      <td>63</td>\n",
              "      <td>0.000000</td>\n",
              "      <td>0.461435</td>\n",
              "      <td>4.942302</td>\n",
              "      <td>3</td>\n",
              "    </tr>\n",
              "    <tr>\n",
              "      <th>1</th>\n",
              "      <td>409928</td>\n",
              "      <td>tcp</td>\n",
              "      <td>25305</td>\n",
              "      <td>80</td>\n",
              "      <td>146299</td>\n",
              "      <td>1.755521</td>\n",
              "      <td>100</td>\n",
              "      <td>0.000000</td>\n",
              "      <td>3</td>\n",
              "      <td>1.013550</td>\n",
              "      <td>100</td>\n",
              "      <td>0.000000</td>\n",
              "      <td>0.178650</td>\n",
              "      <td>4.054201</td>\n",
              "      <td>2</td>\n",
              "    </tr>\n",
              "    <tr>\n",
              "      <th>2</th>\n",
              "      <td>787741</td>\n",
              "      <td>udp</td>\n",
              "      <td>33530</td>\n",
              "      <td>80</td>\n",
              "      <td>170464</td>\n",
              "      <td>2.113912</td>\n",
              "      <td>100</td>\n",
              "      <td>0.000000</td>\n",
              "      <td>4</td>\n",
              "      <td>2.112801</td>\n",
              "      <td>100</td>\n",
              "      <td>0.000000</td>\n",
              "      <td>0.209328</td>\n",
              "      <td>4.322539</td>\n",
              "      <td>3</td>\n",
              "    </tr>\n",
              "    <tr>\n",
              "      <th>3</th>\n",
              "      <td>1429027</td>\n",
              "      <td>udp</td>\n",
              "      <td>108</td>\n",
              "      <td>80</td>\n",
              "      <td>25284</td>\n",
              "      <td>0.028597</td>\n",
              "      <td>100</td>\n",
              "      <td>4.002665</td>\n",
              "      <td>4</td>\n",
              "      <td>4.046831</td>\n",
              "      <td>100</td>\n",
              "      <td>0.000000</td>\n",
              "      <td>0.247826</td>\n",
              "      <td>4.082324</td>\n",
              "      <td>3</td>\n",
              "    </tr>\n",
              "    <tr>\n",
              "      <th>4</th>\n",
              "      <td>56836</td>\n",
              "      <td>tcp</td>\n",
              "      <td>19521</td>\n",
              "      <td>80</td>\n",
              "      <td>55359</td>\n",
              "      <td>0.117809</td>\n",
              "      <td>78</td>\n",
              "      <td>0.000000</td>\n",
              "      <td>1</td>\n",
              "      <td>0.061803</td>\n",
              "      <td>78</td>\n",
              "      <td>0.038164</td>\n",
              "      <td>0.127681</td>\n",
              "      <td>0.297244</td>\n",
              "      <td>2</td>\n",
              "    </tr>\n",
              "  </tbody>\n",
              "</table>\n",
              "</div>"
            ],
            "text/plain": [
              "   pkSeqID proto  sport  dport  ...     drate     srate       max  subcategory\n",
              "0  1240757   udp  48719     80  ...  0.000000  0.461435  4.942302            3\n",
              "1   409928   tcp  25305     80  ...  0.000000  0.178650  4.054201            2\n",
              "2   787741   udp  33530     80  ...  0.000000  0.209328  4.322539            3\n",
              "3  1429027   udp    108     80  ...  0.000000  0.247826  4.082324            3\n",
              "4    56836   tcp  19521     80  ...  0.038164  0.127681  0.297244            2\n",
              "\n",
              "[5 rows x 15 columns]"
            ]
          },
          "metadata": {
            "tags": []
          },
          "execution_count": 63
        }
      ]
    },
    {
      "cell_type": "code",
      "metadata": {
        "id": "WErffEdUlpPj",
        "colab": {
          "base_uri": "https://localhost:8080/"
        },
        "outputId": "8efcacf5-aaa3-4db6-ecea-acfcb969da81"
      },
      "source": [
        "#Frequency of each category\n",
        "data['proto'].value_counts()"
      ],
      "execution_count": 64,
      "outputs": [
        {
          "output_type": "execute_result",
          "data": {
            "text/plain": [
              "udp          295155\n",
              "tcp          176573\n",
              "arp              21\n",
              "ipv6-icmp         3\n",
              "Name: proto, dtype: int64"
            ]
          },
          "metadata": {
            "tags": []
          },
          "execution_count": 64
        }
      ]
    },
    {
      "cell_type": "code",
      "metadata": {
        "id": "dIFu9BQLlpPk",
        "colab": {
          "base_uri": "https://localhost:8080/",
          "height": 503
        },
        "outputId": "d2021573-a6cf-4d0d-a009-ec3f2b8b34b8"
      },
      "source": [
        "#relationship between the independent variables\n",
        "data.corr()"
      ],
      "execution_count": 65,
      "outputs": [
        {
          "output_type": "execute_result",
          "data": {
            "text/html": [
              "<div>\n",
              "<style scoped>\n",
              "    .dataframe tbody tr th:only-of-type {\n",
              "        vertical-align: middle;\n",
              "    }\n",
              "\n",
              "    .dataframe tbody tr th {\n",
              "        vertical-align: top;\n",
              "    }\n",
              "\n",
              "    .dataframe thead th {\n",
              "        text-align: right;\n",
              "    }\n",
              "</style>\n",
              "<table border=\"1\" class=\"dataframe\">\n",
              "  <thead>\n",
              "    <tr style=\"text-align: right;\">\n",
              "      <th></th>\n",
              "      <th>pkSeqID</th>\n",
              "      <th>sport</th>\n",
              "      <th>dport</th>\n",
              "      <th>seq</th>\n",
              "      <th>stddev</th>\n",
              "      <th>N_IN_Conn_P_SrcIP</th>\n",
              "      <th>min</th>\n",
              "      <th>state_number</th>\n",
              "      <th>mean</th>\n",
              "      <th>N_IN_Conn_P_DstIP</th>\n",
              "      <th>drate</th>\n",
              "      <th>srate</th>\n",
              "      <th>max</th>\n",
              "      <th>subcategory</th>\n",
              "    </tr>\n",
              "  </thead>\n",
              "  <tbody>\n",
              "    <tr>\n",
              "      <th>pkSeqID</th>\n",
              "      <td>1.000000</td>\n",
              "      <td>0.021638</td>\n",
              "      <td>-0.015214</td>\n",
              "      <td>0.156981</td>\n",
              "      <td>0.452292</td>\n",
              "      <td>0.045582</td>\n",
              "      <td>0.369563</td>\n",
              "      <td>0.677015</td>\n",
              "      <td>0.776419</td>\n",
              "      <td>0.043720</td>\n",
              "      <td>0.006821</td>\n",
              "      <td>0.008266</td>\n",
              "      <td>0.746468</td>\n",
              "      <td>0.823537</td>\n",
              "    </tr>\n",
              "    <tr>\n",
              "      <th>sport</th>\n",
              "      <td>0.021638</td>\n",
              "      <td>1.000000</td>\n",
              "      <td>-0.029148</td>\n",
              "      <td>0.172116</td>\n",
              "      <td>-0.064927</td>\n",
              "      <td>-0.027468</td>\n",
              "      <td>0.063847</td>\n",
              "      <td>-0.015773</td>\n",
              "      <td>0.004502</td>\n",
              "      <td>-0.026983</td>\n",
              "      <td>0.001893</td>\n",
              "      <td>0.001908</td>\n",
              "      <td>-0.019713</td>\n",
              "      <td>-0.015465</td>\n",
              "    </tr>\n",
              "    <tr>\n",
              "      <th>dport</th>\n",
              "      <td>-0.015214</td>\n",
              "      <td>-0.029148</td>\n",
              "      <td>1.000000</td>\n",
              "      <td>-0.028086</td>\n",
              "      <td>-0.016902</td>\n",
              "      <td>-0.024467</td>\n",
              "      <td>-0.008508</td>\n",
              "      <td>-0.014490</td>\n",
              "      <td>-0.021517</td>\n",
              "      <td>-0.024515</td>\n",
              "      <td>0.000176</td>\n",
              "      <td>-0.000082</td>\n",
              "      <td>-0.023488</td>\n",
              "      <td>-0.023525</td>\n",
              "    </tr>\n",
              "    <tr>\n",
              "      <th>seq</th>\n",
              "      <td>0.156981</td>\n",
              "      <td>0.172116</td>\n",
              "      <td>-0.028086</td>\n",
              "      <td>1.000000</td>\n",
              "      <td>-0.018135</td>\n",
              "      <td>0.063622</td>\n",
              "      <td>0.139803</td>\n",
              "      <td>-0.034184</td>\n",
              "      <td>0.080041</td>\n",
              "      <td>0.062902</td>\n",
              "      <td>-0.003021</td>\n",
              "      <td>-0.002041</td>\n",
              "      <td>0.070072</td>\n",
              "      <td>0.073943</td>\n",
              "    </tr>\n",
              "    <tr>\n",
              "      <th>stddev</th>\n",
              "      <td>0.452292</td>\n",
              "      <td>-0.064927</td>\n",
              "      <td>-0.016902</td>\n",
              "      <td>-0.018135</td>\n",
              "      <td>1.000000</td>\n",
              "      <td>0.008810</td>\n",
              "      <td>-0.397182</td>\n",
              "      <td>0.476280</td>\n",
              "      <td>0.397725</td>\n",
              "      <td>0.008633</td>\n",
              "      <td>-0.002543</td>\n",
              "      <td>-0.001633</td>\n",
              "      <td>0.723486</td>\n",
              "      <td>0.539925</td>\n",
              "    </tr>\n",
              "    <tr>\n",
              "      <th>N_IN_Conn_P_SrcIP</th>\n",
              "      <td>0.045582</td>\n",
              "      <td>-0.027468</td>\n",
              "      <td>-0.024467</td>\n",
              "      <td>0.063622</td>\n",
              "      <td>0.008810</td>\n",
              "      <td>1.000000</td>\n",
              "      <td>0.027228</td>\n",
              "      <td>0.041350</td>\n",
              "      <td>0.037602</td>\n",
              "      <td>0.999216</td>\n",
              "      <td>-0.004967</td>\n",
              "      <td>-0.004467</td>\n",
              "      <td>0.029202</td>\n",
              "      <td>0.041322</td>\n",
              "    </tr>\n",
              "    <tr>\n",
              "      <th>min</th>\n",
              "      <td>0.369563</td>\n",
              "      <td>0.063847</td>\n",
              "      <td>-0.008508</td>\n",
              "      <td>0.139803</td>\n",
              "      <td>-0.397182</td>\n",
              "      <td>0.027228</td>\n",
              "      <td>1.000000</td>\n",
              "      <td>0.307356</td>\n",
              "      <td>0.607795</td>\n",
              "      <td>0.027020</td>\n",
              "      <td>-0.001351</td>\n",
              "      <td>-0.000641</td>\n",
              "      <td>0.330793</td>\n",
              "      <td>0.377406</td>\n",
              "    </tr>\n",
              "    <tr>\n",
              "      <th>state_number</th>\n",
              "      <td>0.677015</td>\n",
              "      <td>-0.015773</td>\n",
              "      <td>-0.014490</td>\n",
              "      <td>-0.034184</td>\n",
              "      <td>0.476280</td>\n",
              "      <td>0.041350</td>\n",
              "      <td>0.307356</td>\n",
              "      <td>1.000000</td>\n",
              "      <td>0.735344</td>\n",
              "      <td>0.040315</td>\n",
              "      <td>-0.004570</td>\n",
              "      <td>-0.002020</td>\n",
              "      <td>0.724103</td>\n",
              "      <td>0.831089</td>\n",
              "    </tr>\n",
              "    <tr>\n",
              "      <th>mean</th>\n",
              "      <td>0.776419</td>\n",
              "      <td>0.004502</td>\n",
              "      <td>-0.021517</td>\n",
              "      <td>0.080041</td>\n",
              "      <td>0.397725</td>\n",
              "      <td>0.037602</td>\n",
              "      <td>0.607795</td>\n",
              "      <td>0.735344</td>\n",
              "      <td>1.000000</td>\n",
              "      <td>0.037176</td>\n",
              "      <td>-0.003510</td>\n",
              "      <td>-0.001877</td>\n",
              "      <td>0.886965</td>\n",
              "      <td>0.881040</td>\n",
              "    </tr>\n",
              "    <tr>\n",
              "      <th>N_IN_Conn_P_DstIP</th>\n",
              "      <td>0.043720</td>\n",
              "      <td>-0.026983</td>\n",
              "      <td>-0.024515</td>\n",
              "      <td>0.062902</td>\n",
              "      <td>0.008633</td>\n",
              "      <td>0.999216</td>\n",
              "      <td>0.027020</td>\n",
              "      <td>0.040315</td>\n",
              "      <td>0.037176</td>\n",
              "      <td>1.000000</td>\n",
              "      <td>-0.004759</td>\n",
              "      <td>-0.004343</td>\n",
              "      <td>0.028830</td>\n",
              "      <td>0.040200</td>\n",
              "    </tr>\n",
              "    <tr>\n",
              "      <th>drate</th>\n",
              "      <td>0.006821</td>\n",
              "      <td>0.001893</td>\n",
              "      <td>0.000176</td>\n",
              "      <td>-0.003021</td>\n",
              "      <td>-0.002543</td>\n",
              "      <td>-0.004967</td>\n",
              "      <td>-0.001351</td>\n",
              "      <td>-0.004570</td>\n",
              "      <td>-0.003510</td>\n",
              "      <td>-0.004759</td>\n",
              "      <td>1.000000</td>\n",
              "      <td>0.998756</td>\n",
              "      <td>-0.003579</td>\n",
              "      <td>-0.010369</td>\n",
              "    </tr>\n",
              "    <tr>\n",
              "      <th>srate</th>\n",
              "      <td>0.008266</td>\n",
              "      <td>0.001908</td>\n",
              "      <td>-0.000082</td>\n",
              "      <td>-0.002041</td>\n",
              "      <td>-0.001633</td>\n",
              "      <td>-0.004467</td>\n",
              "      <td>-0.000641</td>\n",
              "      <td>-0.002020</td>\n",
              "      <td>-0.001877</td>\n",
              "      <td>-0.004343</td>\n",
              "      <td>0.998756</td>\n",
              "      <td>1.000000</td>\n",
              "      <td>-0.002146</td>\n",
              "      <td>-0.008001</td>\n",
              "    </tr>\n",
              "    <tr>\n",
              "      <th>max</th>\n",
              "      <td>0.746468</td>\n",
              "      <td>-0.019713</td>\n",
              "      <td>-0.023488</td>\n",
              "      <td>0.070072</td>\n",
              "      <td>0.723486</td>\n",
              "      <td>0.029202</td>\n",
              "      <td>0.330793</td>\n",
              "      <td>0.724103</td>\n",
              "      <td>0.886965</td>\n",
              "      <td>0.028830</td>\n",
              "      <td>-0.003579</td>\n",
              "      <td>-0.002146</td>\n",
              "      <td>1.000000</td>\n",
              "      <td>0.842959</td>\n",
              "    </tr>\n",
              "    <tr>\n",
              "      <th>subcategory</th>\n",
              "      <td>0.823537</td>\n",
              "      <td>-0.015465</td>\n",
              "      <td>-0.023525</td>\n",
              "      <td>0.073943</td>\n",
              "      <td>0.539925</td>\n",
              "      <td>0.041322</td>\n",
              "      <td>0.377406</td>\n",
              "      <td>0.831089</td>\n",
              "      <td>0.881040</td>\n",
              "      <td>0.040200</td>\n",
              "      <td>-0.010369</td>\n",
              "      <td>-0.008001</td>\n",
              "      <td>0.842959</td>\n",
              "      <td>1.000000</td>\n",
              "    </tr>\n",
              "  </tbody>\n",
              "</table>\n",
              "</div>"
            ],
            "text/plain": [
              "                    pkSeqID     sport  ...       max  subcategory\n",
              "pkSeqID            1.000000  0.021638  ...  0.746468     0.823537\n",
              "sport              0.021638  1.000000  ... -0.019713    -0.015465\n",
              "dport             -0.015214 -0.029148  ... -0.023488    -0.023525\n",
              "seq                0.156981  0.172116  ...  0.070072     0.073943\n",
              "stddev             0.452292 -0.064927  ...  0.723486     0.539925\n",
              "N_IN_Conn_P_SrcIP  0.045582 -0.027468  ...  0.029202     0.041322\n",
              "min                0.369563  0.063847  ...  0.330793     0.377406\n",
              "state_number       0.677015 -0.015773  ...  0.724103     0.831089\n",
              "mean               0.776419  0.004502  ...  0.886965     0.881040\n",
              "N_IN_Conn_P_DstIP  0.043720 -0.026983  ...  0.028830     0.040200\n",
              "drate              0.006821  0.001893  ... -0.003579    -0.010369\n",
              "srate              0.008266  0.001908  ... -0.002146    -0.008001\n",
              "max                0.746468 -0.019713  ...  1.000000     0.842959\n",
              "subcategory        0.823537 -0.015465  ...  0.842959     1.000000\n",
              "\n",
              "[14 rows x 14 columns]"
            ]
          },
          "metadata": {
            "tags": []
          },
          "execution_count": 65
        }
      ]
    },
    {
      "cell_type": "code",
      "metadata": {
        "id": "iUAdKgcZlpPl",
        "colab": {
          "base_uri": "https://localhost:8080/"
        },
        "outputId": "a69a3ce8-2c7c-4805-e224-e881827c5f8c"
      },
      "source": [
        "#Cross tables and data visualization\n",
        "#Extracting the coloumn names\n",
        "data.columns"
      ],
      "execution_count": 66,
      "outputs": [
        {
          "output_type": "execute_result",
          "data": {
            "text/plain": [
              "Index(['pkSeqID', 'proto', 'sport', 'dport', 'seq', 'stddev',\n",
              "       'N_IN_Conn_P_SrcIP', 'min', 'state_number', 'mean', 'N_IN_Conn_P_DstIP',\n",
              "       'drate', 'srate', 'max', 'subcategory'],\n",
              "      dtype='object')"
            ]
          },
          "metadata": {
            "tags": []
          },
          "execution_count": 66
        }
      ]
    },
    {
      "cell_type": "code",
      "metadata": {
        "id": "WoM2mTO5lpPm",
        "colab": {
          "base_uri": "https://localhost:8080/",
          "height": 204
        },
        "outputId": "500d74bb-1803-4eca-997a-e843f4b8c335"
      },
      "source": [
        "#proto proportion table\n",
        "pd.crosstab(index=data['proto'],columns='count',normalize=True)"
      ],
      "execution_count": 67,
      "outputs": [
        {
          "output_type": "execute_result",
          "data": {
            "text/html": [
              "<div>\n",
              "<style scoped>\n",
              "    .dataframe tbody tr th:only-of-type {\n",
              "        vertical-align: middle;\n",
              "    }\n",
              "\n",
              "    .dataframe tbody tr th {\n",
              "        vertical-align: top;\n",
              "    }\n",
              "\n",
              "    .dataframe thead th {\n",
              "        text-align: right;\n",
              "    }\n",
              "</style>\n",
              "<table border=\"1\" class=\"dataframe\">\n",
              "  <thead>\n",
              "    <tr style=\"text-align: right;\">\n",
              "      <th>col_0</th>\n",
              "      <th>count</th>\n",
              "    </tr>\n",
              "    <tr>\n",
              "      <th>proto</th>\n",
              "      <th></th>\n",
              "    </tr>\n",
              "  </thead>\n",
              "  <tbody>\n",
              "    <tr>\n",
              "      <th>arp</th>\n",
              "      <td>0.000045</td>\n",
              "    </tr>\n",
              "    <tr>\n",
              "      <th>ipv6-icmp</th>\n",
              "      <td>0.000006</td>\n",
              "    </tr>\n",
              "    <tr>\n",
              "      <th>tcp</th>\n",
              "      <td>0.374292</td>\n",
              "    </tr>\n",
              "    <tr>\n",
              "      <th>udp</th>\n",
              "      <td>0.625657</td>\n",
              "    </tr>\n",
              "  </tbody>\n",
              "</table>\n",
              "</div>"
            ],
            "text/plain": [
              "col_0         count\n",
              "proto              \n",
              "arp        0.000045\n",
              "ipv6-icmp  0.000006\n",
              "tcp        0.374292\n",
              "udp        0.625657"
            ]
          },
          "metadata": {
            "tags": []
          },
          "execution_count": 67
        }
      ]
    },
    {
      "cell_type": "code",
      "metadata": {
        "id": "3OwTCkZrlpPn",
        "colab": {
          "base_uri": "https://localhost:8080/",
          "height": 204
        },
        "outputId": "c4cdef30-42ad-47a3-e1fc-34c113cef9b6"
      },
      "source": [
        "#proto vs attack\n",
        "pd.crosstab(index=data['proto'],columns=data['subcategory'],normalize=True)"
      ],
      "execution_count": 68,
      "outputs": [
        {
          "output_type": "execute_result",
          "data": {
            "text/html": [
              "<div>\n",
              "<style scoped>\n",
              "    .dataframe tbody tr th:only-of-type {\n",
              "        vertical-align: middle;\n",
              "    }\n",
              "\n",
              "    .dataframe tbody tr th {\n",
              "        vertical-align: top;\n",
              "    }\n",
              "\n",
              "    .dataframe thead th {\n",
              "        text-align: right;\n",
              "    }\n",
              "</style>\n",
              "<table border=\"1\" class=\"dataframe\">\n",
              "  <thead>\n",
              "    <tr style=\"text-align: right;\">\n",
              "      <th>subcategory</th>\n",
              "      <th>0</th>\n",
              "      <th>1</th>\n",
              "      <th>2</th>\n",
              "      <th>3</th>\n",
              "    </tr>\n",
              "    <tr>\n",
              "      <th>proto</th>\n",
              "      <th></th>\n",
              "      <th></th>\n",
              "      <th></th>\n",
              "      <th></th>\n",
              "    </tr>\n",
              "  </thead>\n",
              "  <tbody>\n",
              "    <tr>\n",
              "      <th>arp</th>\n",
              "      <td>0.000021</td>\n",
              "      <td>0.000000</td>\n",
              "      <td>0.000008</td>\n",
              "      <td>0.000015</td>\n",
              "    </tr>\n",
              "    <tr>\n",
              "      <th>ipv6-icmp</th>\n",
              "      <td>0.000006</td>\n",
              "      <td>0.000000</td>\n",
              "      <td>0.000000</td>\n",
              "      <td>0.000000</td>\n",
              "    </tr>\n",
              "    <tr>\n",
              "      <th>tcp</th>\n",
              "      <td>0.000028</td>\n",
              "      <td>0.000926</td>\n",
              "      <td>0.373338</td>\n",
              "      <td>0.000000</td>\n",
              "    </tr>\n",
              "    <tr>\n",
              "      <th>udp</th>\n",
              "      <td>0.000195</td>\n",
              "      <td>0.000000</td>\n",
              "      <td>0.000000</td>\n",
              "      <td>0.625462</td>\n",
              "    </tr>\n",
              "  </tbody>\n",
              "</table>\n",
              "</div>"
            ],
            "text/plain": [
              "subcategory         0         1         2         3\n",
              "proto                                              \n",
              "arp          0.000021  0.000000  0.000008  0.000015\n",
              "ipv6-icmp    0.000006  0.000000  0.000000  0.000000\n",
              "tcp          0.000028  0.000926  0.373338  0.000000\n",
              "udp          0.000195  0.000000  0.000000  0.625462"
            ]
          },
          "metadata": {
            "tags": []
          },
          "execution_count": 68
        }
      ]
    },
    {
      "cell_type": "code",
      "metadata": {
        "id": "xAYCC6J1lpPp",
        "colab": {
          "base_uri": "https://localhost:8080/",
          "height": 302
        },
        "outputId": "c339c621-4759-4403-e6d4-ac123e2b8f7d"
      },
      "source": [
        "#frequency distribution of attack\n",
        "sns.countplot(data['subcategory'])"
      ],
      "execution_count": 69,
      "outputs": [
        {
          "output_type": "execute_result",
          "data": {
            "text/plain": [
              "<matplotlib.axes._subplots.AxesSubplot at 0x7f62e746fd50>"
            ]
          },
          "metadata": {
            "tags": []
          },
          "execution_count": 69
        },
        {
          "output_type": "display_data",
          "data": {
            "image/png": "[encoded data removed]",
            "text/plain": [
              "<Figure size 432x288 with 1 Axes>"
            ]
          },
          "metadata": {
            "tags": []
          }
        }
      ]
    },
    {
      "cell_type": "code",
      "metadata": {
        "id": "Q2mfvV7flpPq"
      },
      "source": [
        "\n",
        "data=data.drop(columns='pkSeqID')"
      ],
      "execution_count": 70,
      "outputs": []
    },
    {
      "cell_type": "code",
      "metadata": {
        "id": "w4Sl81iXlpPr"
      },
      "source": [
        "#Categorical Encoding\n",
        "data=pd.get_dummies(data)"
      ],
      "execution_count": 71,
      "outputs": []
    },
    {
      "cell_type": "code",
      "metadata": {
        "id": "I8FOBjHSlpPs",
        "colab": {
          "base_uri": "https://localhost:8080/",
          "height": 241
        },
        "outputId": "90326f8d-f8f0-4b59-eeed-4a9682bc3183"
      },
      "source": [
        "data.head()"
      ],
      "execution_count": 72,
      "outputs": [
        {
          "output_type": "execute_result",
          "data": {
            "text/html": [
              "<div>\n",
              "<style scoped>\n",
              "    .dataframe tbody tr th:only-of-type {\n",
              "        vertical-align: middle;\n",
              "    }\n",
              "\n",
              "    .dataframe tbody tr th {\n",
              "        vertical-align: top;\n",
              "    }\n",
              "\n",
              "    .dataframe thead th {\n",
              "        text-align: right;\n",
              "    }\n",
              "</style>\n",
              "<table border=\"1\" class=\"dataframe\">\n",
              "  <thead>\n",
              "    <tr style=\"text-align: right;\">\n",
              "      <th></th>\n",
              "      <th>sport</th>\n",
              "      <th>dport</th>\n",
              "      <th>seq</th>\n",
              "      <th>stddev</th>\n",
              "      <th>N_IN_Conn_P_SrcIP</th>\n",
              "      <th>min</th>\n",
              "      <th>state_number</th>\n",
              "      <th>mean</th>\n",
              "      <th>N_IN_Conn_P_DstIP</th>\n",
              "      <th>drate</th>\n",
              "      <th>srate</th>\n",
              "      <th>max</th>\n",
              "      <th>subcategory</th>\n",
              "      <th>proto_arp</th>\n",
              "      <th>proto_ipv6-icmp</th>\n",
              "      <th>proto_tcp</th>\n",
              "      <th>proto_udp</th>\n",
              "    </tr>\n",
              "  </thead>\n",
              "  <tbody>\n",
              "    <tr>\n",
              "      <th>0</th>\n",
              "      <td>48719</td>\n",
              "      <td>80</td>\n",
              "      <td>99168</td>\n",
              "      <td>1.823185</td>\n",
              "      <td>63</td>\n",
              "      <td>0.000000</td>\n",
              "      <td>4</td>\n",
              "      <td>3.222832</td>\n",
              "      <td>63</td>\n",
              "      <td>0.000000</td>\n",
              "      <td>0.461435</td>\n",
              "      <td>4.942302</td>\n",
              "      <td>3</td>\n",
              "      <td>0</td>\n",
              "      <td>0</td>\n",
              "      <td>0</td>\n",
              "      <td>1</td>\n",
              "    </tr>\n",
              "    <tr>\n",
              "      <th>1</th>\n",
              "      <td>25305</td>\n",
              "      <td>80</td>\n",
              "      <td>146299</td>\n",
              "      <td>1.755521</td>\n",
              "      <td>100</td>\n",
              "      <td>0.000000</td>\n",
              "      <td>3</td>\n",
              "      <td>1.013550</td>\n",
              "      <td>100</td>\n",
              "      <td>0.000000</td>\n",
              "      <td>0.178650</td>\n",
              "      <td>4.054201</td>\n",
              "      <td>2</td>\n",
              "      <td>0</td>\n",
              "      <td>0</td>\n",
              "      <td>1</td>\n",
              "      <td>0</td>\n",
              "    </tr>\n",
              "    <tr>\n",
              "      <th>2</th>\n",
              "      <td>33530</td>\n",
              "      <td>80</td>\n",
              "      <td>170464</td>\n",
              "      <td>2.113912</td>\n",
              "      <td>100</td>\n",
              "      <td>0.000000</td>\n",
              "      <td>4</td>\n",
              "      <td>2.112801</td>\n",
              "      <td>100</td>\n",
              "      <td>0.000000</td>\n",
              "      <td>0.209328</td>\n",
              "      <td>4.322539</td>\n",
              "      <td>3</td>\n",
              "      <td>0</td>\n",
              "      <td>0</td>\n",
              "      <td>0</td>\n",
              "      <td>1</td>\n",
              "    </tr>\n",
              "    <tr>\n",
              "      <th>3</th>\n",
              "      <td>108</td>\n",
              "      <td>80</td>\n",
              "      <td>25284</td>\n",
              "      <td>0.028597</td>\n",
              "      <td>100</td>\n",
              "      <td>4.002665</td>\n",
              "      <td>4</td>\n",
              "      <td>4.046831</td>\n",
              "      <td>100</td>\n",
              "      <td>0.000000</td>\n",
              "      <td>0.247826</td>\n",
              "      <td>4.082324</td>\n",
              "      <td>3</td>\n",
              "      <td>0</td>\n",
              "      <td>0</td>\n",
              "      <td>0</td>\n",
              "      <td>1</td>\n",
              "    </tr>\n",
              "    <tr>\n",
              "      <th>4</th>\n",
              "      <td>19521</td>\n",
              "      <td>80</td>\n",
              "      <td>55359</td>\n",
              "      <td>0.117809</td>\n",
              "      <td>78</td>\n",
              "      <td>0.000000</td>\n",
              "      <td>1</td>\n",
              "      <td>0.061803</td>\n",
              "      <td>78</td>\n",
              "      <td>0.038164</td>\n",
              "      <td>0.127681</td>\n",
              "      <td>0.297244</td>\n",
              "      <td>2</td>\n",
              "      <td>0</td>\n",
              "      <td>0</td>\n",
              "      <td>1</td>\n",
              "      <td>0</td>\n",
              "    </tr>\n",
              "  </tbody>\n",
              "</table>\n",
              "</div>"
            ],
            "text/plain": [
              "   sport  dport     seq  ...  proto_ipv6-icmp  proto_tcp  proto_udp\n",
              "0  48719     80   99168  ...                0          0          1\n",
              "1  25305     80  146299  ...                0          1          0\n",
              "2  33530     80  170464  ...                0          0          1\n",
              "3    108     80   25284  ...                0          0          1\n",
              "4  19521     80   55359  ...                0          1          0\n",
              "\n",
              "[5 rows x 17 columns]"
            ]
          },
          "metadata": {
            "tags": []
          },
          "execution_count": 72
        }
      ]
    },
    {
      "cell_type": "code",
      "metadata": {
        "id": "E8nGE2sllpPt"
      },
      "source": [
        "#Seperating the features and target variable\n",
        "y=data['subcategory']\n",
        "x=data.drop(columns='subcategory')"
      ],
      "execution_count": 73,
      "outputs": []
    },
    {
      "cell_type": "code",
      "metadata": {
        "id": "DHk1HlPdlpPu",
        "colab": {
          "base_uri": "https://localhost:8080/"
        },
        "outputId": "18550a9a-78f3-4cba-ddbf-7650b1ca8394"
      },
      "source": [
        "data.shape"
      ],
      "execution_count": 74,
      "outputs": [
        {
          "output_type": "execute_result",
          "data": {
            "text/plain": [
              "(471752, 17)"
            ]
          },
          "metadata": {
            "tags": []
          },
          "execution_count": 74
        }
      ]
    },
    {
      "cell_type": "code",
      "metadata": {
        "id": "je19_1LdlpPv",
        "colab": {
          "base_uri": "https://localhost:8080/"
        },
        "outputId": "2f917191-07c8-471a-bda1-401bbb4cc4f3"
      },
      "source": [
        "x.shape"
      ],
      "execution_count": 75,
      "outputs": [
        {
          "output_type": "execute_result",
          "data": {
            "text/plain": [
              "(471752, 16)"
            ]
          },
          "metadata": {
            "tags": []
          },
          "execution_count": 75
        }
      ]
    },
    {
      "cell_type": "markdown",
      "metadata": {
        "id": "U67hIzqwlpPw"
      },
      "source": [
        "#"
      ]
    },
    {
      "cell_type": "code",
      "metadata": {
        "id": "c4763hE7lpPw"
      },
      "source": [
        "#Balancing the target variable\n",
        "from imblearn.combine import SMOTETomek\n",
        "smk = SMOTETomek(random_state = 0)\n",
        "x, y = smk.fit_sample(x,y)"
      ],
      "execution_count": 76,
      "outputs": []
    },
    {
      "cell_type": "code",
      "metadata": {
        "id": "tv_7X_u9lpPx",
        "colab": {
          "base_uri": "https://localhost:8080/"
        },
        "outputId": "c84e2f7d-6bfc-4b60-c4dd-6eb924abde48"
      },
      "source": [
        "x.shape"
      ],
      "execution_count": 77,
      "outputs": [
        {
          "output_type": "execute_result",
          "data": {
            "text/plain": [
              "(1180278, 16)"
            ]
          },
          "metadata": {
            "tags": []
          },
          "execution_count": 77
        }
      ]
    },
    {
      "cell_type": "code",
      "metadata": {
        "id": "h5hI6pVxlpPy",
        "colab": {
          "base_uri": "https://localhost:8080/",
          "height": 285
        },
        "outputId": "c976e732-06d6-4b73-9713-7a112948d7f0"
      },
      "source": [
        "sns.countplot(y)"
      ],
      "execution_count": 78,
      "outputs": [
        {
          "output_type": "execute_result",
          "data": {
            "text/plain": [
              "<matplotlib.axes._subplots.AxesSubplot at 0x7f62e7398410>"
            ]
          },
          "metadata": {
            "tags": []
          },
          "execution_count": 78
        },
        {
          "output_type": "display_data",
          "data": {
            "image/png": "[encoded data removed]",
            "text/plain": [
              "<Figure size 432x288 with 1 Axes>"
            ]
          },
          "metadata": {
            "tags": []
          }
        }
      ]
    },
    {
      "cell_type": "code",
      "metadata": {
        "id": "1l6uLP2blpPz"
      },
      "source": [
        "#Spliting dataset into Train and Test set \n",
        "from sklearn.model_selection import train_test_split\n",
        "x_train,x_test,y_train,y_test = train_test_split(x,y,test_size = 0.3, random_state = 0)"
      ],
      "execution_count": 79,
      "outputs": []
    },
    {
      "cell_type": "code",
      "metadata": {
        "id": "2siOzdMAlpP0"
      },
      "source": [
        "#Feature Scaling\n",
        "from sklearn.preprocessing import StandardScaler\n",
        "sc = StandardScaler()\n",
        "x_train = sc.fit_transform(x_train)\n",
        "x_test = sc.transform(x_test)"
      ],
      "execution_count": 80,
      "outputs": []
    },
    {
      "cell_type": "code",
      "metadata": {
        "id": "a85T98ZglpP1",
        "colab": {
          "base_uri": "https://localhost:8080/"
        },
        "outputId": "c92ab943-c63b-4d5c-8a17-f04b6bf4e5e8"
      },
      "source": [
        "from sklearn.ensemble import RandomForestClassifier\n",
        "from sklearn.model_selection import cross_val_score\n",
        "clf=RandomForestClassifier()\n",
        "clf.fit(x_train,y_train)"
      ],
      "execution_count": 81,
      "outputs": [
        {
          "output_type": "execute_result",
          "data": {
            "text/plain": [
              "RandomForestClassifier(bootstrap=True, ccp_alpha=0.0, class_weight=None,\n",
              "                       criterion='gini', max_depth=None, max_features='auto',\n",
              "                       max_leaf_nodes=None, max_samples=None,\n",
              "                       min_impurity_decrease=0.0, min_impurity_split=None,\n",
              "                       min_samples_leaf=1, min_samples_split=2,\n",
              "                       min_weight_fraction_leaf=0.0, n_estimators=100,\n",
              "                       n_jobs=None, oob_score=False, random_state=None,\n",
              "                       verbose=0, warm_start=False)"
            ]
          },
          "metadata": {
            "tags": []
          },
          "execution_count": 81
        }
      ]
    },
    {
      "cell_type": "code",
      "metadata": {
        "id": "ISiGwLnilpP2",
        "colab": {
          "base_uri": "https://localhost:8080/"
        },
        "outputId": "b366cb74-b24c-41ca-a07c-47f67eaad0ef"
      },
      "source": [
        "#Checking the accuracy of model\n",
        "from sklearn.metrics import accuracy_score\n",
        "y_pred=clf.predict(x_test)\n",
        "accuracy = accuracy_score(y_test, y_pred)\n",
        "print(\" Testing Accuracy: %.2f%%\" % (accuracy * 100.0))\n",
        "#scores = cross_val_score(clf, x_train, y_train, cv=10)\n",
        "#print(\"Cross Validation Accuracy: %.2f%% \" % (scores.mean()*100))"
      ],
      "execution_count": 82,
      "outputs": [
        {
          "output_type": "stream",
          "text": [
            " Testing Accuracy: 100.00%\n"
          ],
          "name": "stdout"
        }
      ]
    },
    {
      "cell_type": "code",
      "metadata": {
        "id": "tBaqWmDwlpP3",
        "colab": {
          "base_uri": "https://localhost:8080/",
          "height": 318
        },
        "outputId": "24d9224b-df44-418d-b552-f0f161db0e36"
      },
      "source": [
        "#confusion matrix\n",
        "from sklearn.metrics import confusion_matrix\n",
        "con = confusion_matrix(y_test,y_pred)\n",
        "import seaborn as sns\n",
        "import matplotlib.pyplot as plt\n",
        "axes = sns.heatmap(con, square=True,annot=True,fmt='d',cbar = True, cmap = plt.cm.GnBu)\n",
        "ax = plt.axes()\n",
        "plt.xlabel('Predicted Values')\n",
        "plt.ylabel('Actual values')\n",
        "ax.set_title('Random Forest Classifier')"
      ],
      "execution_count": 83,
      "outputs": [
        {
          "output_type": "execute_result",
          "data": {
            "text/plain": [
              "Text(0.5, 1.0, 'Random Forest Classifier')"
            ]
          },
          "metadata": {
            "tags": []
          },
          "execution_count": 83
        },
        {
          "output_type": "display_data",
          "data": {
            "image/png": "[encoded data removed]",
            "text/plain": [
              "<Figure size 432x288 with 2 Axes>"
            ]
          },
          "metadata": {
            "tags": []
          }
        }
      ]
    },
    {
      "cell_type": "code",
      "metadata": {
        "id": "2TRHh6o_lpP5",
        "colab": {
          "base_uri": "https://localhost:8080/"
        },
        "outputId": "2154044f-d2a7-48e5-dfb6-2311ff4f600b"
      },
      "source": [
        "from sklearn.metrics import classification_report\n",
        "print('Random Forest Classifier')\n",
        "print(classification_report(y_test, y_pred))"
      ],
      "execution_count": 84,
      "outputs": [
        {
          "output_type": "stream",
          "text": [
            "Random Forest Classifier\n",
            "              precision    recall  f1-score   support\n",
            "\n",
            "           0       1.00      1.00      1.00     88800\n",
            "           1       1.00      1.00      1.00     88894\n",
            "           2       1.00      1.00      1.00     88209\n",
            "           3       1.00      1.00      1.00     88181\n",
            "\n",
            "    accuracy                           1.00    354084\n",
            "   macro avg       1.00      1.00      1.00    354084\n",
            "weighted avg       1.00      1.00      1.00    354084\n",
            "\n"
          ],
          "name": "stdout"
        }
      ]
    },
    {
      "cell_type": "code",
      "metadata": {
        "id": "KAWY4dIKlpP6"
      },
      "source": [
        "#from sklearn.metrics import roc_auc_score\n",
        "#roc_auc_score(y_test,y_pred)"
      ],
      "execution_count": null,
      "outputs": []
    },
    {
      "cell_type": "code",
      "metadata": {
        "id": "WUDw4bEhlpP7",
        "colab": {
          "base_uri": "https://localhost:8080/",
          "height": 231
        },
        "outputId": "3ee34ab1-4ae3-4448-a650-01f48d274952"
      },
      "source": [
        "#from sklearn.model_selection import learning_curve\n",
        "from sklearn.model_selection import learning_curve\n",
        "from sklearn.model_selection import ShuffleSplit\n",
        "\n",
        "def plot_learning_curve(estimator, title, x, y, axes=None, ylim=None, cv=None,\n",
        "                        n_jobs=None, train_sizes=np.linspace(.1, 1.0, 5)):\n",
        "   \n",
        "    if axes is None:\n",
        "        _, axes = plt.subplots(1, 1, figsize=(20, 5))\n",
        "\n",
        "    axes[0].set_title(title)\n",
        "    if ylim is not None:\n",
        "        axes[0].set_ylim(*ylim)\n",
        "    axes[0].set_xlabel(\"Training examples\")\n",
        "    axes[0].set_ylabel(\"Score\")\n",
        "\n",
        "    train_sizes, train_scores, test_scores, fit_times, _ = \\\n",
        "        learning_curve(estimator, x, y, cv=cv, n_jobs=n_jobs,\n",
        "                       train_sizes=train_sizes,\n",
        "                       return_times=True)\n",
        "    train_scores_mean = np.mean(train_scores, axis=1)\n",
        "    train_scores_std = np.std(train_scores, axis=1)\n",
        "    test_scores_mean = np.mean(test_scores, axis=1)\n",
        "    test_scores_std = np.std(test_scores, axis=1)\n",
        "    fit_times_mean = np.mean(fit_times, axis=1)\n",
        "    fit_times_std = np.std(fit_times, axis=1)\n",
        "\n",
        "    # Plot learning curve\n",
        "    axes[0].grid()\n",
        "    axes[0].fill_between(train_sizes, train_scores_mean - train_scores_std,\n",
        "                         train_scores_mean + train_scores_std, alpha=0.1,\n",
        "                         color=\"r\")\n",
        "    axes[0].fill_between(train_sizes, test_scores_mean - test_scores_std,\n",
        "                         test_scores_mean + test_scores_std, alpha=0.1,\n",
        "                         color=\"g\")\n",
        "    axes[0].plot(train_sizes, train_scores_mean, 'o-', color=\"r\",\n",
        "                 label=\"Training score\")\n",
        "    axes[0].plot(train_sizes, test_scores_mean, 'o-', color=\"g\",\n",
        "                 label=\"Cross-validation score\")\n",
        "    axes[0].legend(loc=\"best\")\n",
        "\n",
        "    # Plot n_samples vs fit_times\n",
        "    axes[1].grid()\n",
        "    axes[1].plot(train_sizes, fit_times_mean, 'o-')\n",
        "    axes[1].fill_between(train_sizes, fit_times_mean - fit_times_std,\n",
        "                         fit_times_mean + fit_times_std, alpha=0.1)\n",
        "    axes[1].set_xlabel(\"Training examples\")\n",
        "    axes[1].set_ylabel(\"fit_times\")\n",
        "    axes[1].set_title(\"Scalability of the model\")\n",
        "\n",
        "    # Plot fit_time vs score\n",
        "    axes[2].grid()\n",
        "    axes[2].plot(fit_times_mean, test_scores_mean, 'o-')\n",
        "    axes[2].fill_between(fit_times_mean, test_scores_mean - test_scores_std,\n",
        "                         test_scores_mean + test_scores_std, alpha=0.1)\n",
        "    axes[2].set_xlabel(\"fit_times\")\n",
        "    axes[2].set_ylabel(\"Score\")\n",
        "    axes[2].set_title(\"Performance of the model\")\n",
        "\n",
        "\n",
        "fig, axes = plt.subplots(3, 1, figsize=(10, 15))\n",
        "\n",
        "title = \"Learning Curves (Random Forest Classifier)\"\n",
        "# Cross validation with 10 iterations to get smoother mean test and train\n",
        "# score curves, each time with 20% data randomly selected as a validation set.\n",
        "cv = ShuffleSplit(n_splits=10, test_size=0.2, random_state=0)\n",
        "\n",
        "estimator = RandomForestClassifier()\n",
        "plot_learning_curve(estimator, title, x, y,axes=axes[:,], cv=cv, ylim=(0.7, 1.01), n_jobs=4)\n",
        "\n",
        "plt.show()"
      ],
      "execution_count": null,
      "outputs": [
        {
          "output_type": "error",
          "ename": "NameError",
          "evalue": "ignored",
          "traceback": [
            "\u001b[0;31m---------------------------------------------------------------------------\u001b[0m",
            "\u001b[0;31mNameError\u001b[0m                                 Traceback (most recent call last)",
            "\u001b[0;32m<ipython-input-1-261a3a0050c9>\u001b[0m in \u001b[0;36m<module>\u001b[0;34m()\u001b[0m\n\u001b[1;32m      4\u001b[0m \u001b[0;34m\u001b[0m\u001b[0m\n\u001b[1;32m      5\u001b[0m def plot_learning_curve(estimator, title, x, y, axes=None, ylim=None, cv=None,\n\u001b[0;32m----> 6\u001b[0;31m                         n_jobs=None, train_sizes=np.linspace(.1, 1.0, 5)):\n\u001b[0m\u001b[1;32m      7\u001b[0m \u001b[0;34m\u001b[0m\u001b[0m\n\u001b[1;32m      8\u001b[0m     \u001b[0;32mif\u001b[0m \u001b[0maxes\u001b[0m \u001b[0;32mis\u001b[0m \u001b[0;32mNone\u001b[0m\u001b[0;34m:\u001b[0m\u001b[0;34m\u001b[0m\u001b[0;34m\u001b[0m\u001b[0m\n",
            "\u001b[0;31mNameError\u001b[0m: name 'np' is not defined"
          ]
        }
      ]
    },
    {
      "cell_type": "code",
      "metadata": {
        "id": "qIe4sjtdlpQA"
      },
      "source": [
        ""
      ],
      "execution_count": null,
      "outputs": []
    }
  ]
}