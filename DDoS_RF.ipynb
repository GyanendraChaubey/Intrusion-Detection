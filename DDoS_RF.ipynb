{
  "nbformat": 4,
  "nbformat_minor": 0,
  "metadata": {
    "kernelspec": {
      "display_name": "Python 3",
      "language": "python",
      "name": "python3"
    },
    "language_info": {
      "codemirror_mode": {
        "name": "ipython",
        "version": 3
      },
      "file_extension": ".py",
      "mimetype": "text/x-python",
      "name": "python",
      "nbconvert_exporter": "python",
      "pygments_lexer": "ipython3",
      "version": "3.7.3"
    },
    "colab": {
      "name": "DDoS_HTTP_AB.ipynb",
      "provenance": [],
      "toc_visible": true,
      "include_colab_link": true
    }
  },
  "cells": [
    {
      "cell_type": "markdown",
      "metadata": {
        "id": "view-in-github",
        "colab_type": "text"
      },
      "source": [
        "<a href=\"https://colab.research.google.com/github/GyanendraChaubey/Intrusion-Detection/blob/main/DDoS_RF.ipynb\" target=\"_parent\"><img src=\"https://colab.research.google.com/assets/colab-badge.svg\" alt=\"Open In Colab\"/></a>"
      ]
    },
    {
      "cell_type": "code",
      "metadata": {
        "id": "hITRe9E9lpO8"
      },
      "source": [
        "#Importing the necessary libraries\n",
        "import numpy as np\n",
        "import pandas as pd\n",
        "import matplotlib.pyplot as plt\n",
        "import seaborn as sns\n",
        "sns.set()\n",
        "import warnings\n",
        "warnings.filterwarnings('ignore')\n",
        "import pandas.util.testing as tm"
      ],
      "execution_count": 1,
      "outputs": []
    },
    {
      "cell_type": "code",
      "metadata": {
        "id": "CsI6mXnTl3W1",
        "colab": {
          "base_uri": "https://localhost:8080/"
        },
        "outputId": "c521c556-7782-45cc-dfd7-617a4bfae743"
      },
      "source": [
        "from google.colab import drive\n",
        "drive.mount('/content/drive')"
      ],
      "execution_count": 2,
      "outputs": [
        {
          "output_type": "stream",
          "text": [
            "Mounted at /content/drive\n"
          ],
          "name": "stdout"
        }
      ]
    },
    {
      "cell_type": "code",
      "metadata": {
        "id": "trMVYZENlpPK"
      },
      "source": [
        "#Read the data\n",
        "data=pd.read_csv(\"/content/drive/MyDrive/DDOS.csv\")"
      ],
      "execution_count": 3,
      "outputs": []
    },
    {
      "cell_type": "code",
      "metadata": {
        "id": "dK3PQCMhlpPM"
      },
      "source": [
        "#Making a copy of data\n",
        "data=data.copy()"
      ],
      "execution_count": 4,
      "outputs": []
    },
    {
      "cell_type": "markdown",
      "metadata": {
        "id": "MEkHHlELlpPN"
      },
      "source": [
        "#Feature Engineering"
      ]
    },
    {
      "cell_type": "markdown",
      "metadata": {
        "id": "-U31-FoClpPP"
      },
      "source": [
        "1. Understanding Data"
      ]
    },
    {
      "cell_type": "code",
      "metadata": {
        "id": "0olwCpIClpPQ",
        "colab": {
          "base_uri": "https://localhost:8080/"
        },
        "outputId": "f31bf9b1-7e22-43e5-9e3b-eb6323cd234e"
      },
      "source": [
        "#checking the missing values\n",
        "data.isnull().sum()"
      ],
      "execution_count": 5,
      "outputs": [
        {
          "output_type": "execute_result",
          "data": {
            "text/plain": [
              "pkSeqID              0\n",
              "proto                0\n",
              "saddr                0\n",
              "sport                0\n",
              "daddr                0\n",
              "dport                0\n",
              "seq                  0\n",
              "stddev               0\n",
              "N_IN_Conn_P_SrcIP    0\n",
              "min                  0\n",
              "state_number         0\n",
              "mean                 0\n",
              "N_IN_Conn_P_DstIP    0\n",
              "drate                0\n",
              "srate                0\n",
              "max                  0\n",
              "attack               0\n",
              "category             0\n",
              "subcategory          0\n",
              "dtype: int64"
            ]
          },
          "metadata": {
            "tags": []
          },
          "execution_count": 5
        }
      ]
    },
    {
      "cell_type": "code",
      "metadata": {
        "id": "VgqnUMNUlpPS",
        "colab": {
          "base_uri": "https://localhost:8080/"
        },
        "outputId": "96ad75a4-2620-4583-cf20-07d65f2e1912"
      },
      "source": [
        "data.info()"
      ],
      "execution_count": 6,
      "outputs": [
        {
          "output_type": "stream",
          "text": [
            "<class 'pandas.core.frame.DataFrame'>\n",
            "RangeIndex: 551069 entries, 0 to 551068\n",
            "Data columns (total 19 columns):\n",
            " #   Column             Non-Null Count   Dtype  \n",
            "---  ------             --------------   -----  \n",
            " 0   pkSeqID            551069 non-null  int64  \n",
            " 1   proto              551069 non-null  object \n",
            " 2   saddr              551069 non-null  object \n",
            " 3   sport              551069 non-null  int64  \n",
            " 4   daddr              551069 non-null  object \n",
            " 5   dport              551069 non-null  int64  \n",
            " 6   seq                551069 non-null  int64  \n",
            " 7   stddev             551069 non-null  float64\n",
            " 8   N_IN_Conn_P_SrcIP  551069 non-null  int64  \n",
            " 9   min                551069 non-null  float64\n",
            " 10  state_number       551069 non-null  int64  \n",
            " 11  mean               551069 non-null  float64\n",
            " 12  N_IN_Conn_P_DstIP  551069 non-null  int64  \n",
            " 13  drate              551069 non-null  float64\n",
            " 14  srate              551069 non-null  float64\n",
            " 15  max                551069 non-null  float64\n",
            " 16  attack             551069 non-null  int64  \n",
            " 17  category           551069 non-null  object \n",
            " 18  subcategory        551069 non-null  int64  \n",
            "dtypes: float64(6), int64(9), object(4)\n",
            "memory usage: 79.9+ MB\n"
          ],
          "name": "stdout"
        }
      ]
    },
    {
      "cell_type": "code",
      "metadata": {
        "id": "slK2bI-1lpPU",
        "colab": {
          "base_uri": "https://localhost:8080/",
          "height": 224
        },
        "outputId": "3ee684d7-1efb-445f-c248-4189f021e53a"
      },
      "source": [
        "data.head()"
      ],
      "execution_count": 7,
      "outputs": [
        {
          "output_type": "execute_result",
          "data": {
            "text/html": [
              "<div>\n",
              "<style scoped>\n",
              "    .dataframe tbody tr th:only-of-type {\n",
              "        vertical-align: middle;\n",
              "    }\n",
              "\n",
              "    .dataframe tbody tr th {\n",
              "        vertical-align: top;\n",
              "    }\n",
              "\n",
              "    .dataframe thead th {\n",
              "        text-align: right;\n",
              "    }\n",
              "</style>\n",
              "<table border=\"1\" class=\"dataframe\">\n",
              "  <thead>\n",
              "    <tr style=\"text-align: right;\">\n",
              "      <th></th>\n",
              "      <th>pkSeqID</th>\n",
              "      <th>proto</th>\n",
              "      <th>saddr</th>\n",
              "      <th>sport</th>\n",
              "      <th>daddr</th>\n",
              "      <th>dport</th>\n",
              "      <th>seq</th>\n",
              "      <th>stddev</th>\n",
              "      <th>N_IN_Conn_P_SrcIP</th>\n",
              "      <th>min</th>\n",
              "      <th>state_number</th>\n",
              "      <th>mean</th>\n",
              "      <th>N_IN_Conn_P_DstIP</th>\n",
              "      <th>drate</th>\n",
              "      <th>srate</th>\n",
              "      <th>max</th>\n",
              "      <th>attack</th>\n",
              "      <th>category</th>\n",
              "      <th>subcategory</th>\n",
              "    </tr>\n",
              "  </thead>\n",
              "  <tbody>\n",
              "    <tr>\n",
              "      <th>0</th>\n",
              "      <td>3142762</td>\n",
              "      <td>udp</td>\n",
              "      <td>192.168.100.150</td>\n",
              "      <td>6551</td>\n",
              "      <td>192.168.100.3</td>\n",
              "      <td>80</td>\n",
              "      <td>251984</td>\n",
              "      <td>1.900363</td>\n",
              "      <td>100</td>\n",
              "      <td>0.000000</td>\n",
              "      <td>4</td>\n",
              "      <td>2.687519</td>\n",
              "      <td>100</td>\n",
              "      <td>0.0</td>\n",
              "      <td>0.494549</td>\n",
              "      <td>4.031619</td>\n",
              "      <td>1</td>\n",
              "      <td>DDoS</td>\n",
              "      <td>3</td>\n",
              "    </tr>\n",
              "    <tr>\n",
              "      <th>1</th>\n",
              "      <td>2432264</td>\n",
              "      <td>tcp</td>\n",
              "      <td>192.168.100.150</td>\n",
              "      <td>5532</td>\n",
              "      <td>192.168.100.3</td>\n",
              "      <td>80</td>\n",
              "      <td>256724</td>\n",
              "      <td>0.078003</td>\n",
              "      <td>38</td>\n",
              "      <td>3.856930</td>\n",
              "      <td>3</td>\n",
              "      <td>3.934927</td>\n",
              "      <td>100</td>\n",
              "      <td>0.0</td>\n",
              "      <td>0.256493</td>\n",
              "      <td>4.012924</td>\n",
              "      <td>1</td>\n",
              "      <td>DDoS</td>\n",
              "      <td>2</td>\n",
              "    </tr>\n",
              "    <tr>\n",
              "      <th>2</th>\n",
              "      <td>1976315</td>\n",
              "      <td>tcp</td>\n",
              "      <td>192.168.100.147</td>\n",
              "      <td>27165</td>\n",
              "      <td>192.168.100.3</td>\n",
              "      <td>80</td>\n",
              "      <td>62921</td>\n",
              "      <td>0.268666</td>\n",
              "      <td>100</td>\n",
              "      <td>2.974100</td>\n",
              "      <td>3</td>\n",
              "      <td>3.341429</td>\n",
              "      <td>100</td>\n",
              "      <td>0.0</td>\n",
              "      <td>0.294880</td>\n",
              "      <td>3.609205</td>\n",
              "      <td>1</td>\n",
              "      <td>DDoS</td>\n",
              "      <td>2</td>\n",
              "    </tr>\n",
              "    <tr>\n",
              "      <th>3</th>\n",
              "      <td>3257991</td>\n",
              "      <td>udp</td>\n",
              "      <td>192.168.100.147</td>\n",
              "      <td>22461</td>\n",
              "      <td>192.168.100.3</td>\n",
              "      <td>80</td>\n",
              "      <td>105063</td>\n",
              "      <td>0.822418</td>\n",
              "      <td>100</td>\n",
              "      <td>2.979995</td>\n",
              "      <td>4</td>\n",
              "      <td>3.983222</td>\n",
              "      <td>100</td>\n",
              "      <td>0.0</td>\n",
              "      <td>1.002999</td>\n",
              "      <td>4.994452</td>\n",
              "      <td>1</td>\n",
              "      <td>DDoS</td>\n",
              "      <td>3</td>\n",
              "    </tr>\n",
              "    <tr>\n",
              "      <th>4</th>\n",
              "      <td>3406860</td>\n",
              "      <td>udp</td>\n",
              "      <td>192.168.100.150</td>\n",
              "      <td>31712</td>\n",
              "      <td>192.168.100.3</td>\n",
              "      <td>80</td>\n",
              "      <td>253932</td>\n",
              "      <td>1.928021</td>\n",
              "      <td>100</td>\n",
              "      <td>0.000000</td>\n",
              "      <td>4</td>\n",
              "      <td>2.726619</td>\n",
              "      <td>100</td>\n",
              "      <td>0.0</td>\n",
              "      <td>0.490708</td>\n",
              "      <td>4.097849</td>\n",
              "      <td>1</td>\n",
              "      <td>DDoS</td>\n",
              "      <td>3</td>\n",
              "    </tr>\n",
              "  </tbody>\n",
              "</table>\n",
              "</div>"
            ],
            "text/plain": [
              "   pkSeqID proto            saddr  ...  attack category  subcategory\n",
              "0  3142762   udp  192.168.100.150  ...       1     DDoS            3\n",
              "1  2432264   tcp  192.168.100.150  ...       1     DDoS            2\n",
              "2  1976315   tcp  192.168.100.147  ...       1     DDoS            2\n",
              "3  3257991   udp  192.168.100.147  ...       1     DDoS            3\n",
              "4  3406860   udp  192.168.100.150  ...       1     DDoS            3\n",
              "\n",
              "[5 rows x 19 columns]"
            ]
          },
          "metadata": {
            "tags": []
          },
          "execution_count": 7
        }
      ]
    },
    {
      "cell_type": "code",
      "metadata": {
        "id": "qwo00qvplpPW",
        "colab": {
          "base_uri": "https://localhost:8080/"
        },
        "outputId": "20a8e4b1-77bf-4d61-acb7-4230db88a872"
      },
      "source": [
        "data['proto'].unique()"
      ],
      "execution_count": 8,
      "outputs": [
        {
          "output_type": "execute_result",
          "data": {
            "text/plain": [
              "array(['udp', 'tcp', 'arp', 'ipv6-icmp'], dtype=object)"
            ]
          },
          "metadata": {
            "tags": []
          },
          "execution_count": 8
        }
      ]
    },
    {
      "cell_type": "code",
      "metadata": {
        "id": "d_Rg4dIylpPY",
        "colab": {
          "base_uri": "https://localhost:8080/"
        },
        "outputId": "242bed3c-5bb9-4922-d305-5b4bdad5335d"
      },
      "source": [
        "data['saddr'].unique()"
      ],
      "execution_count": 9,
      "outputs": [
        {
          "output_type": "execute_result",
          "data": {
            "text/plain": [
              "array(['192.168.100.150', '192.168.100.147', '192.168.100.148',\n",
              "       '192.168.100.149', '192.168.100.3', '192.168.100.5',\n",
              "       '192.168.100.27', 'fe80::250:56ff:febe:254',\n",
              "       'fe80::250:56ff:febe:e9d9', '192.168.100.46',\n",
              "       'fe80::250:56ff:febe:26db', '192.168.100.1', '192.168.100.6',\n",
              "       'fe80::250:56ff:febe:89ee', '192.168.100.4', '192.168.100.7'],\n",
              "      dtype=object)"
            ]
          },
          "metadata": {
            "tags": []
          },
          "execution_count": 9
        }
      ]
    },
    {
      "cell_type": "code",
      "metadata": {
        "id": "PUk2WfxjlpPZ",
        "colab": {
          "base_uri": "https://localhost:8080/"
        },
        "outputId": "bec0b379-524a-4777-be34-90c7f319af50"
      },
      "source": [
        "data['daddr'].unique()"
      ],
      "execution_count": 10,
      "outputs": [
        {
          "output_type": "execute_result",
          "data": {
            "text/plain": [
              "array(['192.168.100.3', '192.168.100.149', '192.168.100.147',\n",
              "       '192.168.100.150', '192.168.217.2', '192.168.100.55',\n",
              "       '255.255.255.255', '192.168.100.148', '96.7.49.66',\n",
              "       '205.251.197.206', '192.168.100.1', '205.251.194.201',\n",
              "       '224.0.0.251', '205.251.196.32', '52.201.147.106', '192.5.5.241',\n",
              "       '192.55.83.30', '192.31.80.30', '8.8.8.8', '13.55.154.73',\n",
              "       'ff02::2', '192.41.162.30', '129.250.35.250', 'ff02::fb',\n",
              "       '27.124.125.250', '199.19.56.1', '192.168.100.5', '192.33.14.30',\n",
              "       '205.251.199.148', '192.58.128.30', '192.12.94.30',\n",
              "       '205.251.196.160', '205.251.199.194', '192.36.148.17',\n",
              "       '184.85.248.65', '192.33.4.12', '52.11.124.117', '192.168.100.255',\n",
              "       '192.54.112.30', 'ff02::1', '172.217.25.170', '205.251.194.102',\n",
              "       '192.112.36.4', '192.168.100.7', '205.251.194.86',\n",
              "       '192.168.100.27', '192.52.178.30', '205.251.195.59', '52.35.35.13'],\n",
              "      dtype=object)"
            ]
          },
          "metadata": {
            "tags": []
          },
          "execution_count": 10
        }
      ]
    },
    {
      "cell_type": "code",
      "metadata": {
        "id": "9lL1S_aKlpPb",
        "colab": {
          "base_uri": "https://localhost:8080/",
          "height": 317
        },
        "outputId": "bae447b4-afaa-4ab0-c8fe-fc6a381f29f8"
      },
      "source": [
        "data.describe()"
      ],
      "execution_count": 11,
      "outputs": [
        {
          "output_type": "execute_result",
          "data": {
            "text/html": [
              "<div>\n",
              "<style scoped>\n",
              "    .dataframe tbody tr th:only-of-type {\n",
              "        vertical-align: middle;\n",
              "    }\n",
              "\n",
              "    .dataframe tbody tr th {\n",
              "        vertical-align: top;\n",
              "    }\n",
              "\n",
              "    .dataframe thead th {\n",
              "        text-align: right;\n",
              "    }\n",
              "</style>\n",
              "<table border=\"1\" class=\"dataframe\">\n",
              "  <thead>\n",
              "    <tr style=\"text-align: right;\">\n",
              "      <th></th>\n",
              "      <th>pkSeqID</th>\n",
              "      <th>sport</th>\n",
              "      <th>dport</th>\n",
              "      <th>seq</th>\n",
              "      <th>stddev</th>\n",
              "      <th>N_IN_Conn_P_SrcIP</th>\n",
              "      <th>min</th>\n",
              "      <th>state_number</th>\n",
              "      <th>mean</th>\n",
              "      <th>N_IN_Conn_P_DstIP</th>\n",
              "      <th>drate</th>\n",
              "      <th>srate</th>\n",
              "      <th>max</th>\n",
              "      <th>attack</th>\n",
              "      <th>subcategory</th>\n",
              "    </tr>\n",
              "  </thead>\n",
              "  <tbody>\n",
              "    <tr>\n",
              "      <th>count</th>\n",
              "      <td>5.510690e+05</td>\n",
              "      <td>551069.000000</td>\n",
              "      <td>551069.000000</td>\n",
              "      <td>551069.00000</td>\n",
              "      <td>551069.000000</td>\n",
              "      <td>551069.000000</td>\n",
              "      <td>551069.000000</td>\n",
              "      <td>551069.000000</td>\n",
              "      <td>551069.000000</td>\n",
              "      <td>551069.000000</td>\n",
              "      <td>551069.000000</td>\n",
              "      <td>551069.000000</td>\n",
              "      <td>551069.000000</td>\n",
              "      <td>551069.000000</td>\n",
              "      <td>551069.000000</td>\n",
              "    </tr>\n",
              "    <tr>\n",
              "      <th>mean</th>\n",
              "      <td>2.613331e+06</td>\n",
              "      <td>32843.044983</td>\n",
              "      <td>114.671671</td>\n",
              "      <td>123246.92643</td>\n",
              "      <td>0.943188</td>\n",
              "      <td>81.969236</td>\n",
              "      <td>1.305582</td>\n",
              "      <td>3.043076</td>\n",
              "      <td>2.550446</td>\n",
              "      <td>99.887061</td>\n",
              "      <td>0.011114</td>\n",
              "      <td>2.330649</td>\n",
              "      <td>3.348142</td>\n",
              "      <td>0.999786</td>\n",
              "      <td>2.490931</td>\n",
              "    </tr>\n",
              "    <tr>\n",
              "      <th>std</th>\n",
              "      <td>5.563163e+05</td>\n",
              "      <td>18945.086103</td>\n",
              "      <td>1087.618617</td>\n",
              "      <td>73832.66073</td>\n",
              "      <td>0.751504</td>\n",
              "      <td>24.203479</td>\n",
              "      <td>1.492350</td>\n",
              "      <td>1.191108</td>\n",
              "      <td>1.405292</td>\n",
              "      <td>2.586545</td>\n",
              "      <td>2.935290</td>\n",
              "      <td>1347.090777</td>\n",
              "      <td>1.647346</td>\n",
              "      <td>0.014632</td>\n",
              "      <td>0.502229</td>\n",
              "    </tr>\n",
              "    <tr>\n",
              "      <th>min</th>\n",
              "      <td>1.650262e+06</td>\n",
              "      <td>-1.000000</td>\n",
              "      <td>-1.000000</td>\n",
              "      <td>1.00000</td>\n",
              "      <td>0.000000</td>\n",
              "      <td>1.000000</td>\n",
              "      <td>0.000000</td>\n",
              "      <td>1.000000</td>\n",
              "      <td>0.000000</td>\n",
              "      <td>1.000000</td>\n",
              "      <td>0.000000</td>\n",
              "      <td>0.000000</td>\n",
              "      <td>0.000000</td>\n",
              "      <td>0.000000</td>\n",
              "      <td>0.000000</td>\n",
              "    </tr>\n",
              "    <tr>\n",
              "      <th>25%</th>\n",
              "      <td>2.130961e+06</td>\n",
              "      <td>16417.000000</td>\n",
              "      <td>80.000000</td>\n",
              "      <td>59969.00000</td>\n",
              "      <td>0.122008</td>\n",
              "      <td>68.000000</td>\n",
              "      <td>0.000000</td>\n",
              "      <td>3.000000</td>\n",
              "      <td>2.015771</td>\n",
              "      <td>100.000000</td>\n",
              "      <td>0.000000</td>\n",
              "      <td>0.249863</td>\n",
              "      <td>3.260891</td>\n",
              "      <td>1.000000</td>\n",
              "      <td>2.000000</td>\n",
              "    </tr>\n",
              "    <tr>\n",
              "      <th>50%</th>\n",
              "      <td>2.613154e+06</td>\n",
              "      <td>32937.000000</td>\n",
              "      <td>80.000000</td>\n",
              "      <td>120243.00000</td>\n",
              "      <td>0.929186</td>\n",
              "      <td>97.000000</td>\n",
              "      <td>0.172103</td>\n",
              "      <td>3.000000</td>\n",
              "      <td>2.760165</td>\n",
              "      <td>100.000000</td>\n",
              "      <td>0.000000</td>\n",
              "      <td>0.409866</td>\n",
              "      <td>4.057606</td>\n",
              "      <td>1.000000</td>\n",
              "      <td>2.000000</td>\n",
              "    </tr>\n",
              "    <tr>\n",
              "      <th>75%</th>\n",
              "      <td>3.095561e+06</td>\n",
              "      <td>49310.000000</td>\n",
              "      <td>80.000000</td>\n",
              "      <td>183152.00000</td>\n",
              "      <td>1.688021</td>\n",
              "      <td>100.000000</td>\n",
              "      <td>2.764762</td>\n",
              "      <td>4.000000</td>\n",
              "      <td>3.660429</td>\n",
              "      <td>100.000000</td>\n",
              "      <td>0.000000</td>\n",
              "      <td>0.632226</td>\n",
              "      <td>4.172477</td>\n",
              "      <td>1.000000</td>\n",
              "      <td>3.000000</td>\n",
              "    </tr>\n",
              "    <tr>\n",
              "      <th>max</th>\n",
              "      <td>3.577360e+06</td>\n",
              "      <td>65535.000000</td>\n",
              "      <td>65191.000000</td>\n",
              "      <td>262161.00000</td>\n",
              "      <td>2.496763</td>\n",
              "      <td>100.000000</td>\n",
              "      <td>4.980471</td>\n",
              "      <td>8.000000</td>\n",
              "      <td>4.981882</td>\n",
              "      <td>100.000000</td>\n",
              "      <td>2178.649170</td>\n",
              "      <td>1000000.000000</td>\n",
              "      <td>4.999999</td>\n",
              "      <td>1.000000</td>\n",
              "      <td>3.000000</td>\n",
              "    </tr>\n",
              "  </tbody>\n",
              "</table>\n",
              "</div>"
            ],
            "text/plain": [
              "            pkSeqID          sport  ...         attack    subcategory\n",
              "count  5.510690e+05  551069.000000  ...  551069.000000  551069.000000\n",
              "mean   2.613331e+06   32843.044983  ...       0.999786       2.490931\n",
              "std    5.563163e+05   18945.086103  ...       0.014632       0.502229\n",
              "min    1.650262e+06      -1.000000  ...       0.000000       0.000000\n",
              "25%    2.130961e+06   16417.000000  ...       1.000000       2.000000\n",
              "50%    2.613154e+06   32937.000000  ...       1.000000       2.000000\n",
              "75%    3.095561e+06   49310.000000  ...       1.000000       3.000000\n",
              "max    3.577360e+06   65535.000000  ...       1.000000       3.000000\n",
              "\n",
              "[8 rows x 15 columns]"
            ]
          },
          "metadata": {
            "tags": []
          },
          "execution_count": 11
        }
      ]
    },
    {
      "cell_type": "code",
      "metadata": {
        "id": "xmKHiTfdlpPd"
      },
      "source": [
        "#Removing the unwanted coloumns\n",
        "col=['saddr','daddr','category','attack']\n",
        "data=data.drop(columns=col,axis=1)"
      ],
      "execution_count": 12,
      "outputs": []
    },
    {
      "cell_type": "code",
      "metadata": {
        "id": "7XAq9HlIlpPf"
      },
      "source": [
        "#Removing the dublicate values\n",
        "data.drop_duplicates(keep='first',inplace=True)"
      ],
      "execution_count": 13,
      "outputs": []
    },
    {
      "cell_type": "markdown",
      "metadata": {
        "id": "43DKLBzxlpPg"
      },
      "source": [
        "2. Exploratory Data Analysis"
      ]
    },
    {
      "cell_type": "code",
      "metadata": {
        "id": "L5HtqC0nlpPh",
        "colab": {
          "base_uri": "https://localhost:8080/",
          "height": 224
        },
        "outputId": "9a79215d-b8c9-4fe9-fe8d-3764939e0295"
      },
      "source": [
        "data.head()"
      ],
      "execution_count": 14,
      "outputs": [
        {
          "output_type": "execute_result",
          "data": {
            "text/html": [
              "<div>\n",
              "<style scoped>\n",
              "    .dataframe tbody tr th:only-of-type {\n",
              "        vertical-align: middle;\n",
              "    }\n",
              "\n",
              "    .dataframe tbody tr th {\n",
              "        vertical-align: top;\n",
              "    }\n",
              "\n",
              "    .dataframe thead th {\n",
              "        text-align: right;\n",
              "    }\n",
              "</style>\n",
              "<table border=\"1\" class=\"dataframe\">\n",
              "  <thead>\n",
              "    <tr style=\"text-align: right;\">\n",
              "      <th></th>\n",
              "      <th>pkSeqID</th>\n",
              "      <th>proto</th>\n",
              "      <th>sport</th>\n",
              "      <th>dport</th>\n",
              "      <th>seq</th>\n",
              "      <th>stddev</th>\n",
              "      <th>N_IN_Conn_P_SrcIP</th>\n",
              "      <th>min</th>\n",
              "      <th>state_number</th>\n",
              "      <th>mean</th>\n",
              "      <th>N_IN_Conn_P_DstIP</th>\n",
              "      <th>drate</th>\n",
              "      <th>srate</th>\n",
              "      <th>max</th>\n",
              "      <th>subcategory</th>\n",
              "    </tr>\n",
              "  </thead>\n",
              "  <tbody>\n",
              "    <tr>\n",
              "      <th>0</th>\n",
              "      <td>3142762</td>\n",
              "      <td>udp</td>\n",
              "      <td>6551</td>\n",
              "      <td>80</td>\n",
              "      <td>251984</td>\n",
              "      <td>1.900363</td>\n",
              "      <td>100</td>\n",
              "      <td>0.000000</td>\n",
              "      <td>4</td>\n",
              "      <td>2.687519</td>\n",
              "      <td>100</td>\n",
              "      <td>0.0</td>\n",
              "      <td>0.494549</td>\n",
              "      <td>4.031619</td>\n",
              "      <td>3</td>\n",
              "    </tr>\n",
              "    <tr>\n",
              "      <th>1</th>\n",
              "      <td>2432264</td>\n",
              "      <td>tcp</td>\n",
              "      <td>5532</td>\n",
              "      <td>80</td>\n",
              "      <td>256724</td>\n",
              "      <td>0.078003</td>\n",
              "      <td>38</td>\n",
              "      <td>3.856930</td>\n",
              "      <td>3</td>\n",
              "      <td>3.934927</td>\n",
              "      <td>100</td>\n",
              "      <td>0.0</td>\n",
              "      <td>0.256493</td>\n",
              "      <td>4.012924</td>\n",
              "      <td>2</td>\n",
              "    </tr>\n",
              "    <tr>\n",
              "      <th>2</th>\n",
              "      <td>1976315</td>\n",
              "      <td>tcp</td>\n",
              "      <td>27165</td>\n",
              "      <td>80</td>\n",
              "      <td>62921</td>\n",
              "      <td>0.268666</td>\n",
              "      <td>100</td>\n",
              "      <td>2.974100</td>\n",
              "      <td>3</td>\n",
              "      <td>3.341429</td>\n",
              "      <td>100</td>\n",
              "      <td>0.0</td>\n",
              "      <td>0.294880</td>\n",
              "      <td>3.609205</td>\n",
              "      <td>2</td>\n",
              "    </tr>\n",
              "    <tr>\n",
              "      <th>3</th>\n",
              "      <td>3257991</td>\n",
              "      <td>udp</td>\n",
              "      <td>22461</td>\n",
              "      <td>80</td>\n",
              "      <td>105063</td>\n",
              "      <td>0.822418</td>\n",
              "      <td>100</td>\n",
              "      <td>2.979995</td>\n",
              "      <td>4</td>\n",
              "      <td>3.983222</td>\n",
              "      <td>100</td>\n",
              "      <td>0.0</td>\n",
              "      <td>1.002999</td>\n",
              "      <td>4.994452</td>\n",
              "      <td>3</td>\n",
              "    </tr>\n",
              "    <tr>\n",
              "      <th>4</th>\n",
              "      <td>3406860</td>\n",
              "      <td>udp</td>\n",
              "      <td>31712</td>\n",
              "      <td>80</td>\n",
              "      <td>253932</td>\n",
              "      <td>1.928021</td>\n",
              "      <td>100</td>\n",
              "      <td>0.000000</td>\n",
              "      <td>4</td>\n",
              "      <td>2.726619</td>\n",
              "      <td>100</td>\n",
              "      <td>0.0</td>\n",
              "      <td>0.490708</td>\n",
              "      <td>4.097849</td>\n",
              "      <td>3</td>\n",
              "    </tr>\n",
              "  </tbody>\n",
              "</table>\n",
              "</div>"
            ],
            "text/plain": [
              "   pkSeqID proto  sport  dport  ...  drate     srate       max  subcategory\n",
              "0  3142762   udp   6551     80  ...    0.0  0.494549  4.031619            3\n",
              "1  2432264   tcp   5532     80  ...    0.0  0.256493  4.012924            2\n",
              "2  1976315   tcp  27165     80  ...    0.0  0.294880  3.609205            2\n",
              "3  3257991   udp  22461     80  ...    0.0  1.002999  4.994452            3\n",
              "4  3406860   udp  31712     80  ...    0.0  0.490708  4.097849            3\n",
              "\n",
              "[5 rows x 15 columns]"
            ]
          },
          "metadata": {
            "tags": []
          },
          "execution_count": 14
        }
      ]
    },
    {
      "cell_type": "code",
      "metadata": {
        "id": "WErffEdUlpPj",
        "colab": {
          "base_uri": "https://localhost:8080/"
        },
        "outputId": "d37bd1c3-3462-4fbd-ba78-bf16e99ffbd1"
      },
      "source": [
        "#Frequency of each category\n",
        "data['proto'].value_counts()"
      ],
      "execution_count": 15,
      "outputs": [
        {
          "output_type": "execute_result",
          "data": {
            "text/plain": [
              "tcp          279898\n",
              "udp          271148\n",
              "arp              20\n",
              "ipv6-icmp         3\n",
              "Name: proto, dtype: int64"
            ]
          },
          "metadata": {
            "tags": []
          },
          "execution_count": 15
        }
      ]
    },
    {
      "cell_type": "code",
      "metadata": {
        "id": "dIFu9BQLlpPk",
        "colab": {
          "base_uri": "https://localhost:8080/",
          "height": 503
        },
        "outputId": "bb01edb0-b014-478d-f8dd-d17c3b473f2d"
      },
      "source": [
        "#relationship between the independent variables\n",
        "data.corr()"
      ],
      "execution_count": 16,
      "outputs": [
        {
          "output_type": "execute_result",
          "data": {
            "text/html": [
              "<div>\n",
              "<style scoped>\n",
              "    .dataframe tbody tr th:only-of-type {\n",
              "        vertical-align: middle;\n",
              "    }\n",
              "\n",
              "    .dataframe tbody tr th {\n",
              "        vertical-align: top;\n",
              "    }\n",
              "\n",
              "    .dataframe thead th {\n",
              "        text-align: right;\n",
              "    }\n",
              "</style>\n",
              "<table border=\"1\" class=\"dataframe\">\n",
              "  <thead>\n",
              "    <tr style=\"text-align: right;\">\n",
              "      <th></th>\n",
              "      <th>pkSeqID</th>\n",
              "      <th>sport</th>\n",
              "      <th>dport</th>\n",
              "      <th>seq</th>\n",
              "      <th>stddev</th>\n",
              "      <th>N_IN_Conn_P_SrcIP</th>\n",
              "      <th>min</th>\n",
              "      <th>state_number</th>\n",
              "      <th>mean</th>\n",
              "      <th>N_IN_Conn_P_DstIP</th>\n",
              "      <th>drate</th>\n",
              "      <th>srate</th>\n",
              "      <th>max</th>\n",
              "      <th>subcategory</th>\n",
              "    </tr>\n",
              "  </thead>\n",
              "  <tbody>\n",
              "    <tr>\n",
              "      <th>pkSeqID</th>\n",
              "      <td>1.000000</td>\n",
              "      <td>0.028381</td>\n",
              "      <td>-0.025309</td>\n",
              "      <td>0.041127</td>\n",
              "      <td>0.283287</td>\n",
              "      <td>0.096279</td>\n",
              "      <td>0.313319</td>\n",
              "      <td>0.690818</td>\n",
              "      <td>0.578290</td>\n",
              "      <td>0.010148</td>\n",
              "      <td>0.000374</td>\n",
              "      <td>0.002398</td>\n",
              "      <td>0.566030</td>\n",
              "      <td>0.861500</td>\n",
              "    </tr>\n",
              "    <tr>\n",
              "      <th>sport</th>\n",
              "      <td>0.028381</td>\n",
              "      <td>1.000000</td>\n",
              "      <td>-0.054821</td>\n",
              "      <td>0.146653</td>\n",
              "      <td>-0.041334</td>\n",
              "      <td>-0.071058</td>\n",
              "      <td>0.059562</td>\n",
              "      <td>0.014901</td>\n",
              "      <td>0.022857</td>\n",
              "      <td>0.029784</td>\n",
              "      <td>0.001671</td>\n",
              "      <td>0.001822</td>\n",
              "      <td>0.008701</td>\n",
              "      <td>0.004481</td>\n",
              "    </tr>\n",
              "    <tr>\n",
              "      <th>dport</th>\n",
              "      <td>-0.025309</td>\n",
              "      <td>-0.054821</td>\n",
              "      <td>1.000000</td>\n",
              "      <td>-0.052003</td>\n",
              "      <td>-0.019346</td>\n",
              "      <td>-0.003269</td>\n",
              "      <td>0.003938</td>\n",
              "      <td>-0.054284</td>\n",
              "      <td>-0.006778</td>\n",
              "      <td>-0.362694</td>\n",
              "      <td>0.000449</td>\n",
              "      <td>-0.000080</td>\n",
              "      <td>-0.013511</td>\n",
              "      <td>-0.031889</td>\n",
              "    </tr>\n",
              "    <tr>\n",
              "      <th>seq</th>\n",
              "      <td>0.041127</td>\n",
              "      <td>0.146653</td>\n",
              "      <td>-0.052003</td>\n",
              "      <td>1.000000</td>\n",
              "      <td>0.084922</td>\n",
              "      <td>0.024939</td>\n",
              "      <td>-0.131195</td>\n",
              "      <td>0.068956</td>\n",
              "      <td>-0.061803</td>\n",
              "      <td>0.066769</td>\n",
              "      <td>-0.003366</td>\n",
              "      <td>-0.002136</td>\n",
              "      <td>-0.041741</td>\n",
              "      <td>-0.009532</td>\n",
              "    </tr>\n",
              "    <tr>\n",
              "      <th>stddev</th>\n",
              "      <td>0.283287</td>\n",
              "      <td>-0.041334</td>\n",
              "      <td>-0.019346</td>\n",
              "      <td>0.084922</td>\n",
              "      <td>1.000000</td>\n",
              "      <td>0.038761</td>\n",
              "      <td>-0.444261</td>\n",
              "      <td>0.226809</td>\n",
              "      <td>0.237585</td>\n",
              "      <td>0.028591</td>\n",
              "      <td>-0.002296</td>\n",
              "      <td>-0.001721</td>\n",
              "      <td>0.577641</td>\n",
              "      <td>0.277520</td>\n",
              "    </tr>\n",
              "    <tr>\n",
              "      <th>N_IN_Conn_P_SrcIP</th>\n",
              "      <td>0.096279</td>\n",
              "      <td>-0.071058</td>\n",
              "      <td>-0.003269</td>\n",
              "      <td>0.024939</td>\n",
              "      <td>0.038761</td>\n",
              "      <td>1.000000</td>\n",
              "      <td>0.024259</td>\n",
              "      <td>0.077468</td>\n",
              "      <td>0.054138</td>\n",
              "      <td>0.060019</td>\n",
              "      <td>-0.004462</td>\n",
              "      <td>-0.003888</td>\n",
              "      <td>0.060747</td>\n",
              "      <td>0.090809</td>\n",
              "    </tr>\n",
              "    <tr>\n",
              "      <th>min</th>\n",
              "      <td>0.313319</td>\n",
              "      <td>0.059562</td>\n",
              "      <td>0.003938</td>\n",
              "      <td>-0.131195</td>\n",
              "      <td>-0.444261</td>\n",
              "      <td>0.024259</td>\n",
              "      <td>1.000000</td>\n",
              "      <td>0.294196</td>\n",
              "      <td>0.749652</td>\n",
              "      <td>0.016340</td>\n",
              "      <td>-0.001643</td>\n",
              "      <td>-0.000986</td>\n",
              "      <td>0.471697</td>\n",
              "      <td>0.367569</td>\n",
              "    </tr>\n",
              "    <tr>\n",
              "      <th>state_number</th>\n",
              "      <td>0.690818</td>\n",
              "      <td>0.014901</td>\n",
              "      <td>-0.054284</td>\n",
              "      <td>0.068956</td>\n",
              "      <td>0.226809</td>\n",
              "      <td>0.077468</td>\n",
              "      <td>0.294196</td>\n",
              "      <td>1.000000</td>\n",
              "      <td>0.512158</td>\n",
              "      <td>0.050762</td>\n",
              "      <td>-0.005163</td>\n",
              "      <td>-0.001170</td>\n",
              "      <td>0.489783</td>\n",
              "      <td>0.788662</td>\n",
              "    </tr>\n",
              "    <tr>\n",
              "      <th>mean</th>\n",
              "      <td>0.578290</td>\n",
              "      <td>0.022857</td>\n",
              "      <td>-0.006778</td>\n",
              "      <td>-0.061803</td>\n",
              "      <td>0.237585</td>\n",
              "      <td>0.054138</td>\n",
              "      <td>0.749652</td>\n",
              "      <td>0.512158</td>\n",
              "      <td>1.000000</td>\n",
              "      <td>0.037252</td>\n",
              "      <td>-0.003219</td>\n",
              "      <td>-0.002251</td>\n",
              "      <td>0.918118</td>\n",
              "      <td>0.638301</td>\n",
              "    </tr>\n",
              "    <tr>\n",
              "      <th>N_IN_Conn_P_DstIP</th>\n",
              "      <td>0.010148</td>\n",
              "      <td>0.029784</td>\n",
              "      <td>-0.362694</td>\n",
              "      <td>0.066769</td>\n",
              "      <td>0.028591</td>\n",
              "      <td>0.060019</td>\n",
              "      <td>0.016340</td>\n",
              "      <td>0.050762</td>\n",
              "      <td>0.037252</td>\n",
              "      <td>1.000000</td>\n",
              "      <td>-0.046578</td>\n",
              "      <td>-0.044754</td>\n",
              "      <td>0.041472</td>\n",
              "      <td>0.072748</td>\n",
              "    </tr>\n",
              "    <tr>\n",
              "      <th>drate</th>\n",
              "      <td>0.000374</td>\n",
              "      <td>0.001671</td>\n",
              "      <td>0.000449</td>\n",
              "      <td>-0.003366</td>\n",
              "      <td>-0.002296</td>\n",
              "      <td>-0.004462</td>\n",
              "      <td>-0.001643</td>\n",
              "      <td>-0.005163</td>\n",
              "      <td>-0.003219</td>\n",
              "      <td>-0.046578</td>\n",
              "      <td>1.000000</td>\n",
              "      <td>0.999845</td>\n",
              "      <td>-0.003613</td>\n",
              "      <td>-0.009340</td>\n",
              "    </tr>\n",
              "    <tr>\n",
              "      <th>srate</th>\n",
              "      <td>0.002398</td>\n",
              "      <td>0.001822</td>\n",
              "      <td>-0.000080</td>\n",
              "      <td>-0.002136</td>\n",
              "      <td>-0.001721</td>\n",
              "      <td>-0.003888</td>\n",
              "      <td>-0.000986</td>\n",
              "      <td>-0.001170</td>\n",
              "      <td>-0.002251</td>\n",
              "      <td>-0.044754</td>\n",
              "      <td>0.999845</td>\n",
              "      <td>1.000000</td>\n",
              "      <td>-0.002591</td>\n",
              "      <td>-0.006583</td>\n",
              "    </tr>\n",
              "    <tr>\n",
              "      <th>max</th>\n",
              "      <td>0.566030</td>\n",
              "      <td>0.008701</td>\n",
              "      <td>-0.013511</td>\n",
              "      <td>-0.041741</td>\n",
              "      <td>0.577641</td>\n",
              "      <td>0.060747</td>\n",
              "      <td>0.471697</td>\n",
              "      <td>0.489783</td>\n",
              "      <td>0.918118</td>\n",
              "      <td>0.041472</td>\n",
              "      <td>-0.003613</td>\n",
              "      <td>-0.002591</td>\n",
              "      <td>1.000000</td>\n",
              "      <td>0.611285</td>\n",
              "    </tr>\n",
              "    <tr>\n",
              "      <th>subcategory</th>\n",
              "      <td>0.861500</td>\n",
              "      <td>0.004481</td>\n",
              "      <td>-0.031889</td>\n",
              "      <td>-0.009532</td>\n",
              "      <td>0.277520</td>\n",
              "      <td>0.090809</td>\n",
              "      <td>0.367569</td>\n",
              "      <td>0.788662</td>\n",
              "      <td>0.638301</td>\n",
              "      <td>0.072748</td>\n",
              "      <td>-0.009340</td>\n",
              "      <td>-0.006583</td>\n",
              "      <td>0.611285</td>\n",
              "      <td>1.000000</td>\n",
              "    </tr>\n",
              "  </tbody>\n",
              "</table>\n",
              "</div>"
            ],
            "text/plain": [
              "                    pkSeqID     sport  ...       max  subcategory\n",
              "pkSeqID            1.000000  0.028381  ...  0.566030     0.861500\n",
              "sport              0.028381  1.000000  ...  0.008701     0.004481\n",
              "dport             -0.025309 -0.054821  ... -0.013511    -0.031889\n",
              "seq                0.041127  0.146653  ... -0.041741    -0.009532\n",
              "stddev             0.283287 -0.041334  ...  0.577641     0.277520\n",
              "N_IN_Conn_P_SrcIP  0.096279 -0.071058  ...  0.060747     0.090809\n",
              "min                0.313319  0.059562  ...  0.471697     0.367569\n",
              "state_number       0.690818  0.014901  ...  0.489783     0.788662\n",
              "mean               0.578290  0.022857  ...  0.918118     0.638301\n",
              "N_IN_Conn_P_DstIP  0.010148  0.029784  ...  0.041472     0.072748\n",
              "drate              0.000374  0.001671  ... -0.003613    -0.009340\n",
              "srate              0.002398  0.001822  ... -0.002591    -0.006583\n",
              "max                0.566030  0.008701  ...  1.000000     0.611285\n",
              "subcategory        0.861500  0.004481  ...  0.611285     1.000000\n",
              "\n",
              "[14 rows x 14 columns]"
            ]
          },
          "metadata": {
            "tags": []
          },
          "execution_count": 16
        }
      ]
    },
    {
      "cell_type": "code",
      "metadata": {
        "id": "iUAdKgcZlpPl",
        "colab": {
          "base_uri": "https://localhost:8080/"
        },
        "outputId": "1720d981-b36b-4ea6-a2d0-191731ab349e"
      },
      "source": [
        "#Cross tables and data visualization\n",
        "#Extracting the coloumn names\n",
        "data.columns"
      ],
      "execution_count": 17,
      "outputs": [
        {
          "output_type": "execute_result",
          "data": {
            "text/plain": [
              "Index(['pkSeqID', 'proto', 'sport', 'dport', 'seq', 'stddev',\n",
              "       'N_IN_Conn_P_SrcIP', 'min', 'state_number', 'mean', 'N_IN_Conn_P_DstIP',\n",
              "       'drate', 'srate', 'max', 'subcategory'],\n",
              "      dtype='object')"
            ]
          },
          "metadata": {
            "tags": []
          },
          "execution_count": 17
        }
      ]
    },
    {
      "cell_type": "code",
      "metadata": {
        "id": "WoM2mTO5lpPm",
        "colab": {
          "base_uri": "https://localhost:8080/",
          "height": 204
        },
        "outputId": "d4f53dcd-9223-46f1-d713-47225db36921"
      },
      "source": [
        "#proto proportion table\n",
        "pd.crosstab(index=data['proto'],columns='count',normalize=True)"
      ],
      "execution_count": 18,
      "outputs": [
        {
          "output_type": "execute_result",
          "data": {
            "text/html": [
              "<div>\n",
              "<style scoped>\n",
              "    .dataframe tbody tr th:only-of-type {\n",
              "        vertical-align: middle;\n",
              "    }\n",
              "\n",
              "    .dataframe tbody tr th {\n",
              "        vertical-align: top;\n",
              "    }\n",
              "\n",
              "    .dataframe thead th {\n",
              "        text-align: right;\n",
              "    }\n",
              "</style>\n",
              "<table border=\"1\" class=\"dataframe\">\n",
              "  <thead>\n",
              "    <tr style=\"text-align: right;\">\n",
              "      <th>col_0</th>\n",
              "      <th>count</th>\n",
              "    </tr>\n",
              "    <tr>\n",
              "      <th>proto</th>\n",
              "      <th></th>\n",
              "    </tr>\n",
              "  </thead>\n",
              "  <tbody>\n",
              "    <tr>\n",
              "      <th>arp</th>\n",
              "      <td>0.000036</td>\n",
              "    </tr>\n",
              "    <tr>\n",
              "      <th>ipv6-icmp</th>\n",
              "      <td>0.000005</td>\n",
              "    </tr>\n",
              "    <tr>\n",
              "      <th>tcp</th>\n",
              "      <td>0.507918</td>\n",
              "    </tr>\n",
              "    <tr>\n",
              "      <th>udp</th>\n",
              "      <td>0.492040</td>\n",
              "    </tr>\n",
              "  </tbody>\n",
              "</table>\n",
              "</div>"
            ],
            "text/plain": [
              "col_0         count\n",
              "proto              \n",
              "arp        0.000036\n",
              "ipv6-icmp  0.000005\n",
              "tcp        0.507918\n",
              "udp        0.492040"
            ]
          },
          "metadata": {
            "tags": []
          },
          "execution_count": 18
        }
      ]
    },
    {
      "cell_type": "code",
      "metadata": {
        "id": "3OwTCkZrlpPn",
        "colab": {
          "base_uri": "https://localhost:8080/",
          "height": 204
        },
        "outputId": "c1ecd1a2-7bcf-431a-9d8a-ec7c8f5e2c70"
      },
      "source": [
        "#proto vs attack\n",
        "pd.crosstab(index=data['proto'],columns=data['subcategory'],normalize=True)"
      ],
      "execution_count": 19,
      "outputs": [
        {
          "output_type": "execute_result",
          "data": {
            "text/html": [
              "<div>\n",
              "<style scoped>\n",
              "    .dataframe tbody tr th:only-of-type {\n",
              "        vertical-align: middle;\n",
              "    }\n",
              "\n",
              "    .dataframe tbody tr th {\n",
              "        vertical-align: top;\n",
              "    }\n",
              "\n",
              "    .dataframe thead th {\n",
              "        text-align: right;\n",
              "    }\n",
              "</style>\n",
              "<table border=\"1\" class=\"dataframe\">\n",
              "  <thead>\n",
              "    <tr style=\"text-align: right;\">\n",
              "      <th>subcategory</th>\n",
              "      <th>0</th>\n",
              "      <th>1</th>\n",
              "      <th>2</th>\n",
              "      <th>3</th>\n",
              "    </tr>\n",
              "    <tr>\n",
              "      <th>proto</th>\n",
              "      <th></th>\n",
              "      <th></th>\n",
              "      <th></th>\n",
              "      <th></th>\n",
              "    </tr>\n",
              "  </thead>\n",
              "  <tbody>\n",
              "    <tr>\n",
              "      <th>arp</th>\n",
              "      <td>0.000018</td>\n",
              "      <td>0.000000</td>\n",
              "      <td>0.000016</td>\n",
              "      <td>0.000002</td>\n",
              "    </tr>\n",
              "    <tr>\n",
              "      <th>ipv6-icmp</th>\n",
              "      <td>0.000005</td>\n",
              "      <td>0.000000</td>\n",
              "      <td>0.000000</td>\n",
              "      <td>0.000000</td>\n",
              "    </tr>\n",
              "    <tr>\n",
              "      <th>tcp</th>\n",
              "      <td>0.000024</td>\n",
              "      <td>0.000515</td>\n",
              "      <td>0.507379</td>\n",
              "      <td>0.000000</td>\n",
              "    </tr>\n",
              "    <tr>\n",
              "      <th>udp</th>\n",
              "      <td>0.000167</td>\n",
              "      <td>0.000000</td>\n",
              "      <td>0.000000</td>\n",
              "      <td>0.491873</td>\n",
              "    </tr>\n",
              "  </tbody>\n",
              "</table>\n",
              "</div>"
            ],
            "text/plain": [
              "subcategory         0         1         2         3\n",
              "proto                                              \n",
              "arp          0.000018  0.000000  0.000016  0.000002\n",
              "ipv6-icmp    0.000005  0.000000  0.000000  0.000000\n",
              "tcp          0.000024  0.000515  0.507379  0.000000\n",
              "udp          0.000167  0.000000  0.000000  0.491873"
            ]
          },
          "metadata": {
            "tags": []
          },
          "execution_count": 19
        }
      ]
    },
    {
      "cell_type": "code",
      "metadata": {
        "id": "xAYCC6J1lpPp",
        "colab": {
          "base_uri": "https://localhost:8080/",
          "height": 302
        },
        "outputId": "f37b79b4-a129-45a4-dd67-61db601cc09f"
      },
      "source": [
        "#frequency distribution of attack\n",
        "sns.countplot(data['subcategory'])"
      ],
      "execution_count": 20,
      "outputs": [
        {
          "output_type": "execute_result",
          "data": {
            "text/plain": [
              "<matplotlib.axes._subplots.AxesSubplot at 0x7f62f6678390>"
            ]
          },
          "metadata": {
            "tags": []
          },
          "execution_count": 20
        },
        {
          "output_type": "display_data",
          "data": {
            "image/png": "[encoded data removed]",
            "text/plain": [
              "<Figure size 432x288 with 1 Axes>"
            ]
          },
          "metadata": {
            "tags": [],
            "needs_background": "light"
          }
        }
      ]
    },
    {
      "cell_type": "code",
      "metadata": {
        "id": "Q2mfvV7flpPq"
      },
      "source": [
        "\n",
        "data=data.drop(columns='pkSeqID')"
      ],
      "execution_count": 21,
      "outputs": []
    },
    {
      "cell_type": "code",
      "metadata": {
        "id": "w4Sl81iXlpPr"
      },
      "source": [
        "#Categorical Encoding\n",
        "data=pd.get_dummies(data)"
      ],
      "execution_count": 22,
      "outputs": []
    },
    {
      "cell_type": "code",
      "metadata": {
        "id": "I8FOBjHSlpPs",
        "colab": {
          "base_uri": "https://localhost:8080/",
          "height": 241
        },
        "outputId": "8aead8e0-4d2c-4288-98ae-74f3d101f575"
      },
      "source": [
        "data.head()"
      ],
      "execution_count": 23,
      "outputs": [
        {
          "output_type": "execute_result",
          "data": {
            "text/html": [
              "<div>\n",
              "<style scoped>\n",
              "    .dataframe tbody tr th:only-of-type {\n",
              "        vertical-align: middle;\n",
              "    }\n",
              "\n",
              "    .dataframe tbody tr th {\n",
              "        vertical-align: top;\n",
              "    }\n",
              "\n",
              "    .dataframe thead th {\n",
              "        text-align: right;\n",
              "    }\n",
              "</style>\n",
              "<table border=\"1\" class=\"dataframe\">\n",
              "  <thead>\n",
              "    <tr style=\"text-align: right;\">\n",
              "      <th></th>\n",
              "      <th>sport</th>\n",
              "      <th>dport</th>\n",
              "      <th>seq</th>\n",
              "      <th>stddev</th>\n",
              "      <th>N_IN_Conn_P_SrcIP</th>\n",
              "      <th>min</th>\n",
              "      <th>state_number</th>\n",
              "      <th>mean</th>\n",
              "      <th>N_IN_Conn_P_DstIP</th>\n",
              "      <th>drate</th>\n",
              "      <th>srate</th>\n",
              "      <th>max</th>\n",
              "      <th>subcategory</th>\n",
              "      <th>proto_arp</th>\n",
              "      <th>proto_ipv6-icmp</th>\n",
              "      <th>proto_tcp</th>\n",
              "      <th>proto_udp</th>\n",
              "    </tr>\n",
              "  </thead>\n",
              "  <tbody>\n",
              "    <tr>\n",
              "      <th>0</th>\n",
              "      <td>6551</td>\n",
              "      <td>80</td>\n",
              "      <td>251984</td>\n",
              "      <td>1.900363</td>\n",
              "      <td>100</td>\n",
              "      <td>0.000000</td>\n",
              "      <td>4</td>\n",
              "      <td>2.687519</td>\n",
              "      <td>100</td>\n",
              "      <td>0.0</td>\n",
              "      <td>0.494549</td>\n",
              "      <td>4.031619</td>\n",
              "      <td>3</td>\n",
              "      <td>0</td>\n",
              "      <td>0</td>\n",
              "      <td>0</td>\n",
              "      <td>1</td>\n",
              "    </tr>\n",
              "    <tr>\n",
              "      <th>1</th>\n",
              "      <td>5532</td>\n",
              "      <td>80</td>\n",
              "      <td>256724</td>\n",
              "      <td>0.078003</td>\n",
              "      <td>38</td>\n",
              "      <td>3.856930</td>\n",
              "      <td>3</td>\n",
              "      <td>3.934927</td>\n",
              "      <td>100</td>\n",
              "      <td>0.0</td>\n",
              "      <td>0.256493</td>\n",
              "      <td>4.012924</td>\n",
              "      <td>2</td>\n",
              "      <td>0</td>\n",
              "      <td>0</td>\n",
              "      <td>1</td>\n",
              "      <td>0</td>\n",
              "    </tr>\n",
              "    <tr>\n",
              "      <th>2</th>\n",
              "      <td>27165</td>\n",
              "      <td>80</td>\n",
              "      <td>62921</td>\n",
              "      <td>0.268666</td>\n",
              "      <td>100</td>\n",
              "      <td>2.974100</td>\n",
              "      <td>3</td>\n",
              "      <td>3.341429</td>\n",
              "      <td>100</td>\n",
              "      <td>0.0</td>\n",
              "      <td>0.294880</td>\n",
              "      <td>3.609205</td>\n",
              "      <td>2</td>\n",
              "      <td>0</td>\n",
              "      <td>0</td>\n",
              "      <td>1</td>\n",
              "      <td>0</td>\n",
              "    </tr>\n",
              "    <tr>\n",
              "      <th>3</th>\n",
              "      <td>22461</td>\n",
              "      <td>80</td>\n",
              "      <td>105063</td>\n",
              "      <td>0.822418</td>\n",
              "      <td>100</td>\n",
              "      <td>2.979995</td>\n",
              "      <td>4</td>\n",
              "      <td>3.983222</td>\n",
              "      <td>100</td>\n",
              "      <td>0.0</td>\n",
              "      <td>1.002999</td>\n",
              "      <td>4.994452</td>\n",
              "      <td>3</td>\n",
              "      <td>0</td>\n",
              "      <td>0</td>\n",
              "      <td>0</td>\n",
              "      <td>1</td>\n",
              "    </tr>\n",
              "    <tr>\n",
              "      <th>4</th>\n",
              "      <td>31712</td>\n",
              "      <td>80</td>\n",
              "      <td>253932</td>\n",
              "      <td>1.928021</td>\n",
              "      <td>100</td>\n",
              "      <td>0.000000</td>\n",
              "      <td>4</td>\n",
              "      <td>2.726619</td>\n",
              "      <td>100</td>\n",
              "      <td>0.0</td>\n",
              "      <td>0.490708</td>\n",
              "      <td>4.097849</td>\n",
              "      <td>3</td>\n",
              "      <td>0</td>\n",
              "      <td>0</td>\n",
              "      <td>0</td>\n",
              "      <td>1</td>\n",
              "    </tr>\n",
              "  </tbody>\n",
              "</table>\n",
              "</div>"
            ],
            "text/plain": [
              "   sport  dport     seq  ...  proto_ipv6-icmp  proto_tcp  proto_udp\n",
              "0   6551     80  251984  ...                0          0          1\n",
              "1   5532     80  256724  ...                0          1          0\n",
              "2  27165     80   62921  ...                0          1          0\n",
              "3  22461     80  105063  ...                0          0          1\n",
              "4  31712     80  253932  ...                0          0          1\n",
              "\n",
              "[5 rows x 17 columns]"
            ]
          },
          "metadata": {
            "tags": []
          },
          "execution_count": 23
        }
      ]
    },
    {
      "cell_type": "code",
      "metadata": {
        "id": "E8nGE2sllpPt"
      },
      "source": [
        "#Seperating the features and target variable\n",
        "y=data['subcategory']\n",
        "x=data.drop(columns='subcategory')"
      ],
      "execution_count": 24,
      "outputs": []
    },
    {
      "cell_type": "code",
      "metadata": {
        "id": "DHk1HlPdlpPu",
        "colab": {
          "base_uri": "https://localhost:8080/"
        },
        "outputId": "5ad81bb0-bd58-441b-bcf6-5949c7e79cbd"
      },
      "source": [
        "data.shape"
      ],
      "execution_count": 25,
      "outputs": [
        {
          "output_type": "execute_result",
          "data": {
            "text/plain": [
              "(551069, 17)"
            ]
          },
          "metadata": {
            "tags": []
          },
          "execution_count": 25
        }
      ]
    },
    {
      "cell_type": "code",
      "metadata": {
        "id": "je19_1LdlpPv",
        "colab": {
          "base_uri": "https://localhost:8080/"
        },
        "outputId": "8df40bbf-f82c-4d3a-af13-624e501b3241"
      },
      "source": [
        "x.shape"
      ],
      "execution_count": 26,
      "outputs": [
        {
          "output_type": "execute_result",
          "data": {
            "text/plain": [
              "(551069, 16)"
            ]
          },
          "metadata": {
            "tags": []
          },
          "execution_count": 26
        }
      ]
    },
    {
      "cell_type": "markdown",
      "metadata": {
        "id": "U67hIzqwlpPw"
      },
      "source": [
        "#"
      ]
    },
    {
      "cell_type": "code",
      "metadata": {
        "id": "c4763hE7lpPw"
      },
      "source": [
        "#Balancing the target variable\n",
        "from imblearn.combine import SMOTETomek\n",
        "smk = SMOTETomek(random_state = 0)\n",
        "x, y = smk.fit_sample(x,y)"
      ],
      "execution_count": 27,
      "outputs": []
    },
    {
      "cell_type": "code",
      "metadata": {
        "id": "tv_7X_u9lpPx",
        "colab": {
          "base_uri": "https://localhost:8080/"
        },
        "outputId": "834b9288-1559-4cae-c303-ca5cc7eaadc7"
      },
      "source": [
        "x.shape"
      ],
      "execution_count": 28,
      "outputs": [
        {
          "output_type": "execute_result",
          "data": {
            "text/plain": [
              "(1118436, 16)"
            ]
          },
          "metadata": {
            "tags": []
          },
          "execution_count": 28
        }
      ]
    },
    {
      "cell_type": "code",
      "metadata": {
        "id": "h5hI6pVxlpPy",
        "colab": {
          "base_uri": "https://localhost:8080/",
          "height": 285
        },
        "outputId": "d12a43dc-d7e7-4ad8-9483-4841078ef5e4"
      },
      "source": [
        "sns.countplot(y)"
      ],
      "execution_count": 29,
      "outputs": [
        {
          "output_type": "execute_result",
          "data": {
            "text/plain": [
              "<matplotlib.axes._subplots.AxesSubplot at 0x7f62eff288d0>"
            ]
          },
          "metadata": {
            "tags": []
          },
          "execution_count": 29
        },
        {
          "output_type": "display_data",
          "data": {
            "image/png": "[encoded data removed]",
            "text/plain": [
              "<Figure size 432x288 with 1 Axes>"
            ]
          },
          "metadata": {
            "tags": [],
            "needs_background": "light"
          }
        }
      ]
    },
    {
      "cell_type": "code",
      "metadata": {
        "id": "1l6uLP2blpPz"
      },
      "source": [
        "#Spliting dataset into Train and Test set \n",
        "from sklearn.model_selection import train_test_split\n",
        "x_train,x_test,y_train,y_test = train_test_split(x,y,test_size = 0.3, random_state = 0)"
      ],
      "execution_count": 30,
      "outputs": []
    },
    {
      "cell_type": "code",
      "metadata": {
        "id": "2siOzdMAlpP0"
      },
      "source": [
        "#Feature Scaling\n",
        "from sklearn.preprocessing import StandardScaler\n",
        "sc = StandardScaler()\n",
        "x_train = sc.fit_transform(x_train)\n",
        "x_test = sc.transform(x_test)"
      ],
      "execution_count": 31,
      "outputs": []
    },
    {
      "cell_type": "code",
      "metadata": {
        "id": "a85T98ZglpP1",
        "colab": {
          "base_uri": "https://localhost:8080/"
        },
        "outputId": "280ab1f5-644b-4707-f5f6-72a2c8141b6b"
      },
      "source": [
        "from sklearn.ensemble import RandomForestClassifier\n",
        "from sklearn.model_selection import cross_val_score\n",
        "clf=RandomForestClassifier()\n",
        "clf.fit(x_train,y_train)"
      ],
      "execution_count": 32,
      "outputs": [
        {
          "output_type": "execute_result",
          "data": {
            "text/plain": [
              "RandomForestClassifier(bootstrap=True, ccp_alpha=0.0, class_weight=None,\n",
              "                       criterion='gini', max_depth=None, max_features='auto',\n",
              "                       max_leaf_nodes=None, max_samples=None,\n",
              "                       min_impurity_decrease=0.0, min_impurity_split=None,\n",
              "                       min_samples_leaf=1, min_samples_split=2,\n",
              "                       min_weight_fraction_leaf=0.0, n_estimators=100,\n",
              "                       n_jobs=None, oob_score=False, random_state=None,\n",
              "                       verbose=0, warm_start=False)"
            ]
          },
          "metadata": {
            "tags": []
          },
          "execution_count": 32
        }
      ]
    },
    {
      "cell_type": "code",
      "metadata": {
        "id": "ISiGwLnilpP2",
        "colab": {
          "base_uri": "https://localhost:8080/"
        },
        "outputId": "d9499c95-fc2c-4c82-9d50-998dce534a7a"
      },
      "source": [
        "#Checking the accuracy of model\n",
        "from sklearn.metrics import accuracy_score\n",
        "y_pred=clf.predict(x_test)\n",
        "accuracy = accuracy_score(y_test, y_pred)\n",
        "print(\" Testing Accuracy: %.2f%%\" % (accuracy * 100.0))\n",
        "#scores = cross_val_score(clf, x_train, y_train, cv=10)\n",
        "#print(\"Cross Validation Accuracy: %.2f%% \" % (scores.mean()*100))"
      ],
      "execution_count": 34,
      "outputs": [
        {
          "output_type": "stream",
          "text": [
            " Testing Accuracy: 100.00%\n"
          ],
          "name": "stdout"
        }
      ]
    },
    {
      "cell_type": "code",
      "metadata": {
        "id": "tBaqWmDwlpP3",
        "colab": {
          "base_uri": "https://localhost:8080/",
          "height": 318
        },
        "outputId": "df6ef4a7-14e7-4c7b-b4e4-49183ec5ac45"
      },
      "source": [
        "#confusion matrix\n",
        "from sklearn.metrics import confusion_matrix\n",
        "con = confusion_matrix(y_test,y_pred)\n",
        "import seaborn as sns\n",
        "import matplotlib.pyplot as plt\n",
        "axes = sns.heatmap(con, square=True,annot=True,fmt='d',cbar = True, cmap = plt.cm.GnBu)\n",
        "ax = plt.axes()\n",
        "plt.xlabel('Predicted Values')\n",
        "plt.ylabel('Actual values')\n",
        "ax.set_title('Random Forest Classifier')"
      ],
      "execution_count": 35,
      "outputs": [
        {
          "output_type": "execute_result",
          "data": {
            "text/plain": [
              "Text(0.5, 1.0, 'Random Forest Classifier')"
            ]
          },
          "metadata": {
            "tags": []
          },
          "execution_count": 35
        },
        {
          "output_type": "display_data",
          "data": {
            "image/png": "[encoded data removed]",
            "text/plain": [
              "<Figure size 432x288 with 2 Axes>"
            ]
          },
          "metadata": {
            "tags": [],
            "needs_background": "light"
          }
        }
      ]
    },
    {
      "cell_type": "code",
      "metadata": {
        "id": "2TRHh6o_lpP5",
        "colab": {
          "base_uri": "https://localhost:8080/"
        },
        "outputId": "7a693e79-1a5d-4ce1-a676-dfd7e643fb6b"
      },
      "source": [
        "from sklearn.metrics import classification_report\n",
        "print('Random Forest Classifier')\n",
        "print(classification_report(y_test, y_pred))"
      ],
      "execution_count": 36,
      "outputs": [
        {
          "output_type": "stream",
          "text": [
            "Random Forest Classifier\n",
            "              precision    recall  f1-score   support\n",
            "\n",
            "           0       1.00      1.00      1.00     84192\n",
            "           1       1.00      1.00      1.00     83609\n",
            "           2       1.00      1.00      1.00     83802\n",
            "           3       1.00      1.00      1.00     83928\n",
            "\n",
            "    accuracy                           1.00    335531\n",
            "   macro avg       1.00      1.00      1.00    335531\n",
            "weighted avg       1.00      1.00      1.00    335531\n",
            "\n"
          ],
          "name": "stdout"
        }
      ]
    },
    {
      "cell_type": "code",
      "metadata": {
        "id": "KAWY4dIKlpP6"
      },
      "source": [
        "#from sklearn.metrics import roc_auc_score\n",
        "#roc_auc_score(y_test,y_pred)"
      ],
      "execution_count": null,
      "outputs": []
    },
    {
      "cell_type": "code",
      "metadata": {
        "id": "WUDw4bEhlpP7",
        "colab": {
          "base_uri": "https://localhost:8080/",
          "height": 231
        },
        "outputId": "3ee34ab1-4ae3-4448-a650-01f48d274952"
      },
      "source": [
        "#from sklearn.model_selection import learning_curve\n",
        "from sklearn.model_selection import learning_curve\n",
        "from sklearn.model_selection import ShuffleSplit\n",
        "\n",
        "def plot_learning_curve(estimator, title, x, y, axes=None, ylim=None, cv=None,\n",
        "                        n_jobs=None, train_sizes=np.linspace(.1, 1.0, 5)):\n",
        "   \n",
        "    if axes is None:\n",
        "        _, axes = plt.subplots(1, 1, figsize=(20, 5))\n",
        "\n",
        "    axes[0].set_title(title)\n",
        "    if ylim is not None:\n",
        "        axes[0].set_ylim(*ylim)\n",
        "    axes[0].set_xlabel(\"Training examples\")\n",
        "    axes[0].set_ylabel(\"Score\")\n",
        "\n",
        "    train_sizes, train_scores, test_scores, fit_times, _ = \\\n",
        "        learning_curve(estimator, x, y, cv=cv, n_jobs=n_jobs,\n",
        "                       train_sizes=train_sizes,\n",
        "                       return_times=True)\n",
        "    train_scores_mean = np.mean(train_scores, axis=1)\n",
        "    train_scores_std = np.std(train_scores, axis=1)\n",
        "    test_scores_mean = np.mean(test_scores, axis=1)\n",
        "    test_scores_std = np.std(test_scores, axis=1)\n",
        "    fit_times_mean = np.mean(fit_times, axis=1)\n",
        "    fit_times_std = np.std(fit_times, axis=1)\n",
        "\n",
        "    # Plot learning curve\n",
        "    axes[0].grid()\n",
        "    axes[0].fill_between(train_sizes, train_scores_mean - train_scores_std,\n",
        "                         train_scores_mean + train_scores_std, alpha=0.1,\n",
        "                         color=\"r\")\n",
        "    axes[0].fill_between(train_sizes, test_scores_mean - test_scores_std,\n",
        "                         test_scores_mean + test_scores_std, alpha=0.1,\n",
        "                         color=\"g\")\n",
        "    axes[0].plot(train_sizes, train_scores_mean, 'o-', color=\"r\",\n",
        "                 label=\"Training score\")\n",
        "    axes[0].plot(train_sizes, test_scores_mean, 'o-', color=\"g\",\n",
        "                 label=\"Cross-validation score\")\n",
        "    axes[0].legend(loc=\"best\")\n",
        "\n",
        "    # Plot n_samples vs fit_times\n",
        "    axes[1].grid()\n",
        "    axes[1].plot(train_sizes, fit_times_mean, 'o-')\n",
        "    axes[1].fill_between(train_sizes, fit_times_mean - fit_times_std,\n",
        "                         fit_times_mean + fit_times_std, alpha=0.1)\n",
        "    axes[1].set_xlabel(\"Training examples\")\n",
        "    axes[1].set_ylabel(\"fit_times\")\n",
        "    axes[1].set_title(\"Scalability of the model\")\n",
        "\n",
        "    # Plot fit_time vs score\n",
        "    axes[2].grid()\n",
        "    axes[2].plot(fit_times_mean, test_scores_mean, 'o-')\n",
        "    axes[2].fill_between(fit_times_mean, test_scores_mean - test_scores_std,\n",
        "                         test_scores_mean + test_scores_std, alpha=0.1)\n",
        "    axes[2].set_xlabel(\"fit_times\")\n",
        "    axes[2].set_ylabel(\"Score\")\n",
        "    axes[2].set_title(\"Performance of the model\")\n",
        "\n",
        "\n",
        "fig, axes = plt.subplots(3, 1, figsize=(10, 15))\n",
        "\n",
        "title = \"Learning Curves (Random Forest Classifier)\"\n",
        "# Cross validation with 10 iterations to get smoother mean test and train\n",
        "# score curves, each time with 20% data randomly selected as a validation set.\n",
        "cv = ShuffleSplit(n_splits=10, test_size=0.2, random_state=0)\n",
        "\n",
        "estimator = RandomForestClassifier()\n",
        "plot_learning_curve(estimator, title, x, y,axes=axes[:,], cv=cv, ylim=(0.7, 1.01), n_jobs=4)\n",
        "\n",
        "plt.show()"
      ],
      "execution_count": null,
      "outputs": [
        {
          "output_type": "error",
          "ename": "NameError",
          "evalue": "ignored",
          "traceback": [
            "\u001b[0;31m---------------------------------------------------------------------------\u001b[0m",
            "\u001b[0;31mNameError\u001b[0m                                 Traceback (most recent call last)",
            "\u001b[0;32m<ipython-input-1-261a3a0050c9>\u001b[0m in \u001b[0;36m<module>\u001b[0;34m()\u001b[0m\n\u001b[1;32m      4\u001b[0m \u001b[0;34m\u001b[0m\u001b[0m\n\u001b[1;32m      5\u001b[0m def plot_learning_curve(estimator, title, x, y, axes=None, ylim=None, cv=None,\n\u001b[0;32m----> 6\u001b[0;31m                         n_jobs=None, train_sizes=np.linspace(.1, 1.0, 5)):\n\u001b[0m\u001b[1;32m      7\u001b[0m \u001b[0;34m\u001b[0m\u001b[0m\n\u001b[1;32m      8\u001b[0m     \u001b[0;32mif\u001b[0m \u001b[0maxes\u001b[0m \u001b[0;32mis\u001b[0m \u001b[0;32mNone\u001b[0m\u001b[0;34m:\u001b[0m\u001b[0;34m\u001b[0m\u001b[0;34m\u001b[0m\u001b[0m\n",
            "\u001b[0;31mNameError\u001b[0m: name 'np' is not defined"
          ]
        }
      ]
    },
    {
      "cell_type": "code",
      "metadata": {
        "id": "qIe4sjtdlpQA"
      },
      "source": [
        ""
      ],
      "execution_count": null,
      "outputs": []
    }
  ]
}